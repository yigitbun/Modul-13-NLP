{
 "cells": [
  {
   "cell_type": "markdown",
   "metadata": {},
   "source": [
    "# Lesen und Schreiben von Texten"
   ]
  },
  {
   "cell_type": "markdown",
   "metadata": {},
   "source": [
    "Mit der Funktion _open_ kann eine Datei zum Lesen und schreiben geöffnet werden."
   ]
  },
  {
   "cell_type": "code",
   "execution_count": 1,
   "metadata": {},
   "outputs": [],
   "source": [
    "datei = open('Siemens.txt')"
   ]
  },
  {
   "cell_type": "markdown",
   "metadata": {},
   "source": [
    "Mit der Methode _read_ kann der Text aus der Datei gelesen und in eine Variable gespeichert werden. Anschließend können wir die Datei wieder schließen."
   ]
  },
  {
   "cell_type": "code",
   "execution_count": 2,
   "metadata": {},
   "outputs": [
    {
     "ename": "UnicodeDecodeError",
     "evalue": "'utf-8' codec can't decode byte 0xdf in position 27: invalid continuation byte",
     "output_type": "error",
     "traceback": [
      "\u001b[0;31m---------------------------------------------------------------------------\u001b[0m",
      "\u001b[0;31mUnicodeDecodeError\u001b[0m                        Traceback (most recent call last)",
      "\u001b[0;32m<ipython-input-2-343ba4a28c53>\u001b[0m in \u001b[0;36m<module>\u001b[0;34m\u001b[0m\n\u001b[0;32m----> 1\u001b[0;31m \u001b[0mtext\u001b[0m \u001b[0;34m=\u001b[0m \u001b[0mdatei\u001b[0m\u001b[0;34m.\u001b[0m\u001b[0mread\u001b[0m\u001b[0;34m(\u001b[0m\u001b[0;34m)\u001b[0m\u001b[0;34m\u001b[0m\u001b[0;34m\u001b[0m\u001b[0m\n\u001b[0m\u001b[1;32m      2\u001b[0m \u001b[0mdatei\u001b[0m\u001b[0;34m.\u001b[0m\u001b[0mclose\u001b[0m\u001b[0;34m(\u001b[0m\u001b[0;34m)\u001b[0m\u001b[0;34m\u001b[0m\u001b[0;34m\u001b[0m\u001b[0m\n",
      "\u001b[0;32m~/opt/anaconda3/lib/python3.8/codecs.py\u001b[0m in \u001b[0;36mdecode\u001b[0;34m(self, input, final)\u001b[0m\n\u001b[1;32m    320\u001b[0m         \u001b[0;31m# decode input (taking the buffer into account)\u001b[0m\u001b[0;34m\u001b[0m\u001b[0;34m\u001b[0m\u001b[0;34m\u001b[0m\u001b[0m\n\u001b[1;32m    321\u001b[0m         \u001b[0mdata\u001b[0m \u001b[0;34m=\u001b[0m \u001b[0mself\u001b[0m\u001b[0;34m.\u001b[0m\u001b[0mbuffer\u001b[0m \u001b[0;34m+\u001b[0m \u001b[0minput\u001b[0m\u001b[0;34m\u001b[0m\u001b[0;34m\u001b[0m\u001b[0m\n\u001b[0;32m--> 322\u001b[0;31m         \u001b[0;34m(\u001b[0m\u001b[0mresult\u001b[0m\u001b[0;34m,\u001b[0m \u001b[0mconsumed\u001b[0m\u001b[0;34m)\u001b[0m \u001b[0;34m=\u001b[0m \u001b[0mself\u001b[0m\u001b[0;34m.\u001b[0m\u001b[0m_buffer_decode\u001b[0m\u001b[0;34m(\u001b[0m\u001b[0mdata\u001b[0m\u001b[0;34m,\u001b[0m \u001b[0mself\u001b[0m\u001b[0;34m.\u001b[0m\u001b[0merrors\u001b[0m\u001b[0;34m,\u001b[0m \u001b[0mfinal\u001b[0m\u001b[0;34m)\u001b[0m\u001b[0;34m\u001b[0m\u001b[0;34m\u001b[0m\u001b[0m\n\u001b[0m\u001b[1;32m    323\u001b[0m         \u001b[0;31m# keep undecoded input until the next call\u001b[0m\u001b[0;34m\u001b[0m\u001b[0;34m\u001b[0m\u001b[0;34m\u001b[0m\u001b[0m\n\u001b[1;32m    324\u001b[0m         \u001b[0mself\u001b[0m\u001b[0;34m.\u001b[0m\u001b[0mbuffer\u001b[0m \u001b[0;34m=\u001b[0m \u001b[0mdata\u001b[0m\u001b[0;34m[\u001b[0m\u001b[0mconsumed\u001b[0m\u001b[0;34m:\u001b[0m\u001b[0;34m]\u001b[0m\u001b[0;34m\u001b[0m\u001b[0;34m\u001b[0m\u001b[0m\n",
      "\u001b[0;31mUnicodeDecodeError\u001b[0m: 'utf-8' codec can't decode byte 0xdf in position 27: invalid continuation byte"
     ]
    }
   ],
   "source": [
    "text = datei.read()\n",
    "datei.close()"
   ]
  },
  {
   "cell_type": "code",
   "execution_count": 12,
   "metadata": {},
   "outputs": [
    {
     "name": "stdout",
     "output_type": "stream",
     "text": [
      "Werner von Siemens: Ein großer Erfinder\n",
      "\n",
      "Alles, was zum ersten Mal in Europa erfunden, entdeckt, entwickelt, gebaut und hergestellt worden ist, kann man im Deutschen Museum in München sehen und erleben. Den Namen und den Plan zu dieser Dauerausstellung, die nicht nur die Geschichte der Technik, sondern auch deren neuesten Stand zeigt, hielt schon 1877 ein Mann bereit, der einer der großen Erfinder unserer Zeit war: Werner von Siemens. Er schuf nicht nur den Begriff „Elektrotechnik“; er bestimmte auch entscheidend das, was man unter diesem Wort bald verstand. Dem Original seiner Dynamomaschine, die er 1866 entwarf und zusammensetzte, sieht man im Museum die ungeheure Bedeutung nicht an. Mit Hilfe von Drahtwindungen und weichem Eisen war es hier Siemens gelungen, Kraft – zum Beispiel menschliche Arbeitskraft oder Wasserkraft – in elektrischen Strom umzuwandeln und umgekehrt elektrischen Strom in Arbeitsleistung umzusetzen. Damit hatte er die moderne Starkstromtechnik begründet.\n",
      "\n",
      "\n",
      "Erfinder als Nebenberuf\n",
      "\n",
      "Werner wurde 1816 in der Nähe von Hannover als das viertälteste von vierzehn Kindern geboren. Nachdem er ein Gymnasium in Lübeck besucht hatte, wollte er Ingenieur werden. Da die Eltern eine Ausbildung nicht bezahlen konnten, bewarb Werner sich um Aufnahme in die Armee als Offiziersanwärter. Nach einer gut bestandenen Prüfung wurde er Soldat. Wie glücklich war er, als er für eine dreijährige Ausbildung in die Artillerie- und Ingenieurschule nach Berlin kommandiert wurde! Jede verfügbare Freizeit verwendete der junge Soldat, um sich auch außerhalb des Dienstes mit Physik, Chemie und Technik zu beschäftigen. Nach Ablauf der drei Jahre erhielt er den ersten Heimaturlaub. Aber da sah er Vater und Mutter zum letzten Mal, sie starben bald darauf. Werner hatte versprochen, für die jüngeren Geschwister zu sorgen. Um die Geschwister zu versorgen, wurde er im Nebenberuf Erfinder. Auf ganz praktische Dinge richtete er seine Gedanken, denn es mußte ja Geld beschafft werden. So entstanden eine Kunststeinpresse, ein Dampfmaschinenregler und ein neues Druckverfahren. Als er eine Methode für galvanische Vergoldung und Versilberung erfand, verkaufte sie sein Bruder Wilhelm nach England.\n",
      "\n",
      "\n",
      "Neue Möglichkeiten in Berlin\n",
      "\n",
      "Während dann Wilhelm für immer nach England ging, gelang es Werner Siemens, aus Magdeburg heraus und endgültig nach Berlin zu kommen. Hier gab es schon mehrere Maschinenfabriken, an ihrer Spitze das Lokomotivbauunternehmen von August Borsig. Dessen Maschinen hatten sich bei Vergleichsfahrten sogar als besser erwiesen als die englischen. Auch gab es eine Gewerbeschule, einen Polytechnischen Verein und eine Physikalische Gesellschaft, und der große Naturforscher Alexander von Humboldt hielt seine berühmten Vorträge. Die ganze Stadt interessierte sich für Naturwissenschaft und Technik.\n",
      "\n",
      "Siemens nutzte alle Möglichkeiten der Weiterbildung. Als er selbst in der Physikalischen Gesellschaft einen Vortrag über elektrische Telegrafen hielt, wurde der Universitätsmechaniker Halske auf ihn aufmerksam. Er war ein Künstler in seinem Fach und so begeistert von den von Werner Siemens entworfenen Zeigertelegrafen, daß er beschloß, mit dem begabten Leutnant zusammenzuarbeiten. Dieser entwickelte nun alle Einzelteile, die für eine brauchbare Nachrichtentechnik nötig sind: Blitzsicherungen, Porzellanisolatoren und mit Guttapercha, einem gummiartigen Pflanzensaft, nahtlos isolierte unterirdische Leitungen. Am 1.10.1847 wurde dann die „Telegraphenbau-Anstalt von Siemens und Halske“ gegründet, dabei blieb Siemens im Hauptberuf noch Offizier.\n",
      "\n",
      "\n",
      "Die erste Telegrafenleitung Europas\n",
      "\n",
      "Bald kamen die ersten Aufträge für die Firma: Sie legte die Telegrafenleitung Berlin – Frankfurt. Als hier die Nationalversammlung den preußischen König zum deutschen Erbkaiser wählte, war das in derselben Stunde noch in Berlin bekannt. Die Leute staunten, und Werner Siemens war der Held des Tages mit dieser ersten Telegrafenleitung Europas. Es regnete jetzt Aufträge, zuerst in Deutschland, dann in Rußland. Dorthin war der jüngere Bruder Carl gegangen. Werner Siemens ließ sich nun nach 15 Jahren militärischer Dienstzeit beurlauben und widmete sich ganz den Aufträgen und immer neuen Verbesserungen und Erfindungen. Sie waren, ebenso wie die gediegene und dauerhafte Arbeit seiner Werkstatt, eine überzeugendere Reklame als Worte. Außerdem wollte Siemens nicht mit der Herstellung guter, aber gleichbleibender Waren sein Geld verdienen, sondern nach besten Kräften die von ihm entwickelte Elektrotechnik weiter vorantreiben. Darin sah er seine Aufgabe zum Nutzen aller. Auf der ersten Weltindustrieausstellung 1851 in London erhielt er für seine bewährten Telegrafen neben Alfred Krupp und nur wenigen anderen die höchste Preismedaille. Das gab seinem Unternehmen einen großartigen Schwung. Aus der Werkstatt zogen er und Halske in eine Fabrik um.\n",
      "\n",
      "\n",
      "Abenteuerliche Aufgaben\n",
      "\n",
      "In den nächsten zwei Jahren bauten die Brüder Carl und Werner Siemens Telegrafenlinien von Petersburg über Moskau und Kiew nach Odessa und von Petersburg nach Warschau und Schlesien, nach Finnland und Kronstadt. Dabei mußte ein Kabel durch die Ostsee gelegt werden. Zusammen mit Wilhelm und Carl als „Siemens Brothers“ bewältigte der unermüdliche Erfinder später die Riesenstrecke London-Kalkutta in Indien. Für diese Indo-Europäische Linie von fast 11 000 km Länge entwickelte er neue, noch verbesserte Schreibtelegrafen. Über Kontinente und Meere, Gebirge und Steppen arbeiteten sich die Bautrupps vor, wurden die eisernen Leitungsmasten befördert. Auch der Ozean war kein unüberwindbares Hindernis. Von Irland nach New York wurde ein Transatlantikkabel gelegt. Dazu ließ Siemens ein eigenes Kabelschiff bauen, die „Faraday“. Durch Störversuche feindlich gesinnter Firmen und dadurch, daß das Kabel auf hoher See riß und in 5 000 m Tiefe verschwand, wurde die Expedition zu einem aufregenden Abenteuer. Fünf weniger aufreibende folgten: Der Name Siemens wurde weltbekannt.\n",
      "\n",
      "\n",
      "Große Erfindungen\n",
      "\n",
      "Für die Stahlgewinnung erfanden die Brüder das Siemens-Martin-Verfahren. Für den Bergbau gedacht wurde eine elektrische Eisenbahn konstruiert und auf der Berliner Gewerbeausstellung vorgeführt. Fröhlich unternahmen 10 000 Besucher eine Fahrt damit. Auch die von ihm entwickelten Lichtmaschinen wurden bald das große Geschäft. Glühlampen eroberten mit ihrem hellen Licht die Städte und wurden auch bald im Bergbau eingesetzt. In Berlin gab es bald elektrische Straßenbeleuchtung und Straßenbahnen. Seit 1877 wurden in Berlin die ersten Fernsprecher aufgestellt, die Siemens produzierte – und zuerst als technische Spielerei abgetan. Aber Siemens hatte, wie schon beim Telegrafen, das enorme Informationsbedürfnis der Zeit vorausgesehen.\n",
      "\n",
      "\n",
      "Auch an andere denken\n",
      "\n",
      "Bereits 1885 beschäftigte das Unternehmen 1 100 Arbeiter in Berlin. Bald trug ein ganzer Stadtteil den Namen „Siemensstadt“. Deshalb hielt er sich auch seinen Mithelfern, den Arbeitern des Werkes, gegenüber verpflichtet. Er schuf, viel früher als der Staat, für Krankheit, Unfälle und den Lebensabend eine Pensionskasse, denn „mir würde das verdiente Geld wie glühendes Eisen in der Hand brennen, wenn ich treuen Gehilfen nicht den erwarteten Anteil gäbe“, so sagte Werner Siemens.\n",
      "\n",
      "Auf der Weltausstellung der Elektrotechnik 1881 in Paris erhielt das Haus Siemens das Ehrendiplom. Werner Siemens erhielt unzählige Ehrungen. Er bekam ein Ehrendoktor-Diplom und wurde zum Mitglied der Akademie der Wissenschaften ernannt. 1888 bekam er den Adelstitel. Seither hieß er Werner von Siemens. Er starb am 6. Dezember 1892 in Berlin.\n",
      "\n"
     ]
    }
   ],
   "source": [
    "print(text)"
   ]
  },
  {
   "cell_type": "markdown",
   "metadata": {},
   "source": [
    "Wir können den Text auch Zeilenweise aus der Datei lesen:"
   ]
  },
  {
   "cell_type": "code",
   "execution_count": 14,
   "metadata": {},
   "outputs": [
    {
     "name": "stdout",
     "output_type": "stream",
     "text": [
      "0\tWerner von Siemens: Ein großer Erfinder\n",
      "\n",
      "1\t\n",
      "\n",
      "2\tAlles, was zum ersten Mal in Europa erfunden, entdeckt, entwickelt, gebaut und hergestellt worden ist, kann man im Deutschen Museum in München sehen und erleben. Den Namen und den Plan zu dieser Dauerausstellung, die nicht nur die Geschichte der Technik, sondern auch deren neuesten Stand zeigt, hielt schon 1877 ein Mann bereit, der einer der großen Erfinder unserer Zeit war: Werner von Siemens. Er schuf nicht nur den Begriff „Elektrotechnik“; er bestimmte auch entscheidend das, was man unter diesem Wort bald verstand. Dem Original seiner Dynamomaschine, die er 1866 entwarf und zusammensetzte, sieht man im Museum die ungeheure Bedeutung nicht an. Mit Hilfe von Drahtwindungen und weichem Eisen war es hier Siemens gelungen, Kraft – zum Beispiel menschliche Arbeitskraft oder Wasserkraft – in elektrischen Strom umzuwandeln und umgekehrt elektrischen Strom in Arbeitsleistung umzusetzen. Damit hatte er die moderne Starkstromtechnik begründet.\n",
      "\n",
      "3\t\n",
      "\n",
      "4\t\n",
      "\n",
      "5\tErfinder als Nebenberuf\n",
      "\n",
      "6\t\n",
      "\n",
      "7\tWerner wurde 1816 in der Nähe von Hannover als das viertälteste von vierzehn Kindern geboren. Nachdem er ein Gymnasium in Lübeck besucht hatte, wollte er Ingenieur werden. Da die Eltern eine Ausbildung nicht bezahlen konnten, bewarb Werner sich um Aufnahme in die Armee als Offiziersanwärter. Nach einer gut bestandenen Prüfung wurde er Soldat. Wie glücklich war er, als er für eine dreijährige Ausbildung in die Artillerie- und Ingenieurschule nach Berlin kommandiert wurde! Jede verfügbare Freizeit verwendete der junge Soldat, um sich auch außerhalb des Dienstes mit Physik, Chemie und Technik zu beschäftigen. Nach Ablauf der drei Jahre erhielt er den ersten Heimaturlaub. Aber da sah er Vater und Mutter zum letzten Mal, sie starben bald darauf. Werner hatte versprochen, für die jüngeren Geschwister zu sorgen. Um die Geschwister zu versorgen, wurde er im Nebenberuf Erfinder. Auf ganz praktische Dinge richtete er seine Gedanken, denn es mußte ja Geld beschafft werden. So entstanden eine Kunststeinpresse, ein Dampfmaschinenregler und ein neues Druckverfahren. Als er eine Methode für galvanische Vergoldung und Versilberung erfand, verkaufte sie sein Bruder Wilhelm nach England.\n",
      "\n",
      "8\t\n",
      "\n",
      "9\t\n",
      "\n",
      "10\tNeue Möglichkeiten in Berlin\n",
      "\n",
      "11\t\n",
      "\n",
      "12\tWährend dann Wilhelm für immer nach England ging, gelang es Werner Siemens, aus Magdeburg heraus und endgültig nach Berlin zu kommen. Hier gab es schon mehrere Maschinenfabriken, an ihrer Spitze das Lokomotivbauunternehmen von August Borsig. Dessen Maschinen hatten sich bei Vergleichsfahrten sogar als besser erwiesen als die englischen. Auch gab es eine Gewerbeschule, einen Polytechnischen Verein und eine Physikalische Gesellschaft, und der große Naturforscher Alexander von Humboldt hielt seine berühmten Vorträge. Die ganze Stadt interessierte sich für Naturwissenschaft und Technik.\n",
      "\n",
      "13\t\n",
      "\n",
      "14\tSiemens nutzte alle Möglichkeiten der Weiterbildung. Als er selbst in der Physikalischen Gesellschaft einen Vortrag über elektrische Telegrafen hielt, wurde der Universitätsmechaniker Halske auf ihn aufmerksam. Er war ein Künstler in seinem Fach und so begeistert von den von Werner Siemens entworfenen Zeigertelegrafen, daß er beschloß, mit dem begabten Leutnant zusammenzuarbeiten. Dieser entwickelte nun alle Einzelteile, die für eine brauchbare Nachrichtentechnik nötig sind: Blitzsicherungen, Porzellanisolatoren und mit Guttapercha, einem gummiartigen Pflanzensaft, nahtlos isolierte unterirdische Leitungen. Am 1.10.1847 wurde dann die „Telegraphenbau-Anstalt von Siemens und Halske“ gegründet, dabei blieb Siemens im Hauptberuf noch Offizier.\n",
      "\n",
      "15\t\n",
      "\n",
      "16\t\n",
      "\n",
      "17\tDie erste Telegrafenleitung Europas\n",
      "\n",
      "18\t\n",
      "\n",
      "19\tBald kamen die ersten Aufträge für die Firma: Sie legte die Telegrafenleitung Berlin – Frankfurt. Als hier die Nationalversammlung den preußischen König zum deutschen Erbkaiser wählte, war das in derselben Stunde noch in Berlin bekannt. Die Leute staunten, und Werner Siemens war der Held des Tages mit dieser ersten Telegrafenleitung Europas. Es regnete jetzt Aufträge, zuerst in Deutschland, dann in Rußland. Dorthin war der jüngere Bruder Carl gegangen. Werner Siemens ließ sich nun nach 15 Jahren militärischer Dienstzeit beurlauben und widmete sich ganz den Aufträgen und immer neuen Verbesserungen und Erfindungen. Sie waren, ebenso wie die gediegene und dauerhafte Arbeit seiner Werkstatt, eine überzeugendere Reklame als Worte. Außerdem wollte Siemens nicht mit der Herstellung guter, aber gleichbleibender Waren sein Geld verdienen, sondern nach besten Kräften die von ihm entwickelte Elektrotechnik weiter vorantreiben. Darin sah er seine Aufgabe zum Nutzen aller. Auf der ersten Weltindustrieausstellung 1851 in London erhielt er für seine bewährten Telegrafen neben Alfred Krupp und nur wenigen anderen die höchste Preismedaille. Das gab seinem Unternehmen einen großartigen Schwung. Aus der Werkstatt zogen er und Halske in eine Fabrik um.\n",
      "\n",
      "20\t\n",
      "\n",
      "21\t\n",
      "\n",
      "22\tAbenteuerliche Aufgaben\n",
      "\n",
      "23\t\n",
      "\n",
      "24\tIn den nächsten zwei Jahren bauten die Brüder Carl und Werner Siemens Telegrafenlinien von Petersburg über Moskau und Kiew nach Odessa und von Petersburg nach Warschau und Schlesien, nach Finnland und Kronstadt. Dabei mußte ein Kabel durch die Ostsee gelegt werden. Zusammen mit Wilhelm und Carl als „Siemens Brothers“ bewältigte der unermüdliche Erfinder später die Riesenstrecke London-Kalkutta in Indien. Für diese Indo-Europäische Linie von fast 11 000 km Länge entwickelte er neue, noch verbesserte Schreibtelegrafen. Über Kontinente und Meere, Gebirge und Steppen arbeiteten sich die Bautrupps vor, wurden die eisernen Leitungsmasten befördert. Auch der Ozean war kein unüberwindbares Hindernis. Von Irland nach New York wurde ein Transatlantikkabel gelegt. Dazu ließ Siemens ein eigenes Kabelschiff bauen, die „Faraday“. Durch Störversuche feindlich gesinnter Firmen und dadurch, daß das Kabel auf hoher See riß und in 5 000 m Tiefe verschwand, wurde die Expedition zu einem aufregenden Abenteuer. Fünf weniger aufreibende folgten: Der Name Siemens wurde weltbekannt.\n",
      "\n",
      "25\t\n",
      "\n",
      "26\t\n",
      "\n",
      "27\tGroße Erfindungen\n",
      "\n",
      "28\t\n",
      "\n",
      "29\tFür die Stahlgewinnung erfanden die Brüder das Siemens-Martin-Verfahren. Für den Bergbau gedacht wurde eine elektrische Eisenbahn konstruiert und auf der Berliner Gewerbeausstellung vorgeführt. Fröhlich unternahmen 10 000 Besucher eine Fahrt damit. Auch die von ihm entwickelten Lichtmaschinen wurden bald das große Geschäft. Glühlampen eroberten mit ihrem hellen Licht die Städte und wurden auch bald im Bergbau eingesetzt. In Berlin gab es bald elektrische Straßenbeleuchtung und Straßenbahnen. Seit 1877 wurden in Berlin die ersten Fernsprecher aufgestellt, die Siemens produzierte – und zuerst als technische Spielerei abgetan. Aber Siemens hatte, wie schon beim Telegrafen, das enorme Informationsbedürfnis der Zeit vorausgesehen.\n",
      "\n",
      "30\t\n",
      "\n",
      "31\t\n",
      "\n",
      "32\tAuch an andere denken\n",
      "\n",
      "33\t\n",
      "\n",
      "34\tBereits 1885 beschäftigte das Unternehmen 1 100 Arbeiter in Berlin. Bald trug ein ganzer Stadtteil den Namen „Siemensstadt“. Deshalb hielt er sich auch seinen Mithelfern, den Arbeitern des Werkes, gegenüber verpflichtet. Er schuf, viel früher als der Staat, für Krankheit, Unfälle und den Lebensabend eine Pensionskasse, denn „mir würde das verdiente Geld wie glühendes Eisen in der Hand brennen, wenn ich treuen Gehilfen nicht den erwarteten Anteil gäbe“, so sagte Werner Siemens.\n",
      "\n",
      "35\t\n",
      "\n",
      "36\tAuf der Weltausstellung der Elektrotechnik 1881 in Paris erhielt das Haus Siemens das Ehrendiplom. Werner Siemens erhielt unzählige Ehrungen. Er bekam ein Ehrendoktor-Diplom und wurde zum Mitglied der Akademie der Wissenschaften ernannt. 1888 bekam er den Adelstitel. Seither hieß er Werner von Siemens. Er starb am 6. Dezember 1892 in Berlin.\n",
      "\n"
     ]
    }
   ],
   "source": [
    "datei = open('Siemens.txt')\n",
    "zeilennummer = 0\n",
    "for zeile in datei:\n",
    "    print(zeilennummer,zeile,sep='\\t')\n",
    "    zeilennummer += 1\n",
    "datei.close()"
   ]
  },
  {
   "cell_type": "markdown",
   "metadata": {},
   "source": [
    "## Textkodierungen"
   ]
  },
  {
   "cell_type": "markdown",
   "metadata": {},
   "source": [
    "Oft gibt es Probleme, wenn Sie einen text einfach mit der Methode _open_ öffnen und lesen wollen:"
   ]
  },
  {
   "cell_type": "code",
   "execution_count": 3,
   "metadata": {},
   "outputs": [
    {
     "name": "stdout",
     "output_type": "stream",
     "text": [
      "Die Brüder Grimm: Jacob und Wilhelm Grimm ***\n",
      "\n",
      "Am 4.Januar 1785 wurde Jacob Grimm in Hanau geboren, sein Bruder Wilhelm am 24.Februar 1786. So unzertrennlich wie ihre Namen heute noch sind, lebten die Brüder ihr ganzes Leben lang. Nach dem frühen Tod des Vaters wuchsen sie in sehr bescheidenen Verhältnissen auf. Die finanzielle Unterstützung einer Tante ermöglichte ihnen ein Jurastudium in Marburg. Fast gleichzeitig entdeckten die Brüder ihre Neigung für alte Sprachen und Dichtung, deren Erforsc\n"
     ]
    }
   ],
   "source": [
    "datei = open('Grimm.txt')\n",
    "text = datei.read()\n",
    "datei.close()\n",
    "print(text[:500])"
   ]
  },
  {
   "cell_type": "markdown",
   "metadata": {},
   "source": [
    "Es ist relativ leicht zu sehen, dass der Text als UTF8 gespeichert wurde aber beim Lesen eine falsche Textkodierung angenommen wurde.\n",
    "\n",
    "Wir brauchen das Modul _codecs_ um die Kontrolle selber zu übernehmen und Python zu sagen, dass die Datei als UTF8 dekodiert werden soll. Wir legen jetzt ausserdem fest, dass die Datei nur zum lesen ('r') geöffnet werden soll."
   ]
  },
  {
   "cell_type": "code",
   "execution_count": 17,
   "metadata": {},
   "outputs": [
    {
     "name": "stdout",
     "output_type": "stream",
     "text": [
      "Die Brüder Grimm: Jacob und Wilhelm Grimm ***\r\n",
      "\r\n",
      "Am 4.Januar 1785 wurde Jacob Grimm in Hanau geboren, sein Bruder Wilhelm am 24.Februar 1786. So unzertrennlich wie ihre Namen heute noch sind, lebten die Brüder ihr ganzes Leben lang. Nach dem frühen Tod des Vaters wuchsen sie in sehr bescheidenen Verhältnissen auf. Die finanzielle Unterstützung einer Tante ermöglichte ihnen ein Jurastudium in Marburg. Fast gleichzeitig entdeckten die Brüder ihre Neigung für alte Sprachen und Dichtung, deren Erfor\n"
     ]
    }
   ],
   "source": [
    "import codecs\n",
    "\n",
    "datei = codecs.open('Grimm.txt','r','utf8')\n",
    "text = datei.read()\n",
    "datei.close()\n",
    "print(text[:500])"
   ]
  },
  {
   "cell_type": "markdown",
   "metadata": {},
   "source": [
    "Die Bibliothek kennt nicht alle aber doch ziemlich viele Codepages. Eine übersicht finden sie hier: https://docs.python.org/3/library/codecs.html"
   ]
  },
  {
   "cell_type": "markdown",
   "metadata": {},
   "source": [
    "## Texte Schreiben"
   ]
  },
  {
   "cell_type": "markdown",
   "metadata": {},
   "source": [
    "Zum Schreiben öffnen wir eine Datei wieder mit der Bibliothek _codecs_"
   ]
  },
  {
   "cell_type": "code",
   "execution_count": 18,
   "metadata": {},
   "outputs": [],
   "source": [
    "datei = codecs.open('Grimm-1252.txt','w','cp1252')\n",
    "datei.write(text)\n",
    "datei.close()"
   ]
  },
  {
   "cell_type": "markdown",
   "metadata": {},
   "source": [
    "Eine weitere praktische Methode zum Schreiben ist es die Benutzung _print_ mit einem zusätzlichen Parameter für die Datei:"
   ]
  },
  {
   "cell_type": "code",
   "execution_count": 22,
   "metadata": {},
   "outputs": [],
   "source": [
    "datei_in = codecs.open('Grimm.txt','r','cp1252')\n",
    "datei_out = codecs.open('Grimm-Kuddelmuddel.txt','w','utf8')\n",
    "zeilennummer = 0\n",
    "for zeile in datei_in:\n",
    "    print(zeilennummer,zeile,sep='\\t',file=datei_out)\n",
    "    zeilennummer += 1\n",
    "    if zeilennummer >= 10:\n",
    "        break\n",
    "datei_in.close()\n",
    "datei_out.close()"
   ]
  },
  {
   "cell_type": "markdown",
   "metadata": {},
   "source": [
    " Vorsicht! Wir haben jetzt einen schlimmen Fehler gemacht. Die Datei Grimm-Kuddelmuddel.txt ist fast irreparabel kaput! Wenn wir jetzt noch eine kleine händische Korrektur machen würden ist die Datei hoffnungslos verloren!"
   ]
  }
 ],
 "metadata": {
  "kernelspec": {
   "display_name": "Python 3",
   "language": "python",
   "name": "python3"
  },
  "language_info": {
   "codemirror_mode": {
    "name": "ipython",
    "version": 3
   },
   "file_extension": ".py",
   "mimetype": "text/x-python",
   "name": "python",
   "nbconvert_exporter": "python",
   "pygments_lexer": "ipython3",
   "version": "3.8.5"
  }
 },
 "nbformat": 4,
 "nbformat_minor": 2
}

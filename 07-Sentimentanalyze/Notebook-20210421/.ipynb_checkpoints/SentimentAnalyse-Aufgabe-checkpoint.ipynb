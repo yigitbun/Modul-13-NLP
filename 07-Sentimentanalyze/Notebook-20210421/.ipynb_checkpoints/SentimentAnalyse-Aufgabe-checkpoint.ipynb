{
 "cells": [
  {
   "cell_type": "markdown",
   "metadata": {},
   "source": [
    "## Aufgabe: WiegutistdieSentiment-AnalyseinTextBlob?\n",
    "Evaluieren Sie die Sentiment-Analyse aus TextBlob. Wählen Sie hierzu etwa 4 oder 6 Produkte aus zwei Kategorien, die Sie in einem Online-Shop kaufen können. Speichern Sie hierfür 50 bis 100 Reviews. Die Reviews sollen zur Hälfte deutlich positiv und zur Hälfte deutlich negativ sein. Bestimmen Sie für alle Texte die Polarität mit TextBlob und berechnen Sie wie viel Prozent korrekt eingeordnet wurde.\n",
    "Erweiterung\n",
    "Möglicherweise ist das Ergebnis besser, wenn Sie annehmen, dass ein Review positiv ist, wenn die berechnete Polarität, z.B. über 0, 03 oder über −0, 1, statt über 0, 0 liegt. Bestimmen Sie die optimale Grenze.\n"
   ]
  },
  {
   "cell_type": "code",
   "execution_count": 1,
   "metadata": {},
   "outputs": [],
   "source": [
    "#!pip install -U textblob-de==0.4.3"
   ]
  },
  {
   "cell_type": "code",
   "execution_count": 2,
   "metadata": {},
   "outputs": [],
   "source": [
    "#!python -m textblob.download_corpora"
   ]
  },
  {
   "cell_type": "code",
   "execution_count": 1,
   "metadata": {},
   "outputs": [],
   "source": [
    "import pandas as pd\n",
    "import textblob\n",
    "from textblob_de import TextBlobDE\n",
    "\n",
    "# blob = TextBlobDE(text) "
   ]
  },
  {
   "cell_type": "code",
   "execution_count": 11,
   "metadata": {},
   "outputs": [
    {
     "data": {
      "text/plain": [
       "WordList(['gut'])"
      ]
     },
     "execution_count": 11,
     "metadata": {},
     "output_type": "execute_result"
    }
   ],
   "source": [
    "blob.tokens "
   ]
  },
  {
   "cell_type": "code",
   "execution_count": 12,
   "metadata": {},
   "outputs": [
    {
     "data": {
      "text/plain": [
       "Sentiment(polarity=1.0, subjectivity=0.0)"
      ]
     },
     "execution_count": 12,
     "metadata": {},
     "output_type": "execute_result"
    }
   ],
   "source": [
    "blob = TextBlobDE(text) \n",
    "blob.sentiment"
   ]
  },
  {
   "cell_type": "code",
   "execution_count": 63,
   "metadata": {},
   "outputs": [],
   "source": [
    "df = pd.read_csv('ReviewDetails.csv')"
   ]
  },
  {
   "cell_type": "code",
   "execution_count": 64,
   "metadata": {},
   "outputs": [
    {
     "data": {
      "text/html": [
       "<div>\n",
       "<style scoped>\n",
       "    .dataframe tbody tr th:only-of-type {\n",
       "        vertical-align: middle;\n",
       "    }\n",
       "\n",
       "    .dataframe tbody tr th {\n",
       "        vertical-align: top;\n",
       "    }\n",
       "\n",
       "    .dataframe thead th {\n",
       "        text-align: right;\n",
       "    }\n",
       "</style>\n",
       "<table border=\"1\" class=\"dataframe\">\n",
       "  <thead>\n",
       "    <tr style=\"text-align: right;\">\n",
       "      <th></th>\n",
       "      <th>asin</th>\n",
       "      <th>product_title</th>\n",
       "      <th>average_rating</th>\n",
       "      <th>review_author</th>\n",
       "      <th>reviewed_product_attribute</th>\n",
       "      <th>reviewed_variant_asin</th>\n",
       "      <th>variant_review_url</th>\n",
       "      <th>review_rating</th>\n",
       "      <th>review_date</th>\n",
       "      <th>reviewed_country</th>\n",
       "      <th>review_text</th>\n",
       "      <th>review_comment_count</th>\n",
       "      <th>review_header</th>\n",
       "      <th>no_of_people_reacted_helpful</th>\n",
       "      <th>author_profile_url</th>\n",
       "      <th>url</th>\n",
       "      <th>brand</th>\n",
       "      <th>review_url</th>\n",
       "      <th>input</th>\n",
       "    </tr>\n",
       "  </thead>\n",
       "  <tbody>\n",
       "    <tr>\n",
       "      <th>0</th>\n",
       "      <td>B08L5VG6H9</td>\n",
       "      <td>Neues Apple iPhone 12 Pro Max (128 GB) - Gold</td>\n",
       "      <td>4,8 von 5</td>\n",
       "      <td>D. H.</td>\n",
       "      <td>Größe: 128 GB | Farbe: Gold</td>\n",
       "      <td>B08L5VG6H9</td>\n",
       "      <td>https://www.amazon.de/Neues-Apple-iPhone-Pro-1...</td>\n",
       "      <td>5,0 von 5 Sternen</td>\n",
       "      <td>Rezension aus Deutschland vom 2. April 2021</td>\n",
       "      <td>Rezension aus Deutschland vom 2. April 2021</td>\n",
       "      <td>Wer Apple kennt weis was er hat und das neue M...</td>\n",
       "      <td>NaN</td>\n",
       "      <td>Wir bzw. Meine Familie haben nur Apple</td>\n",
       "      <td>NaN</td>\n",
       "      <td>https://www.amazon.de/gp/profile/amzn1.account...</td>\n",
       "      <td>https://www.amazon.de/product-reviews/B08L5VG6...</td>\n",
       "      <td>Apple</td>\n",
       "      <td>https://www.amazon.de/gp/customer-reviews/R7G6...</td>\n",
       "      <td>https://www.amazon.de/dp/B08L5VG6H9/</td>\n",
       "    </tr>\n",
       "    <tr>\n",
       "      <th>1</th>\n",
       "      <td>B08L5WMP9D</td>\n",
       "      <td>Neues Apple iPhone 12 Mini (256 GB) - Schwarz</td>\n",
       "      <td>4,8 von 5</td>\n",
       "      <td>Timex</td>\n",
       "      <td>Größe: 128 GB | Farbe: Weiß</td>\n",
       "      <td>B08L5VNTFG</td>\n",
       "      <td>https://www.amazon.de/Neues-Apple-iPhone-Mini-...</td>\n",
       "      <td>3,0 von 5 Sternen</td>\n",
       "      <td>Rezension aus Deutschland vom 14. Dezember 2020</td>\n",
       "      <td>Rezension aus Deutschland vom 14. Dezember 2020</td>\n",
       "      <td>Das Gerät ging leider direkt wieder zurück. Tr...</td>\n",
       "      <td>NaN</td>\n",
       "      <td>Eigentlich ein sehr schickes iPhone, wenn da n...</td>\n",
       "      <td>12</td>\n",
       "      <td>https://www.amazon.de/gp/profile/amzn1.account...</td>\n",
       "      <td>https://www.amazon.de/product-reviews/B08L5WMP...</td>\n",
       "      <td>Apple</td>\n",
       "      <td>https://www.amazon.de/gp/customer-reviews/RPSJ...</td>\n",
       "      <td>https://www.amazon.de/dp/B08L5WMP9D/</td>\n",
       "    </tr>\n",
       "    <tr>\n",
       "      <th>2</th>\n",
       "      <td>B08L5WMP9D</td>\n",
       "      <td>Neues Apple iPhone 12 Mini (256 GB) - Schwarz</td>\n",
       "      <td>4,8 von 5</td>\n",
       "      <td>Bastian B.</td>\n",
       "      <td>Größe: 64 GB | Farbe: Blau</td>\n",
       "      <td>B08L5RK6FN</td>\n",
       "      <td>https://www.amazon.de/Neues-Apple-iPhone-Mini-...</td>\n",
       "      <td>5,0 von 5 Sternen</td>\n",
       "      <td>Rezension aus Deutschland vom 14. November 2020</td>\n",
       "      <td>Rezension aus Deutschland vom 14. November 2020</td>\n",
       "      <td>Das Handy ist fantastisch! Es liegt durch die ...</td>\n",
       "      <td>NaN</td>\n",
       "      <td>Klein, leicht aber leistungsstark!</td>\n",
       "      <td>13</td>\n",
       "      <td>https://www.amazon.de/gp/profile/amzn1.account...</td>\n",
       "      <td>https://www.amazon.de/product-reviews/B08L5WMP...</td>\n",
       "      <td>Apple</td>\n",
       "      <td>https://www.amazon.de/gp/customer-reviews/R349...</td>\n",
       "      <td>https://www.amazon.de/dp/B08L5WMP9D/</td>\n",
       "    </tr>\n",
       "    <tr>\n",
       "      <th>3</th>\n",
       "      <td>B08L5WMP9D</td>\n",
       "      <td>Neues Apple iPhone 12 Mini (256 GB) - Schwarz</td>\n",
       "      <td>4,8 von 5</td>\n",
       "      <td>damirimad</td>\n",
       "      <td>Größe: 256 GB | Farbe: Grün</td>\n",
       "      <td>B08L5T3SWK</td>\n",
       "      <td>https://www.amazon.de/Neues-Apple-iPhone-Mini-...</td>\n",
       "      <td>4,0 von 5 Sternen</td>\n",
       "      <td>Rezension aus Deutschland vom 5. März 2021</td>\n",
       "      <td>Rezension aus Deutschland vom 5. März 2021</td>\n",
       "      <td>Ich verstehe ja nicht warum Apple seit einigen...</td>\n",
       "      <td>NaN</td>\n",
       "      <td>Cute!!!</td>\n",
       "      <td>Eine</td>\n",
       "      <td>https://www.amazon.de/gp/profile/amzn1.account...</td>\n",
       "      <td>https://www.amazon.de/product-reviews/B08L5WMP...</td>\n",
       "      <td>Apple</td>\n",
       "      <td>https://www.amazon.de/gp/customer-reviews/RE2I...</td>\n",
       "      <td>https://www.amazon.de/dp/B08L5WMP9D/</td>\n",
       "    </tr>\n",
       "    <tr>\n",
       "      <th>4</th>\n",
       "      <td>B081FW6TPQ</td>\n",
       "      <td>Neues Apple MacBook Pro (16\", 16GB RAM, 512GB ...</td>\n",
       "      <td>4,7 von 5</td>\n",
       "      <td>Phan Thanh</td>\n",
       "      <td>Stil: Intel Core i7 | Digital-Storage-Kapazitä...</td>\n",
       "      <td>B081FW6TPQ</td>\n",
       "      <td>https://www.amazon.de/Neues-Apple-MacBook-Spei...</td>\n",
       "      <td>3,0 von 5 Sternen</td>\n",
       "      <td>Rezension aus Deutschland vom 10. Juni 2020</td>\n",
       "      <td>Rezension aus Deutschland vom 10. Juni 2020</td>\n",
       "      <td>Da MacBook Pro 16 2019 ist ein edel-sehr schön...</td>\n",
       "      <td>NaN</td>\n",
       "      <td>Schönes Laptop, für den Preis sollte aber noch...</td>\n",
       "      <td>Eine</td>\n",
       "      <td>https://www.amazon.de/gp/profile/amzn1.account...</td>\n",
       "      <td>https://www.amazon.de/product-reviews/B081FW6T...</td>\n",
       "      <td>Apple</td>\n",
       "      <td>https://www.amazon.de/gp/customer-reviews/R36S...</td>\n",
       "      <td>https://www.amazon.de/dp/B081FW6TPQ/</td>\n",
       "    </tr>\n",
       "  </tbody>\n",
       "</table>\n",
       "</div>"
      ],
      "text/plain": [
       "         asin                                      product_title  \\\n",
       "0  B08L5VG6H9      Neues Apple iPhone 12 Pro Max (128 GB) - Gold   \n",
       "1  B08L5WMP9D      Neues Apple iPhone 12 Mini (256 GB) - Schwarz   \n",
       "2  B08L5WMP9D      Neues Apple iPhone 12 Mini (256 GB) - Schwarz   \n",
       "3  B08L5WMP9D      Neues Apple iPhone 12 Mini (256 GB) - Schwarz   \n",
       "4  B081FW6TPQ  Neues Apple MacBook Pro (16\", 16GB RAM, 512GB ...   \n",
       "\n",
       "  average_rating review_author  \\\n",
       "0      4,8 von 5         D. H.   \n",
       "1      4,8 von 5         Timex   \n",
       "2      4,8 von 5    Bastian B.   \n",
       "3      4,8 von 5     damirimad   \n",
       "4      4,7 von 5    Phan Thanh   \n",
       "\n",
       "                          reviewed_product_attribute reviewed_variant_asin  \\\n",
       "0                        Größe: 128 GB | Farbe: Gold            B08L5VG6H9   \n",
       "1                        Größe: 128 GB | Farbe: Weiß            B08L5VNTFG   \n",
       "2                         Größe: 64 GB | Farbe: Blau            B08L5RK6FN   \n",
       "3                        Größe: 256 GB | Farbe: Grün            B08L5T3SWK   \n",
       "4  Stil: Intel Core i7 | Digital-Storage-Kapazitä...            B081FW6TPQ   \n",
       "\n",
       "                                  variant_review_url      review_rating  \\\n",
       "0  https://www.amazon.de/Neues-Apple-iPhone-Pro-1...  5,0 von 5 Sternen   \n",
       "1  https://www.amazon.de/Neues-Apple-iPhone-Mini-...  3,0 von 5 Sternen   \n",
       "2  https://www.amazon.de/Neues-Apple-iPhone-Mini-...  5,0 von 5 Sternen   \n",
       "3  https://www.amazon.de/Neues-Apple-iPhone-Mini-...  4,0 von 5 Sternen   \n",
       "4  https://www.amazon.de/Neues-Apple-MacBook-Spei...  3,0 von 5 Sternen   \n",
       "\n",
       "                                       review_date  \\\n",
       "0      Rezension aus Deutschland vom 2. April 2021   \n",
       "1  Rezension aus Deutschland vom 14. Dezember 2020   \n",
       "2  Rezension aus Deutschland vom 14. November 2020   \n",
       "3       Rezension aus Deutschland vom 5. März 2021   \n",
       "4      Rezension aus Deutschland vom 10. Juni 2020   \n",
       "\n",
       "                                  reviewed_country  \\\n",
       "0      Rezension aus Deutschland vom 2. April 2021   \n",
       "1  Rezension aus Deutschland vom 14. Dezember 2020   \n",
       "2  Rezension aus Deutschland vom 14. November 2020   \n",
       "3       Rezension aus Deutschland vom 5. März 2021   \n",
       "4      Rezension aus Deutschland vom 10. Juni 2020   \n",
       "\n",
       "                                         review_text  review_comment_count  \\\n",
       "0  Wer Apple kennt weis was er hat und das neue M...                   NaN   \n",
       "1  Das Gerät ging leider direkt wieder zurück. Tr...                   NaN   \n",
       "2  Das Handy ist fantastisch! Es liegt durch die ...                   NaN   \n",
       "3  Ich verstehe ja nicht warum Apple seit einigen...                   NaN   \n",
       "4  Da MacBook Pro 16 2019 ist ein edel-sehr schön...                   NaN   \n",
       "\n",
       "                                       review_header  \\\n",
       "0             Wir bzw. Meine Familie haben nur Apple   \n",
       "1  Eigentlich ein sehr schickes iPhone, wenn da n...   \n",
       "2                 Klein, leicht aber leistungsstark!   \n",
       "3                                            Cute!!!   \n",
       "4  Schönes Laptop, für den Preis sollte aber noch...   \n",
       "\n",
       "  no_of_people_reacted_helpful  \\\n",
       "0                          NaN   \n",
       "1                           12   \n",
       "2                           13   \n",
       "3                         Eine   \n",
       "4                         Eine   \n",
       "\n",
       "                                  author_profile_url  \\\n",
       "0  https://www.amazon.de/gp/profile/amzn1.account...   \n",
       "1  https://www.amazon.de/gp/profile/amzn1.account...   \n",
       "2  https://www.amazon.de/gp/profile/amzn1.account...   \n",
       "3  https://www.amazon.de/gp/profile/amzn1.account...   \n",
       "4  https://www.amazon.de/gp/profile/amzn1.account...   \n",
       "\n",
       "                                                 url  brand  \\\n",
       "0  https://www.amazon.de/product-reviews/B08L5VG6...  Apple   \n",
       "1  https://www.amazon.de/product-reviews/B08L5WMP...  Apple   \n",
       "2  https://www.amazon.de/product-reviews/B08L5WMP...  Apple   \n",
       "3  https://www.amazon.de/product-reviews/B08L5WMP...  Apple   \n",
       "4  https://www.amazon.de/product-reviews/B081FW6T...  Apple   \n",
       "\n",
       "                                          review_url  \\\n",
       "0  https://www.amazon.de/gp/customer-reviews/R7G6...   \n",
       "1  https://www.amazon.de/gp/customer-reviews/RPSJ...   \n",
       "2  https://www.amazon.de/gp/customer-reviews/R349...   \n",
       "3  https://www.amazon.de/gp/customer-reviews/RE2I...   \n",
       "4  https://www.amazon.de/gp/customer-reviews/R36S...   \n",
       "\n",
       "                                  input  \n",
       "0  https://www.amazon.de/dp/B08L5VG6H9/  \n",
       "1  https://www.amazon.de/dp/B08L5WMP9D/  \n",
       "2  https://www.amazon.de/dp/B08L5WMP9D/  \n",
       "3  https://www.amazon.de/dp/B08L5WMP9D/  \n",
       "4  https://www.amazon.de/dp/B081FW6TPQ/  "
      ]
     },
     "execution_count": 64,
     "metadata": {},
     "output_type": "execute_result"
    }
   ],
   "source": [
    "df.head()"
   ]
  },
  {
   "cell_type": "code",
   "execution_count": 73,
   "metadata": {},
   "outputs": [],
   "source": [
    "df1 = df[['asin','review_rating']]"
   ]
  },
  {
   "cell_type": "code",
   "execution_count": null,
   "metadata": {},
   "outputs": [],
   "source": []
  },
  {
   "cell_type": "code",
   "execution_count": 76,
   "metadata": {},
   "outputs": [],
   "source": [
    "df_negativ=df1[df1[\"review_rating\"] == \"1,0 von 5 Sternen\"]"
   ]
  },
  {
   "cell_type": "code",
   "execution_count": 78,
   "metadata": {},
   "outputs": [],
   "source": [
    "df_pro_max_n= df_negativ[df_negativ['asin'] == 'B08L5VG6H9']"
   ]
  },
  {
   "cell_type": "code",
   "execution_count": 80,
   "metadata": {},
   "outputs": [
    {
     "name": "stdout",
     "output_type": "stream",
     "text": [
      "<class 'pandas.core.frame.DataFrame'>\n",
      "Int64Index: 5 entries, 60 to 157\n",
      "Data columns (total 2 columns):\n",
      " #   Column         Non-Null Count  Dtype \n",
      "---  ------         --------------  ----- \n",
      " 0   asin           5 non-null      object\n",
      " 1   review_rating  5 non-null      object\n",
      "dtypes: object(2)\n",
      "memory usage: 120.0+ bytes\n"
     ]
    }
   ],
   "source": [
    "df_pro_max_n.info()"
   ]
  },
  {
   "cell_type": "code",
   "execution_count": 61,
   "metadata": {},
   "outputs": [
    {
     "name": "stdout",
     "output_type": "stream",
     "text": [
      "Sentiment(polarity=0.17444444444444443, subjectivity=0.08888888888888888)\n",
      "Sentiment(polarity=0.1111111111111111, subjectivity=0.16666666666666666)\n",
      "Sentiment(polarity=0.3777777777777778, subjectivity=0.0)\n",
      "Sentiment(polarity=-0.25, subjectivity=0.0)\n",
      "Sentiment(polarity=0.1619047619047619, subjectivity=0.1142857142857143)\n",
      "Sentiment(polarity=0.07777777777777778, subjectivity=0.0)\n",
      "Sentiment(polarity=0.0, subjectivity=0.2)\n",
      "Sentiment(polarity=0.08124999999999999, subjectivity=0.125)\n",
      "Sentiment(polarity=0.43437499999999996, subjectivity=0.0)\n",
      "Sentiment(polarity=0.1369918699186992, subjectivity=0.05691056910569105)\n",
      "Sentiment(polarity=-0.7, subjectivity=0.0)\n",
      "Sentiment(polarity=0.18194444444444446, subjectivity=0.027777777777777776)\n",
      "Sentiment(polarity=0.10800000000000001, subjectivity=0.08533333333333333)\n",
      "Sentiment(polarity=-0.1875, subjectivity=0.0625)\n",
      "Sentiment(polarity=0.0625, subjectivity=0.1025)\n",
      "Sentiment(polarity=-0.5, subjectivity=0.0)\n",
      "Sentiment(polarity=0.06363636363636363, subjectivity=0.17272727272727273)\n",
      "Sentiment(polarity=0.03333333333333334, subjectivity=0.4222222222222222)\n",
      "Sentiment(polarity=-0.32222222222222224, subjectivity=0.0)\n",
      "Sentiment(polarity=0.09090909090909091, subjectivity=0.0)\n",
      "Sentiment(polarity=0.0, subjectivity=0.1)\n",
      "Sentiment(polarity=0.7, subjectivity=0.0)\n",
      "Sentiment(polarity=0.16799999999999998, subjectivity=0.14133333333333334)\n",
      "Sentiment(polarity=-0.14285714285714285, subjectivity=0.0)\n",
      "Sentiment(polarity=0.35, subjectivity=0.4)\n",
      "Sentiment(polarity=0.5, subjectivity=0.0)\n",
      "Sentiment(polarity=0.1111111111111111, subjectivity=0.1111111111111111)\n",
      "Sentiment(polarity=0.5, subjectivity=0.0)\n",
      "Sentiment(polarity=0.18888888888888888, subjectivity=0.08888888888888889)\n",
      "Sentiment(polarity=0.16666666666666666, subjectivity=0.0)\n",
      "Sentiment(polarity=0.5, subjectivity=0.0)\n",
      "Sentiment(polarity=0.0, subjectivity=0.0)\n",
      "Sentiment(polarity=0.19999999999999998, subjectivity=0.06666666666666667)\n",
      "Sentiment(polarity=-0.2642857142857143, subjectivity=0.14285714285714285)\n",
      "Sentiment(polarity=0.6, subjectivity=0.0)\n",
      "Sentiment(polarity=0.2333333333333333, subjectivity=0.0)\n",
      "Sentiment(polarity=0.0, subjectivity=0.1111111111111111)\n",
      "Sentiment(polarity=0.175, subjectivity=0.0)\n",
      "Sentiment(polarity=0.13999999999999999, subjectivity=0.0)\n",
      "Sentiment(polarity=0.27066666666666667, subjectivity=0.13333333333333333)\n",
      "Sentiment(polarity=0.05499999999999999, subjectivity=0.05)\n",
      "Sentiment(polarity=-0.07916666666666665, subjectivity=0.0)\n",
      "Sentiment(polarity=-0.06190476190476191, subjectivity=0.19047619047619047)\n",
      "Sentiment(polarity=0.0, subjectivity=0.0)\n"
     ]
    }
   ],
   "source": [
    "for a in df_negativ:\n",
    "    print(TextBlobDE(a).sentiment)"
   ]
  },
  {
   "cell_type": "code",
   "execution_count": null,
   "metadata": {},
   "outputs": [],
   "source": []
  },
  {
   "cell_type": "code",
   "execution_count": 39,
   "metadata": {},
   "outputs": [
    {
     "data": {
      "text/plain": [
       "7      Ich bin im vergangenen Jahr mit der dritten Ge...\n",
       "10     An und für sich bin ich mit Apple-Produkten zu...\n",
       "20     Da ich bisher rund um Alexa gute Erfahrungen g...\n",
       "27     Ämm ... das hab ich nicht erwartet. Die Ton Qu...\n",
       "31     hey Freunde, ich habe diesen Echo Dot geholt, ...\n",
       "34     Me and many other users in apple forum are fac...\n",
       "48     Ich habe es in einigen Foren bereits gelesen, ...\n",
       "53     Alexas Klang ist super, sie versteht alles auc...\n",
       "58     Also mein lieber Freund Brutus, was hat Amazon...\n",
       "59     Ich hatte meinen neuen Echo Dot (4. Generation...\n",
       "60     Die liefergeschwindigkeit ist sehr langsam, ic...\n",
       "65     Wie immer ist die Zeit nach 4-5 Jahren gekomme...\n",
       "68     Ich habe bereits 4 Stk. Echo Dot's der 3ten Ge...\n",
       "71     Leider nicht das was ich erwartet habe und hab...\n",
       "72     Ich habe bereits 4 Stk. Echo Dot's der 3ten Ge...\n",
       "80     bei Telefonat hört man so schlecht, wie durch ...\n",
       "89     Ich hatte einen Dot der 3. Generation im Wohnz...\n",
       "92     Ich könnte damals kaum erwarten das der Liefer...\n",
       "95     Voller Vorfreude habe ich mir nun auch eine Ec...\n",
       "98     Needing a decent-sized display for my work, I ...\n",
       "112    Leider leider. Optisch genau mein fall. Aber l...\n",
       "117    Bestellt einfach keine iPhones auf Amazon, die...\n",
       "122    Kommen wir erst einmal zur Optik: Ich habe die...\n",
       "138    Alexa ist schwerhörig. Keines meiner Echogerät...\n",
       "147    Dieses iPhone ist ein totaler Reinfall.Der Akk...\n",
       "148    Das iPhone ist sicher sehr gut, doch ich habe ...\n",
       "153    Das 2. Mal das selbe Problem. Den ersten MacPr...\n",
       "157    Ich rate jeden ab ein so teures gerät über ama...\n",
       "161    Ich nutze seit mehreren Monaten den Echo-Dot d...\n",
       "169    Warum pimpt man das Design und legt dann zu ei...\n",
       "202    Moin Leute, also wer Wert auf Optik legt, der ...\n",
       "203    I don't recommend M1. Its like a test model. I...\n",
       "212    Klang ist definitiv besser als der schon recht...\n",
       "219    Egal ob 3. oder 4. Generation des Dots. Egal o...\n",
       "220    Obwohl ich ein begeisterte Apple fan bin ! Mus...\n",
       "225    Das ist doch wohl nicht euer erst 🤔 dunkles Ge...\n",
       "235    Willkommen ... Im Rückschritt. 3 Schritte zurü...\n",
       "236    Gestern geliefert bekommen, 100% geladen. Heut...\n",
       "241    Laptop was defect from the very first day! Des...\n",
       "243    Das also ist es. Das gottgezeugte iPhone. Es s...\n",
       "251    Ich habe den Laptop voller Freude erhalten und...\n",
       "254    Leider können wir dieses Apple nicht empfehlen...\n",
       "260    Leider war die gute Erfahrung meines MacBook P...\n",
       "262    The components and an idea are great, but the ...\n",
       "Name: review_text, dtype: object"
      ]
     },
     "execution_count": 39,
     "metadata": {},
     "output_type": "execute_result"
    }
   ],
   "source": [
    "df_negativ"
   ]
  },
  {
   "cell_type": "code",
   "execution_count": null,
   "metadata": {},
   "outputs": [],
   "source": []
  }
 ],
 "metadata": {
  "kernelspec": {
   "display_name": "Python 3",
   "language": "python",
   "name": "python3"
  },
  "language_info": {
   "codemirror_mode": {
    "name": "ipython",
    "version": 3
   },
   "file_extension": ".py",
   "mimetype": "text/x-python",
   "name": "python",
   "nbconvert_exporter": "python",
   "pygments_lexer": "ipython3",
   "version": "3.8.5"
  }
 },
 "nbformat": 4,
 "nbformat_minor": 2
}

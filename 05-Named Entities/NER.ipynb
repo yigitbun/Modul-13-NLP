{
 "cells": [
  {
   "cell_type": "markdown",
   "metadata": {},
   "source": [
    "# Named Entity Recognition"
   ]
  },
  {
   "cell_type": "markdown",
   "metadata": {},
   "source": [
    "Named Entities, auf Deutsch benannte Entitäten, sind Sachen, die in einem Text genannt werden und einen Namen haben. Beispiele für Dinge, die einem Namen haben, sind Personen, Orte und Organisationen. Oft sind gerade die Dinge die mit einem Namen genannt werden, interessant. Aus diesem Grund ist die Extraktion oder die Erkennung von Named Entities wichtig.\n",
    "\n",
    "Es gibt im Wesentlichen zwei Verfahren für Named Entity Recognition (NER). Die erste Möglichkeit ist, dass man  Regeln schreibt, wie z.B. Personennamen aufgebaut sind und in welchen Kontexten sie vorkommen. Diese Regeln kann man sehr gut mit den regulären Ausdrücke, die wir schon kennengelernt haben, vergleichen, und zum Teil ist das NER auch mit NER möglich. Die zweite Möglichkeit ist, dass man ein System trainiert, das aus Beispielen Eigenschaften von Wörtern lernt und auf Grund davon, für jedes Wort im Text entscheidet, ob es zu einer benannten Entität gehört. \n",
    "\n",
    "Wir werden NER jetzt nicht selber implementieren, obwahl das nicht sehr schierig ist, sondern nutzen die Bibliothek _Spacy_  und ein bereits trainiertes Modell. Spacy stellt ausser NER viele Funktionen zur Verfügung, wie Tokenisierung, Lemmatisierung und POS-Tagging.\n",
    "\n",
    "In der dritten Übung haben wir Wikipedia-Texte über Firmen analysiert. In diesen Texten werden sehr viele Firmennamen genannt. Schauen wir mal, ob Spacy die erkennnt. "
   ]
  },
  {
   "cell_type": "markdown",
   "metadata": {},
   "source": [
    "Als erstes müssen wir Spacy (einmalig) installieren:"
   ]
  },
  {
   "cell_type": "code",
   "execution_count": null,
   "metadata": {},
   "outputs": [],
   "source": [
    "!pip install spacy\n",
    "!python -m spacy download en_core_web_sm"
   ]
  },
  {
   "cell_type": "code",
   "execution_count": 7,
   "metadata": {},
   "outputs": [
    {
     "name": "stdout",
     "output_type": "stream",
     "text": [
      "FDP ---  ORG\n",
      "Nie ---  PER\n",
      "Liberalen ---  ORG\n",
      "Berlin ---  LOC\n",
      "Bundestagswahlen ---  MISC\n",
      "FDP ---  ORG\n",
      "Bundestag ---  ORG\n",
      "Partei ---  ORG\n",
      "FDP ---  ORG\n",
      "Christian Lindner ---  PER\n",
      "Entwurfs ---  MISC\n",
      "Bundesparteitag ---  MISC\n",
      "Nie ---  PER\n",
      "FDP ---  ORG\n",
      "Staaten ---  LOC\n",
      "Liberalen ---  ORG\n",
      "Partei-Chef Lindner ---  PER\n",
      "Deutschland ---  LOC\n",
      "FDP ---  ORG\n",
      "Altersvorsorge ---  LOC\n",
      "Unser Staatswesen ---  MISC\n",
      "Lindner ---  PER\n",
      "Bundestagswahl am 26. September ---  MISC\n",
      "Lindner ---  PER\n",
      "FDP ---  ORG\n",
      "Pilotensessel des Lebens ---  MISC\n",
      "FDP-Chef ---  ORG\n",
      "Lindner ---  PER\n",
      "FDP ---  ORG\n",
      "Darstellung Lindners ---  MISC\n",
      "FDP ---  ORG\n",
      "realistisches ---  MISC\n",
      "Gesetzestext ---  LOC\n",
      "Lindner ---  PER\n",
      "Bundestagswahl ---  MISC\n",
      "FDP ---  ORG\n",
      "Liberalen ---  ORG\n",
      "Union ---  LOC\n",
      "FDP ---  ORG\n",
      "FDP ---  ORG\n",
      "NRW ---  LOC\n",
      "Corona-Maßnahmen ---  MISC\n",
      "Union ---  LOC\n",
      "Lindner ---  PER\n",
      "FDP ---  ORG\n",
      "Volker Wissing ---  PER\n",
      "FDP ---  ORG\n",
      "Klimaschutztechnologien ---  LOC\n",
      "Anreize ---  MISC\n",
      "FDP ---  ORG\n",
      "Deutschland ---  LOC\n",
      "Wissing ---  PER\n",
      "FDP-Politiker ---  ORG\n",
      "Bazooka ---  MISC\n",
      "Wissing ---  PER\n",
      "Partei ---  ORG\n",
      "AFP ---  MISC\n"
     ]
    }
   ],
   "source": [
    "import glob\n",
    "import codecs\n",
    "import spacy\n",
    "\n",
    "spacy_engine_de = spacy.load('de_core_news_sm')\n",
    "\n",
    "filelist = glob.glob(\"Bundeswahl/*.txt\")\n",
    "#filelist = glob.glob(\"brexit/*.txt\")\n",
    "f = filelist[0]\n",
    "datei = codecs.open(f,'r','utf8')\n",
    "text = datei.read()\n",
    "datei.close()\n",
    "    \n",
    "f_doc = spacy_engine_de(text)\n",
    "for entity in f_doc.ents:\n",
    "    print(entity.text,'--- ',entity.label_)"
   ]
  },
  {
   "cell_type": "markdown",
   "metadata": {},
   "source": [
    "Spacy kann die NEs auch sehr schön im Text anzeigen:"
   ]
  },
  {
   "cell_type": "code",
   "execution_count": 8,
   "metadata": {},
   "outputs": [
    {
     "data": {
      "text/html": [
       "<span class=\"tex2jax_ignore\"><div class=\"entities\" style=\"line-height: 2.5; direction: ltr\">Die \n",
       "<mark class=\"entity\" style=\"background: #7aecec; padding: 0.45em 0.6em; margin: 0 0.25em; line-height: 1; border-radius: 0.35em;\">\n",
       "    FDP\n",
       "    <span style=\"font-size: 0.8em; font-weight: bold; line-height: 1; border-radius: 0.35em; vertical-align: middle; margin-left: 0.5rem\">ORG</span>\n",
       "</mark>\n",
       " hat einen Entwurf ihres Bundestagswahlprogrammes vorgestellt. Der Titel: „\n",
       "<mark class=\"entity\" style=\"background: #ddd; padding: 0.45em 0.6em; margin: 0 0.25em; line-height: 1; border-radius: 0.35em;\">\n",
       "    Nie\n",
       "    <span style=\"font-size: 0.8em; font-weight: bold; line-height: 1; border-radius: 0.35em; vertical-align: middle; margin-left: 0.5rem\">PER</span>\n",
       "</mark>\n",
       " gab es mehr zu tun“. Die \n",
       "<mark class=\"entity\" style=\"background: #7aecec; padding: 0.45em 0.6em; margin: 0 0.25em; line-height: 1; border-radius: 0.35em;\">\n",
       "    Liberalen\n",
       "    <span style=\"font-size: 0.8em; font-weight: bold; line-height: 1; border-radius: 0.35em; vertical-align: middle; margin-left: 0.5rem\">ORG</span>\n",
       "</mark>\n",
       " kritisieren „Staatsfrömmigkeit“ anderer Parteien.\r",
       "</br>\r",
       "</br>\n",
       "<mark class=\"entity\" style=\"background: #ff9561; padding: 0.45em 0.6em; margin: 0 0.25em; line-height: 1; border-radius: 0.35em;\">\n",
       "    Berlin\n",
       "    <span style=\"font-size: 0.8em; font-weight: bold; line-height: 1; border-radius: 0.35em; vertical-align: middle; margin-left: 0.5rem\">LOC</span>\n",
       "</mark>\n",
       " - Im September finden die \n",
       "<mark class=\"entity\" style=\"background: #ddd; padding: 0.45em 0.6em; margin: 0 0.25em; line-height: 1; border-radius: 0.35em;\">\n",
       "    Bundestagswahlen\n",
       "    <span style=\"font-size: 0.8em; font-weight: bold; line-height: 1; border-radius: 0.35em; vertical-align: middle; margin-left: 0.5rem\">MISC</span>\n",
       "</mark>\n",
       " statt - und die \n",
       "<mark class=\"entity\" style=\"background: #7aecec; padding: 0.45em 0.6em; margin: 0 0.25em; line-height: 1; border-radius: 0.35em;\">\n",
       "    FDP\n",
       "    <span style=\"font-size: 0.8em; font-weight: bold; line-height: 1; border-radius: 0.35em; vertical-align: middle; margin-left: 0.5rem\">ORG</span>\n",
       "</mark>\n",
       " will mit Betonung der individuellen Verantwortung und einem Modernisierungsprogramm für den Staat in den Wahlkampf ziehen. Als einzige im \n",
       "<mark class=\"entity\" style=\"background: #7aecec; padding: 0.45em 0.6em; margin: 0 0.25em; line-height: 1; border-radius: 0.35em;\">\n",
       "    Bundestag\n",
       "    <span style=\"font-size: 0.8em; font-weight: bold; line-height: 1; border-radius: 0.35em; vertical-align: middle; margin-left: 0.5rem\">ORG</span>\n",
       "</mark>\n",
       " vertretene \n",
       "<mark class=\"entity\" style=\"background: #7aecec; padding: 0.45em 0.6em; margin: 0 0.25em; line-height: 1; border-radius: 0.35em;\">\n",
       "    Partei\n",
       "    <span style=\"font-size: 0.8em; font-weight: bold; line-height: 1; border-radius: 0.35em; vertical-align: middle; margin-left: 0.5rem\">ORG</span>\n",
       "</mark>\n",
       " gehe es der \n",
       "<mark class=\"entity\" style=\"background: #7aecec; padding: 0.45em 0.6em; margin: 0 0.25em; line-height: 1; border-radius: 0.35em;\">\n",
       "    FDP\n",
       "    <span style=\"font-size: 0.8em; font-weight: bold; line-height: 1; border-radius: 0.35em; vertical-align: middle; margin-left: 0.5rem\">ORG</span>\n",
       "</mark>\n",
       " darum, „nicht immer nur den Staat“ stark zu machen, sondern jede Einzelperson, sagte FDP-Parteichef \n",
       "<mark class=\"entity\" style=\"background: #ddd; padding: 0.45em 0.6em; margin: 0 0.25em; line-height: 1; border-radius: 0.35em;\">\n",
       "    Christian Lindner\n",
       "    <span style=\"font-size: 0.8em; font-weight: bold; line-height: 1; border-radius: 0.35em; vertical-align: middle; margin-left: 0.5rem\">PER</span>\n",
       "</mark>\n",
       " Mitte April bei der Vorstellung des \n",
       "<mark class=\"entity\" style=\"background: #ddd; padding: 0.45em 0.6em; margin: 0 0.25em; line-height: 1; border-radius: 0.35em;\">\n",
       "    Entwurfs\n",
       "    <span style=\"font-size: 0.8em; font-weight: bold; line-height: 1; border-radius: 0.35em; vertical-align: middle; margin-left: 0.5rem\">MISC</span>\n",
       "</mark>\n",
       " für das Wahlprogramm. Das Programm sollte beim \n",
       "<mark class=\"entity\" style=\"background: #ddd; padding: 0.45em 0.6em; margin: 0 0.25em; line-height: 1; border-radius: 0.35em;\">\n",
       "    Bundesparteitag\n",
       "    <span style=\"font-size: 0.8em; font-weight: bold; line-height: 1; border-radius: 0.35em; vertical-align: middle; margin-left: 0.5rem\">MISC</span>\n",
       "</mark>\n",
       " Mitte Mai diskutiert und beschlossen werden.\r",
       "</br>Der im April vorgestellte Entwurf trägt die Überschrift: „\n",
       "<mark class=\"entity\" style=\"background: #ddd; padding: 0.45em 0.6em; margin: 0 0.25em; line-height: 1; border-radius: 0.35em;\">\n",
       "    Nie\n",
       "    <span style=\"font-size: 0.8em; font-weight: bold; line-height: 1; border-radius: 0.35em; vertical-align: middle; margin-left: 0.5rem\">PER</span>\n",
       "</mark>\n",
       " gab es mehr zu tun“. Dabei rechnet die \n",
       "<mark class=\"entity\" style=\"background: #7aecec; padding: 0.45em 0.6em; margin: 0 0.25em; line-height: 1; border-radius: 0.35em;\">\n",
       "    FDP\n",
       "    <span style=\"font-size: 0.8em; font-weight: bold; line-height: 1; border-radius: 0.35em; vertical-align: middle; margin-left: 0.5rem\">ORG</span>\n",
       "</mark>\n",
       " in der Einleitung hart mit den staatlichen Abläufen in der Corona-Krise ab. „Während andere \n",
       "<mark class=\"entity\" style=\"background: #ff9561; padding: 0.45em 0.6em; margin: 0 0.25em; line-height: 1; border-radius: 0.35em;\">\n",
       "    Staaten\n",
       "    <span style=\"font-size: 0.8em; font-weight: bold; line-height: 1; border-radius: 0.35em; vertical-align: middle; margin-left: 0.5rem\">LOC</span>\n",
       "</mark>\n",
       " ihr Gesundheitssystem digitalisiert haben, haben sich unsere Gesundheitsämter gegenseitig Faxe geschickt“, heißt es dort. „Hochqualifizierte Beamte haben Listen abgetippt, statt mit Hilfe moderner digitaler Technologien effektiv Infektionsketten nachzuverfolgen.“ „Wie es ist, darf es nicht bleiben“, so die \n",
       "<mark class=\"entity\" style=\"background: #7aecec; padding: 0.45em 0.6em; margin: 0 0.25em; line-height: 1; border-radius: 0.35em;\">\n",
       "    Liberalen\n",
       "    <span style=\"font-size: 0.8em; font-weight: bold; line-height: 1; border-radius: 0.35em; vertical-align: middle; margin-left: 0.5rem\">ORG</span>\n",
       "</mark>\n",
       ". „Die gute Nachricht ist: Es muss auch nicht so bleiben. Alles kann besser werden.“\r",
       "</br>\r",
       "</br>FDP-Wahlprogramm: \n",
       "<mark class=\"entity\" style=\"background: #ddd; padding: 0.45em 0.6em; margin: 0 0.25em; line-height: 1; border-radius: 0.35em;\">\n",
       "    Partei-Chef Lindner\n",
       "    <span style=\"font-size: 0.8em; font-weight: bold; line-height: 1; border-radius: 0.35em; vertical-align: middle; margin-left: 0.5rem\">PER</span>\n",
       "</mark>\n",
       " nennt \n",
       "<mark class=\"entity\" style=\"background: #ff9561; padding: 0.45em 0.6em; margin: 0 0.25em; line-height: 1; border-radius: 0.35em;\">\n",
       "    Deutschland\n",
       "    <span style=\"font-size: 0.8em; font-weight: bold; line-height: 1; border-radius: 0.35em; vertical-align: middle; margin-left: 0.5rem\">LOC</span>\n",
       "</mark>\n",
       " einen „Sanierungsfall“\r",
       "</br>Die \n",
       "<mark class=\"entity\" style=\"background: #7aecec; padding: 0.45em 0.6em; margin: 0 0.25em; line-height: 1; border-radius: 0.35em;\">\n",
       "    FDP\n",
       "    <span style=\"font-size: 0.8em; font-weight: bold; line-height: 1; border-radius: 0.35em; vertical-align: middle; margin-left: 0.5rem\">ORG</span>\n",
       "</mark>\n",
       " fordert in ihrem Entwurf für das Wahlprogramm auch Steuerentlastungen für Unternehmen und alle Bürger - auch die Bezieher hoher Einkommen, eine Modernisierung der \n",
       "<mark class=\"entity\" style=\"background: #ff9561; padding: 0.45em 0.6em; margin: 0 0.25em; line-height: 1; border-radius: 0.35em;\">\n",
       "    Altersvorsorge\n",
       "    <span style=\"font-size: 0.8em; font-weight: bold; line-height: 1; border-radius: 0.35em; vertical-align: middle; margin-left: 0.5rem\">LOC</span>\n",
       "</mark>\n",
       ", eine Entbürokratisierung, einen Schub bei der Digitalisierung und eine Reform des Staates. „\n",
       "<mark class=\"entity\" style=\"background: #ddd; padding: 0.45em 0.6em; margin: 0 0.25em; line-height: 1; border-radius: 0.35em;\">\n",
       "    Unser Staatswesen\n",
       "    <span style=\"font-size: 0.8em; font-weight: bold; line-height: 1; border-radius: 0.35em; vertical-align: middle; margin-left: 0.5rem\">MISC</span>\n",
       "</mark>\n",
       " ist leider ein Sanierungsfall geworden“, sagte \n",
       "<mark class=\"entity\" style=\"background: #ddd; padding: 0.45em 0.6em; margin: 0 0.25em; line-height: 1; border-radius: 0.35em;\">\n",
       "    Lindner\n",
       "    <span style=\"font-size: 0.8em; font-weight: bold; line-height: 1; border-radius: 0.35em; vertical-align: middle; margin-left: 0.5rem\">PER</span>\n",
       "</mark>\n",
       " dazu. Es sei nicht ausreichend digital. Grund dafür seien die eigenen Regeln.\r",
       "</br>\r",
       "</br>Bei der \n",
       "<mark class=\"entity\" style=\"background: #ddd; padding: 0.45em 0.6em; margin: 0 0.25em; line-height: 1; border-radius: 0.35em;\">\n",
       "    Bundestagswahl am 26. September\n",
       "    <span style=\"font-size: 0.8em; font-weight: bold; line-height: 1; border-radius: 0.35em; vertical-align: middle; margin-left: 0.5rem\">MISC</span>\n",
       "</mark>\n",
       " gehe es um die Frage, wie dem Land „die richtige Richtung aus dem Status quo“ gewiesen werde, so \n",
       "<mark class=\"entity\" style=\"background: #ddd; padding: 0.45em 0.6em; margin: 0 0.25em; line-height: 1; border-radius: 0.35em;\">\n",
       "    Lindner\n",
       "    <span style=\"font-size: 0.8em; font-weight: bold; line-height: 1; border-radius: 0.35em; vertical-align: middle; margin-left: 0.5rem\">PER</span>\n",
       "</mark>\n",
       ". Des Weiteren halte die \n",
       "<mark class=\"entity\" style=\"background: #7aecec; padding: 0.45em 0.6em; margin: 0 0.25em; line-height: 1; border-radius: 0.35em;\">\n",
       "    FDP\n",
       "    <span style=\"font-size: 0.8em; font-weight: bold; line-height: 1; border-radius: 0.35em; vertical-align: middle; margin-left: 0.5rem\">ORG</span>\n",
       "</mark>\n",
       " nichts von der „Staatsfrömmigkeit“ anderer Parteien, sondern setze darauf, „den Menschen in Wirtschaft und Gesellschaft“ zu vertrauen. Sie wolle den Bürger:innen „die \n",
       "<mark class=\"entity\" style=\"background: #ddd; padding: 0.45em 0.6em; margin: 0 0.25em; line-height: 1; border-radius: 0.35em;\">\n",
       "    Pilotensessel des Lebens\n",
       "    <span style=\"font-size: 0.8em; font-weight: bold; line-height: 1; border-radius: 0.35em; vertical-align: middle; margin-left: 0.5rem\">MISC</span>\n",
       "</mark>\n",
       " zurückgeben“, sagte \n",
       "<mark class=\"entity\" style=\"background: #7aecec; padding: 0.45em 0.6em; margin: 0 0.25em; line-height: 1; border-radius: 0.35em;\">\n",
       "    FDP-Chef\n",
       "    <span style=\"font-size: 0.8em; font-weight: bold; line-height: 1; border-radius: 0.35em; vertical-align: middle; margin-left: 0.5rem\">ORG</span>\n",
       "</mark>\n",
       " \n",
       "<mark class=\"entity\" style=\"background: #ddd; padding: 0.45em 0.6em; margin: 0 0.25em; line-height: 1; border-radius: 0.35em;\">\n",
       "    Lindner\n",
       "    <span style=\"font-size: 0.8em; font-weight: bold; line-height: 1; border-radius: 0.35em; vertical-align: middle; margin-left: 0.5rem\">PER</span>\n",
       "</mark>\n",
       ".\r",
       "</br>\r",
       "</br>Bundestagswahlen im September: Die \n",
       "<mark class=\"entity\" style=\"background: #7aecec; padding: 0.45em 0.6em; margin: 0 0.25em; line-height: 1; border-radius: 0.35em;\">\n",
       "    FDP\n",
       "    <span style=\"font-size: 0.8em; font-weight: bold; line-height: 1; border-radius: 0.35em; vertical-align: middle; margin-left: 0.5rem\">ORG</span>\n",
       "</mark>\n",
       " will in die Regierung\r",
       "</br>Nach \n",
       "<mark class=\"entity\" style=\"background: #ddd; padding: 0.45em 0.6em; margin: 0 0.25em; line-height: 1; border-radius: 0.35em;\">\n",
       "    Darstellung Lindners\n",
       "    <span style=\"font-size: 0.8em; font-weight: bold; line-height: 1; border-radius: 0.35em; vertical-align: middle; margin-left: 0.5rem\">MISC</span>\n",
       "</mark>\n",
       " legt die \n",
       "<mark class=\"entity\" style=\"background: #7aecec; padding: 0.45em 0.6em; margin: 0 0.25em; line-height: 1; border-radius: 0.35em;\">\n",
       "    FDP\n",
       "    <span style=\"font-size: 0.8em; font-weight: bold; line-height: 1; border-radius: 0.35em; vertical-align: middle; margin-left: 0.5rem\">ORG</span>\n",
       "</mark>\n",
       " ein „prägnantes, ambitioniertes, aber auch \n",
       "<mark class=\"entity\" style=\"background: #ddd; padding: 0.45em 0.6em; margin: 0 0.25em; line-height: 1; border-radius: 0.35em;\">\n",
       "    realistisches\n",
       "    <span style=\"font-size: 0.8em; font-weight: bold; line-height: 1; border-radius: 0.35em; vertical-align: middle; margin-left: 0.5rem\">MISC</span>\n",
       "</mark>\n",
       " Programm“ vor. Dieses sei vom „Geist der Liberalität und Individualität“ getragen. „Es liest sich gut und es ist geeignet, vom Programmpapier unmittelbar dann auch in \n",
       "<mark class=\"entity\" style=\"background: #ff9561; padding: 0.45em 0.6em; margin: 0 0.25em; line-height: 1; border-radius: 0.35em;\">\n",
       "    Gesetzestext\n",
       "    <span style=\"font-size: 0.8em; font-weight: bold; line-height: 1; border-radius: 0.35em; vertical-align: middle; margin-left: 0.5rem\">LOC</span>\n",
       "</mark>\n",
       " übertragen zu werden.“ Auch sei es eine zentrale Aufgabe für das nächste Jahrzehnt, den Staat zu modernisieren und zu digitalisieren. \n",
       "<mark class=\"entity\" style=\"background: #ddd; padding: 0.45em 0.6em; margin: 0 0.25em; line-height: 1; border-radius: 0.35em;\">\n",
       "    Lindner\n",
       "    <span style=\"font-size: 0.8em; font-weight: bold; line-height: 1; border-radius: 0.35em; vertical-align: middle; margin-left: 0.5rem\">PER</span>\n",
       "</mark>\n",
       " unterstrich zudem den Anspruch seiner Partei, nach der \n",
       "<mark class=\"entity\" style=\"background: #ddd; padding: 0.45em 0.6em; margin: 0 0.25em; line-height: 1; border-radius: 0.35em;\">\n",
       "    Bundestagswahl\n",
       "    <span style=\"font-size: 0.8em; font-weight: bold; line-height: 1; border-radius: 0.35em; vertical-align: middle; margin-left: 0.5rem\">MISC</span>\n",
       "</mark>\n",
       " zu regieren. Die \n",
       "<mark class=\"entity\" style=\"background: #7aecec; padding: 0.45em 0.6em; margin: 0 0.25em; line-height: 1; border-radius: 0.35em;\">\n",
       "    FDP\n",
       "    <span style=\"font-size: 0.8em; font-weight: bold; line-height: 1; border-radius: 0.35em; vertical-align: middle; margin-left: 0.5rem\">ORG</span>\n",
       "</mark>\n",
       " sei bereit zur Übernahme von Verantwortung und strebe ein zweistelliges Wahlergebnis an, sagte er. Die \n",
       "<mark class=\"entity\" style=\"background: #7aecec; padding: 0.45em 0.6em; margin: 0 0.25em; line-height: 1; border-radius: 0.35em;\">\n",
       "    Liberalen\n",
       "    <span style=\"font-size: 0.8em; font-weight: bold; line-height: 1; border-radius: 0.35em; vertical-align: middle; margin-left: 0.5rem\">ORG</span>\n",
       "</mark>\n",
       " wollten so stark werden, dass keine schwarz-grüne und auch keine grün-rot-rote Mehrheit möglich wäre.\r",
       "</br>\r",
       "</br>Auf die Frage, mit welchem der möglichen Kanzlerkandidaten der \n",
       "<mark class=\"entity\" style=\"background: #ff9561; padding: 0.45em 0.6em; margin: 0 0.25em; line-height: 1; border-radius: 0.35em;\">\n",
       "    Union\n",
       "    <span style=\"font-size: 0.8em; font-weight: bold; line-height: 1; border-radius: 0.35em; vertical-align: middle; margin-left: 0.5rem\">LOC</span>\n",
       "</mark>\n",
       " die \n",
       "<mark class=\"entity\" style=\"background: #7aecec; padding: 0.45em 0.6em; margin: 0 0.25em; line-height: 1; border-radius: 0.35em;\">\n",
       "    FDP\n",
       "    <span style=\"font-size: 0.8em; font-weight: bold; line-height: 1; border-radius: 0.35em; vertical-align: middle; margin-left: 0.5rem\">ORG</span>\n",
       "</mark>\n",
       " ihre Vorstellungen besser umsetzen könnte, verwies der Parteichef darauf, dass die \n",
       "<mark class=\"entity\" style=\"background: #7aecec; padding: 0.45em 0.6em; margin: 0 0.25em; line-height: 1; border-radius: 0.35em;\">\n",
       "    FDP\n",
       "    <span style=\"font-size: 0.8em; font-weight: bold; line-height: 1; border-radius: 0.35em; vertical-align: middle; margin-left: 0.5rem\">ORG</span>\n",
       "</mark>\n",
       " mit  Laschet in \n",
       "<mark class=\"entity\" style=\"background: #ff9561; padding: 0.45em 0.6em; margin: 0 0.25em; line-height: 1; border-radius: 0.35em;\">\n",
       "    NRW\n",
       "    <span style=\"font-size: 0.8em; font-weight: bold; line-height: 1; border-radius: 0.35em; vertical-align: middle; margin-left: 0.5rem\">LOC</span>\n",
       "</mark>\n",
       " sehr erfolgreich zusammenarbeite. „Bei Herrn Söder wissen wir nicht so genau, weil er ja dazu neigt, auch unterschiedlichen Vorstellungen in seiner politischen Arbeit Raum zu geben.“ Da habe mal das eine und mal das andere Thema mehr Gewicht. „Mal geht‘s um den Asyltourismus, dann geht‘s um Bienen, dann geht‘s um \n",
       "<mark class=\"entity\" style=\"background: #ddd; padding: 0.45em 0.6em; margin: 0 0.25em; line-height: 1; border-radius: 0.35em;\">\n",
       "    Corona-Maßnahmen\n",
       "    <span style=\"font-size: 0.8em; font-weight: bold; line-height: 1; border-radius: 0.35em; vertical-align: middle; margin-left: 0.5rem\">MISC</span>\n",
       "</mark>\n",
       " und Ausgangssperren.“ Entscheidend werde das Wahlprogramm der \n",
       "<mark class=\"entity\" style=\"background: #ff9561; padding: 0.45em 0.6em; margin: 0 0.25em; line-height: 1; border-radius: 0.35em;\">\n",
       "    Union\n",
       "    <span style=\"font-size: 0.8em; font-weight: bold; line-height: 1; border-radius: 0.35em; vertical-align: middle; margin-left: 0.5rem\">LOC</span>\n",
       "</mark>\n",
       " sein, sagte \n",
       "<mark class=\"entity\" style=\"background: #ddd; padding: 0.45em 0.6em; margin: 0 0.25em; line-height: 1; border-radius: 0.35em;\">\n",
       "    Lindner\n",
       "    <span style=\"font-size: 0.8em; font-weight: bold; line-height: 1; border-radius: 0.35em; vertical-align: middle; margin-left: 0.5rem\">PER</span>\n",
       "</mark>\n",
       ".\r",
       "</br>\r",
       "</br>Bildung ein wichtiger Aspekt: \n",
       "<mark class=\"entity\" style=\"background: #7aecec; padding: 0.45em 0.6em; margin: 0 0.25em; line-height: 1; border-radius: 0.35em;\">\n",
       "    FDP\n",
       "    <span style=\"font-size: 0.8em; font-weight: bold; line-height: 1; border-radius: 0.35em; vertical-align: middle; margin-left: 0.5rem\">ORG</span>\n",
       "</mark>\n",
       " will zusätzlich ein Prozent der Mehrwertsteuereinnahmen investieren\r",
       "</br>FDP-Generalsekretär \n",
       "<mark class=\"entity\" style=\"background: #ddd; padding: 0.45em 0.6em; margin: 0 0.25em; line-height: 1; border-radius: 0.35em;\">\n",
       "    Volker Wissing\n",
       "    <span style=\"font-size: 0.8em; font-weight: bold; line-height: 1; border-radius: 0.35em; vertical-align: middle; margin-left: 0.5rem\">PER</span>\n",
       "</mark>\n",
       " sagte, es müssten Antworten gefunden werden auf globale Herausforderungen wie den Klimawandel und auf die „Herausforderungen unserer Gesellschaft“, etwa die demografische Entwicklung. Den Klimawandel wolle die \n",
       "<mark class=\"entity\" style=\"background: #7aecec; padding: 0.45em 0.6em; margin: 0 0.25em; line-height: 1; border-radius: 0.35em;\">\n",
       "    FDP\n",
       "    <span style=\"font-size: 0.8em; font-weight: bold; line-height: 1; border-radius: 0.35em; vertical-align: middle; margin-left: 0.5rem\">ORG</span>\n",
       "</mark>\n",
       " bekämpfen mithilfe der „Innovationskraft des Marktes“. Für „innovative \n",
       "<mark class=\"entity\" style=\"background: #ff9561; padding: 0.45em 0.6em; margin: 0 0.25em; line-height: 1; border-radius: 0.35em;\">\n",
       "    Klimaschutztechnologien\n",
       "    <span style=\"font-size: 0.8em; font-weight: bold; line-height: 1; border-radius: 0.35em; vertical-align: middle; margin-left: 0.5rem\">LOC</span>\n",
       "</mark>\n",
       "“ müsse der Staat „\n",
       "<mark class=\"entity\" style=\"background: #ddd; padding: 0.45em 0.6em; margin: 0 0.25em; line-height: 1; border-radius: 0.35em;\">\n",
       "    Anreize\n",
       "    <span style=\"font-size: 0.8em; font-weight: bold; line-height: 1; border-radius: 0.35em; vertical-align: middle; margin-left: 0.5rem\">MISC</span>\n",
       "</mark>\n",
       "“ schaffen.\r",
       "</br>\r",
       "</br>Die \n",
       "<mark class=\"entity\" style=\"background: #7aecec; padding: 0.45em 0.6em; margin: 0 0.25em; line-height: 1; border-radius: 0.35em;\">\n",
       "    FDP\n",
       "    <span style=\"font-size: 0.8em; font-weight: bold; line-height: 1; border-radius: 0.35em; vertical-align: middle; margin-left: 0.5rem\">ORG</span>\n",
       "</mark>\n",
       " will zudem das Bildungssystem in \n",
       "<mark class=\"entity\" style=\"background: #ff9561; padding: 0.45em 0.6em; margin: 0 0.25em; line-height: 1; border-radius: 0.35em;\">\n",
       "    Deutschland\n",
       "    <span style=\"font-size: 0.8em; font-weight: bold; line-height: 1; border-radius: 0.35em; vertical-align: middle; margin-left: 0.5rem\">LOC</span>\n",
       "</mark>\n",
       " mit einem Milliardenaufwand leistungsstärker machen. Ein Prozent der Mehrwertsteuereinnahmen soll demnach zusätzlich in Bildung gesteckt werden. „Das ermöglicht zusätzliche Investitionen von 2,5 Milliarden Euro“, sagte \n",
       "<mark class=\"entity\" style=\"background: #ddd; padding: 0.45em 0.6em; margin: 0 0.25em; line-height: 1; border-radius: 0.35em;\">\n",
       "    Wissing\n",
       "    <span style=\"font-size: 0.8em; font-weight: bold; line-height: 1; border-radius: 0.35em; vertical-align: middle; margin-left: 0.5rem\">PER</span>\n",
       "</mark>\n",
       ". Bildung sei ein Bürgerrecht und ein Schlüssel zur Lösung von Zukunftsproblemen unserer Gesellschaft, so der \n",
       "<mark class=\"entity\" style=\"background: #7aecec; padding: 0.45em 0.6em; margin: 0 0.25em; line-height: 1; border-radius: 0.35em;\">\n",
       "    FDP-Politiker\n",
       "    <span style=\"font-size: 0.8em; font-weight: bold; line-height: 1; border-radius: 0.35em; vertical-align: middle; margin-left: 0.5rem\">ORG</span>\n",
       "</mark>\n",
       " weiter. „Deswegen muss die \n",
       "<mark class=\"entity\" style=\"background: #ddd; padding: 0.45em 0.6em; margin: 0 0.25em; line-height: 1; border-radius: 0.35em;\">\n",
       "    Bazooka\n",
       "    <span style=\"font-size: 0.8em; font-weight: bold; line-height: 1; border-radius: 0.35em; vertical-align: middle; margin-left: 0.5rem\">MISC</span>\n",
       "</mark>\n",
       " unseres Landes wieder die Bildung sein.“ Auch solle „mutig, optimistisch und ohne Scheuklappen“ die Frage betrachtet werden, ob am föderalen System im Bildungsbereich etwas geändert werden müsse. \n",
       "<mark class=\"entity\" style=\"background: #ddd; padding: 0.45em 0.6em; margin: 0 0.25em; line-height: 1; border-radius: 0.35em;\">\n",
       "    Wissing\n",
       "    <span style=\"font-size: 0.8em; font-weight: bold; line-height: 1; border-radius: 0.35em; vertical-align: middle; margin-left: 0.5rem\">PER</span>\n",
       "</mark>\n",
       " betonte zugleich, dass die \n",
       "<mark class=\"entity\" style=\"background: #7aecec; padding: 0.45em 0.6em; margin: 0 0.25em; line-height: 1; border-radius: 0.35em;\">\n",
       "    Partei\n",
       "    <span style=\"font-size: 0.8em; font-weight: bold; line-height: 1; border-radius: 0.35em; vertical-align: middle; margin-left: 0.5rem\">ORG</span>\n",
       "</mark>\n",
       " sich nicht auf eine mögliche Koalition festlege. Das Wahlprogramm sei kein Anreiz, „um Farbspekulationen zu starten“, sagte er. (dp/dpa/\n",
       "<mark class=\"entity\" style=\"background: #ddd; padding: 0.45em 0.6em; margin: 0 0.25em; line-height: 1; border-radius: 0.35em;\">\n",
       "    AFP\n",
       "    <span style=\"font-size: 0.8em; font-weight: bold; line-height: 1; border-radius: 0.35em; vertical-align: middle; margin-left: 0.5rem\">MISC</span>\n",
       "</mark>\n",
       ")</div></span>"
      ],
      "text/plain": [
       "<IPython.core.display.HTML object>"
      ]
     },
     "metadata": {},
     "output_type": "display_data"
    }
   ],
   "source": [
    "from spacy import displacy\n",
    "displacy.render(f_doc, style = \"ent\",jupyter = True)"
   ]
  },
  {
   "cell_type": "markdown",
   "metadata": {},
   "source": [
    "Wir sehen, dass viel Richtiges gefunden wurde, aber es eben auch viele Fehler gibt: \n",
    "1. Es gibt Wörter, die keine NE sind, die aber als solche erkannt werden.\n",
    "2. Es gibt NE die falsch klassifiziert sind (Organisation als Person)\n",
    "3. Es gibt NEs im Text, die gar nicht in dieser Liste auftauchen\n",
    "4. Es gibt Namen, die in mehreren Varainten in der Liste stehen.\n",
    "\n",
    "Wir schreiben jetzt eine Funktion, die NEs aus einem Text extrahiert und alle als Ergebnis zurückgibt. Jede NE wird von dieser Funktion nur ein mal berücksichtigt."
   ]
  },
  {
   "cell_type": "code",
   "execution_count": 9,
   "metadata": {},
   "outputs": [],
   "source": [
    "def NE_in_doc(text):\n",
    "    orgs = set()\n",
    "    \n",
    "    doc = spacy_engine_de(text)\n",
    "    for entity in doc.ents:\n",
    "        if entity.label_ == 'PER': # or entity.label_ == 'LOC':\n",
    "            if len(entity.text) > 3 or entity.text.isupper(): # Hiermit schließen wir einige komische Fehler aus\n",
    "                orgs.add(entity.text)\n",
    "    \n",
    "    return orgs"
   ]
  },
  {
   "cell_type": "code",
   "execution_count": 10,
   "metadata": {},
   "outputs": [
    {
     "data": {
      "text/plain": [
       "{'Christian Lindner',\n",
       " 'Lindner',\n",
       " 'Partei-Chef Lindner',\n",
       " 'Volker Wissing',\n",
       " 'Wissing'}"
      ]
     },
     "execution_count": 10,
     "metadata": {},
     "output_type": "execute_result"
    }
   ],
   "source": [
    "NE_in_doc(text)"
   ]
  },
  {
   "cell_type": "markdown",
   "metadata": {},
   "source": [
    "## Ein Netzwerk von Named Entities"
   ]
  },
  {
   "cell_type": "markdown",
   "metadata": {},
   "source": [
    "Wir wollen unsere Textsammlung etwas analysieren.  Wir können erstens zählen, wie häufig jede NE vorkommt und zweitens wie oft zwei NEs zusammen in einem Text vorkommen. Wir nutzen hierfür einen _Counter_ und ein _Dicitionary_ von Namen und Counters."
   ]
  },
  {
   "cell_type": "code",
   "execution_count": 11,
   "metadata": {},
   "outputs": [],
   "source": [
    "from collections import Counter\n",
    "\n",
    "orgs = Counter()\n",
    "orgs_cooccurrence = {}\n",
    "\n",
    "for f in filelist:    \n",
    "    datei = codecs.open(f,'r','utf8')\n",
    "    text = datei.read()\n",
    "    datei.close()\n",
    "    organizations = NE_in_doc(text)\n",
    "    for org in organizations:\n",
    "        if org not in orgs_cooccurrence:\n",
    "            orgs_cooccurrence[org] = Counter(organizations)\n",
    "        else:\n",
    "            orgs_cooccurrence[org].update(organizations)\n",
    "            \n",
    "    orgs.update(organizations)"
   ]
  },
  {
   "cell_type": "code",
   "execution_count": 12,
   "metadata": {},
   "outputs": [
    {
     "data": {
      "text/plain": [
       "[('Markus Söder', 19),\n",
       " ('Laschet', 15),\n",
       " ('Robert Habeck', 11),\n",
       " ('Armin Laschet', 11),\n",
       " ('Annalena Baerbock', 10),\n",
       " ('Angela Merkel', 10),\n",
       " ('Olaf Scholz', 8),\n",
       " ('Söder', 8),\n",
       " ('Baerbock', 8),\n",
       " ('Söders', 7),\n",
       " ('Christian Lindner', 6),\n",
       " ('Habeck', 5),\n",
       " ('Lindner', 4),\n",
       " ('Markus Blume', 4),\n",
       " ('Alexander Dobrindt', 4),\n",
       " ('Ralph Brinkhaus', 4),\n",
       " ('Foto', 3),\n",
       " ('Laschets', 3),\n",
       " ('Unions-Kanzlerkandidat', 3),\n",
       " ('Reuters', 3)]"
      ]
     },
     "execution_count": 12,
     "metadata": {},
     "output_type": "execute_result"
    }
   ],
   "source": [
    "orgs.most_common(20)"
   ]
  },
  {
   "cell_type": "code",
   "execution_count": 13,
   "metadata": {},
   "outputs": [
    {
     "data": {
      "text/plain": [
       "115"
      ]
     },
     "execution_count": 13,
     "metadata": {},
     "output_type": "execute_result"
    }
   ],
   "source": [
    "len(orgs)"
   ]
  },
  {
   "cell_type": "code",
   "execution_count": 15,
   "metadata": {},
   "outputs": [
    {
     "data": {
      "text/plain": [
       "7"
      ]
     },
     "execution_count": 15,
     "metadata": {},
     "output_type": "execute_result"
    }
   ],
   "source": [
    "orgs_cooccurrence['Söder']['Laschet']"
   ]
  },
  {
   "cell_type": "code",
   "execution_count": 46,
   "metadata": {},
   "outputs": [
    {
     "data": {
      "text/plain": [
       "0"
      ]
     },
     "execution_count": 46,
     "metadata": {},
     "output_type": "execute_result"
    }
   ],
   "source": [
    "orgs_cooccurrence['Söder']['CDU']"
   ]
  },
  {
   "cell_type": "markdown",
   "metadata": {},
   "source": [
    "Wir können natürlich kein Netzwerk mit 23 000 Knoten anzeigen. Wir reduzieren die Daten darum auf die häufigsten NEs schließen aber gleichzeitig auch die allerhäufigsten aus."
   ]
  },
  {
   "cell_type": "code",
   "execution_count": 33,
   "metadata": {},
   "outputs": [],
   "source": [
    "# NERList = {NE:freq for (NE,freq) in orgs.items() if freq > 10 and freq < 50}\n",
    "NERList = {NE:freq for (NE,freq) in orgs.items() if freq > 3}"
   ]
  },
  {
   "cell_type": "code",
   "execution_count": 34,
   "metadata": {},
   "outputs": [
    {
     "data": {
      "text/plain": [
       "16"
      ]
     },
     "execution_count": 34,
     "metadata": {},
     "output_type": "execute_result"
    }
   ],
   "source": [
    "len(NERList)"
   ]
  },
  {
   "cell_type": "markdown",
   "metadata": {},
   "source": [
    "Jetzt reduzieren wir auch noch den Kookkurenzmatrix:"
   ]
  },
  {
   "cell_type": "code",
   "execution_count": 35,
   "metadata": {},
   "outputs": [],
   "source": [
    "Relations = {NE1:{NE2:freq for (NE2,freq) in orgs_cooccurrence[NE1].items() if NE2 in NERList} for NE1 in NERList}"
   ]
  },
  {
   "cell_type": "markdown",
   "metadata": {},
   "source": [
    "## Visualisierung"
   ]
  },
  {
   "cell_type": "markdown",
   "metadata": {},
   "source": [
    "Im folgende Abschnitt wollen wir versuchen die oben berechneten Bziehungen graphisch darzustellen. Es ist nicht notwendig den Code hierfür genau zu verstehen.\n",
    "\n",
    "Vermutlich müssen Sie erst einige Bibliotheken installieren. Hier als Beispiel die Installation von _plotly_:"
   ]
  },
  {
   "cell_type": "code",
   "execution_count": 19,
   "metadata": {},
   "outputs": [
    {
     "name": "stdout",
     "output_type": "stream",
     "text": [
      "Collecting plotly\n",
      "  Downloading plotly-4.14.3-py2.py3-none-any.whl (13.2 MB)\n",
      "\u001b[K     |████████████████████████████████| 13.2 MB 5.8 MB/s eta 0:00:01    |████████████████████▌           | 8.4 MB 6.1 MB/s eta 0:00:01\n",
      "\u001b[?25hCollecting retrying>=1.3.3\n",
      "  Downloading retrying-1.3.3.tar.gz (10 kB)\n",
      "Requirement already satisfied: six in /Users/byigit/opt/anaconda3/lib/python3.8/site-packages (from plotly) (1.15.0)\n",
      "Building wheels for collected packages: retrying\n",
      "  Building wheel for retrying (setup.py) ... \u001b[?25ldone\n",
      "\u001b[?25h  Created wheel for retrying: filename=retrying-1.3.3-py3-none-any.whl size=11429 sha256=f6ffec06cef2a9371ad945d979dfa301d119382700a243561678744adf5d5c8d\n",
      "  Stored in directory: /Users/byigit/Library/Caches/pip/wheels/c4/a7/48/0a434133f6d56e878ca511c0e6c38326907c0792f67b476e56\n",
      "Successfully built retrying\n",
      "Installing collected packages: retrying, plotly\n",
      "Successfully installed plotly-4.14.3 retrying-1.3.3\n"
     ]
    }
   ],
   "source": [
    "!pip install plotly"
   ]
  },
  {
   "cell_type": "code",
   "execution_count": 22,
   "metadata": {},
   "outputs": [],
   "source": [
    "# Import packages for data visualization\n",
    "import plotly.offline as py\n",
    "import plotly.graph_objects as go\n",
    "import networkx as nx\n",
    "import matplotlib.pyplot as plt\n",
    "import math"
   ]
  },
  {
   "cell_type": "markdown",
   "metadata": {},
   "source": [
    "Wir bauen jetzt zunächst den Graphen auf. Ein Knoten für jede Organisation und eine Kante für jede Beziehung. Wir geben die Kanten auch ein Gewicht. Das ergibt nachher eine bessere Verteilung von den Knoten. Wir müssen die Gewichte aber nicht linear mit der Anzahl der Kookkurenzen ansteigen lassen. Hier habe ich eine willkürlich ausgedachte logarithmische Formel genutzt."
   ]
  },
  {
   "cell_type": "code",
   "execution_count": 36,
   "metadata": {},
   "outputs": [],
   "source": [
    "companies = nx.Graph()# \n",
    "\n",
    "for org in NERList:\n",
    "    companies.add_node(org,size = orgs[org])\n",
    "\n",
    "for org1 in Relations:\n",
    "    for org2 in Relations[org1]:\n",
    "        if org2 != org1:\n",
    "            companies.add_edge(org1, org2,  weight =  4 + math.log(Relations[org1][org2]))"
   ]
  },
  {
   "cell_type": "markdown",
   "metadata": {},
   "source": [
    "Wir rufen jetzt eine Methode auf, die Positionen für die Knoiten berechnet. "
   ]
  },
  {
   "cell_type": "code",
   "execution_count": 37,
   "metadata": {},
   "outputs": [],
   "source": [
    "# Get positions for the nodes in G\n",
    "nodepositions = nx.spring_layout(companies)"
   ]
  },
  {
   "cell_type": "markdown",
   "metadata": {},
   "source": [
    "Jetzt können wir das Ntzwerk schon zeigen!"
   ]
  },
  {
   "cell_type": "code",
   "execution_count": 38,
   "metadata": {
    "scrolled": true
   },
   "outputs": [
    {
     "data": {
      "image/png": "[encoded data removed]",
      "text/plain": [
       "<Figure size 432x288 with 1 Axes>"
      ]
     },
     "metadata": {},
     "output_type": "display_data"
    }
   ],
   "source": [
    "nx.draw(companies, nodepositions, node_size=5, edge_color=\"r\", font_size=12, with_labels=True)\n",
    "plt.show()"
   ]
  },
  {
   "cell_type": "markdown",
   "metadata": {},
   "source": [
    "Zum Schluss versuchen wir das ganze mit Plotly noch etwas schöner zu gestalten. Wir passen die Größe der Knoten an der Häufigkeit der Entitäten an und machne das Gleiche für die Stärke der Kanten.\n",
    "\n",
    "Damit man am Ende ein schönes Ergebnis hat, muss man ein wenig mit den Funktionen für die Berechnung der Größen spielen."
   ]
  },
  {
   "cell_type": "code",
   "execution_count": 47,
   "metadata": {},
   "outputs": [
    {
     "data": {
      "application/vnd.plotly.v1+json": {
       "config": {
        "plotlyServerURL": "https://plot.ly"
       },
       "data": [
        {
         "line": {
          "color": "cornflowerblue",
          "width": 1.1313708498984762
         },
         "mode": "lines",
         "type": "scatter",
         "x": [
          -0.7137212213251106,
          -1,
          null
         ],
         "y": [
          -0.5078312514366182,
          -0.07692252821494058,
          null
         ]
        },
        {
         "line": {
          "color": "cornflowerblue",
          "width": 0.6838521170864333
         },
         "mode": "lines",
         "type": "scatter",
         "x": [
          -0.7137212213251106,
          0.005968108307113802,
          null
         ],
         "y": [
          -0.5078312514366182,
          -0.09032025096376012,
          null
         ]
        },
        {
         "line": {
          "color": "cornflowerblue",
          "width": 0.6838521170864333
         },
         "mode": "lines",
         "type": "scatter",
         "x": [
          -0.7137212213251106,
          -0.2662352880661159,
          null
         ],
         "y": [
          -0.5078312514366182,
          -0.38836642320757,
          null
         ]
        },
        {
         "line": {
          "color": "cornflowerblue",
          "width": 0.6838521170864333
         },
         "mode": "lines",
         "type": "scatter",
         "x": [
          -0.7137212213251106,
          0.037682152077615994,
          null
         ],
         "y": [
          -0.5078312514366182,
          -0.36499320852865197,
          null
         ]
        },
        {
         "line": {
          "color": "cornflowerblue",
          "width": 0.6838521170864333
         },
         "mode": "lines",
         "type": "scatter",
         "x": [
          -0.7137212213251106,
          -0.2515620180295609,
          null
         ],
         "y": [
          -0.5078312514366182,
          0.37463146422171345,
          null
         ]
        },
        {
         "line": {
          "color": "cornflowerblue",
          "width": 0.1
         },
         "mode": "lines",
         "type": "scatter",
         "x": [
          -0.7137212213251106,
          0.34488556375245866,
          null
         ],
         "y": [
          -0.5078312514366182,
          -0.22282445409583654,
          null
         ]
        },
        {
         "line": {
          "color": "cornflowerblue",
          "width": 0.6838521170864333
         },
         "mode": "lines",
         "type": "scatter",
         "x": [
          -0.7137212213251106,
          -0.05820985905893972,
          null
         ],
         "y": [
          -0.5078312514366182,
          0.1688929264728386,
          null
         ]
        },
        {
         "line": {
          "color": "cornflowerblue",
          "width": 0.6838521170864333
         },
         "mode": "lines",
         "type": "scatter",
         "x": [
          -0.7137212213251106,
          -0.4640700058853637,
          null
         ],
         "y": [
          -0.5078312514366182,
          0.1136802632518015,
          null
         ]
        },
        {
         "line": {
          "color": "cornflowerblue",
          "width": 0.33635856610148585
         },
         "mode": "lines",
         "type": "scatter",
         "x": [
          -0.7137212213251106,
          -0.26499859152788535,
          null
         ],
         "y": [
          -0.5078312514366182,
          -0.06479105928658002,
          null
         ]
        },
        {
         "line": {
          "color": "cornflowerblue",
          "width": 0.33635856610148585
         },
         "mode": "lines",
         "type": "scatter",
         "x": [
          -1,
          -0.2515620180295609,
          null
         ],
         "y": [
          -0.07692252821494058,
          0.37463146422171345,
          null
         ]
        },
        {
         "line": {
          "color": "cornflowerblue",
          "width": 0.33635856610148585
         },
         "mode": "lines",
         "type": "scatter",
         "x": [
          -1,
          0.005968108307113802,
          null
         ],
         "y": [
          -0.07692252821494058,
          -0.09032025096376012,
          null
         ]
        },
        {
         "line": {
          "color": "cornflowerblue",
          "width": 0.33635856610148585
         },
         "mode": "lines",
         "type": "scatter",
         "x": [
          -1,
          -0.2662352880661159,
          null
         ],
         "y": [
          -0.07692252821494058,
          -0.38836642320757,
          null
         ]
        },
        {
         "line": {
          "color": "cornflowerblue",
          "width": 0.33635856610148585
         },
         "mode": "lines",
         "type": "scatter",
         "x": [
          -1,
          -0.05820985905893972,
          null
         ],
         "y": [
          -0.07692252821494058,
          0.1688929264728386,
          null
         ]
        },
        {
         "line": {
          "color": "cornflowerblue",
          "width": 0.33635856610148585
         },
         "mode": "lines",
         "type": "scatter",
         "x": [
          -1,
          -0.26499859152788535,
          null
         ],
         "y": [
          -0.07692252821494058,
          -0.06479105928658002,
          null
         ]
        },
        {
         "line": {
          "color": "cornflowerblue",
          "width": 0.33635856610148585
         },
         "mode": "lines",
         "type": "scatter",
         "x": [
          -1,
          0.037682152077615994,
          null
         ],
         "y": [
          -0.07692252821494058,
          -0.36499320852865197,
          null
         ]
        },
        {
         "line": {
          "color": "cornflowerblue",
          "width": 0.33635856610148585
         },
         "mode": "lines",
         "type": "scatter",
         "x": [
          -1,
          -0.4640700058853637,
          null
         ],
         "y": [
          -0.07692252821494058,
          0.1136802632518015,
          null
         ]
        },
        {
         "line": {
          "color": "cornflowerblue",
          "width": 2.3001951752865812
         },
         "mode": "lines",
         "type": "scatter",
         "x": [
          0.005968108307113802,
          -0.2662352880661159,
          null
         ],
         "y": [
          -0.09032025096376012,
          -0.38836642320757,
          null
         ]
        },
        {
         "line": {
          "color": "cornflowerblue",
          "width": 4.676537180435969
         },
         "mode": "lines",
         "type": "scatter",
         "x": [
          0.005968108307113802,
          0.037682152077615994,
          null
         ],
         "y": [
          -0.09032025096376012,
          -0.36499320852865197,
          null
         ]
        },
        {
         "line": {
          "color": "cornflowerblue",
          "width": 4.676537180435969
         },
         "mode": "lines",
         "type": "scatter",
         "x": [
          0.005968108307113802,
          -0.2515620180295609,
          null
         ],
         "y": [
          -0.09032025096376012,
          0.37463146422171345,
          null
         ]
        },
        {
         "line": {
          "color": "cornflowerblue",
          "width": 2.3001951752865812
         },
         "mode": "lines",
         "type": "scatter",
         "x": [
          0.005968108307113802,
          0.34488556375245866,
          null
         ],
         "y": [
          -0.09032025096376012,
          -0.22282445409583654,
          null
         ]
        },
        {
         "line": {
          "color": "cornflowerblue",
          "width": 5.623413251903491
         },
         "mode": "lines",
         "type": "scatter",
         "x": [
          0.005968108307113802,
          -0.05820985905893972,
          null
         ],
         "y": [
          -0.09032025096376012,
          0.1688929264728386,
          null
         ]
        },
        {
         "line": {
          "color": "cornflowerblue",
          "width": 1.671850762441055
         },
         "mode": "lines",
         "type": "scatter",
         "x": [
          0.005968108307113802,
          -0.4640700058853637,
          null
         ],
         "y": [
          -0.09032025096376012,
          0.1136802632518015,
          null
         ]
        },
        {
         "line": {
          "color": "cornflowerblue",
          "width": 2.3001951752865812
         },
         "mode": "lines",
         "type": "scatter",
         "x": [
          0.005968108307113802,
          0.5427291961050936,
          null
         ],
         "y": [
          -0.09032025096376012,
          -0.027395736121064444,
          null
         ]
        },
        {
         "line": {
          "color": "cornflowerblue",
          "width": 1.1313708498984762
         },
         "mode": "lines",
         "type": "scatter",
         "x": [
          0.005968108307113802,
          0.13674913374534017,
          null
         ],
         "y": [
          -0.09032025096376012,
          0.46063236030470855,
          null
         ]
        },
        {
         "line": {
          "color": "cornflowerblue",
          "width": 1.1313708498984762
         },
         "mode": "lines",
         "type": "scatter",
         "x": [
          0.005968108307113802,
          0.38938596889704236,
          null
         ],
         "y": [
          -0.09032025096376012,
          0.25561576179262674,
          null
         ]
        },
        {
         "line": {
          "color": "cornflowerblue",
          "width": 0.1
         },
         "mode": "lines",
         "type": "scatter",
         "x": [
          0.005968108307113802,
          0.4318138908080898,
          null
         ],
         "y": [
          -0.09032025096376012,
          -0.5217064793668141,
          null
         ]
        },
        {
         "line": {
          "color": "cornflowerblue",
          "width": 2.3001951752865812
         },
         "mode": "lines",
         "type": "scatter",
         "x": [
          0.005968108307113802,
          -0.26499859152788535,
          null
         ],
         "y": [
          -0.09032025096376012,
          -0.06479105928658002,
          null
         ]
        },
        {
         "line": {
          "color": "cornflowerblue",
          "width": 0.33635856610148585
         },
         "mode": "lines",
         "type": "scatter",
         "x": [
          0.005968108307113802,
          0.7862389760609753,
          null
         ],
         "y": [
          -0.09032025096376012,
          0.24409906634304057,
          null
         ]
        },
        {
         "line": {
          "color": "cornflowerblue",
          "width": 0.33635856610148585
         },
         "mode": "lines",
         "type": "scatter",
         "x": [
          0.005968108307113802,
          0.3433439941392489,
          null
         ],
         "y": [
          -0.09032025096376012,
          0.6475995488351085,
          null
         ]
        },
        {
         "line": {
          "color": "cornflowerblue",
          "width": 3.0124619494611955
         },
         "mode": "lines",
         "type": "scatter",
         "x": [
          -0.2662352880661159,
          0.037682152077615994,
          null
         ],
         "y": [
          -0.38836642320757,
          -0.36499320852865197,
          null
         ]
        },
        {
         "line": {
          "color": "cornflowerblue",
          "width": 3.0124619494611955
         },
         "mode": "lines",
         "type": "scatter",
         "x": [
          -0.2662352880661159,
          -0.2515620180295609,
          null
         ],
         "y": [
          -0.38836642320757,
          0.37463146422171345,
          null
         ]
        },
        {
         "line": {
          "color": "cornflowerblue",
          "width": 0.33635856610148585
         },
         "mode": "lines",
         "type": "scatter",
         "x": [
          -0.2662352880661159,
          0.34488556375245866,
          null
         ],
         "y": [
          -0.38836642320757,
          -0.22282445409583654,
          null
         ]
        },
        {
         "line": {
          "color": "cornflowerblue",
          "width": 3.8054627680087076
         },
         "mode": "lines",
         "type": "scatter",
         "x": [
          -0.2662352880661159,
          -0.05820985905893972,
          null
         ],
         "y": [
          -0.38836642320757,
          0.1688929264728386,
          null
         ]
        },
        {
         "line": {
          "color": "cornflowerblue",
          "width": 3.0124619494611955
         },
         "mode": "lines",
         "type": "scatter",
         "x": [
          -0.2662352880661159,
          -0.4640700058853637,
          null
         ],
         "y": [
          -0.38836642320757,
          0.1136802632518015,
          null
         ]
        },
        {
         "line": {
          "color": "cornflowerblue",
          "width": 1.671850762441055
         },
         "mode": "lines",
         "type": "scatter",
         "x": [
          -0.2662352880661159,
          0.5427291961050936,
          null
         ],
         "y": [
          -0.38836642320757,
          -0.027395736121064444,
          null
         ]
        },
        {
         "line": {
          "color": "cornflowerblue",
          "width": 2.3001951752865812
         },
         "mode": "lines",
         "type": "scatter",
         "x": [
          -0.2662352880661159,
          -0.26499859152788535,
          null
         ],
         "y": [
          -0.38836642320757,
          -0.06479105928658002,
          null
         ]
        },
        {
         "line": {
          "color": "cornflowerblue",
          "width": 0.1
         },
         "mode": "lines",
         "type": "scatter",
         "x": [
          -0.2662352880661159,
          0.3433439941392489,
          null
         ],
         "y": [
          -0.38836642320757,
          0.6475995488351085,
          null
         ]
        },
        {
         "line": {
          "color": "cornflowerblue",
          "width": 0.33635856610148585
         },
         "mode": "lines",
         "type": "scatter",
         "x": [
          -0.2662352880661159,
          0.13674913374534017,
          null
         ],
         "y": [
          -0.38836642320757,
          0.46063236030470855,
          null
         ]
        },
        {
         "line": {
          "color": "cornflowerblue",
          "width": 0.6838521170864333
         },
         "mode": "lines",
         "type": "scatter",
         "x": [
          -0.2662352880661159,
          0.38938596889704236,
          null
         ],
         "y": [
          -0.38836642320757,
          0.25561576179262674,
          null
         ]
        },
        {
         "line": {
          "color": "cornflowerblue",
          "width": 0.1
         },
         "mode": "lines",
         "type": "scatter",
         "x": [
          -0.2662352880661159,
          0.4318138908080898,
          null
         ],
         "y": [
          -0.38836642320757,
          -0.5217064793668141,
          null
         ]
        },
        {
         "line": {
          "color": "cornflowerblue",
          "width": 4.676537180435969
         },
         "mode": "lines",
         "type": "scatter",
         "x": [
          0.037682152077615994,
          -0.2515620180295609,
          null
         ],
         "y": [
          -0.36499320852865197,
          0.37463146422171345,
          null
         ]
        },
        {
         "line": {
          "color": "cornflowerblue",
          "width": 3.0124619494611955
         },
         "mode": "lines",
         "type": "scatter",
         "x": [
          0.037682152077615994,
          0.34488556375245866,
          null
         ],
         "y": [
          -0.36499320852865197,
          -0.22282445409583654,
          null
         ]
        },
        {
         "line": {
          "color": "cornflowerblue",
          "width": 11.432986833478832
         },
         "mode": "lines",
         "type": "scatter",
         "x": [
          0.037682152077615994,
          -0.05820985905893972,
          null
         ],
         "y": [
          -0.36499320852865197,
          0.1688929264728386,
          null
         ]
        },
        {
         "line": {
          "color": "cornflowerblue",
          "width": 3.8054627680087076
         },
         "mode": "lines",
         "type": "scatter",
         "x": [
          0.037682152077615994,
          -0.4640700058853637,
          null
         ],
         "y": [
          -0.36499320852865197,
          0.1136802632518015,
          null
         ]
        },
        {
         "line": {
          "color": "cornflowerblue",
          "width": 3.8054627680087076
         },
         "mode": "lines",
         "type": "scatter",
         "x": [
          0.037682152077615994,
          0.5427291961050936,
          null
         ],
         "y": [
          -0.36499320852865197,
          -0.027395736121064444,
          null
         ]
        },
        {
         "line": {
          "color": "cornflowerblue",
          "width": 3.0124619494611955
         },
         "mode": "lines",
         "type": "scatter",
         "x": [
          0.037682152077615994,
          -0.26499859152788535,
          null
         ],
         "y": [
          -0.36499320852865197,
          -0.06479105928658002,
          null
         ]
        },
        {
         "line": {
          "color": "cornflowerblue",
          "width": 1.1313708498984762
         },
         "mode": "lines",
         "type": "scatter",
         "x": [
          0.037682152077615994,
          0.3433439941392489,
          null
         ],
         "y": [
          -0.36499320852865197,
          0.6475995488351085,
          null
         ]
        },
        {
         "line": {
          "color": "cornflowerblue",
          "width": 3.0124619494611955
         },
         "mode": "lines",
         "type": "scatter",
         "x": [
          0.037682152077615994,
          0.13674913374534017,
          null
         ],
         "y": [
          -0.36499320852865197,
          0.46063236030470855,
          null
         ]
        },
        {
         "line": {
          "color": "cornflowerblue",
          "width": 1.1313708498984762
         },
         "mode": "lines",
         "type": "scatter",
         "x": [
          0.037682152077615994,
          0.7862389760609753,
          null
         ],
         "y": [
          -0.36499320852865197,
          0.24409906634304057,
          null
         ]
        },
        {
         "line": {
          "color": "cornflowerblue",
          "width": 1.1313708498984762
         },
         "mode": "lines",
         "type": "scatter",
         "x": [
          0.037682152077615994,
          0.4318138908080898,
          null
         ],
         "y": [
          -0.36499320852865197,
          -0.5217064793668141,
          null
         ]
        },
        {
         "line": {
          "color": "cornflowerblue",
          "width": 1.1313708498984762
         },
         "mode": "lines",
         "type": "scatter",
         "x": [
          0.037682152077615994,
          0.38938596889704236,
          null
         ],
         "y": [
          -0.36499320852865197,
          0.25561576179262674,
          null
         ]
        },
        {
         "line": {
          "color": "cornflowerblue",
          "width": 1.671850762441055
         },
         "mode": "lines",
         "type": "scatter",
         "x": [
          -0.2515620180295609,
          0.34488556375245866,
          null
         ],
         "y": [
          0.37463146422171345,
          -0.22282445409583654,
          null
         ]
        },
        {
         "line": {
          "color": "cornflowerblue",
          "width": 6.644115889990961
         },
         "mode": "lines",
         "type": "scatter",
         "x": [
          -0.2515620180295609,
          -0.05820985905893972,
          null
         ],
         "y": [
          0.37463146422171345,
          0.1688929264728386,
          null
         ]
        },
        {
         "line": {
          "color": "cornflowerblue",
          "width": 3.0124619494611955
         },
         "mode": "lines",
         "type": "scatter",
         "x": [
          -0.2515620180295609,
          -0.4640700058853637,
          null
         ],
         "y": [
          0.37463146422171345,
          0.1136802632518015,
          null
         ]
        },
        {
         "line": {
          "color": "cornflowerblue",
          "width": 2.3001951752865812
         },
         "mode": "lines",
         "type": "scatter",
         "x": [
          -0.2515620180295609,
          0.5427291961050936,
          null
         ],
         "y": [
          0.37463146422171345,
          -0.027395736121064444,
          null
         ]
        },
        {
         "line": {
          "color": "cornflowerblue",
          "width": 1.1313708498984762
         },
         "mode": "lines",
         "type": "scatter",
         "x": [
          -0.2515620180295609,
          0.13674913374534017,
          null
         ],
         "y": [
          0.37463146422171345,
          0.46063236030470855,
          null
         ]
        },
        {
         "line": {
          "color": "cornflowerblue",
          "width": 1.671850762441055
         },
         "mode": "lines",
         "type": "scatter",
         "x": [
          -0.2515620180295609,
          0.38938596889704236,
          null
         ],
         "y": [
          0.37463146422171345,
          0.25561576179262674,
          null
         ]
        },
        {
         "line": {
          "color": "cornflowerblue",
          "width": 0.1
         },
         "mode": "lines",
         "type": "scatter",
         "x": [
          -0.2515620180295609,
          0.4318138908080898,
          null
         ],
         "y": [
          0.37463146422171345,
          -0.5217064793668141,
          null
         ]
        },
        {
         "line": {
          "color": "cornflowerblue",
          "width": 3.0124619494611955
         },
         "mode": "lines",
         "type": "scatter",
         "x": [
          -0.2515620180295609,
          -0.26499859152788535,
          null
         ],
         "y": [
          0.37463146422171345,
          -0.06479105928658002,
          null
         ]
        },
        {
         "line": {
          "color": "cornflowerblue",
          "width": 0.33635856610148585
         },
         "mode": "lines",
         "type": "scatter",
         "x": [
          -0.2515620180295609,
          0.7862389760609753,
          null
         ],
         "y": [
          0.37463146422171345,
          0.24409906634304057,
          null
         ]
        },
        {
         "line": {
          "color": "cornflowerblue",
          "width": 0.33635856610148585
         },
         "mode": "lines",
         "type": "scatter",
         "x": [
          -0.2515620180295609,
          0.3433439941392489,
          null
         ],
         "y": [
          0.37463146422171345,
          0.6475995488351085,
          null
         ]
        },
        {
         "line": {
          "color": "cornflowerblue",
          "width": 3.8054627680087076
         },
         "mode": "lines",
         "type": "scatter",
         "x": [
          0.34488556375245866,
          -0.05820985905893972,
          null
         ],
         "y": [
          -0.22282445409583654,
          0.1688929264728386,
          null
         ]
        },
        {
         "line": {
          "color": "cornflowerblue",
          "width": 0.33635856610148585
         },
         "mode": "lines",
         "type": "scatter",
         "x": [
          0.34488556375245866,
          -0.4640700058853637,
          null
         ],
         "y": [
          -0.22282445409583654,
          0.1136802632518015,
          null
         ]
        },
        {
         "line": {
          "color": "cornflowerblue",
          "width": 1.671850762441055
         },
         "mode": "lines",
         "type": "scatter",
         "x": [
          0.34488556375245866,
          0.5427291961050936,
          null
         ],
         "y": [
          -0.22282445409583654,
          -0.027395736121064444,
          null
         ]
        },
        {
         "line": {
          "color": "cornflowerblue",
          "width": 1.1313708498984762
         },
         "mode": "lines",
         "type": "scatter",
         "x": [
          0.34488556375245866,
          0.13674913374534017,
          null
         ],
         "y": [
          -0.22282445409583654,
          0.46063236030470855,
          null
         ]
        },
        {
         "line": {
          "color": "cornflowerblue",
          "width": 0.1
         },
         "mode": "lines",
         "type": "scatter",
         "x": [
          0.34488556375245866,
          0.4318138908080898,
          null
         ],
         "y": [
          -0.22282445409583654,
          -0.5217064793668141,
          null
         ]
        },
        {
         "line": {
          "color": "cornflowerblue",
          "width": 0.6838521170864333
         },
         "mode": "lines",
         "type": "scatter",
         "x": [
          0.34488556375245866,
          0.3433439941392489,
          null
         ],
         "y": [
          -0.22282445409583654,
          0.6475995488351085,
          null
         ]
        },
        {
         "line": {
          "color": "cornflowerblue",
          "width": 0.33635856610148585
         },
         "mode": "lines",
         "type": "scatter",
         "x": [
          0.34488556375245866,
          0.38938596889704236,
          null
         ],
         "y": [
          -0.22282445409583654,
          0.25561576179262674,
          null
         ]
        },
        {
         "line": {
          "color": "cornflowerblue",
          "width": 0.33635856610148585
         },
         "mode": "lines",
         "type": "scatter",
         "x": [
          0.34488556375245866,
          -0.26499859152788535,
          null
         ],
         "y": [
          -0.22282445409583654,
          -0.06479105928658002,
          null
         ]
        },
        {
         "line": {
          "color": "cornflowerblue",
          "width": 0.33635856610148585
         },
         "mode": "lines",
         "type": "scatter",
         "x": [
          0.34488556375245866,
          0.7862389760609753,
          null
         ],
         "y": [
          -0.22282445409583654,
          0.24409906634304057,
          null
         ]
        },
        {
         "line": {
          "color": "cornflowerblue",
          "width": 5.623413251903491
         },
         "mode": "lines",
         "type": "scatter",
         "x": [
          -0.05820985905893972,
          -0.4640700058853637,
          null
         ],
         "y": [
          0.1688929264728386,
          0.1136802632518015,
          null
         ]
        },
        {
         "line": {
          "color": "cornflowerblue",
          "width": 6.644115889990961
         },
         "mode": "lines",
         "type": "scatter",
         "x": [
          -0.05820985905893972,
          0.5427291961050936,
          null
         ],
         "y": [
          0.1688929264728386,
          -0.027395736121064444,
          null
         ]
        },
        {
         "line": {
          "color": "cornflowerblue",
          "width": 3.8054627680087076
         },
         "mode": "lines",
         "type": "scatter",
         "x": [
          -0.05820985905893972,
          -0.26499859152788535,
          null
         ],
         "y": [
          0.1688929264728386,
          -0.06479105928658002,
          null
         ]
        },
        {
         "line": {
          "color": "cornflowerblue",
          "width": 1.1313708498984762
         },
         "mode": "lines",
         "type": "scatter",
         "x": [
          -0.05820985905893972,
          0.3433439941392489,
          null
         ],
         "y": [
          0.1688929264728386,
          0.6475995488351085,
          null
         ]
        },
        {
         "line": {
          "color": "cornflowerblue",
          "width": 3.0124619494611955
         },
         "mode": "lines",
         "type": "scatter",
         "x": [
          -0.05820985905893972,
          0.13674913374534017,
          null
         ],
         "y": [
          0.1688929264728386,
          0.46063236030470855,
          null
         ]
        },
        {
         "line": {
          "color": "cornflowerblue",
          "width": 1.1313708498984762
         },
         "mode": "lines",
         "type": "scatter",
         "x": [
          -0.05820985905893972,
          0.7862389760609753,
          null
         ],
         "y": [
          0.1688929264728386,
          0.24409906634304057,
          null
         ]
        },
        {
         "line": {
          "color": "cornflowerblue",
          "width": 1.1313708498984762
         },
         "mode": "lines",
         "type": "scatter",
         "x": [
          -0.05820985905893972,
          0.4318138908080898,
          null
         ],
         "y": [
          0.1688929264728386,
          -0.5217064793668141,
          null
         ]
        },
        {
         "line": {
          "color": "cornflowerblue",
          "width": 1.671850762441055
         },
         "mode": "lines",
         "type": "scatter",
         "x": [
          -0.05820985905893972,
          0.38938596889704236,
          null
         ],
         "y": [
          0.1688929264728386,
          0.25561576179262674,
          null
         ]
        },
        {
         "line": {
          "color": "cornflowerblue",
          "width": 1.671850762441055
         },
         "mode": "lines",
         "type": "scatter",
         "x": [
          -0.4640700058853637,
          0.5427291961050936,
          null
         ],
         "y": [
          0.1136802632518015,
          -0.027395736121064444,
          null
         ]
        },
        {
         "line": {
          "color": "cornflowerblue",
          "width": 2.3001951752865812
         },
         "mode": "lines",
         "type": "scatter",
         "x": [
          -0.4640700058853637,
          -0.26499859152788535,
          null
         ],
         "y": [
          0.1136802632518015,
          -0.06479105928658002,
          null
         ]
        },
        {
         "line": {
          "color": "cornflowerblue",
          "width": 0.1
         },
         "mode": "lines",
         "type": "scatter",
         "x": [
          -0.4640700058853637,
          0.3433439941392489,
          null
         ],
         "y": [
          0.1136802632518015,
          0.6475995488351085,
          null
         ]
        },
        {
         "line": {
          "color": "cornflowerblue",
          "width": 0.6838521170864333
         },
         "mode": "lines",
         "type": "scatter",
         "x": [
          -0.4640700058853637,
          0.38938596889704236,
          null
         ],
         "y": [
          0.1136802632518015,
          0.25561576179262674,
          null
         ]
        },
        {
         "line": {
          "color": "cornflowerblue",
          "width": 0.33635856610148585
         },
         "mode": "lines",
         "type": "scatter",
         "x": [
          -0.4640700058853637,
          0.4318138908080898,
          null
         ],
         "y": [
          0.1136802632518015,
          -0.5217064793668141,
          null
         ]
        },
        {
         "line": {
          "color": "cornflowerblue",
          "width": 0.1
         },
         "mode": "lines",
         "type": "scatter",
         "x": [
          -0.4640700058853637,
          0.13674913374534017,
          null
         ],
         "y": [
          0.1136802632518015,
          0.46063236030470855,
          null
         ]
        },
        {
         "line": {
          "color": "cornflowerblue",
          "width": 2.3001951752865812
         },
         "mode": "lines",
         "type": "scatter",
         "x": [
          0.5427291961050936,
          -0.26499859152788535,
          null
         ],
         "y": [
          -0.027395736121064444,
          -0.06479105928658002,
          null
         ]
        },
        {
         "line": {
          "color": "cornflowerblue",
          "width": 1.1313708498984762
         },
         "mode": "lines",
         "type": "scatter",
         "x": [
          0.5427291961050936,
          0.3433439941392489,
          null
         ],
         "y": [
          -0.027395736121064444,
          0.6475995488351085,
          null
         ]
        },
        {
         "line": {
          "color": "cornflowerblue",
          "width": 1.671850762441055
         },
         "mode": "lines",
         "type": "scatter",
         "x": [
          0.5427291961050936,
          0.13674913374534017,
          null
         ],
         "y": [
          -0.027395736121064444,
          0.46063236030470855,
          null
         ]
        },
        {
         "line": {
          "color": "cornflowerblue",
          "width": 1.671850762441055
         },
         "mode": "lines",
         "type": "scatter",
         "x": [
          0.5427291961050936,
          0.38938596889704236,
          null
         ],
         "y": [
          -0.027395736121064444,
          0.25561576179262674,
          null
         ]
        },
        {
         "line": {
          "color": "cornflowerblue",
          "width": 0.1
         },
         "mode": "lines",
         "type": "scatter",
         "x": [
          0.5427291961050936,
          0.4318138908080898,
          null
         ],
         "y": [
          -0.027395736121064444,
          -0.5217064793668141,
          null
         ]
        },
        {
         "line": {
          "color": "cornflowerblue",
          "width": 0.33635856610148585
         },
         "mode": "lines",
         "type": "scatter",
         "x": [
          0.5427291961050936,
          0.7862389760609753,
          null
         ],
         "y": [
          -0.027395736121064444,
          0.24409906634304057,
          null
         ]
        },
        {
         "line": {
          "color": "cornflowerblue",
          "width": 0.6838521170864333
         },
         "mode": "lines",
         "type": "scatter",
         "x": [
          -0.26499859152788535,
          0.3433439941392489,
          null
         ],
         "y": [
          -0.06479105928658002,
          0.6475995488351085,
          null
         ]
        },
        {
         "line": {
          "color": "cornflowerblue",
          "width": 1.671850762441055
         },
         "mode": "lines",
         "type": "scatter",
         "x": [
          -0.26499859152788535,
          0.38938596889704236,
          null
         ],
         "y": [
          -0.06479105928658002,
          0.25561576179262674,
          null
         ]
        },
        {
         "line": {
          "color": "cornflowerblue",
          "width": 0.1
         },
         "mode": "lines",
         "type": "scatter",
         "x": [
          -0.26499859152788535,
          0.4318138908080898,
          null
         ],
         "y": [
          -0.06479105928658002,
          -0.5217064793668141,
          null
         ]
        },
        {
         "line": {
          "color": "cornflowerblue",
          "width": 0.6838521170864333
         },
         "mode": "lines",
         "type": "scatter",
         "x": [
          -0.26499859152788535,
          0.13674913374534017,
          null
         ],
         "y": [
          -0.06479105928658002,
          0.46063236030470855,
          null
         ]
        },
        {
         "line": {
          "color": "cornflowerblue",
          "width": 0.33635856610148585
         },
         "mode": "lines",
         "type": "scatter",
         "x": [
          -0.26499859152788535,
          0.7862389760609753,
          null
         ],
         "y": [
          -0.06479105928658002,
          0.24409906634304057,
          null
         ]
        },
        {
         "line": {
          "color": "cornflowerblue",
          "width": 0.6838521170864333
         },
         "mode": "lines",
         "type": "scatter",
         "x": [
          0.3433439941392489,
          0.13674913374534017,
          null
         ],
         "y": [
          0.6475995488351085,
          0.46063236030470855,
          null
         ]
        },
        {
         "line": {
          "color": "cornflowerblue",
          "width": 0.33635856610148585
         },
         "mode": "lines",
         "type": "scatter",
         "x": [
          0.3433439941392489,
          0.38938596889704236,
          null
         ],
         "y": [
          0.6475995488351085,
          0.25561576179262674,
          null
         ]
        },
        {
         "line": {
          "color": "cornflowerblue",
          "width": 0.33635856610148585
         },
         "mode": "lines",
         "type": "scatter",
         "x": [
          0.3433439941392489,
          0.7862389760609753,
          null
         ],
         "y": [
          0.6475995488351085,
          0.24409906634304057,
          null
         ]
        },
        {
         "line": {
          "color": "cornflowerblue",
          "width": 1.1313708498984762
         },
         "mode": "lines",
         "type": "scatter",
         "x": [
          0.13674913374534017,
          0.7862389760609753,
          null
         ],
         "y": [
          0.46063236030470855,
          0.24409906634304057,
          null
         ]
        },
        {
         "line": {
          "color": "cornflowerblue",
          "width": 0.6838521170864333
         },
         "mode": "lines",
         "type": "scatter",
         "x": [
          0.13674913374534017,
          0.4318138908080898,
          null
         ],
         "y": [
          0.46063236030470855,
          -0.5217064793668141,
          null
         ]
        },
        {
         "line": {
          "color": "cornflowerblue",
          "width": 0.6838521170864333
         },
         "mode": "lines",
         "type": "scatter",
         "x": [
          0.13674913374534017,
          0.38938596889704236,
          null
         ],
         "y": [
          0.46063236030470855,
          0.25561576179262674,
          null
         ]
        },
        {
         "line": {
          "color": "cornflowerblue",
          "width": 0.33635856610148585
         },
         "mode": "lines",
         "type": "scatter",
         "x": [
          0.7862389760609753,
          0.4318138908080898,
          null
         ],
         "y": [
          0.24409906634304057,
          -0.5217064793668141,
          null
         ]
        },
        {
         "line": {
          "color": "cornflowerblue",
          "width": 0.33635856610148585
         },
         "mode": "lines",
         "type": "scatter",
         "x": [
          0.7862389760609753,
          0.38938596889704236,
          null
         ],
         "y": [
          0.24409906634304057,
          0.25561576179262674,
          null
         ]
        },
        {
         "line": {
          "color": "cornflowerblue",
          "width": 0.1
         },
         "mode": "lines",
         "type": "scatter",
         "x": [
          0.4318138908080898,
          0.38938596889704236,
          null
         ],
         "y": [
          -0.5217064793668141,
          0.25561576179262674,
          null
         ]
        },
        {
         "hoverinfo": "none",
         "marker": {
          "color": [
           "cornflowerblue",
           "cornflowerblue",
           "cornflowerblue",
           "cornflowerblue",
           "cornflowerblue",
           "cornflowerblue",
           "cornflowerblue",
           "cornflowerblue",
           "cornflowerblue",
           "cornflowerblue",
           "cornflowerblue",
           "cornflowerblue",
           "cornflowerblue",
           "cornflowerblue",
           "cornflowerblue",
           "cornflowerblue"
          ],
          "size": [
           7.800000000000001,
           6.2,
           11,
           9.4,
           15,
           11.8,
           9.4,
           18.200000000000003,
           11,
           11.8,
           9.4,
           6.2,
           8.600000000000001,
           6.2,
           6.2,
           7
          ]
         },
         "mode": "markers+text",
         "text": [
          "<b>Christian Lindner</b>",
          "<b>Lindner</b>",
          "<b>Annalena Baerbock</b>",
          "<b>Olaf Scholz</b>",
          "<b>Laschet</b>",
          "<b>Robert Habeck</b>",
          "<b>Söder</b>",
          "<b>Markus Söder</b>",
          "<b>Angela Merkel</b>",
          "<b>Armin Laschet</b>",
          "<b>Baerbock</b>",
          "<b>Markus Blume</b>",
          "<b>Söders</b>",
          "<b>Alexander Dobrindt</b>",
          "<b>Ralph Brinkhaus</b>",
          "<b>Habeck</b>"
         ],
         "textfont": {
          "size": 12
         },
         "textposition": "top center",
         "type": "scatter",
         "x": [
          -0.7137212213251106,
          -1,
          0.005968108307113802,
          -0.2662352880661159,
          0.037682152077615994,
          -0.2515620180295609,
          0.34488556375245866,
          -0.05820985905893972,
          -0.4640700058853637,
          0.5427291961050936,
          -0.26499859152788535,
          0.3433439941392489,
          0.13674913374534017,
          0.7862389760609753,
          0.4318138908080898,
          0.38938596889704236
         ],
         "y": [
          -0.5078312514366182,
          -0.07692252821494058,
          -0.09032025096376012,
          -0.38836642320757,
          -0.36499320852865197,
          0.37463146422171345,
          -0.22282445409583654,
          0.1688929264728386,
          0.1136802632518015,
          -0.027395736121064444,
          -0.06479105928658002,
          0.6475995488351085,
          0.46063236030470855,
          0.24409906634304057,
          -0.5217064793668141,
          0.25561576179262674
         ]
        }
       ],
       "layout": {
        "paper_bgcolor": "rgba(0,0,0,0)",
        "plot_bgcolor": "rgba(0,0,0,0)",
        "showlegend": false,
        "template": {
         "data": {
          "bar": [
           {
            "error_x": {
             "color": "#2a3f5f"
            },
            "error_y": {
             "color": "#2a3f5f"
            },
            "marker": {
             "line": {
              "color": "#E5ECF6",
              "width": 0.5
             }
            },
            "type": "bar"
           }
          ],
          "barpolar": [
           {
            "marker": {
             "line": {
              "color": "#E5ECF6",
              "width": 0.5
             }
            },
            "type": "barpolar"
           }
          ],
          "carpet": [
           {
            "aaxis": {
             "endlinecolor": "#2a3f5f",
             "gridcolor": "white",
             "linecolor": "white",
             "minorgridcolor": "white",
             "startlinecolor": "#2a3f5f"
            },
            "baxis": {
             "endlinecolor": "#2a3f5f",
             "gridcolor": "white",
             "linecolor": "white",
             "minorgridcolor": "white",
             "startlinecolor": "#2a3f5f"
            },
            "type": "carpet"
           }
          ],
          "choropleth": [
           {
            "colorbar": {
             "outlinewidth": 0,
             "ticks": ""
            },
            "type": "choropleth"
           }
          ],
          "contour": [
           {
            "colorbar": {
             "outlinewidth": 0,
             "ticks": ""
            },
            "colorscale": [
             [
              0,
              "#0d0887"
             ],
             [
              0.1111111111111111,
              "#46039f"
             ],
             [
              0.2222222222222222,
              "#7201a8"
             ],
             [
              0.3333333333333333,
              "#9c179e"
             ],
             [
              0.4444444444444444,
              "#bd3786"
             ],
             [
              0.5555555555555556,
              "#d8576b"
             ],
             [
              0.6666666666666666,
              "#ed7953"
             ],
             [
              0.7777777777777778,
              "#fb9f3a"
             ],
             [
              0.8888888888888888,
              "#fdca26"
             ],
             [
              1,
              "#f0f921"
             ]
            ],
            "type": "contour"
           }
          ],
          "contourcarpet": [
           {
            "colorbar": {
             "outlinewidth": 0,
             "ticks": ""
            },
            "type": "contourcarpet"
           }
          ],
          "heatmap": [
           {
            "colorbar": {
             "outlinewidth": 0,
             "ticks": ""
            },
            "colorscale": [
             [
              0,
              "#0d0887"
             ],
             [
              0.1111111111111111,
              "#46039f"
             ],
             [
              0.2222222222222222,
              "#7201a8"
             ],
             [
              0.3333333333333333,
              "#9c179e"
             ],
             [
              0.4444444444444444,
              "#bd3786"
             ],
             [
              0.5555555555555556,
              "#d8576b"
             ],
             [
              0.6666666666666666,
              "#ed7953"
             ],
             [
              0.7777777777777778,
              "#fb9f3a"
             ],
             [
              0.8888888888888888,
              "#fdca26"
             ],
             [
              1,
              "#f0f921"
             ]
            ],
            "type": "heatmap"
           }
          ],
          "heatmapgl": [
           {
            "colorbar": {
             "outlinewidth": 0,
             "ticks": ""
            },
            "colorscale": [
             [
              0,
              "#0d0887"
             ],
             [
              0.1111111111111111,
              "#46039f"
             ],
             [
              0.2222222222222222,
              "#7201a8"
             ],
             [
              0.3333333333333333,
              "#9c179e"
             ],
             [
              0.4444444444444444,
              "#bd3786"
             ],
             [
              0.5555555555555556,
              "#d8576b"
             ],
             [
              0.6666666666666666,
              "#ed7953"
             ],
             [
              0.7777777777777778,
              "#fb9f3a"
             ],
             [
              0.8888888888888888,
              "#fdca26"
             ],
             [
              1,
              "#f0f921"
             ]
            ],
            "type": "heatmapgl"
           }
          ],
          "histogram": [
           {
            "marker": {
             "colorbar": {
              "outlinewidth": 0,
              "ticks": ""
             }
            },
            "type": "histogram"
           }
          ],
          "histogram2d": [
           {
            "colorbar": {
             "outlinewidth": 0,
             "ticks": ""
            },
            "colorscale": [
             [
              0,
              "#0d0887"
             ],
             [
              0.1111111111111111,
              "#46039f"
             ],
             [
              0.2222222222222222,
              "#7201a8"
             ],
             [
              0.3333333333333333,
              "#9c179e"
             ],
             [
              0.4444444444444444,
              "#bd3786"
             ],
             [
              0.5555555555555556,
              "#d8576b"
             ],
             [
              0.6666666666666666,
              "#ed7953"
             ],
             [
              0.7777777777777778,
              "#fb9f3a"
             ],
             [
              0.8888888888888888,
              "#fdca26"
             ],
             [
              1,
              "#f0f921"
             ]
            ],
            "type": "histogram2d"
           }
          ],
          "histogram2dcontour": [
           {
            "colorbar": {
             "outlinewidth": 0,
             "ticks": ""
            },
            "colorscale": [
             [
              0,
              "#0d0887"
             ],
             [
              0.1111111111111111,
              "#46039f"
             ],
             [
              0.2222222222222222,
              "#7201a8"
             ],
             [
              0.3333333333333333,
              "#9c179e"
             ],
             [
              0.4444444444444444,
              "#bd3786"
             ],
             [
              0.5555555555555556,
              "#d8576b"
             ],
             [
              0.6666666666666666,
              "#ed7953"
             ],
             [
              0.7777777777777778,
              "#fb9f3a"
             ],
             [
              0.8888888888888888,
              "#fdca26"
             ],
             [
              1,
              "#f0f921"
             ]
            ],
            "type": "histogram2dcontour"
           }
          ],
          "mesh3d": [
           {
            "colorbar": {
             "outlinewidth": 0,
             "ticks": ""
            },
            "type": "mesh3d"
           }
          ],
          "parcoords": [
           {
            "line": {
             "colorbar": {
              "outlinewidth": 0,
              "ticks": ""
             }
            },
            "type": "parcoords"
           }
          ],
          "pie": [
           {
            "automargin": true,
            "type": "pie"
           }
          ],
          "scatter": [
           {
            "marker": {
             "colorbar": {
              "outlinewidth": 0,
              "ticks": ""
             }
            },
            "type": "scatter"
           }
          ],
          "scatter3d": [
           {
            "line": {
             "colorbar": {
              "outlinewidth": 0,
              "ticks": ""
             }
            },
            "marker": {
             "colorbar": {
              "outlinewidth": 0,
              "ticks": ""
             }
            },
            "type": "scatter3d"
           }
          ],
          "scattercarpet": [
           {
            "marker": {
             "colorbar": {
              "outlinewidth": 0,
              "ticks": ""
             }
            },
            "type": "scattercarpet"
           }
          ],
          "scattergeo": [
           {
            "marker": {
             "colorbar": {
              "outlinewidth": 0,
              "ticks": ""
             }
            },
            "type": "scattergeo"
           }
          ],
          "scattergl": [
           {
            "marker": {
             "colorbar": {
              "outlinewidth": 0,
              "ticks": ""
             }
            },
            "type": "scattergl"
           }
          ],
          "scattermapbox": [
           {
            "marker": {
             "colorbar": {
              "outlinewidth": 0,
              "ticks": ""
             }
            },
            "type": "scattermapbox"
           }
          ],
          "scatterpolar": [
           {
            "marker": {
             "colorbar": {
              "outlinewidth": 0,
              "ticks": ""
             }
            },
            "type": "scatterpolar"
           }
          ],
          "scatterpolargl": [
           {
            "marker": {
             "colorbar": {
              "outlinewidth": 0,
              "ticks": ""
             }
            },
            "type": "scatterpolargl"
           }
          ],
          "scatterternary": [
           {
            "marker": {
             "colorbar": {
              "outlinewidth": 0,
              "ticks": ""
             }
            },
            "type": "scatterternary"
           }
          ],
          "surface": [
           {
            "colorbar": {
             "outlinewidth": 0,
             "ticks": ""
            },
            "colorscale": [
             [
              0,
              "#0d0887"
             ],
             [
              0.1111111111111111,
              "#46039f"
             ],
             [
              0.2222222222222222,
              "#7201a8"
             ],
             [
              0.3333333333333333,
              "#9c179e"
             ],
             [
              0.4444444444444444,
              "#bd3786"
             ],
             [
              0.5555555555555556,
              "#d8576b"
             ],
             [
              0.6666666666666666,
              "#ed7953"
             ],
             [
              0.7777777777777778,
              "#fb9f3a"
             ],
             [
              0.8888888888888888,
              "#fdca26"
             ],
             [
              1,
              "#f0f921"
             ]
            ],
            "type": "surface"
           }
          ],
          "table": [
           {
            "cells": {
             "fill": {
              "color": "#EBF0F8"
             },
             "line": {
              "color": "white"
             }
            },
            "header": {
             "fill": {
              "color": "#C8D4E3"
             },
             "line": {
              "color": "white"
             }
            },
            "type": "table"
           }
          ]
         },
         "layout": {
          "annotationdefaults": {
           "arrowcolor": "#2a3f5f",
           "arrowhead": 0,
           "arrowwidth": 1
          },
          "autotypenumbers": "strict",
          "coloraxis": {
           "colorbar": {
            "outlinewidth": 0,
            "ticks": ""
           }
          },
          "colorscale": {
           "diverging": [
            [
             0,
             "#8e0152"
            ],
            [
             0.1,
             "#c51b7d"
            ],
            [
             0.2,
             "#de77ae"
            ],
            [
             0.3,
             "#f1b6da"
            ],
            [
             0.4,
             "#fde0ef"
            ],
            [
             0.5,
             "#f7f7f7"
            ],
            [
             0.6,
             "#e6f5d0"
            ],
            [
             0.7,
             "#b8e186"
            ],
            [
             0.8,
             "#7fbc41"
            ],
            [
             0.9,
             "#4d9221"
            ],
            [
             1,
             "#276419"
            ]
           ],
           "sequential": [
            [
             0,
             "#0d0887"
            ],
            [
             0.1111111111111111,
             "#46039f"
            ],
            [
             0.2222222222222222,
             "#7201a8"
            ],
            [
             0.3333333333333333,
             "#9c179e"
            ],
            [
             0.4444444444444444,
             "#bd3786"
            ],
            [
             0.5555555555555556,
             "#d8576b"
            ],
            [
             0.6666666666666666,
             "#ed7953"
            ],
            [
             0.7777777777777778,
             "#fb9f3a"
            ],
            [
             0.8888888888888888,
             "#fdca26"
            ],
            [
             1,
             "#f0f921"
            ]
           ],
           "sequentialminus": [
            [
             0,
             "#0d0887"
            ],
            [
             0.1111111111111111,
             "#46039f"
            ],
            [
             0.2222222222222222,
             "#7201a8"
            ],
            [
             0.3333333333333333,
             "#9c179e"
            ],
            [
             0.4444444444444444,
             "#bd3786"
            ],
            [
             0.5555555555555556,
             "#d8576b"
            ],
            [
             0.6666666666666666,
             "#ed7953"
            ],
            [
             0.7777777777777778,
             "#fb9f3a"
            ],
            [
             0.8888888888888888,
             "#fdca26"
            ],
            [
             1,
             "#f0f921"
            ]
           ]
          },
          "colorway": [
           "#636efa",
           "#EF553B",
           "#00cc96",
           "#ab63fa",
           "#FFA15A",
           "#19d3f3",
           "#FF6692",
           "#B6E880",
           "#FF97FF",
           "#FECB52"
          ],
          "font": {
           "color": "#2a3f5f"
          },
          "geo": {
           "bgcolor": "white",
           "lakecolor": "white",
           "landcolor": "#E5ECF6",
           "showlakes": true,
           "showland": true,
           "subunitcolor": "white"
          },
          "hoverlabel": {
           "align": "left"
          },
          "hovermode": "closest",
          "mapbox": {
           "style": "light"
          },
          "paper_bgcolor": "white",
          "plot_bgcolor": "#E5ECF6",
          "polar": {
           "angularaxis": {
            "gridcolor": "white",
            "linecolor": "white",
            "ticks": ""
           },
           "bgcolor": "#E5ECF6",
           "radialaxis": {
            "gridcolor": "white",
            "linecolor": "white",
            "ticks": ""
           }
          },
          "scene": {
           "xaxis": {
            "backgroundcolor": "#E5ECF6",
            "gridcolor": "white",
            "gridwidth": 2,
            "linecolor": "white",
            "showbackground": true,
            "ticks": "",
            "zerolinecolor": "white"
           },
           "yaxis": {
            "backgroundcolor": "#E5ECF6",
            "gridcolor": "white",
            "gridwidth": 2,
            "linecolor": "white",
            "showbackground": true,
            "ticks": "",
            "zerolinecolor": "white"
           },
           "zaxis": {
            "backgroundcolor": "#E5ECF6",
            "gridcolor": "white",
            "gridwidth": 2,
            "linecolor": "white",
            "showbackground": true,
            "ticks": "",
            "zerolinecolor": "white"
           }
          },
          "shapedefaults": {
           "line": {
            "color": "#2a3f5f"
           }
          },
          "ternary": {
           "aaxis": {
            "gridcolor": "white",
            "linecolor": "white",
            "ticks": ""
           },
           "baxis": {
            "gridcolor": "white",
            "linecolor": "white",
            "ticks": ""
           },
           "bgcolor": "#E5ECF6",
           "caxis": {
            "gridcolor": "white",
            "linecolor": "white",
            "ticks": ""
           }
          },
          "title": {
           "x": 0.05
          },
          "xaxis": {
           "automargin": true,
           "gridcolor": "white",
           "linecolor": "white",
           "ticks": "",
           "title": {
            "standoff": 15
           },
           "zerolinecolor": "white",
           "zerolinewidth": 2
          },
          "yaxis": {
           "automargin": true,
           "gridcolor": "white",
           "linecolor": "white",
           "ticks": "",
           "title": {
            "standoff": 15
           },
           "zerolinecolor": "white",
           "zerolinewidth": 2
          }
         }
        },
        "xaxis": {
         "showgrid": false,
         "showticklabels": false,
         "zeroline": false
        },
        "yaxis": {
         "showgrid": false,
         "showticklabels": false,
         "zeroline": false
        }
       }
      },
      "text/html": [
       "<div>                            <div id=\"6d6d7964-9b6a-4ea3-9e5e-08b954fe2559\" class=\"plotly-graph-div\" style=\"height:525px; width:100%;\"></div>            <script type=\"text/javascript\">                require([\"plotly\"], function(Plotly) {                    window.PLOTLYENV=window.PLOTLYENV || {};                                    if (document.getElementById(\"6d6d7964-9b6a-4ea3-9e5e-08b954fe2559\")) {                    Plotly.newPlot(                        \"6d6d7964-9b6a-4ea3-9e5e-08b954fe2559\",                        [{\"line\": {\"color\": \"cornflowerblue\", \"width\": 1.1313708498984762}, \"mode\": \"lines\", \"type\": \"scatter\", \"x\": [-0.7137212213251106, -1.0, null], \"y\": [-0.5078312514366182, -0.07692252821494058, null]}, {\"line\": {\"color\": \"cornflowerblue\", \"width\": 0.6838521170864333}, \"mode\": \"lines\", \"type\": \"scatter\", \"x\": [-0.7137212213251106, 0.005968108307113802, null], \"y\": [-0.5078312514366182, -0.09032025096376012, null]}, {\"line\": {\"color\": \"cornflowerblue\", \"width\": 0.6838521170864333}, \"mode\": \"lines\", \"type\": \"scatter\", \"x\": [-0.7137212213251106, -0.2662352880661159, null], \"y\": [-0.5078312514366182, -0.38836642320757, null]}, {\"line\": {\"color\": \"cornflowerblue\", \"width\": 0.6838521170864333}, \"mode\": \"lines\", \"type\": \"scatter\", \"x\": [-0.7137212213251106, 0.037682152077615994, null], \"y\": [-0.5078312514366182, -0.36499320852865197, null]}, {\"line\": {\"color\": \"cornflowerblue\", \"width\": 0.6838521170864333}, \"mode\": \"lines\", \"type\": \"scatter\", \"x\": [-0.7137212213251106, -0.2515620180295609, null], \"y\": [-0.5078312514366182, 0.37463146422171345, null]}, {\"line\": {\"color\": \"cornflowerblue\", \"width\": 0.1}, \"mode\": \"lines\", \"type\": \"scatter\", \"x\": [-0.7137212213251106, 0.34488556375245866, null], \"y\": [-0.5078312514366182, -0.22282445409583654, null]}, {\"line\": {\"color\": \"cornflowerblue\", \"width\": 0.6838521170864333}, \"mode\": \"lines\", \"type\": \"scatter\", \"x\": [-0.7137212213251106, -0.05820985905893972, null], \"y\": [-0.5078312514366182, 0.1688929264728386, null]}, {\"line\": {\"color\": \"cornflowerblue\", \"width\": 0.6838521170864333}, \"mode\": \"lines\", \"type\": \"scatter\", \"x\": [-0.7137212213251106, -0.4640700058853637, null], \"y\": [-0.5078312514366182, 0.1136802632518015, null]}, {\"line\": {\"color\": \"cornflowerblue\", \"width\": 0.33635856610148585}, \"mode\": \"lines\", \"type\": \"scatter\", \"x\": [-0.7137212213251106, -0.26499859152788535, null], \"y\": [-0.5078312514366182, -0.06479105928658002, null]}, {\"line\": {\"color\": \"cornflowerblue\", \"width\": 0.33635856610148585}, \"mode\": \"lines\", \"type\": \"scatter\", \"x\": [-1.0, -0.2515620180295609, null], \"y\": [-0.07692252821494058, 0.37463146422171345, null]}, {\"line\": {\"color\": \"cornflowerblue\", \"width\": 0.33635856610148585}, \"mode\": \"lines\", \"type\": \"scatter\", \"x\": [-1.0, 0.005968108307113802, null], \"y\": [-0.07692252821494058, -0.09032025096376012, null]}, {\"line\": {\"color\": \"cornflowerblue\", \"width\": 0.33635856610148585}, \"mode\": \"lines\", \"type\": \"scatter\", \"x\": [-1.0, -0.2662352880661159, null], \"y\": [-0.07692252821494058, -0.38836642320757, null]}, {\"line\": {\"color\": \"cornflowerblue\", \"width\": 0.33635856610148585}, \"mode\": \"lines\", \"type\": \"scatter\", \"x\": [-1.0, -0.05820985905893972, null], \"y\": [-0.07692252821494058, 0.1688929264728386, null]}, {\"line\": {\"color\": \"cornflowerblue\", \"width\": 0.33635856610148585}, \"mode\": \"lines\", \"type\": \"scatter\", \"x\": [-1.0, -0.26499859152788535, null], \"y\": [-0.07692252821494058, -0.06479105928658002, null]}, {\"line\": {\"color\": \"cornflowerblue\", \"width\": 0.33635856610148585}, \"mode\": \"lines\", \"type\": \"scatter\", \"x\": [-1.0, 0.037682152077615994, null], \"y\": [-0.07692252821494058, -0.36499320852865197, null]}, {\"line\": {\"color\": \"cornflowerblue\", \"width\": 0.33635856610148585}, \"mode\": \"lines\", \"type\": \"scatter\", \"x\": [-1.0, -0.4640700058853637, null], \"y\": [-0.07692252821494058, 0.1136802632518015, null]}, {\"line\": {\"color\": \"cornflowerblue\", \"width\": 2.3001951752865812}, \"mode\": \"lines\", \"type\": \"scatter\", \"x\": [0.005968108307113802, -0.2662352880661159, null], \"y\": [-0.09032025096376012, -0.38836642320757, null]}, {\"line\": {\"color\": \"cornflowerblue\", \"width\": 4.676537180435969}, \"mode\": \"lines\", \"type\": \"scatter\", \"x\": [0.005968108307113802, 0.037682152077615994, null], \"y\": [-0.09032025096376012, -0.36499320852865197, null]}, {\"line\": {\"color\": \"cornflowerblue\", \"width\": 4.676537180435969}, \"mode\": \"lines\", \"type\": \"scatter\", \"x\": [0.005968108307113802, -0.2515620180295609, null], \"y\": [-0.09032025096376012, 0.37463146422171345, null]}, {\"line\": {\"color\": \"cornflowerblue\", \"width\": 2.3001951752865812}, \"mode\": \"lines\", \"type\": \"scatter\", \"x\": [0.005968108307113802, 0.34488556375245866, null], \"y\": [-0.09032025096376012, -0.22282445409583654, null]}, {\"line\": {\"color\": \"cornflowerblue\", \"width\": 5.623413251903491}, \"mode\": \"lines\", \"type\": \"scatter\", \"x\": [0.005968108307113802, -0.05820985905893972, null], \"y\": [-0.09032025096376012, 0.1688929264728386, null]}, {\"line\": {\"color\": \"cornflowerblue\", \"width\": 1.671850762441055}, \"mode\": \"lines\", \"type\": \"scatter\", \"x\": [0.005968108307113802, -0.4640700058853637, null], \"y\": [-0.09032025096376012, 0.1136802632518015, null]}, {\"line\": {\"color\": \"cornflowerblue\", \"width\": 2.3001951752865812}, \"mode\": \"lines\", \"type\": \"scatter\", \"x\": [0.005968108307113802, 0.5427291961050936, null], \"y\": [-0.09032025096376012, -0.027395736121064444, null]}, {\"line\": {\"color\": \"cornflowerblue\", \"width\": 1.1313708498984762}, \"mode\": \"lines\", \"type\": \"scatter\", \"x\": [0.005968108307113802, 0.13674913374534017, null], \"y\": [-0.09032025096376012, 0.46063236030470855, null]}, {\"line\": {\"color\": \"cornflowerblue\", \"width\": 1.1313708498984762}, \"mode\": \"lines\", \"type\": \"scatter\", \"x\": [0.005968108307113802, 0.38938596889704236, null], \"y\": [-0.09032025096376012, 0.25561576179262674, null]}, {\"line\": {\"color\": \"cornflowerblue\", \"width\": 0.1}, \"mode\": \"lines\", \"type\": \"scatter\", \"x\": [0.005968108307113802, 0.4318138908080898, null], \"y\": [-0.09032025096376012, -0.5217064793668141, null]}, {\"line\": {\"color\": \"cornflowerblue\", \"width\": 2.3001951752865812}, \"mode\": \"lines\", \"type\": \"scatter\", \"x\": [0.005968108307113802, -0.26499859152788535, null], \"y\": [-0.09032025096376012, -0.06479105928658002, null]}, {\"line\": {\"color\": \"cornflowerblue\", \"width\": 0.33635856610148585}, \"mode\": \"lines\", \"type\": \"scatter\", \"x\": [0.005968108307113802, 0.7862389760609753, null], \"y\": [-0.09032025096376012, 0.24409906634304057, null]}, {\"line\": {\"color\": \"cornflowerblue\", \"width\": 0.33635856610148585}, \"mode\": \"lines\", \"type\": \"scatter\", \"x\": [0.005968108307113802, 0.3433439941392489, null], \"y\": [-0.09032025096376012, 0.6475995488351085, null]}, {\"line\": {\"color\": \"cornflowerblue\", \"width\": 3.0124619494611955}, \"mode\": \"lines\", \"type\": \"scatter\", \"x\": [-0.2662352880661159, 0.037682152077615994, null], \"y\": [-0.38836642320757, -0.36499320852865197, null]}, {\"line\": {\"color\": \"cornflowerblue\", \"width\": 3.0124619494611955}, \"mode\": \"lines\", \"type\": \"scatter\", \"x\": [-0.2662352880661159, -0.2515620180295609, null], \"y\": [-0.38836642320757, 0.37463146422171345, null]}, {\"line\": {\"color\": \"cornflowerblue\", \"width\": 0.33635856610148585}, \"mode\": \"lines\", \"type\": \"scatter\", \"x\": [-0.2662352880661159, 0.34488556375245866, null], \"y\": [-0.38836642320757, -0.22282445409583654, null]}, {\"line\": {\"color\": \"cornflowerblue\", \"width\": 3.8054627680087076}, \"mode\": \"lines\", \"type\": \"scatter\", \"x\": [-0.2662352880661159, -0.05820985905893972, null], \"y\": [-0.38836642320757, 0.1688929264728386, null]}, {\"line\": {\"color\": \"cornflowerblue\", \"width\": 3.0124619494611955}, \"mode\": \"lines\", \"type\": \"scatter\", \"x\": [-0.2662352880661159, -0.4640700058853637, null], \"y\": [-0.38836642320757, 0.1136802632518015, null]}, {\"line\": {\"color\": \"cornflowerblue\", \"width\": 1.671850762441055}, \"mode\": \"lines\", \"type\": \"scatter\", \"x\": [-0.2662352880661159, 0.5427291961050936, null], \"y\": [-0.38836642320757, -0.027395736121064444, null]}, {\"line\": {\"color\": \"cornflowerblue\", \"width\": 2.3001951752865812}, \"mode\": \"lines\", \"type\": \"scatter\", \"x\": [-0.2662352880661159, -0.26499859152788535, null], \"y\": [-0.38836642320757, -0.06479105928658002, null]}, {\"line\": {\"color\": \"cornflowerblue\", \"width\": 0.1}, \"mode\": \"lines\", \"type\": \"scatter\", \"x\": [-0.2662352880661159, 0.3433439941392489, null], \"y\": [-0.38836642320757, 0.6475995488351085, null]}, {\"line\": {\"color\": \"cornflowerblue\", \"width\": 0.33635856610148585}, \"mode\": \"lines\", \"type\": \"scatter\", \"x\": [-0.2662352880661159, 0.13674913374534017, null], \"y\": [-0.38836642320757, 0.46063236030470855, null]}, {\"line\": {\"color\": \"cornflowerblue\", \"width\": 0.6838521170864333}, \"mode\": \"lines\", \"type\": \"scatter\", \"x\": [-0.2662352880661159, 0.38938596889704236, null], \"y\": [-0.38836642320757, 0.25561576179262674, null]}, {\"line\": {\"color\": \"cornflowerblue\", \"width\": 0.1}, \"mode\": \"lines\", \"type\": \"scatter\", \"x\": [-0.2662352880661159, 0.4318138908080898, null], \"y\": [-0.38836642320757, -0.5217064793668141, null]}, {\"line\": {\"color\": \"cornflowerblue\", \"width\": 4.676537180435969}, \"mode\": \"lines\", \"type\": \"scatter\", \"x\": [0.037682152077615994, -0.2515620180295609, null], \"y\": [-0.36499320852865197, 0.37463146422171345, null]}, {\"line\": {\"color\": \"cornflowerblue\", \"width\": 3.0124619494611955}, \"mode\": \"lines\", \"type\": \"scatter\", \"x\": [0.037682152077615994, 0.34488556375245866, null], \"y\": [-0.36499320852865197, -0.22282445409583654, null]}, {\"line\": {\"color\": \"cornflowerblue\", \"width\": 11.432986833478832}, \"mode\": \"lines\", \"type\": \"scatter\", \"x\": [0.037682152077615994, -0.05820985905893972, null], \"y\": [-0.36499320852865197, 0.1688929264728386, null]}, {\"line\": {\"color\": \"cornflowerblue\", \"width\": 3.8054627680087076}, \"mode\": \"lines\", \"type\": \"scatter\", \"x\": [0.037682152077615994, -0.4640700058853637, null], \"y\": [-0.36499320852865197, 0.1136802632518015, null]}, {\"line\": {\"color\": \"cornflowerblue\", \"width\": 3.8054627680087076}, \"mode\": \"lines\", \"type\": \"scatter\", \"x\": [0.037682152077615994, 0.5427291961050936, null], \"y\": [-0.36499320852865197, -0.027395736121064444, null]}, {\"line\": {\"color\": \"cornflowerblue\", \"width\": 3.0124619494611955}, \"mode\": \"lines\", \"type\": \"scatter\", \"x\": [0.037682152077615994, -0.26499859152788535, null], \"y\": [-0.36499320852865197, -0.06479105928658002, null]}, {\"line\": {\"color\": \"cornflowerblue\", \"width\": 1.1313708498984762}, \"mode\": \"lines\", \"type\": \"scatter\", \"x\": [0.037682152077615994, 0.3433439941392489, null], \"y\": [-0.36499320852865197, 0.6475995488351085, null]}, {\"line\": {\"color\": \"cornflowerblue\", \"width\": 3.0124619494611955}, \"mode\": \"lines\", \"type\": \"scatter\", \"x\": [0.037682152077615994, 0.13674913374534017, null], \"y\": [-0.36499320852865197, 0.46063236030470855, null]}, {\"line\": {\"color\": \"cornflowerblue\", \"width\": 1.1313708498984762}, \"mode\": \"lines\", \"type\": \"scatter\", \"x\": [0.037682152077615994, 0.7862389760609753, null], \"y\": [-0.36499320852865197, 0.24409906634304057, null]}, {\"line\": {\"color\": \"cornflowerblue\", \"width\": 1.1313708498984762}, \"mode\": \"lines\", \"type\": \"scatter\", \"x\": [0.037682152077615994, 0.4318138908080898, null], \"y\": [-0.36499320852865197, -0.5217064793668141, null]}, {\"line\": {\"color\": \"cornflowerblue\", \"width\": 1.1313708498984762}, \"mode\": \"lines\", \"type\": \"scatter\", \"x\": [0.037682152077615994, 0.38938596889704236, null], \"y\": [-0.36499320852865197, 0.25561576179262674, null]}, {\"line\": {\"color\": \"cornflowerblue\", \"width\": 1.671850762441055}, \"mode\": \"lines\", \"type\": \"scatter\", \"x\": [-0.2515620180295609, 0.34488556375245866, null], \"y\": [0.37463146422171345, -0.22282445409583654, null]}, {\"line\": {\"color\": \"cornflowerblue\", \"width\": 6.644115889990961}, \"mode\": \"lines\", \"type\": \"scatter\", \"x\": [-0.2515620180295609, -0.05820985905893972, null], \"y\": [0.37463146422171345, 0.1688929264728386, null]}, {\"line\": {\"color\": \"cornflowerblue\", \"width\": 3.0124619494611955}, \"mode\": \"lines\", \"type\": \"scatter\", \"x\": [-0.2515620180295609, -0.4640700058853637, null], \"y\": [0.37463146422171345, 0.1136802632518015, null]}, {\"line\": {\"color\": \"cornflowerblue\", \"width\": 2.3001951752865812}, \"mode\": \"lines\", \"type\": \"scatter\", \"x\": [-0.2515620180295609, 0.5427291961050936, null], \"y\": [0.37463146422171345, -0.027395736121064444, null]}, {\"line\": {\"color\": \"cornflowerblue\", \"width\": 1.1313708498984762}, \"mode\": \"lines\", \"type\": \"scatter\", \"x\": [-0.2515620180295609, 0.13674913374534017, null], \"y\": [0.37463146422171345, 0.46063236030470855, null]}, {\"line\": {\"color\": \"cornflowerblue\", \"width\": 1.671850762441055}, \"mode\": \"lines\", \"type\": \"scatter\", \"x\": [-0.2515620180295609, 0.38938596889704236, null], \"y\": [0.37463146422171345, 0.25561576179262674, null]}, {\"line\": {\"color\": \"cornflowerblue\", \"width\": 0.1}, \"mode\": \"lines\", \"type\": \"scatter\", \"x\": [-0.2515620180295609, 0.4318138908080898, null], \"y\": [0.37463146422171345, -0.5217064793668141, null]}, {\"line\": {\"color\": \"cornflowerblue\", \"width\": 3.0124619494611955}, \"mode\": \"lines\", \"type\": \"scatter\", \"x\": [-0.2515620180295609, -0.26499859152788535, null], \"y\": [0.37463146422171345, -0.06479105928658002, null]}, {\"line\": {\"color\": \"cornflowerblue\", \"width\": 0.33635856610148585}, \"mode\": \"lines\", \"type\": \"scatter\", \"x\": [-0.2515620180295609, 0.7862389760609753, null], \"y\": [0.37463146422171345, 0.24409906634304057, null]}, {\"line\": {\"color\": \"cornflowerblue\", \"width\": 0.33635856610148585}, \"mode\": \"lines\", \"type\": \"scatter\", \"x\": [-0.2515620180295609, 0.3433439941392489, null], \"y\": [0.37463146422171345, 0.6475995488351085, null]}, {\"line\": {\"color\": \"cornflowerblue\", \"width\": 3.8054627680087076}, \"mode\": \"lines\", \"type\": \"scatter\", \"x\": [0.34488556375245866, -0.05820985905893972, null], \"y\": [-0.22282445409583654, 0.1688929264728386, null]}, {\"line\": {\"color\": \"cornflowerblue\", \"width\": 0.33635856610148585}, \"mode\": \"lines\", \"type\": \"scatter\", \"x\": [0.34488556375245866, -0.4640700058853637, null], \"y\": [-0.22282445409583654, 0.1136802632518015, null]}, {\"line\": {\"color\": \"cornflowerblue\", \"width\": 1.671850762441055}, \"mode\": \"lines\", \"type\": \"scatter\", \"x\": [0.34488556375245866, 0.5427291961050936, null], \"y\": [-0.22282445409583654, -0.027395736121064444, null]}, {\"line\": {\"color\": \"cornflowerblue\", \"width\": 1.1313708498984762}, \"mode\": \"lines\", \"type\": \"scatter\", \"x\": [0.34488556375245866, 0.13674913374534017, null], \"y\": [-0.22282445409583654, 0.46063236030470855, null]}, {\"line\": {\"color\": \"cornflowerblue\", \"width\": 0.1}, \"mode\": \"lines\", \"type\": \"scatter\", \"x\": [0.34488556375245866, 0.4318138908080898, null], \"y\": [-0.22282445409583654, -0.5217064793668141, null]}, {\"line\": {\"color\": \"cornflowerblue\", \"width\": 0.6838521170864333}, \"mode\": \"lines\", \"type\": \"scatter\", \"x\": [0.34488556375245866, 0.3433439941392489, null], \"y\": [-0.22282445409583654, 0.6475995488351085, null]}, {\"line\": {\"color\": \"cornflowerblue\", \"width\": 0.33635856610148585}, \"mode\": \"lines\", \"type\": \"scatter\", \"x\": [0.34488556375245866, 0.38938596889704236, null], \"y\": [-0.22282445409583654, 0.25561576179262674, null]}, {\"line\": {\"color\": \"cornflowerblue\", \"width\": 0.33635856610148585}, \"mode\": \"lines\", \"type\": \"scatter\", \"x\": [0.34488556375245866, -0.26499859152788535, null], \"y\": [-0.22282445409583654, -0.06479105928658002, null]}, {\"line\": {\"color\": \"cornflowerblue\", \"width\": 0.33635856610148585}, \"mode\": \"lines\", \"type\": \"scatter\", \"x\": [0.34488556375245866, 0.7862389760609753, null], \"y\": [-0.22282445409583654, 0.24409906634304057, null]}, {\"line\": {\"color\": \"cornflowerblue\", \"width\": 5.623413251903491}, \"mode\": \"lines\", \"type\": \"scatter\", \"x\": [-0.05820985905893972, -0.4640700058853637, null], \"y\": [0.1688929264728386, 0.1136802632518015, null]}, {\"line\": {\"color\": \"cornflowerblue\", \"width\": 6.644115889990961}, \"mode\": \"lines\", \"type\": \"scatter\", \"x\": [-0.05820985905893972, 0.5427291961050936, null], \"y\": [0.1688929264728386, -0.027395736121064444, null]}, {\"line\": {\"color\": \"cornflowerblue\", \"width\": 3.8054627680087076}, \"mode\": \"lines\", \"type\": \"scatter\", \"x\": [-0.05820985905893972, -0.26499859152788535, null], \"y\": [0.1688929264728386, -0.06479105928658002, null]}, {\"line\": {\"color\": \"cornflowerblue\", \"width\": 1.1313708498984762}, \"mode\": \"lines\", \"type\": \"scatter\", \"x\": [-0.05820985905893972, 0.3433439941392489, null], \"y\": [0.1688929264728386, 0.6475995488351085, null]}, {\"line\": {\"color\": \"cornflowerblue\", \"width\": 3.0124619494611955}, \"mode\": \"lines\", \"type\": \"scatter\", \"x\": [-0.05820985905893972, 0.13674913374534017, null], \"y\": [0.1688929264728386, 0.46063236030470855, null]}, {\"line\": {\"color\": \"cornflowerblue\", \"width\": 1.1313708498984762}, \"mode\": \"lines\", \"type\": \"scatter\", \"x\": [-0.05820985905893972, 0.7862389760609753, null], \"y\": [0.1688929264728386, 0.24409906634304057, null]}, {\"line\": {\"color\": \"cornflowerblue\", \"width\": 1.1313708498984762}, \"mode\": \"lines\", \"type\": \"scatter\", \"x\": [-0.05820985905893972, 0.4318138908080898, null], \"y\": [0.1688929264728386, -0.5217064793668141, null]}, {\"line\": {\"color\": \"cornflowerblue\", \"width\": 1.671850762441055}, \"mode\": \"lines\", \"type\": \"scatter\", \"x\": [-0.05820985905893972, 0.38938596889704236, null], \"y\": [0.1688929264728386, 0.25561576179262674, null]}, {\"line\": {\"color\": \"cornflowerblue\", \"width\": 1.671850762441055}, \"mode\": \"lines\", \"type\": \"scatter\", \"x\": [-0.4640700058853637, 0.5427291961050936, null], \"y\": [0.1136802632518015, -0.027395736121064444, null]}, {\"line\": {\"color\": \"cornflowerblue\", \"width\": 2.3001951752865812}, \"mode\": \"lines\", \"type\": \"scatter\", \"x\": [-0.4640700058853637, -0.26499859152788535, null], \"y\": [0.1136802632518015, -0.06479105928658002, null]}, {\"line\": {\"color\": \"cornflowerblue\", \"width\": 0.1}, \"mode\": \"lines\", \"type\": \"scatter\", \"x\": [-0.4640700058853637, 0.3433439941392489, null], \"y\": [0.1136802632518015, 0.6475995488351085, null]}, {\"line\": {\"color\": \"cornflowerblue\", \"width\": 0.6838521170864333}, \"mode\": \"lines\", \"type\": \"scatter\", \"x\": [-0.4640700058853637, 0.38938596889704236, null], \"y\": [0.1136802632518015, 0.25561576179262674, null]}, {\"line\": {\"color\": \"cornflowerblue\", \"width\": 0.33635856610148585}, \"mode\": \"lines\", \"type\": \"scatter\", \"x\": [-0.4640700058853637, 0.4318138908080898, null], \"y\": [0.1136802632518015, -0.5217064793668141, null]}, {\"line\": {\"color\": \"cornflowerblue\", \"width\": 0.1}, \"mode\": \"lines\", \"type\": \"scatter\", \"x\": [-0.4640700058853637, 0.13674913374534017, null], \"y\": [0.1136802632518015, 0.46063236030470855, null]}, {\"line\": {\"color\": \"cornflowerblue\", \"width\": 2.3001951752865812}, \"mode\": \"lines\", \"type\": \"scatter\", \"x\": [0.5427291961050936, -0.26499859152788535, null], \"y\": [-0.027395736121064444, -0.06479105928658002, null]}, {\"line\": {\"color\": \"cornflowerblue\", \"width\": 1.1313708498984762}, \"mode\": \"lines\", \"type\": \"scatter\", \"x\": [0.5427291961050936, 0.3433439941392489, null], \"y\": [-0.027395736121064444, 0.6475995488351085, null]}, {\"line\": {\"color\": \"cornflowerblue\", \"width\": 1.671850762441055}, \"mode\": \"lines\", \"type\": \"scatter\", \"x\": [0.5427291961050936, 0.13674913374534017, null], \"y\": [-0.027395736121064444, 0.46063236030470855, null]}, {\"line\": {\"color\": \"cornflowerblue\", \"width\": 1.671850762441055}, \"mode\": \"lines\", \"type\": \"scatter\", \"x\": [0.5427291961050936, 0.38938596889704236, null], \"y\": [-0.027395736121064444, 0.25561576179262674, null]}, {\"line\": {\"color\": \"cornflowerblue\", \"width\": 0.1}, \"mode\": \"lines\", \"type\": \"scatter\", \"x\": [0.5427291961050936, 0.4318138908080898, null], \"y\": [-0.027395736121064444, -0.5217064793668141, null]}, {\"line\": {\"color\": \"cornflowerblue\", \"width\": 0.33635856610148585}, \"mode\": \"lines\", \"type\": \"scatter\", \"x\": [0.5427291961050936, 0.7862389760609753, null], \"y\": [-0.027395736121064444, 0.24409906634304057, null]}, {\"line\": {\"color\": \"cornflowerblue\", \"width\": 0.6838521170864333}, \"mode\": \"lines\", \"type\": \"scatter\", \"x\": [-0.26499859152788535, 0.3433439941392489, null], \"y\": [-0.06479105928658002, 0.6475995488351085, null]}, {\"line\": {\"color\": \"cornflowerblue\", \"width\": 1.671850762441055}, \"mode\": \"lines\", \"type\": \"scatter\", \"x\": [-0.26499859152788535, 0.38938596889704236, null], \"y\": [-0.06479105928658002, 0.25561576179262674, null]}, {\"line\": {\"color\": \"cornflowerblue\", \"width\": 0.1}, \"mode\": \"lines\", \"type\": \"scatter\", \"x\": [-0.26499859152788535, 0.4318138908080898, null], \"y\": [-0.06479105928658002, -0.5217064793668141, null]}, {\"line\": {\"color\": \"cornflowerblue\", \"width\": 0.6838521170864333}, \"mode\": \"lines\", \"type\": \"scatter\", \"x\": [-0.26499859152788535, 0.13674913374534017, null], \"y\": [-0.06479105928658002, 0.46063236030470855, null]}, {\"line\": {\"color\": \"cornflowerblue\", \"width\": 0.33635856610148585}, \"mode\": \"lines\", \"type\": \"scatter\", \"x\": [-0.26499859152788535, 0.7862389760609753, null], \"y\": [-0.06479105928658002, 0.24409906634304057, null]}, {\"line\": {\"color\": \"cornflowerblue\", \"width\": 0.6838521170864333}, \"mode\": \"lines\", \"type\": \"scatter\", \"x\": [0.3433439941392489, 0.13674913374534017, null], \"y\": [0.6475995488351085, 0.46063236030470855, null]}, {\"line\": {\"color\": \"cornflowerblue\", \"width\": 0.33635856610148585}, \"mode\": \"lines\", \"type\": \"scatter\", \"x\": [0.3433439941392489, 0.38938596889704236, null], \"y\": [0.6475995488351085, 0.25561576179262674, null]}, {\"line\": {\"color\": \"cornflowerblue\", \"width\": 0.33635856610148585}, \"mode\": \"lines\", \"type\": \"scatter\", \"x\": [0.3433439941392489, 0.7862389760609753, null], \"y\": [0.6475995488351085, 0.24409906634304057, null]}, {\"line\": {\"color\": \"cornflowerblue\", \"width\": 1.1313708498984762}, \"mode\": \"lines\", \"type\": \"scatter\", \"x\": [0.13674913374534017, 0.7862389760609753, null], \"y\": [0.46063236030470855, 0.24409906634304057, null]}, {\"line\": {\"color\": \"cornflowerblue\", \"width\": 0.6838521170864333}, \"mode\": \"lines\", \"type\": \"scatter\", \"x\": [0.13674913374534017, 0.4318138908080898, null], \"y\": [0.46063236030470855, -0.5217064793668141, null]}, {\"line\": {\"color\": \"cornflowerblue\", \"width\": 0.6838521170864333}, \"mode\": \"lines\", \"type\": \"scatter\", \"x\": [0.13674913374534017, 0.38938596889704236, null], \"y\": [0.46063236030470855, 0.25561576179262674, null]}, {\"line\": {\"color\": \"cornflowerblue\", \"width\": 0.33635856610148585}, \"mode\": \"lines\", \"type\": \"scatter\", \"x\": [0.7862389760609753, 0.4318138908080898, null], \"y\": [0.24409906634304057, -0.5217064793668141, null]}, {\"line\": {\"color\": \"cornflowerblue\", \"width\": 0.33635856610148585}, \"mode\": \"lines\", \"type\": \"scatter\", \"x\": [0.7862389760609753, 0.38938596889704236, null], \"y\": [0.24409906634304057, 0.25561576179262674, null]}, {\"line\": {\"color\": \"cornflowerblue\", \"width\": 0.1}, \"mode\": \"lines\", \"type\": \"scatter\", \"x\": [0.4318138908080898, 0.38938596889704236, null], \"y\": [-0.5217064793668141, 0.25561576179262674, null]}, {\"hoverinfo\": \"none\", \"marker\": {\"color\": [\"cornflowerblue\", \"cornflowerblue\", \"cornflowerblue\", \"cornflowerblue\", \"cornflowerblue\", \"cornflowerblue\", \"cornflowerblue\", \"cornflowerblue\", \"cornflowerblue\", \"cornflowerblue\", \"cornflowerblue\", \"cornflowerblue\", \"cornflowerblue\", \"cornflowerblue\", \"cornflowerblue\", \"cornflowerblue\"], \"size\": [7.800000000000001, 6.2, 11.0, 9.4, 15.0, 11.8, 9.4, 18.200000000000003, 11.0, 11.8, 9.4, 6.2, 8.600000000000001, 6.2, 6.2, 7.0]}, \"mode\": \"markers+text\", \"text\": [\"<b>Christian Lindner</b>\", \"<b>Lindner</b>\", \"<b>Annalena Baerbock</b>\", \"<b>Olaf Scholz</b>\", \"<b>Laschet</b>\", \"<b>Robert Habeck</b>\", \"<b>S\\u00f6der</b>\", \"<b>Markus S\\u00f6der</b>\", \"<b>Angela Merkel</b>\", \"<b>Armin Laschet</b>\", \"<b>Baerbock</b>\", \"<b>Markus Blume</b>\", \"<b>S\\u00f6ders</b>\", \"<b>Alexander Dobrindt</b>\", \"<b>Ralph Brinkhaus</b>\", \"<b>Habeck</b>\"], \"textfont\": {\"size\": 12}, \"textposition\": \"top center\", \"type\": \"scatter\", \"x\": [-0.7137212213251106, -1.0, 0.005968108307113802, -0.2662352880661159, 0.037682152077615994, -0.2515620180295609, 0.34488556375245866, -0.05820985905893972, -0.4640700058853637, 0.5427291961050936, -0.26499859152788535, 0.3433439941392489, 0.13674913374534017, 0.7862389760609753, 0.4318138908080898, 0.38938596889704236], \"y\": [-0.5078312514366182, -0.07692252821494058, -0.09032025096376012, -0.38836642320757, -0.36499320852865197, 0.37463146422171345, -0.22282445409583654, 0.1688929264728386, 0.1136802632518015, -0.027395736121064444, -0.06479105928658002, 0.6475995488351085, 0.46063236030470855, 0.24409906634304057, -0.5217064793668141, 0.25561576179262674]}],                        {\"paper_bgcolor\": \"rgba(0,0,0,0)\", \"plot_bgcolor\": \"rgba(0,0,0,0)\", \"showlegend\": false, \"template\": {\"data\": {\"bar\": [{\"error_x\": {\"color\": \"#2a3f5f\"}, \"error_y\": {\"color\": \"#2a3f5f\"}, \"marker\": {\"line\": {\"color\": \"#E5ECF6\", \"width\": 0.5}}, \"type\": \"bar\"}], \"barpolar\": [{\"marker\": {\"line\": {\"color\": \"#E5ECF6\", \"width\": 0.5}}, \"type\": \"barpolar\"}], \"carpet\": [{\"aaxis\": {\"endlinecolor\": \"#2a3f5f\", \"gridcolor\": \"white\", \"linecolor\": \"white\", \"minorgridcolor\": \"white\", \"startlinecolor\": \"#2a3f5f\"}, \"baxis\": {\"endlinecolor\": \"#2a3f5f\", \"gridcolor\": \"white\", \"linecolor\": \"white\", \"minorgridcolor\": \"white\", \"startlinecolor\": \"#2a3f5f\"}, \"type\": \"carpet\"}], \"choropleth\": [{\"colorbar\": {\"outlinewidth\": 0, \"ticks\": \"\"}, \"type\": \"choropleth\"}], \"contour\": [{\"colorbar\": {\"outlinewidth\": 0, \"ticks\": \"\"}, \"colorscale\": [[0.0, \"#0d0887\"], [0.1111111111111111, \"#46039f\"], [0.2222222222222222, \"#7201a8\"], [0.3333333333333333, \"#9c179e\"], [0.4444444444444444, \"#bd3786\"], [0.5555555555555556, \"#d8576b\"], [0.6666666666666666, \"#ed7953\"], [0.7777777777777778, \"#fb9f3a\"], [0.8888888888888888, \"#fdca26\"], [1.0, \"#f0f921\"]], \"type\": \"contour\"}], \"contourcarpet\": [{\"colorbar\": {\"outlinewidth\": 0, \"ticks\": \"\"}, \"type\": \"contourcarpet\"}], \"heatmap\": [{\"colorbar\": {\"outlinewidth\": 0, \"ticks\": \"\"}, \"colorscale\": [[0.0, \"#0d0887\"], [0.1111111111111111, \"#46039f\"], [0.2222222222222222, \"#7201a8\"], [0.3333333333333333, \"#9c179e\"], [0.4444444444444444, \"#bd3786\"], [0.5555555555555556, \"#d8576b\"], [0.6666666666666666, \"#ed7953\"], [0.7777777777777778, \"#fb9f3a\"], [0.8888888888888888, \"#fdca26\"], [1.0, \"#f0f921\"]], \"type\": \"heatmap\"}], \"heatmapgl\": [{\"colorbar\": {\"outlinewidth\": 0, \"ticks\": \"\"}, \"colorscale\": [[0.0, \"#0d0887\"], [0.1111111111111111, \"#46039f\"], [0.2222222222222222, \"#7201a8\"], [0.3333333333333333, \"#9c179e\"], [0.4444444444444444, \"#bd3786\"], [0.5555555555555556, \"#d8576b\"], [0.6666666666666666, \"#ed7953\"], [0.7777777777777778, \"#fb9f3a\"], [0.8888888888888888, \"#fdca26\"], [1.0, \"#f0f921\"]], \"type\": \"heatmapgl\"}], \"histogram\": [{\"marker\": {\"colorbar\": {\"outlinewidth\": 0, \"ticks\": \"\"}}, \"type\": \"histogram\"}], \"histogram2d\": [{\"colorbar\": {\"outlinewidth\": 0, \"ticks\": \"\"}, \"colorscale\": [[0.0, \"#0d0887\"], [0.1111111111111111, \"#46039f\"], [0.2222222222222222, \"#7201a8\"], [0.3333333333333333, \"#9c179e\"], [0.4444444444444444, \"#bd3786\"], [0.5555555555555556, \"#d8576b\"], [0.6666666666666666, \"#ed7953\"], [0.7777777777777778, \"#fb9f3a\"], [0.8888888888888888, \"#fdca26\"], [1.0, \"#f0f921\"]], \"type\": \"histogram2d\"}], \"histogram2dcontour\": [{\"colorbar\": {\"outlinewidth\": 0, \"ticks\": \"\"}, \"colorscale\": [[0.0, \"#0d0887\"], [0.1111111111111111, \"#46039f\"], [0.2222222222222222, \"#7201a8\"], [0.3333333333333333, \"#9c179e\"], [0.4444444444444444, \"#bd3786\"], [0.5555555555555556, \"#d8576b\"], [0.6666666666666666, \"#ed7953\"], [0.7777777777777778, \"#fb9f3a\"], [0.8888888888888888, \"#fdca26\"], [1.0, \"#f0f921\"]], \"type\": \"histogram2dcontour\"}], \"mesh3d\": [{\"colorbar\": {\"outlinewidth\": 0, \"ticks\": \"\"}, \"type\": \"mesh3d\"}], \"parcoords\": [{\"line\": {\"colorbar\": {\"outlinewidth\": 0, \"ticks\": \"\"}}, \"type\": \"parcoords\"}], \"pie\": [{\"automargin\": true, \"type\": \"pie\"}], \"scatter\": [{\"marker\": {\"colorbar\": {\"outlinewidth\": 0, \"ticks\": \"\"}}, \"type\": \"scatter\"}], \"scatter3d\": [{\"line\": {\"colorbar\": {\"outlinewidth\": 0, \"ticks\": \"\"}}, \"marker\": {\"colorbar\": {\"outlinewidth\": 0, \"ticks\": \"\"}}, \"type\": \"scatter3d\"}], \"scattercarpet\": [{\"marker\": {\"colorbar\": {\"outlinewidth\": 0, \"ticks\": \"\"}}, \"type\": \"scattercarpet\"}], \"scattergeo\": [{\"marker\": {\"colorbar\": {\"outlinewidth\": 0, \"ticks\": \"\"}}, \"type\": \"scattergeo\"}], \"scattergl\": [{\"marker\": {\"colorbar\": {\"outlinewidth\": 0, \"ticks\": \"\"}}, \"type\": \"scattergl\"}], \"scattermapbox\": [{\"marker\": {\"colorbar\": {\"outlinewidth\": 0, \"ticks\": \"\"}}, \"type\": \"scattermapbox\"}], \"scatterpolar\": [{\"marker\": {\"colorbar\": {\"outlinewidth\": 0, \"ticks\": \"\"}}, \"type\": \"scatterpolar\"}], \"scatterpolargl\": [{\"marker\": {\"colorbar\": {\"outlinewidth\": 0, \"ticks\": \"\"}}, \"type\": \"scatterpolargl\"}], \"scatterternary\": [{\"marker\": {\"colorbar\": {\"outlinewidth\": 0, \"ticks\": \"\"}}, \"type\": \"scatterternary\"}], \"surface\": [{\"colorbar\": {\"outlinewidth\": 0, \"ticks\": \"\"}, \"colorscale\": [[0.0, \"#0d0887\"], [0.1111111111111111, \"#46039f\"], [0.2222222222222222, \"#7201a8\"], [0.3333333333333333, \"#9c179e\"], [0.4444444444444444, \"#bd3786\"], [0.5555555555555556, \"#d8576b\"], [0.6666666666666666, \"#ed7953\"], [0.7777777777777778, \"#fb9f3a\"], [0.8888888888888888, \"#fdca26\"], [1.0, \"#f0f921\"]], \"type\": \"surface\"}], \"table\": [{\"cells\": {\"fill\": {\"color\": \"#EBF0F8\"}, \"line\": {\"color\": \"white\"}}, \"header\": {\"fill\": {\"color\": \"#C8D4E3\"}, \"line\": {\"color\": \"white\"}}, \"type\": \"table\"}]}, \"layout\": {\"annotationdefaults\": {\"arrowcolor\": \"#2a3f5f\", \"arrowhead\": 0, \"arrowwidth\": 1}, \"autotypenumbers\": \"strict\", \"coloraxis\": {\"colorbar\": {\"outlinewidth\": 0, \"ticks\": \"\"}}, \"colorscale\": {\"diverging\": [[0, \"#8e0152\"], [0.1, \"#c51b7d\"], [0.2, \"#de77ae\"], [0.3, \"#f1b6da\"], [0.4, \"#fde0ef\"], [0.5, \"#f7f7f7\"], [0.6, \"#e6f5d0\"], [0.7, \"#b8e186\"], [0.8, \"#7fbc41\"], [0.9, \"#4d9221\"], [1, \"#276419\"]], \"sequential\": [[0.0, \"#0d0887\"], [0.1111111111111111, \"#46039f\"], [0.2222222222222222, \"#7201a8\"], [0.3333333333333333, \"#9c179e\"], [0.4444444444444444, \"#bd3786\"], [0.5555555555555556, \"#d8576b\"], [0.6666666666666666, \"#ed7953\"], [0.7777777777777778, \"#fb9f3a\"], [0.8888888888888888, \"#fdca26\"], [1.0, \"#f0f921\"]], \"sequentialminus\": [[0.0, \"#0d0887\"], [0.1111111111111111, \"#46039f\"], [0.2222222222222222, \"#7201a8\"], [0.3333333333333333, \"#9c179e\"], [0.4444444444444444, \"#bd3786\"], [0.5555555555555556, \"#d8576b\"], [0.6666666666666666, \"#ed7953\"], [0.7777777777777778, \"#fb9f3a\"], [0.8888888888888888, \"#fdca26\"], [1.0, \"#f0f921\"]]}, \"colorway\": [\"#636efa\", \"#EF553B\", \"#00cc96\", \"#ab63fa\", \"#FFA15A\", \"#19d3f3\", \"#FF6692\", \"#B6E880\", \"#FF97FF\", \"#FECB52\"], \"font\": {\"color\": \"#2a3f5f\"}, \"geo\": {\"bgcolor\": \"white\", \"lakecolor\": \"white\", \"landcolor\": \"#E5ECF6\", \"showlakes\": true, \"showland\": true, \"subunitcolor\": \"white\"}, \"hoverlabel\": {\"align\": \"left\"}, \"hovermode\": \"closest\", \"mapbox\": {\"style\": \"light\"}, \"paper_bgcolor\": \"white\", \"plot_bgcolor\": \"#E5ECF6\", \"polar\": {\"angularaxis\": {\"gridcolor\": \"white\", \"linecolor\": \"white\", \"ticks\": \"\"}, \"bgcolor\": \"#E5ECF6\", \"radialaxis\": {\"gridcolor\": \"white\", \"linecolor\": \"white\", \"ticks\": \"\"}}, \"scene\": {\"xaxis\": {\"backgroundcolor\": \"#E5ECF6\", \"gridcolor\": \"white\", \"gridwidth\": 2, \"linecolor\": \"white\", \"showbackground\": true, \"ticks\": \"\", \"zerolinecolor\": \"white\"}, \"yaxis\": {\"backgroundcolor\": \"#E5ECF6\", \"gridcolor\": \"white\", \"gridwidth\": 2, \"linecolor\": \"white\", \"showbackground\": true, \"ticks\": \"\", \"zerolinecolor\": \"white\"}, \"zaxis\": {\"backgroundcolor\": \"#E5ECF6\", \"gridcolor\": \"white\", \"gridwidth\": 2, \"linecolor\": \"white\", \"showbackground\": true, \"ticks\": \"\", \"zerolinecolor\": \"white\"}}, \"shapedefaults\": {\"line\": {\"color\": \"#2a3f5f\"}}, \"ternary\": {\"aaxis\": {\"gridcolor\": \"white\", \"linecolor\": \"white\", \"ticks\": \"\"}, \"baxis\": {\"gridcolor\": \"white\", \"linecolor\": \"white\", \"ticks\": \"\"}, \"bgcolor\": \"#E5ECF6\", \"caxis\": {\"gridcolor\": \"white\", \"linecolor\": \"white\", \"ticks\": \"\"}}, \"title\": {\"x\": 0.05}, \"xaxis\": {\"automargin\": true, \"gridcolor\": \"white\", \"linecolor\": \"white\", \"ticks\": \"\", \"title\": {\"standoff\": 15}, \"zerolinecolor\": \"white\", \"zerolinewidth\": 2}, \"yaxis\": {\"automargin\": true, \"gridcolor\": \"white\", \"linecolor\": \"white\", \"ticks\": \"\", \"title\": {\"standoff\": 15}, \"zerolinecolor\": \"white\", \"zerolinewidth\": 2}}}, \"xaxis\": {\"showgrid\": false, \"showticklabels\": false, \"zeroline\": false}, \"yaxis\": {\"showgrid\": false, \"showticklabels\": false, \"zeroline\": false}},                        {\"responsive\": true}                    ).then(function(){\n",
       "                            \n",
       "var gd = document.getElementById('6d6d7964-9b6a-4ea3-9e5e-08b954fe2559');\n",
       "var x = new MutationObserver(function (mutations, observer) {{\n",
       "        var display = window.getComputedStyle(gd).display;\n",
       "        if (!display || display === 'none') {{\n",
       "            console.log([gd, 'removed!']);\n",
       "            Plotly.purge(gd);\n",
       "            observer.disconnect();\n",
       "        }}\n",
       "}});\n",
       "\n",
       "// Listen for the removal of the full notebook cells\n",
       "var notebookContainer = gd.closest('#notebook-container');\n",
       "if (notebookContainer) {{\n",
       "    x.observe(notebookContainer, {childList: true});\n",
       "}}\n",
       "\n",
       "// Listen for the clearing of the current output cell\n",
       "var outputEl = gd.closest('.output');\n",
       "if (outputEl) {{\n",
       "    x.observe(outputEl, {childList: true});\n",
       "}}\n",
       "\n",
       "                        })                };                });            </script>        </div>"
      ]
     },
     "metadata": {},
     "output_type": "display_data"
    }
   ],
   "source": [
    "# Make a node trace\n",
    "node_trace = go.Scatter(x         = [],\n",
    "                        y         = [],\n",
    "                        text      = [],\n",
    "                        textposition = \"top center\",\n",
    "                        textfont_size = 12,\n",
    "                        mode      = 'markers+text',\n",
    "                        hoverinfo = 'none',\n",
    "                        marker    = dict(color = [],\n",
    "                                         size  = [],\n",
    "                                         line  = None))\n",
    "# For each node, get the position and size and add to the node_trace\n",
    "for node in companies.nodes():\n",
    "    x, y = nodepositions[node]\n",
    "    node_trace['x'] += (x,) \n",
    "    node_trace['y'] += (y,) \n",
    "    node_trace['marker']['color'] += ('cornflowerblue',)\n",
    "    node_trace['marker']['size'] += (3+0.8*orgs[node],) \n",
    "    node_trace['text'] += ('<b>' + node + '</b>',)\n",
    "    \n",
    "    \n",
    "# Custom function to create an edge between node x and node y, with a given text and width\n",
    "def make_edge(x, y, width):\n",
    "    return  go.Scatter(x     = x,\n",
    "                       y     = y,\n",
    "                       line  = dict(width = width, color = 'cornflowerblue'),\n",
    "                       mode  = 'lines')\n",
    "\n",
    "\n",
    "# For each edge, make an edge_trace, append to list\n",
    "edge_trace = []\n",
    "for edge in companies.edges():\n",
    "    org1 = edge[0]\n",
    "    org2 = edge[1]\n",
    "    x0, y0 = nodepositions[org1]\n",
    "    x1, y1 = nodepositions[org2]\n",
    "    linewidth = 0.1*Relations[org1][org2]**1.75\n",
    "    trace  = make_edge([x0, x1, None], [y0, y1, None],  width = linewidth)\n",
    "    edge_trace.append(trace)\n",
    "    \n",
    "    \n",
    "# Customize layout\n",
    "layout = go.Layout(\n",
    "    paper_bgcolor='rgba(0,0,0,0)', # transparent background\n",
    "    plot_bgcolor='rgba(0,0,0,0)', # transparent 2nd background\n",
    "    xaxis =  {'showgrid': False, 'zeroline': False}, # no gridlines\n",
    "    yaxis = {'showgrid': False, 'zeroline': False}, # no gridlines\n",
    ")\n",
    "# Create figure\n",
    "fig = go.Figure(layout = layout)\n",
    "# Add all edge traces\n",
    "for trace in edge_trace:\n",
    "    fig.add_trace(trace)\n",
    "# Add node trace\n",
    "fig.add_trace(node_trace)\n",
    "# Remove legend\n",
    "fig.update_layout(showlegend = False)\n",
    "# Remove tick labels\n",
    "fig.update_xaxes(showticklabels = False)\n",
    "fig.update_yaxes(showticklabels = False)\n",
    "# Show figure\n",
    "fig.show()    "
   ]
  },
  {
   "cell_type": "code",
   "execution_count": null,
   "metadata": {},
   "outputs": [],
   "source": []
  }
 ],
 "metadata": {
  "kernelspec": {
   "display_name": "Python 3",
   "language": "python",
   "name": "python3"
  },
  "language_info": {
   "codemirror_mode": {
    "name": "ipython",
    "version": 3
   },
   "file_extension": ".py",
   "mimetype": "text/x-python",
   "name": "python",
   "nbconvert_exporter": "python",
   "pygments_lexer": "ipython3",
   "version": "3.8.5"
  }
 },
 "nbformat": 4,
 "nbformat_minor": 2
}

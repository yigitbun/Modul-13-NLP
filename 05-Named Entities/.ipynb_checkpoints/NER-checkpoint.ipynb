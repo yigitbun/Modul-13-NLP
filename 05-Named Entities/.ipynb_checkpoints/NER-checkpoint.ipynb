{
 "cells": [
  {
   "cell_type": "markdown",
   "metadata": {},
   "source": [
    "# Named Entity Recognition"
   ]
  },
  {
   "cell_type": "markdown",
   "metadata": {},
   "source": [
    "Named Entities, auf Deutsch benannte Entitäten, sind Sachen, die in einem Text genannt werden und einen Namen haben. Beispiele für Dinge, die einem Namen haben, sind Personen, Orte und Organisationen. Oft sind gerade die Dinge die mit einem Namen genannt werden, interessant. Aus diesem Grund ist die Extraktion oder die Erkennung von Named Entities wichtig.\n",
    "\n",
    "Es gibt im Wesentlichen zwei Verfahren für Named Entity Recognition (NER). Die erste Möglichkeit ist, dass man  Regeln schreibt, wie z.B. Personennamen aufgebaut sind und in welchen Kontexten sie vorkommen. Diese Regeln kann man sehr gut mit den regulären Ausdrücke, die wir schon kennengelernt haben, vergleichen, und zum Teil ist das NER auch mit NER möglich. Die zweite Möglichkeit ist, dass man ein System trainiert, das aus Beispielen Eigenschaften von Wörtern lernt und auf Grund davon, für jedes Wort im Text entscheidet, ob es zu einer benannten Entität gehört. \n",
    "\n",
    "Wir werden NER jetzt nicht selber implementieren, obwahl das nicht sehr schierig ist, sondern nutzen die Bibliothek _Spacy_  und ein bereits trainiertes Modell. Spacy stellt ausser NER viele Funktionen zur Verfügung, wie Tokenisierung, Lemmatisierung und POS-Tagging.\n",
    "\n",
    "In der dritten Übung haben wir Wikipedia-Texte über Firmen analysiert. In diesen Texten werden sehr viele Firmennamen genannt. Schauen wir mal, ob Spacy die erkennnt. "
   ]
  },
  {
   "cell_type": "markdown",
   "metadata": {},
   "source": [
    "Als erstes müssen wir Spacy (einmalig) installieren:"
   ]
  },
  {
   "cell_type": "code",
   "execution_count": null,
   "metadata": {},
   "outputs": [],
   "source": [
    "!pip install spacy\n",
    "!python -m spacy download en_core_web_sm"
   ]
  },
  {
   "cell_type": "code",
   "execution_count": 7,
   "metadata": {},
   "outputs": [
    {
     "name": "stdout",
     "output_type": "stream",
     "text": [
      "FDP ---  ORG\n",
      "Nie ---  PER\n",
      "Liberalen ---  ORG\n",
      "Berlin ---  LOC\n",
      "Bundestagswahlen ---  MISC\n",
      "FDP ---  ORG\n",
      "Bundestag ---  ORG\n",
      "Partei ---  ORG\n",
      "FDP ---  ORG\n",
      "Christian Lindner ---  PER\n",
      "Entwurfs ---  MISC\n",
      "Bundesparteitag ---  MISC\n",
      "Nie ---  PER\n",
      "FDP ---  ORG\n",
      "Staaten ---  LOC\n",
      "Liberalen ---  ORG\n",
      "Partei-Chef Lindner ---  PER\n",
      "Deutschland ---  LOC\n",
      "FDP ---  ORG\n",
      "Altersvorsorge ---  LOC\n",
      "Unser Staatswesen ---  MISC\n",
      "Lindner ---  PER\n",
      "Bundestagswahl am 26. September ---  MISC\n",
      "Lindner ---  PER\n",
      "FDP ---  ORG\n",
      "Pilotensessel des Lebens ---  MISC\n",
      "FDP-Chef ---  ORG\n",
      "Lindner ---  PER\n",
      "FDP ---  ORG\n",
      "Darstellung Lindners ---  MISC\n",
      "FDP ---  ORG\n",
      "realistisches ---  MISC\n",
      "Gesetzestext ---  LOC\n",
      "Lindner ---  PER\n",
      "Bundestagswahl ---  MISC\n",
      "FDP ---  ORG\n",
      "Liberalen ---  ORG\n",
      "Union ---  LOC\n",
      "FDP ---  ORG\n",
      "FDP ---  ORG\n",
      "NRW ---  LOC\n",
      "Corona-Maßnahmen ---  MISC\n",
      "Union ---  LOC\n",
      "Lindner ---  PER\n",
      "FDP ---  ORG\n",
      "Volker Wissing ---  PER\n",
      "FDP ---  ORG\n",
      "Klimaschutztechnologien ---  LOC\n",
      "Anreize ---  MISC\n",
      "FDP ---  ORG\n",
      "Deutschland ---  LOC\n",
      "Wissing ---  PER\n",
      "FDP-Politiker ---  ORG\n",
      "Bazooka ---  MISC\n",
      "Wissing ---  PER\n",
      "Partei ---  ORG\n",
      "AFP ---  MISC\n"
     ]
    }
   ],
   "source": [
    "import glob\n",
    "import codecs\n",
    "import spacy\n",
    "\n",
    "spacy_engine_de = spacy.load('de_core_news_sm')\n",
    "\n",
    "filelist = glob.glob(\"Bundeswahl/*.txt\")\n",
    "#filelist = glob.glob(\"brexit/*.txt\")\n",
    "f = filelist[0]\n",
    "datei = codecs.open(f,'r','utf8')\n",
    "text = datei.read()\n",
    "datei.close()\n",
    "    \n",
    "f_doc = spacy_engine_de(text)\n",
    "for entity in f_doc.ents:\n",
    "    print(entity.text,'--- ',entity.label_)"
   ]
  },
  {
   "cell_type": "markdown",
   "metadata": {},
   "source": [
    "Spacy kann die NEs auch sehr schön im Text anzeigen:"
   ]
  },
  {
   "cell_type": "code",
   "execution_count": 8,
   "metadata": {},
   "outputs": [
    {
     "data": {
      "text/html": [
       "<span class=\"tex2jax_ignore\"><div class=\"entities\" style=\"line-height: 2.5; direction: ltr\">Die \n",
       "<mark class=\"entity\" style=\"background: #7aecec; padding: 0.45em 0.6em; margin: 0 0.25em; line-height: 1; border-radius: 0.35em;\">\n",
       "    FDP\n",
       "    <span style=\"font-size: 0.8em; font-weight: bold; line-height: 1; border-radius: 0.35em; vertical-align: middle; margin-left: 0.5rem\">ORG</span>\n",
       "</mark>\n",
       " hat einen Entwurf ihres Bundestagswahlprogrammes vorgestellt. Der Titel: „\n",
       "<mark class=\"entity\" style=\"background: #ddd; padding: 0.45em 0.6em; margin: 0 0.25em; line-height: 1; border-radius: 0.35em;\">\n",
       "    Nie\n",
       "    <span style=\"font-size: 0.8em; font-weight: bold; line-height: 1; border-radius: 0.35em; vertical-align: middle; margin-left: 0.5rem\">PER</span>\n",
       "</mark>\n",
       " gab es mehr zu tun“. Die \n",
       "<mark class=\"entity\" style=\"background: #7aecec; padding: 0.45em 0.6em; margin: 0 0.25em; line-height: 1; border-radius: 0.35em;\">\n",
       "    Liberalen\n",
       "    <span style=\"font-size: 0.8em; font-weight: bold; line-height: 1; border-radius: 0.35em; vertical-align: middle; margin-left: 0.5rem\">ORG</span>\n",
       "</mark>\n",
       " kritisieren „Staatsfrömmigkeit“ anderer Parteien.\r",
       "</br>\r",
       "</br>\n",
       "<mark class=\"entity\" style=\"background: #ff9561; padding: 0.45em 0.6em; margin: 0 0.25em; line-height: 1; border-radius: 0.35em;\">\n",
       "    Berlin\n",
       "    <span style=\"font-size: 0.8em; font-weight: bold; line-height: 1; border-radius: 0.35em; vertical-align: middle; margin-left: 0.5rem\">LOC</span>\n",
       "</mark>\n",
       " - Im September finden die \n",
       "<mark class=\"entity\" style=\"background: #ddd; padding: 0.45em 0.6em; margin: 0 0.25em; line-height: 1; border-radius: 0.35em;\">\n",
       "    Bundestagswahlen\n",
       "    <span style=\"font-size: 0.8em; font-weight: bold; line-height: 1; border-radius: 0.35em; vertical-align: middle; margin-left: 0.5rem\">MISC</span>\n",
       "</mark>\n",
       " statt - und die \n",
       "<mark class=\"entity\" style=\"background: #7aecec; padding: 0.45em 0.6em; margin: 0 0.25em; line-height: 1; border-radius: 0.35em;\">\n",
       "    FDP\n",
       "    <span style=\"font-size: 0.8em; font-weight: bold; line-height: 1; border-radius: 0.35em; vertical-align: middle; margin-left: 0.5rem\">ORG</span>\n",
       "</mark>\n",
       " will mit Betonung der individuellen Verantwortung und einem Modernisierungsprogramm für den Staat in den Wahlkampf ziehen. Als einzige im \n",
       "<mark class=\"entity\" style=\"background: #7aecec; padding: 0.45em 0.6em; margin: 0 0.25em; line-height: 1; border-radius: 0.35em;\">\n",
       "    Bundestag\n",
       "    <span style=\"font-size: 0.8em; font-weight: bold; line-height: 1; border-radius: 0.35em; vertical-align: middle; margin-left: 0.5rem\">ORG</span>\n",
       "</mark>\n",
       " vertretene \n",
       "<mark class=\"entity\" style=\"background: #7aecec; padding: 0.45em 0.6em; margin: 0 0.25em; line-height: 1; border-radius: 0.35em;\">\n",
       "    Partei\n",
       "    <span style=\"font-size: 0.8em; font-weight: bold; line-height: 1; border-radius: 0.35em; vertical-align: middle; margin-left: 0.5rem\">ORG</span>\n",
       "</mark>\n",
       " gehe es der \n",
       "<mark class=\"entity\" style=\"background: #7aecec; padding: 0.45em 0.6em; margin: 0 0.25em; line-height: 1; border-radius: 0.35em;\">\n",
       "    FDP\n",
       "    <span style=\"font-size: 0.8em; font-weight: bold; line-height: 1; border-radius: 0.35em; vertical-align: middle; margin-left: 0.5rem\">ORG</span>\n",
       "</mark>\n",
       " darum, „nicht immer nur den Staat“ stark zu machen, sondern jede Einzelperson, sagte FDP-Parteichef \n",
       "<mark class=\"entity\" style=\"background: #ddd; padding: 0.45em 0.6em; margin: 0 0.25em; line-height: 1; border-radius: 0.35em;\">\n",
       "    Christian Lindner\n",
       "    <span style=\"font-size: 0.8em; font-weight: bold; line-height: 1; border-radius: 0.35em; vertical-align: middle; margin-left: 0.5rem\">PER</span>\n",
       "</mark>\n",
       " Mitte April bei der Vorstellung des \n",
       "<mark class=\"entity\" style=\"background: #ddd; padding: 0.45em 0.6em; margin: 0 0.25em; line-height: 1; border-radius: 0.35em;\">\n",
       "    Entwurfs\n",
       "    <span style=\"font-size: 0.8em; font-weight: bold; line-height: 1; border-radius: 0.35em; vertical-align: middle; margin-left: 0.5rem\">MISC</span>\n",
       "</mark>\n",
       " für das Wahlprogramm. Das Programm sollte beim \n",
       "<mark class=\"entity\" style=\"background: #ddd; padding: 0.45em 0.6em; margin: 0 0.25em; line-height: 1; border-radius: 0.35em;\">\n",
       "    Bundesparteitag\n",
       "    <span style=\"font-size: 0.8em; font-weight: bold; line-height: 1; border-radius: 0.35em; vertical-align: middle; margin-left: 0.5rem\">MISC</span>\n",
       "</mark>\n",
       " Mitte Mai diskutiert und beschlossen werden.\r",
       "</br>Der im April vorgestellte Entwurf trägt die Überschrift: „\n",
       "<mark class=\"entity\" style=\"background: #ddd; padding: 0.45em 0.6em; margin: 0 0.25em; line-height: 1; border-radius: 0.35em;\">\n",
       "    Nie\n",
       "    <span style=\"font-size: 0.8em; font-weight: bold; line-height: 1; border-radius: 0.35em; vertical-align: middle; margin-left: 0.5rem\">PER</span>\n",
       "</mark>\n",
       " gab es mehr zu tun“. Dabei rechnet die \n",
       "<mark class=\"entity\" style=\"background: #7aecec; padding: 0.45em 0.6em; margin: 0 0.25em; line-height: 1; border-radius: 0.35em;\">\n",
       "    FDP\n",
       "    <span style=\"font-size: 0.8em; font-weight: bold; line-height: 1; border-radius: 0.35em; vertical-align: middle; margin-left: 0.5rem\">ORG</span>\n",
       "</mark>\n",
       " in der Einleitung hart mit den staatlichen Abläufen in der Corona-Krise ab. „Während andere \n",
       "<mark class=\"entity\" style=\"background: #ff9561; padding: 0.45em 0.6em; margin: 0 0.25em; line-height: 1; border-radius: 0.35em;\">\n",
       "    Staaten\n",
       "    <span style=\"font-size: 0.8em; font-weight: bold; line-height: 1; border-radius: 0.35em; vertical-align: middle; margin-left: 0.5rem\">LOC</span>\n",
       "</mark>\n",
       " ihr Gesundheitssystem digitalisiert haben, haben sich unsere Gesundheitsämter gegenseitig Faxe geschickt“, heißt es dort. „Hochqualifizierte Beamte haben Listen abgetippt, statt mit Hilfe moderner digitaler Technologien effektiv Infektionsketten nachzuverfolgen.“ „Wie es ist, darf es nicht bleiben“, so die \n",
       "<mark class=\"entity\" style=\"background: #7aecec; padding: 0.45em 0.6em; margin: 0 0.25em; line-height: 1; border-radius: 0.35em;\">\n",
       "    Liberalen\n",
       "    <span style=\"font-size: 0.8em; font-weight: bold; line-height: 1; border-radius: 0.35em; vertical-align: middle; margin-left: 0.5rem\">ORG</span>\n",
       "</mark>\n",
       ". „Die gute Nachricht ist: Es muss auch nicht so bleiben. Alles kann besser werden.“\r",
       "</br>\r",
       "</br>FDP-Wahlprogramm: \n",
       "<mark class=\"entity\" style=\"background: #ddd; padding: 0.45em 0.6em; margin: 0 0.25em; line-height: 1; border-radius: 0.35em;\">\n",
       "    Partei-Chef Lindner\n",
       "    <span style=\"font-size: 0.8em; font-weight: bold; line-height: 1; border-radius: 0.35em; vertical-align: middle; margin-left: 0.5rem\">PER</span>\n",
       "</mark>\n",
       " nennt \n",
       "<mark class=\"entity\" style=\"background: #ff9561; padding: 0.45em 0.6em; margin: 0 0.25em; line-height: 1; border-radius: 0.35em;\">\n",
       "    Deutschland\n",
       "    <span style=\"font-size: 0.8em; font-weight: bold; line-height: 1; border-radius: 0.35em; vertical-align: middle; margin-left: 0.5rem\">LOC</span>\n",
       "</mark>\n",
       " einen „Sanierungsfall“\r",
       "</br>Die \n",
       "<mark class=\"entity\" style=\"background: #7aecec; padding: 0.45em 0.6em; margin: 0 0.25em; line-height: 1; border-radius: 0.35em;\">\n",
       "    FDP\n",
       "    <span style=\"font-size: 0.8em; font-weight: bold; line-height: 1; border-radius: 0.35em; vertical-align: middle; margin-left: 0.5rem\">ORG</span>\n",
       "</mark>\n",
       " fordert in ihrem Entwurf für das Wahlprogramm auch Steuerentlastungen für Unternehmen und alle Bürger - auch die Bezieher hoher Einkommen, eine Modernisierung der \n",
       "<mark class=\"entity\" style=\"background: #ff9561; padding: 0.45em 0.6em; margin: 0 0.25em; line-height: 1; border-radius: 0.35em;\">\n",
       "    Altersvorsorge\n",
       "    <span style=\"font-size: 0.8em; font-weight: bold; line-height: 1; border-radius: 0.35em; vertical-align: middle; margin-left: 0.5rem\">LOC</span>\n",
       "</mark>\n",
       ", eine Entbürokratisierung, einen Schub bei der Digitalisierung und eine Reform des Staates. „\n",
       "<mark class=\"entity\" style=\"background: #ddd; padding: 0.45em 0.6em; margin: 0 0.25em; line-height: 1; border-radius: 0.35em;\">\n",
       "    Unser Staatswesen\n",
       "    <span style=\"font-size: 0.8em; font-weight: bold; line-height: 1; border-radius: 0.35em; vertical-align: middle; margin-left: 0.5rem\">MISC</span>\n",
       "</mark>\n",
       " ist leider ein Sanierungsfall geworden“, sagte \n",
       "<mark class=\"entity\" style=\"background: #ddd; padding: 0.45em 0.6em; margin: 0 0.25em; line-height: 1; border-radius: 0.35em;\">\n",
       "    Lindner\n",
       "    <span style=\"font-size: 0.8em; font-weight: bold; line-height: 1; border-radius: 0.35em; vertical-align: middle; margin-left: 0.5rem\">PER</span>\n",
       "</mark>\n",
       " dazu. Es sei nicht ausreichend digital. Grund dafür seien die eigenen Regeln.\r",
       "</br>\r",
       "</br>Bei der \n",
       "<mark class=\"entity\" style=\"background: #ddd; padding: 0.45em 0.6em; margin: 0 0.25em; line-height: 1; border-radius: 0.35em;\">\n",
       "    Bundestagswahl am 26. September\n",
       "    <span style=\"font-size: 0.8em; font-weight: bold; line-height: 1; border-radius: 0.35em; vertical-align: middle; margin-left: 0.5rem\">MISC</span>\n",
       "</mark>\n",
       " gehe es um die Frage, wie dem Land „die richtige Richtung aus dem Status quo“ gewiesen werde, so \n",
       "<mark class=\"entity\" style=\"background: #ddd; padding: 0.45em 0.6em; margin: 0 0.25em; line-height: 1; border-radius: 0.35em;\">\n",
       "    Lindner\n",
       "    <span style=\"font-size: 0.8em; font-weight: bold; line-height: 1; border-radius: 0.35em; vertical-align: middle; margin-left: 0.5rem\">PER</span>\n",
       "</mark>\n",
       ". Des Weiteren halte die \n",
       "<mark class=\"entity\" style=\"background: #7aecec; padding: 0.45em 0.6em; margin: 0 0.25em; line-height: 1; border-radius: 0.35em;\">\n",
       "    FDP\n",
       "    <span style=\"font-size: 0.8em; font-weight: bold; line-height: 1; border-radius: 0.35em; vertical-align: middle; margin-left: 0.5rem\">ORG</span>\n",
       "</mark>\n",
       " nichts von der „Staatsfrömmigkeit“ anderer Parteien, sondern setze darauf, „den Menschen in Wirtschaft und Gesellschaft“ zu vertrauen. Sie wolle den Bürger:innen „die \n",
       "<mark class=\"entity\" style=\"background: #ddd; padding: 0.45em 0.6em; margin: 0 0.25em; line-height: 1; border-radius: 0.35em;\">\n",
       "    Pilotensessel des Lebens\n",
       "    <span style=\"font-size: 0.8em; font-weight: bold; line-height: 1; border-radius: 0.35em; vertical-align: middle; margin-left: 0.5rem\">MISC</span>\n",
       "</mark>\n",
       " zurückgeben“, sagte \n",
       "<mark class=\"entity\" style=\"background: #7aecec; padding: 0.45em 0.6em; margin: 0 0.25em; line-height: 1; border-radius: 0.35em;\">\n",
       "    FDP-Chef\n",
       "    <span style=\"font-size: 0.8em; font-weight: bold; line-height: 1; border-radius: 0.35em; vertical-align: middle; margin-left: 0.5rem\">ORG</span>\n",
       "</mark>\n",
       " \n",
       "<mark class=\"entity\" style=\"background: #ddd; padding: 0.45em 0.6em; margin: 0 0.25em; line-height: 1; border-radius: 0.35em;\">\n",
       "    Lindner\n",
       "    <span style=\"font-size: 0.8em; font-weight: bold; line-height: 1; border-radius: 0.35em; vertical-align: middle; margin-left: 0.5rem\">PER</span>\n",
       "</mark>\n",
       ".\r",
       "</br>\r",
       "</br>Bundestagswahlen im September: Die \n",
       "<mark class=\"entity\" style=\"background: #7aecec; padding: 0.45em 0.6em; margin: 0 0.25em; line-height: 1; border-radius: 0.35em;\">\n",
       "    FDP\n",
       "    <span style=\"font-size: 0.8em; font-weight: bold; line-height: 1; border-radius: 0.35em; vertical-align: middle; margin-left: 0.5rem\">ORG</span>\n",
       "</mark>\n",
       " will in die Regierung\r",
       "</br>Nach \n",
       "<mark class=\"entity\" style=\"background: #ddd; padding: 0.45em 0.6em; margin: 0 0.25em; line-height: 1; border-radius: 0.35em;\">\n",
       "    Darstellung Lindners\n",
       "    <span style=\"font-size: 0.8em; font-weight: bold; line-height: 1; border-radius: 0.35em; vertical-align: middle; margin-left: 0.5rem\">MISC</span>\n",
       "</mark>\n",
       " legt die \n",
       "<mark class=\"entity\" style=\"background: #7aecec; padding: 0.45em 0.6em; margin: 0 0.25em; line-height: 1; border-radius: 0.35em;\">\n",
       "    FDP\n",
       "    <span style=\"font-size: 0.8em; font-weight: bold; line-height: 1; border-radius: 0.35em; vertical-align: middle; margin-left: 0.5rem\">ORG</span>\n",
       "</mark>\n",
       " ein „prägnantes, ambitioniertes, aber auch \n",
       "<mark class=\"entity\" style=\"background: #ddd; padding: 0.45em 0.6em; margin: 0 0.25em; line-height: 1; border-radius: 0.35em;\">\n",
       "    realistisches\n",
       "    <span style=\"font-size: 0.8em; font-weight: bold; line-height: 1; border-radius: 0.35em; vertical-align: middle; margin-left: 0.5rem\">MISC</span>\n",
       "</mark>\n",
       " Programm“ vor. Dieses sei vom „Geist der Liberalität und Individualität“ getragen. „Es liest sich gut und es ist geeignet, vom Programmpapier unmittelbar dann auch in \n",
       "<mark class=\"entity\" style=\"background: #ff9561; padding: 0.45em 0.6em; margin: 0 0.25em; line-height: 1; border-radius: 0.35em;\">\n",
       "    Gesetzestext\n",
       "    <span style=\"font-size: 0.8em; font-weight: bold; line-height: 1; border-radius: 0.35em; vertical-align: middle; margin-left: 0.5rem\">LOC</span>\n",
       "</mark>\n",
       " übertragen zu werden.“ Auch sei es eine zentrale Aufgabe für das nächste Jahrzehnt, den Staat zu modernisieren und zu digitalisieren. \n",
       "<mark class=\"entity\" style=\"background: #ddd; padding: 0.45em 0.6em; margin: 0 0.25em; line-height: 1; border-radius: 0.35em;\">\n",
       "    Lindner\n",
       "    <span style=\"font-size: 0.8em; font-weight: bold; line-height: 1; border-radius: 0.35em; vertical-align: middle; margin-left: 0.5rem\">PER</span>\n",
       "</mark>\n",
       " unterstrich zudem den Anspruch seiner Partei, nach der \n",
       "<mark class=\"entity\" style=\"background: #ddd; padding: 0.45em 0.6em; margin: 0 0.25em; line-height: 1; border-radius: 0.35em;\">\n",
       "    Bundestagswahl\n",
       "    <span style=\"font-size: 0.8em; font-weight: bold; line-height: 1; border-radius: 0.35em; vertical-align: middle; margin-left: 0.5rem\">MISC</span>\n",
       "</mark>\n",
       " zu regieren. Die \n",
       "<mark class=\"entity\" style=\"background: #7aecec; padding: 0.45em 0.6em; margin: 0 0.25em; line-height: 1; border-radius: 0.35em;\">\n",
       "    FDP\n",
       "    <span style=\"font-size: 0.8em; font-weight: bold; line-height: 1; border-radius: 0.35em; vertical-align: middle; margin-left: 0.5rem\">ORG</span>\n",
       "</mark>\n",
       " sei bereit zur Übernahme von Verantwortung und strebe ein zweistelliges Wahlergebnis an, sagte er. Die \n",
       "<mark class=\"entity\" style=\"background: #7aecec; padding: 0.45em 0.6em; margin: 0 0.25em; line-height: 1; border-radius: 0.35em;\">\n",
       "    Liberalen\n",
       "    <span style=\"font-size: 0.8em; font-weight: bold; line-height: 1; border-radius: 0.35em; vertical-align: middle; margin-left: 0.5rem\">ORG</span>\n",
       "</mark>\n",
       " wollten so stark werden, dass keine schwarz-grüne und auch keine grün-rot-rote Mehrheit möglich wäre.\r",
       "</br>\r",
       "</br>Auf die Frage, mit welchem der möglichen Kanzlerkandidaten der \n",
       "<mark class=\"entity\" style=\"background: #ff9561; padding: 0.45em 0.6em; margin: 0 0.25em; line-height: 1; border-radius: 0.35em;\">\n",
       "    Union\n",
       "    <span style=\"font-size: 0.8em; font-weight: bold; line-height: 1; border-radius: 0.35em; vertical-align: middle; margin-left: 0.5rem\">LOC</span>\n",
       "</mark>\n",
       " die \n",
       "<mark class=\"entity\" style=\"background: #7aecec; padding: 0.45em 0.6em; margin: 0 0.25em; line-height: 1; border-radius: 0.35em;\">\n",
       "    FDP\n",
       "    <span style=\"font-size: 0.8em; font-weight: bold; line-height: 1; border-radius: 0.35em; vertical-align: middle; margin-left: 0.5rem\">ORG</span>\n",
       "</mark>\n",
       " ihre Vorstellungen besser umsetzen könnte, verwies der Parteichef darauf, dass die \n",
       "<mark class=\"entity\" style=\"background: #7aecec; padding: 0.45em 0.6em; margin: 0 0.25em; line-height: 1; border-radius: 0.35em;\">\n",
       "    FDP\n",
       "    <span style=\"font-size: 0.8em; font-weight: bold; line-height: 1; border-radius: 0.35em; vertical-align: middle; margin-left: 0.5rem\">ORG</span>\n",
       "</mark>\n",
       " mit  Laschet in \n",
       "<mark class=\"entity\" style=\"background: #ff9561; padding: 0.45em 0.6em; margin: 0 0.25em; line-height: 1; border-radius: 0.35em;\">\n",
       "    NRW\n",
       "    <span style=\"font-size: 0.8em; font-weight: bold; line-height: 1; border-radius: 0.35em; vertical-align: middle; margin-left: 0.5rem\">LOC</span>\n",
       "</mark>\n",
       " sehr erfolgreich zusammenarbeite. „Bei Herrn Söder wissen wir nicht so genau, weil er ja dazu neigt, auch unterschiedlichen Vorstellungen in seiner politischen Arbeit Raum zu geben.“ Da habe mal das eine und mal das andere Thema mehr Gewicht. „Mal geht‘s um den Asyltourismus, dann geht‘s um Bienen, dann geht‘s um \n",
       "<mark class=\"entity\" style=\"background: #ddd; padding: 0.45em 0.6em; margin: 0 0.25em; line-height: 1; border-radius: 0.35em;\">\n",
       "    Corona-Maßnahmen\n",
       "    <span style=\"font-size: 0.8em; font-weight: bold; line-height: 1; border-radius: 0.35em; vertical-align: middle; margin-left: 0.5rem\">MISC</span>\n",
       "</mark>\n",
       " und Ausgangssperren.“ Entscheidend werde das Wahlprogramm der \n",
       "<mark class=\"entity\" style=\"background: #ff9561; padding: 0.45em 0.6em; margin: 0 0.25em; line-height: 1; border-radius: 0.35em;\">\n",
       "    Union\n",
       "    <span style=\"font-size: 0.8em; font-weight: bold; line-height: 1; border-radius: 0.35em; vertical-align: middle; margin-left: 0.5rem\">LOC</span>\n",
       "</mark>\n",
       " sein, sagte \n",
       "<mark class=\"entity\" style=\"background: #ddd; padding: 0.45em 0.6em; margin: 0 0.25em; line-height: 1; border-radius: 0.35em;\">\n",
       "    Lindner\n",
       "    <span style=\"font-size: 0.8em; font-weight: bold; line-height: 1; border-radius: 0.35em; vertical-align: middle; margin-left: 0.5rem\">PER</span>\n",
       "</mark>\n",
       ".\r",
       "</br>\r",
       "</br>Bildung ein wichtiger Aspekt: \n",
       "<mark class=\"entity\" style=\"background: #7aecec; padding: 0.45em 0.6em; margin: 0 0.25em; line-height: 1; border-radius: 0.35em;\">\n",
       "    FDP\n",
       "    <span style=\"font-size: 0.8em; font-weight: bold; line-height: 1; border-radius: 0.35em; vertical-align: middle; margin-left: 0.5rem\">ORG</span>\n",
       "</mark>\n",
       " will zusätzlich ein Prozent der Mehrwertsteuereinnahmen investieren\r",
       "</br>FDP-Generalsekretär \n",
       "<mark class=\"entity\" style=\"background: #ddd; padding: 0.45em 0.6em; margin: 0 0.25em; line-height: 1; border-radius: 0.35em;\">\n",
       "    Volker Wissing\n",
       "    <span style=\"font-size: 0.8em; font-weight: bold; line-height: 1; border-radius: 0.35em; vertical-align: middle; margin-left: 0.5rem\">PER</span>\n",
       "</mark>\n",
       " sagte, es müssten Antworten gefunden werden auf globale Herausforderungen wie den Klimawandel und auf die „Herausforderungen unserer Gesellschaft“, etwa die demografische Entwicklung. Den Klimawandel wolle die \n",
       "<mark class=\"entity\" style=\"background: #7aecec; padding: 0.45em 0.6em; margin: 0 0.25em; line-height: 1; border-radius: 0.35em;\">\n",
       "    FDP\n",
       "    <span style=\"font-size: 0.8em; font-weight: bold; line-height: 1; border-radius: 0.35em; vertical-align: middle; margin-left: 0.5rem\">ORG</span>\n",
       "</mark>\n",
       " bekämpfen mithilfe der „Innovationskraft des Marktes“. Für „innovative \n",
       "<mark class=\"entity\" style=\"background: #ff9561; padding: 0.45em 0.6em; margin: 0 0.25em; line-height: 1; border-radius: 0.35em;\">\n",
       "    Klimaschutztechnologien\n",
       "    <span style=\"font-size: 0.8em; font-weight: bold; line-height: 1; border-radius: 0.35em; vertical-align: middle; margin-left: 0.5rem\">LOC</span>\n",
       "</mark>\n",
       "“ müsse der Staat „\n",
       "<mark class=\"entity\" style=\"background: #ddd; padding: 0.45em 0.6em; margin: 0 0.25em; line-height: 1; border-radius: 0.35em;\">\n",
       "    Anreize\n",
       "    <span style=\"font-size: 0.8em; font-weight: bold; line-height: 1; border-radius: 0.35em; vertical-align: middle; margin-left: 0.5rem\">MISC</span>\n",
       "</mark>\n",
       "“ schaffen.\r",
       "</br>\r",
       "</br>Die \n",
       "<mark class=\"entity\" style=\"background: #7aecec; padding: 0.45em 0.6em; margin: 0 0.25em; line-height: 1; border-radius: 0.35em;\">\n",
       "    FDP\n",
       "    <span style=\"font-size: 0.8em; font-weight: bold; line-height: 1; border-radius: 0.35em; vertical-align: middle; margin-left: 0.5rem\">ORG</span>\n",
       "</mark>\n",
       " will zudem das Bildungssystem in \n",
       "<mark class=\"entity\" style=\"background: #ff9561; padding: 0.45em 0.6em; margin: 0 0.25em; line-height: 1; border-radius: 0.35em;\">\n",
       "    Deutschland\n",
       "    <span style=\"font-size: 0.8em; font-weight: bold; line-height: 1; border-radius: 0.35em; vertical-align: middle; margin-left: 0.5rem\">LOC</span>\n",
       "</mark>\n",
       " mit einem Milliardenaufwand leistungsstärker machen. Ein Prozent der Mehrwertsteuereinnahmen soll demnach zusätzlich in Bildung gesteckt werden. „Das ermöglicht zusätzliche Investitionen von 2,5 Milliarden Euro“, sagte \n",
       "<mark class=\"entity\" style=\"background: #ddd; padding: 0.45em 0.6em; margin: 0 0.25em; line-height: 1; border-radius: 0.35em;\">\n",
       "    Wissing\n",
       "    <span style=\"font-size: 0.8em; font-weight: bold; line-height: 1; border-radius: 0.35em; vertical-align: middle; margin-left: 0.5rem\">PER</span>\n",
       "</mark>\n",
       ". Bildung sei ein Bürgerrecht und ein Schlüssel zur Lösung von Zukunftsproblemen unserer Gesellschaft, so der \n",
       "<mark class=\"entity\" style=\"background: #7aecec; padding: 0.45em 0.6em; margin: 0 0.25em; line-height: 1; border-radius: 0.35em;\">\n",
       "    FDP-Politiker\n",
       "    <span style=\"font-size: 0.8em; font-weight: bold; line-height: 1; border-radius: 0.35em; vertical-align: middle; margin-left: 0.5rem\">ORG</span>\n",
       "</mark>\n",
       " weiter. „Deswegen muss die \n",
       "<mark class=\"entity\" style=\"background: #ddd; padding: 0.45em 0.6em; margin: 0 0.25em; line-height: 1; border-radius: 0.35em;\">\n",
       "    Bazooka\n",
       "    <span style=\"font-size: 0.8em; font-weight: bold; line-height: 1; border-radius: 0.35em; vertical-align: middle; margin-left: 0.5rem\">MISC</span>\n",
       "</mark>\n",
       " unseres Landes wieder die Bildung sein.“ Auch solle „mutig, optimistisch und ohne Scheuklappen“ die Frage betrachtet werden, ob am föderalen System im Bildungsbereich etwas geändert werden müsse. \n",
       "<mark class=\"entity\" style=\"background: #ddd; padding: 0.45em 0.6em; margin: 0 0.25em; line-height: 1; border-radius: 0.35em;\">\n",
       "    Wissing\n",
       "    <span style=\"font-size: 0.8em; font-weight: bold; line-height: 1; border-radius: 0.35em; vertical-align: middle; margin-left: 0.5rem\">PER</span>\n",
       "</mark>\n",
       " betonte zugleich, dass die \n",
       "<mark class=\"entity\" style=\"background: #7aecec; padding: 0.45em 0.6em; margin: 0 0.25em; line-height: 1; border-radius: 0.35em;\">\n",
       "    Partei\n",
       "    <span style=\"font-size: 0.8em; font-weight: bold; line-height: 1; border-radius: 0.35em; vertical-align: middle; margin-left: 0.5rem\">ORG</span>\n",
       "</mark>\n",
       " sich nicht auf eine mögliche Koalition festlege. Das Wahlprogramm sei kein Anreiz, „um Farbspekulationen zu starten“, sagte er. (dp/dpa/\n",
       "<mark class=\"entity\" style=\"background: #ddd; padding: 0.45em 0.6em; margin: 0 0.25em; line-height: 1; border-radius: 0.35em;\">\n",
       "    AFP\n",
       "    <span style=\"font-size: 0.8em; font-weight: bold; line-height: 1; border-radius: 0.35em; vertical-align: middle; margin-left: 0.5rem\">MISC</span>\n",
       "</mark>\n",
       ")</div></span>"
      ],
      "text/plain": [
       "<IPython.core.display.HTML object>"
      ]
     },
     "metadata": {},
     "output_type": "display_data"
    }
   ],
   "source": [
    "from spacy import displacy\n",
    "displacy.render(f_doc, style = \"ent\",jupyter = True)"
   ]
  },
  {
   "cell_type": "markdown",
   "metadata": {},
   "source": [
    "Wir sehen, dass viel Richtiges gefunden wurde, aber es eben auch viele Fehler gibt: \n",
    "1. Es gibt Wörter, die keine NE sind, die aber als solche erkannt werden.\n",
    "2. Es gibt NE die falsch klassifiziert sind (Organisation als Person)\n",
    "3. Es gibt NEs im Text, die gar nicht in dieser Liste auftauchen\n",
    "4. Es gibt Namen, die in mehreren Varainten in der Liste stehen.\n",
    "\n",
    "Wir schreiben jetzt eine Funktion, die NEs aus einem Text extrahiert und alle als Ergebnis zurückgibt. Jede NE wird von dieser Funktion nur ein mal berücksichtigt."
   ]
  },
  {
   "cell_type": "code",
   "execution_count": 9,
   "metadata": {},
   "outputs": [],
   "source": [
    "def NE_in_doc(text):\n",
    "    orgs = set()\n",
    "    \n",
    "    doc = spacy_engine_de(text)\n",
    "    for entity in doc.ents:\n",
    "        if entity.label_ == 'PER': # or entity.label_ == 'LOC':\n",
    "            if len(entity.text) > 3 or entity.text.isupper(): # Hiermit schließen wir einige komische Fehler aus\n",
    "                orgs.add(entity.text)\n",
    "    \n",
    "    return orgs"
   ]
  },
  {
   "cell_type": "code",
   "execution_count": 10,
   "metadata": {},
   "outputs": [
    {
     "data": {
      "text/plain": [
       "{'Christian Lindner',\n",
       " 'Lindner',\n",
       " 'Partei-Chef Lindner',\n",
       " 'Volker Wissing',\n",
       " 'Wissing'}"
      ]
     },
     "execution_count": 10,
     "metadata": {},
     "output_type": "execute_result"
    }
   ],
   "source": [
    "NE_in_doc(text)"
   ]
  },
  {
   "cell_type": "markdown",
   "metadata": {},
   "source": [
    "## Ein Netzwerk von Named Entities"
   ]
  },
  {
   "cell_type": "markdown",
   "metadata": {},
   "source": [
    "Wir wollen unsere Textsammlung etwas analysieren.  Wir können erstens zählen, wie häufig jede NE vorkommt und zweitens wie oft zwei NEs zusammen in einem Text vorkommen. Wir nutzen hierfür einen _Counter_ und ein _Dicitionary_ von Namen und Counters."
   ]
  },
  {
   "cell_type": "code",
   "execution_count": 11,
   "metadata": {},
   "outputs": [],
   "source": [
    "from collections import Counter\n",
    "\n",
    "orgs = Counter()\n",
    "orgs_cooccurrence = {}\n",
    "\n",
    "for f in filelist:    \n",
    "    datei = codecs.open(f,'r','utf8')\n",
    "    text = datei.read()\n",
    "    datei.close()\n",
    "    organizations = NE_in_doc(text)\n",
    "    for org in organizations:\n",
    "        if org not in orgs_cooccurrence:\n",
    "            orgs_cooccurrence[org] = Counter(organizations)\n",
    "        else:\n",
    "            orgs_cooccurrence[org].update(organizations)\n",
    "            \n",
    "    orgs.update(organizations)"
   ]
  },
  {
   "cell_type": "code",
   "execution_count": 12,
   "metadata": {},
   "outputs": [
    {
     "data": {
      "text/plain": [
       "[('Markus Söder', 19),\n",
       " ('Laschet', 15),\n",
       " ('Robert Habeck', 11),\n",
       " ('Armin Laschet', 11),\n",
       " ('Annalena Baerbock', 10),\n",
       " ('Angela Merkel', 10),\n",
       " ('Olaf Scholz', 8),\n",
       " ('Söder', 8),\n",
       " ('Baerbock', 8),\n",
       " ('Söders', 7),\n",
       " ('Christian Lindner', 6),\n",
       " ('Habeck', 5),\n",
       " ('Lindner', 4),\n",
       " ('Markus Blume', 4),\n",
       " ('Alexander Dobrindt', 4),\n",
       " ('Ralph Brinkhaus', 4),\n",
       " ('Foto', 3),\n",
       " ('Laschets', 3),\n",
       " ('Unions-Kanzlerkandidat', 3),\n",
       " ('Reuters', 3)]"
      ]
     },
     "execution_count": 12,
     "metadata": {},
     "output_type": "execute_result"
    }
   ],
   "source": [
    "orgs.most_common(20)"
   ]
  },
  {
   "cell_type": "code",
   "execution_count": 161,
   "metadata": {},
   "outputs": [
    {
     "data": {
      "text/plain": [
       "16498"
      ]
     },
     "execution_count": 161,
     "metadata": {},
     "output_type": "execute_result"
    }
   ],
   "source": [
    "len(orgs)"
   ]
  },
  {
   "cell_type": "code",
   "execution_count": 225,
   "metadata": {},
   "outputs": [
    {
     "data": {
      "text/plain": [
       "3"
      ]
     },
     "execution_count": 225,
     "metadata": {},
     "output_type": "execute_result"
    }
   ],
   "source": [
    "orgs_cooccurrence['Boeing']['Airbus']"
   ]
  },
  {
   "cell_type": "code",
   "execution_count": 237,
   "metadata": {},
   "outputs": [
    {
     "data": {
      "text/plain": [
       "2"
      ]
     },
     "execution_count": 237,
     "metadata": {},
     "output_type": "execute_result"
    }
   ],
   "source": [
    "orgs_cooccurrence['Boeing']['NASA']"
   ]
  },
  {
   "cell_type": "markdown",
   "metadata": {},
   "source": [
    "Wir können natürlich kein Netzwerk mit 23 000 Knoten anzeigen. Wir reduzieren die Daten darum auf die häufigsten NEs schließen aber gleichzeitig auch die allerhäufigsten aus."
   ]
  },
  {
   "cell_type": "code",
   "execution_count": 297,
   "metadata": {},
   "outputs": [],
   "source": [
    "NERList = {NE:freq for (NE,freq) in orgs.items() if freq > 10 and freq < 50}"
   ]
  },
  {
   "cell_type": "code",
   "execution_count": 298,
   "metadata": {},
   "outputs": [
    {
     "data": {
      "text/plain": [
       "28"
      ]
     },
     "execution_count": 298,
     "metadata": {},
     "output_type": "execute_result"
    }
   ],
   "source": [
    "len(NERList)"
   ]
  },
  {
   "cell_type": "markdown",
   "metadata": {},
   "source": [
    "Jetzt reduzieren wir auch noch den Kookkurenzmatrix:"
   ]
  },
  {
   "cell_type": "code",
   "execution_count": 299,
   "metadata": {},
   "outputs": [],
   "source": [
    "Relations = {NE1:{NE2:freq for (NE2,freq) in orgs_cooccurrence[NE1].items() if NE2 in NERList} for NE1 in NERList}"
   ]
  },
  {
   "cell_type": "markdown",
   "metadata": {},
   "source": [
    "## Visualisierung"
   ]
  },
  {
   "cell_type": "markdown",
   "metadata": {},
   "source": [
    "Im folgende Abschnitt wollen wir versuchen die oben berechneten Bziehungen graphisch darzustellen. Es ist nicht notwendig den Code hierfür genau zu verstehen.\n",
    "\n",
    "Vermutlich müssen Sie erst einige Bibliotheken installieren. Hier als Beispiel die Installation von _plotly_:"
   ]
  },
  {
   "cell_type": "code",
   "execution_count": 265,
   "metadata": {},
   "outputs": [
    {
     "name": "stdout",
     "output_type": "stream",
     "text": [
      "Requirement already satisfied: plotly in c:\\users\\wartena\\appdata\\local\\continuum\\anaconda3\\lib\\site-packages (4.12.0)\n",
      "Requirement already satisfied: six in c:\\users\\wartena\\appdata\\local\\continuum\\anaconda3\\lib\\site-packages (from plotly) (1.13.0)\n",
      "Requirement already satisfied: retrying>=1.3.3 in c:\\users\\wartena\\appdata\\local\\continuum\\anaconda3\\lib\\site-packages (from plotly) (1.3.3)\n"
     ]
    }
   ],
   "source": [
    "!pip install plotly"
   ]
  },
  {
   "cell_type": "code",
   "execution_count": 266,
   "metadata": {},
   "outputs": [],
   "source": [
    "# Import packages for data visualization\n",
    "import plotly.offline as py\n",
    "import plotly.graph_objects as go\n",
    "import networkx as nx\n",
    "import matplotlib.pyplot as plt"
   ]
  },
  {
   "cell_type": "markdown",
   "metadata": {},
   "source": [
    "Wir bauen jetzt zunächst den Graphen auf. Ein Knoten für jede Organisation und eine Kante für jede Beziehung. Wir geben die Kanten auch ein Gewicht. Das ergibt nachher eine bessere Verteilung von den Knoten. Wir müssen die Gewichte aber nicht linear mit der Anzahl der Kookkurenzen ansteigen lassen. Hier habe ich eine willkürlich ausgedachte logarithmische Formel genutzt."
   ]
  },
  {
   "cell_type": "code",
   "execution_count": 307,
   "metadata": {},
   "outputs": [],
   "source": [
    "companies = nx.Graph()# \n",
    "\n",
    "for org in NERList:\n",
    "    companies.add_node(org,size = orgs[org])\n",
    "\n",
    "for org1 in Relations:\n",
    "    for org2 in Relations[org1]:\n",
    "        if org2 != org1:\n",
    "            companies.add_edge(org1, org2,  weight =  2 + math.log(Relations[org1][org2]))"
   ]
  },
  {
   "cell_type": "markdown",
   "metadata": {},
   "source": [
    "Wir rufen jetzt eine Methode auf, die Positionen für die Knoiten berechnet. "
   ]
  },
  {
   "cell_type": "code",
   "execution_count": 308,
   "metadata": {},
   "outputs": [],
   "source": [
    "# Get positions for the nodes in G\n",
    "nodepositions = nx.spring_layout(companies)"
   ]
  },
  {
   "cell_type": "markdown",
   "metadata": {},
   "source": [
    "Jetzt können wir das Ntzwerk schon zeigen!"
   ]
  },
  {
   "cell_type": "code",
   "execution_count": 330,
   "metadata": {
    "scrolled": true
   },
   "outputs": [
    {
     "data": {
      "image/png": "[encoded data removed]",
      "text/plain": [
       "<Figure size 432x288 with 1 Axes>"
      ]
     },
     "metadata": {},
     "output_type": "display_data"
    }
   ],
   "source": [
    "nx.draw(companies, nodepositions, node_size=5, edge_color=\"r\", font_size=12, with_labels=True)\n",
    "plt.show()"
   ]
  },
  {
   "cell_type": "markdown",
   "metadata": {},
   "source": [
    "Zum Schluss versuchen wir das ganze mit Plotly noch etwas schöner zu gestalten. Wir passen die Größe der Knoten an der Häufigkeit der Entitäten an und machne das Gleiche für die Stärke der Kanten.\n",
    "\n",
    "Damit man am Ende ein schönes Ergebnis hat, muss man ein wenig mit den Funktionen für die Berechnung der Größen spielen."
   ]
  },
  {
   "cell_type": "code",
   "execution_count": 342,
   "metadata": {},
   "outputs": [
    {
     "data": {
      "application/vnd.plotly.v1+json": {
       "config": {
        "plotlyServerURL": "https://plot.ly"
       },
       "data": [
        {
         "line": {
          "color": "cornflowerblue",
          "width": 0.6838521170864333
         },
         "mode": "lines",
         "type": "scatter",
         "x": [
          0.04121792005868922,
          0.2438470239646859,
          null
         ],
         "y": [
          -0.360800669215263,
          0.2181623235837661,
          null
         ]
        },
        {
         "line": {
          "color": "cornflowerblue",
          "width": 0.1
         },
         "mode": "lines",
         "type": "scatter",
         "x": [
          0.04121792005868922,
          0.6377120898083345,
          null
         ],
         "y": [
          -0.360800669215263,
          0.18703429095500942,
          null
         ]
        },
        {
         "line": {
          "color": "cornflowerblue",
          "width": 0.33635856610148585
         },
         "mode": "lines",
         "type": "scatter",
         "x": [
          0.04121792005868922,
          -0.14578774650244875,
          null
         ],
         "y": [
          -0.360800669215263,
          -0.08775699062078897,
          null
         ]
        },
        {
         "line": {
          "color": "cornflowerblue",
          "width": 0.33635856610148585
         },
         "mode": "lines",
         "type": "scatter",
         "x": [
          0.04121792005868922,
          0.10702281305638145,
          null
         ],
         "y": [
          -0.360800669215263,
          0.0012832255324215674,
          null
         ]
        },
        {
         "line": {
          "color": "cornflowerblue",
          "width": 0.1
         },
         "mode": "lines",
         "type": "scatter",
         "x": [
          0.04121792005868922,
          -0.12860724550353372,
          null
         ],
         "y": [
          -0.360800669215263,
          -0.47518907468607585,
          null
         ]
        },
        {
         "line": {
          "color": "cornflowerblue",
          "width": 0.33635856610148585
         },
         "mode": "lines",
         "type": "scatter",
         "x": [
          0.04121792005868922,
          0.021920736626570642,
          null
         ],
         "y": [
          -0.360800669215263,
          0.26368275779134503,
          null
         ]
        },
        {
         "line": {
          "color": "cornflowerblue",
          "width": 0.1
         },
         "mode": "lines",
         "type": "scatter",
         "x": [
          0.04121792005868922,
          -0.6128665381799824,
          null
         ],
         "y": [
          -0.360800669215263,
          -0.1909544594220539,
          null
         ]
        },
        {
         "line": {
          "color": "cornflowerblue",
          "width": 0.33635856610148585
         },
         "mode": "lines",
         "type": "scatter",
         "x": [
          0.04121792005868922,
          -0.3040105666860026,
          null
         ],
         "y": [
          -0.360800669215263,
          -0.38409750841958246,
          null
         ]
        },
        {
         "line": {
          "color": "cornflowerblue",
          "width": 0.1
         },
         "mode": "lines",
         "type": "scatter",
         "x": [
          0.04121792005868922,
          -0.33002680866846684,
          null
         ],
         "y": [
          -0.360800669215263,
          0.023994891892127612,
          null
         ]
        },
        {
         "line": {
          "color": "cornflowerblue",
          "width": 0.1
         },
         "mode": "lines",
         "type": "scatter",
         "x": [
          0.04121792005868922,
          -0.2300679390208719,
          null
         ],
         "y": [
          -0.360800669215263,
          -0.6313122433344782,
          null
         ]
        },
        {
         "line": {
          "color": "cornflowerblue",
          "width": 0.33635856610148585
         },
         "mode": "lines",
         "type": "scatter",
         "x": [
          0.04121792005868922,
          -0.45968373616498714,
          null
         ],
         "y": [
          -0.360800669215263,
          -0.5603915441486693,
          null
         ]
        },
        {
         "line": {
          "color": "cornflowerblue",
          "width": 0.1
         },
         "mode": "lines",
         "type": "scatter",
         "x": [
          0.04121792005868922,
          -0.12119847991773774,
          null
         ],
         "y": [
          -0.360800669215263,
          0.06870868776461078,
          null
         ]
        },
        {
         "line": {
          "color": "cornflowerblue",
          "width": 0.1
         },
         "mode": "lines",
         "type": "scatter",
         "x": [
          0.04121792005868922,
          -0.6331813524244605,
          null
         ],
         "y": [
          -0.360800669215263,
          -0.41021496761515447,
          null
         ]
        },
        {
         "line": {
          "color": "cornflowerblue",
          "width": 0.6838521170864333
         },
         "mode": "lines",
         "type": "scatter",
         "x": [
          0.04121792005868922,
          0.08241216703789123,
          null
         ],
         "y": [
          -0.360800669215263,
          -1,
          null
         ]
        },
        {
         "line": {
          "color": "cornflowerblue",
          "width": 0.33635856610148585
         },
         "mode": "lines",
         "type": "scatter",
         "x": [
          0.04121792005868922,
          0.47213988699255455,
          null
         ],
         "y": [
          -0.360800669215263,
          -0.4284870567581638,
          null
         ]
        },
        {
         "line": {
          "color": "cornflowerblue",
          "width": 0.6838521170864333
         },
         "mode": "lines",
         "type": "scatter",
         "x": [
          0.04121792005868922,
          0.3400074627185959,
          null
         ],
         "y": [
          -0.360800669215263,
          -0.24983678162695636,
          null
         ]
        },
        {
         "line": {
          "color": "cornflowerblue",
          "width": 0.1
         },
         "mode": "lines",
         "type": "scatter",
         "x": [
          0.04121792005868922,
          -0.24946378089711987,
          null
         ],
         "y": [
          -0.360800669215263,
          0.7749439013437346,
          null
         ]
        },
        {
         "line": {
          "color": "cornflowerblue",
          "width": 0.1
         },
         "mode": "lines",
         "type": "scatter",
         "x": [
          0.04121792005868922,
          -0.5579472293657504,
          null
         ],
         "y": [
          -0.360800669215263,
          0.06375592721671683,
          null
         ]
        },
        {
         "line": {
          "color": "cornflowerblue",
          "width": 0.1
         },
         "mode": "lines",
         "type": "scatter",
         "x": [
          0.04121792005868922,
          -0.21884032332636646,
          null
         ],
         "y": [
          -0.360800669215263,
          -0.27307328069577336,
          null
         ]
        },
        {
         "line": {
          "color": "cornflowerblue",
          "width": 0.1
         },
         "mode": "lines",
         "type": "scatter",
         "x": [
          0.2438470239646859,
          0.6377120898083345,
          null
         ],
         "y": [
          0.2181623235837661,
          0.18703429095500942,
          null
         ]
        },
        {
         "line": {
          "color": "cornflowerblue",
          "width": 0.1
         },
         "mode": "lines",
         "type": "scatter",
         "x": [
          0.2438470239646859,
          -0.14578774650244875,
          null
         ],
         "y": [
          0.2181623235837661,
          -0.08775699062078897,
          null
         ]
        },
        {
         "line": {
          "color": "cornflowerblue",
          "width": 0.1
         },
         "mode": "lines",
         "type": "scatter",
         "x": [
          0.2438470239646859,
          0.10702281305638145,
          null
         ],
         "y": [
          0.2181623235837661,
          0.0012832255324215674,
          null
         ]
        },
        {
         "line": {
          "color": "cornflowerblue",
          "width": 0.1
         },
         "mode": "lines",
         "type": "scatter",
         "x": [
          0.2438470239646859,
          -0.12860724550353372,
          null
         ],
         "y": [
          0.2181623235837661,
          -0.47518907468607585,
          null
         ]
        },
        {
         "line": {
          "color": "cornflowerblue",
          "width": 0.1
         },
         "mode": "lines",
         "type": "scatter",
         "x": [
          0.2438470239646859,
          0.021920736626570642,
          null
         ],
         "y": [
          0.2181623235837661,
          0.26368275779134503,
          null
         ]
        },
        {
         "line": {
          "color": "cornflowerblue",
          "width": 0.1
         },
         "mode": "lines",
         "type": "scatter",
         "x": [
          0.2438470239646859,
          0.14858315031977043,
          null
         ],
         "y": [
          0.2181623235837661,
          0.5010333827156764,
          null
         ]
        },
        {
         "line": {
          "color": "cornflowerblue",
          "width": 0.1
         },
         "mode": "lines",
         "type": "scatter",
         "x": [
          0.2438470239646859,
          -0.24946378089711987,
          null
         ],
         "y": [
          0.2181623235837661,
          0.7749439013437346,
          null
         ]
        },
        {
         "line": {
          "color": "cornflowerblue",
          "width": 0.1
         },
         "mode": "lines",
         "type": "scatter",
         "x": [
          0.2438470239646859,
          0.5914104944915404,
          null
         ],
         "y": [
          0.2181623235837661,
          0.40853953099178303,
          null
         ]
        },
        {
         "line": {
          "color": "cornflowerblue",
          "width": 0.1
         },
         "mode": "lines",
         "type": "scatter",
         "x": [
          0.2438470239646859,
          0.08140562834778937,
          null
         ],
         "y": [
          0.2181623235837661,
          -0.20606390553445023,
          null
         ]
        },
        {
         "line": {
          "color": "cornflowerblue",
          "width": 0.1
         },
         "mode": "lines",
         "type": "scatter",
         "x": [
          0.2438470239646859,
          -0.351621165541006,
          null
         ],
         "y": [
          0.2181623235837661,
          0.25569275333893565,
          null
         ]
        },
        {
         "line": {
          "color": "cornflowerblue",
          "width": 0.1
         },
         "mode": "lines",
         "type": "scatter",
         "x": [
          0.2438470239646859,
          -0.12119847991773774,
          null
         ],
         "y": [
          0.2181623235837661,
          0.06870868776461078,
          null
         ]
        },
        {
         "line": {
          "color": "cornflowerblue",
          "width": 0.1
         },
         "mode": "lines",
         "type": "scatter",
         "x": [
          0.2438470239646859,
          0.3400074627185959,
          null
         ],
         "y": [
          0.2181623235837661,
          -0.24983678162695636,
          null
         ]
        },
        {
         "line": {
          "color": "cornflowerblue",
          "width": 0.1
         },
         "mode": "lines",
         "type": "scatter",
         "x": [
          0.2438470239646859,
          -0.3040105666860026,
          null
         ],
         "y": [
          0.2181623235837661,
          -0.38409750841958246,
          null
         ]
        },
        {
         "line": {
          "color": "cornflowerblue",
          "width": 0.1
         },
         "mode": "lines",
         "type": "scatter",
         "x": [
          0.6377120898083345,
          -0.14578774650244875,
          null
         ],
         "y": [
          0.18703429095500942,
          -0.08775699062078897,
          null
         ]
        },
        {
         "line": {
          "color": "cornflowerblue",
          "width": 0.1
         },
         "mode": "lines",
         "type": "scatter",
         "x": [
          0.6377120898083345,
          0.021920736626570642,
          null
         ],
         "y": [
          0.18703429095500942,
          0.26368275779134503,
          null
         ]
        },
        {
         "line": {
          "color": "cornflowerblue",
          "width": 0.33635856610148585
         },
         "mode": "lines",
         "type": "scatter",
         "x": [
          0.6377120898083345,
          0.47213988699255455,
          null
         ],
         "y": [
          0.18703429095500942,
          -0.4284870567581638,
          null
         ]
        },
        {
         "line": {
          "color": "cornflowerblue",
          "width": 0.1
         },
         "mode": "lines",
         "type": "scatter",
         "x": [
          0.6377120898083345,
          0.40409456703351765,
          null
         ],
         "y": [
          0.18703429095500942,
          0.744114758342256,
          null
         ]
        },
        {
         "line": {
          "color": "cornflowerblue",
          "width": 0.1
         },
         "mode": "lines",
         "type": "scatter",
         "x": [
          0.6377120898083345,
          0.6608562801733016,
          null
         ],
         "y": [
          0.18703429095500942,
          0.6899847762753917,
          null
         ]
        },
        {
         "line": {
          "color": "cornflowerblue",
          "width": 0.33635856610148585
         },
         "mode": "lines",
         "type": "scatter",
         "x": [
          0.6377120898083345,
          0.14858315031977043,
          null
         ],
         "y": [
          0.18703429095500942,
          0.5010333827156764,
          null
         ]
        },
        {
         "line": {
          "color": "cornflowerblue",
          "width": 0.1
         },
         "mode": "lines",
         "type": "scatter",
         "x": [
          0.6377120898083345,
          0.10702281305638145,
          null
         ],
         "y": [
          0.18703429095500942,
          0.0012832255324215674,
          null
         ]
        },
        {
         "line": {
          "color": "cornflowerblue",
          "width": 0.33635856610148585
         },
         "mode": "lines",
         "type": "scatter",
         "x": [
          0.6377120898083345,
          0.5914104944915404,
          null
         ],
         "y": [
          0.18703429095500942,
          0.40853953099178303,
          null
         ]
        },
        {
         "line": {
          "color": "cornflowerblue",
          "width": 1.1313708498984762
         },
         "mode": "lines",
         "type": "scatter",
         "x": [
          0.6377120898083345,
          0.42309515963863276,
          null
         ],
         "y": [
          0.18703429095500942,
          0.0691400364424155,
          null
         ]
        },
        {
         "line": {
          "color": "cornflowerblue",
          "width": 0.1
         },
         "mode": "lines",
         "type": "scatter",
         "x": [
          0.6377120898083345,
          0.08140562834778937,
          null
         ],
         "y": [
          0.18703429095500942,
          -0.20606390553445023,
          null
         ]
        },
        {
         "line": {
          "color": "cornflowerblue",
          "width": 0.1
         },
         "mode": "lines",
         "type": "scatter",
         "x": [
          0.6377120898083345,
          0.3400074627185959,
          null
         ],
         "y": [
          0.18703429095500942,
          -0.24983678162695636,
          null
         ]
        },
        {
         "line": {
          "color": "cornflowerblue",
          "width": 0.1
         },
         "mode": "lines",
         "type": "scatter",
         "x": [
          0.6377120898083345,
          0.08757753193048518,
          null
         ],
         "y": [
          0.18703429095500942,
          0.9881072378912223,
          null
         ]
        },
        {
         "line": {
          "color": "cornflowerblue",
          "width": 2.3001951752865812
         },
         "mode": "lines",
         "type": "scatter",
         "x": [
          -0.14578774650244875,
          -0.33002680866846684,
          null
         ],
         "y": [
          -0.08775699062078897,
          0.023994891892127612,
          null
         ]
        },
        {
         "line": {
          "color": "cornflowerblue",
          "width": 1.671850762441055
         },
         "mode": "lines",
         "type": "scatter",
         "x": [
          -0.14578774650244875,
          -0.2300679390208719,
          null
         ],
         "y": [
          -0.08775699062078897,
          -0.6313122433344782,
          null
         ]
        },
        {
         "line": {
          "color": "cornflowerblue",
          "width": 0.6838521170864333
         },
         "mode": "lines",
         "type": "scatter",
         "x": [
          -0.14578774650244875,
          -0.6128665381799824,
          null
         ],
         "y": [
          -0.08775699062078897,
          -0.1909544594220539,
          null
         ]
        },
        {
         "line": {
          "color": "cornflowerblue",
          "width": 0.1
         },
         "mode": "lines",
         "type": "scatter",
         "x": [
          -0.14578774650244875,
          -0.3040105666860026,
          null
         ],
         "y": [
          -0.08775699062078897,
          -0.38409750841958246,
          null
         ]
        },
        {
         "line": {
          "color": "cornflowerblue",
          "width": 1.1313708498984762
         },
         "mode": "lines",
         "type": "scatter",
         "x": [
          -0.14578774650244875,
          -0.45968373616498714,
          null
         ],
         "y": [
          -0.08775699062078897,
          -0.5603915441486693,
          null
         ]
        },
        {
         "line": {
          "color": "cornflowerblue",
          "width": 0.33635856610148585
         },
         "mode": "lines",
         "type": "scatter",
         "x": [
          -0.14578774650244875,
          -0.12119847991773774,
          null
         ],
         "y": [
          -0.08775699062078897,
          0.06870868776461078,
          null
         ]
        },
        {
         "line": {
          "color": "cornflowerblue",
          "width": 0.33635856610148585
         },
         "mode": "lines",
         "type": "scatter",
         "x": [
          -0.14578774650244875,
          -0.6331813524244605,
          null
         ],
         "y": [
          -0.08775699062078897,
          -0.41021496761515447,
          null
         ]
        },
        {
         "line": {
          "color": "cornflowerblue",
          "width": 1.1313708498984762
         },
         "mode": "lines",
         "type": "scatter",
         "x": [
          -0.14578774650244875,
          -0.12860724550353372,
          null
         ],
         "y": [
          -0.08775699062078897,
          -0.47518907468607585,
          null
         ]
        },
        {
         "line": {
          "color": "cornflowerblue",
          "width": 0.1
         },
         "mode": "lines",
         "type": "scatter",
         "x": [
          -0.14578774650244875,
          0.10702281305638145,
          null
         ],
         "y": [
          -0.08775699062078897,
          0.0012832255324215674,
          null
         ]
        },
        {
         "line": {
          "color": "cornflowerblue",
          "width": 1.1313708498984762
         },
         "mode": "lines",
         "type": "scatter",
         "x": [
          -0.14578774650244875,
          -0.5579472293657504,
          null
         ],
         "y": [
          -0.08775699062078897,
          0.06375592721671683,
          null
         ]
        },
        {
         "line": {
          "color": "cornflowerblue",
          "width": 0.1
         },
         "mode": "lines",
         "type": "scatter",
         "x": [
          -0.14578774650244875,
          -0.21884032332636646,
          null
         ],
         "y": [
          -0.08775699062078897,
          -0.27307328069577336,
          null
         ]
        },
        {
         "line": {
          "color": "cornflowerblue",
          "width": 0.33635856610148585
         },
         "mode": "lines",
         "type": "scatter",
         "x": [
          -0.14578774650244875,
          0.08140562834778937,
          null
         ],
         "y": [
          -0.08775699062078897,
          -0.20606390553445023,
          null
         ]
        },
        {
         "line": {
          "color": "cornflowerblue",
          "width": 0.33635856610148585
         },
         "mode": "lines",
         "type": "scatter",
         "x": [
          -0.14578774650244875,
          0.42309515963863276,
          null
         ],
         "y": [
          -0.08775699062078897,
          0.0691400364424155,
          null
         ]
        },
        {
         "line": {
          "color": "cornflowerblue",
          "width": 0.33635856610148585
         },
         "mode": "lines",
         "type": "scatter",
         "x": [
          -0.14578774650244875,
          0.021920736626570642,
          null
         ],
         "y": [
          -0.08775699062078897,
          0.26368275779134503,
          null
         ]
        },
        {
         "line": {
          "color": "cornflowerblue",
          "width": 0.1
         },
         "mode": "lines",
         "type": "scatter",
         "x": [
          -0.14578774650244875,
          -0.351621165541006,
          null
         ],
         "y": [
          -0.08775699062078897,
          0.25569275333893565,
          null
         ]
        },
        {
         "line": {
          "color": "cornflowerblue",
          "width": 0.1
         },
         "mode": "lines",
         "type": "scatter",
         "x": [
          -0.14578774650244875,
          0.5914104944915404,
          null
         ],
         "y": [
          -0.08775699062078897,
          0.40853953099178303,
          null
         ]
        },
        {
         "line": {
          "color": "cornflowerblue",
          "width": 0.1
         },
         "mode": "lines",
         "type": "scatter",
         "x": [
          -0.14578774650244875,
          0.14858315031977043,
          null
         ],
         "y": [
          -0.08775699062078897,
          0.5010333827156764,
          null
         ]
        },
        {
         "line": {
          "color": "cornflowerblue",
          "width": 0.1
         },
         "mode": "lines",
         "type": "scatter",
         "x": [
          -0.24946378089711987,
          0.14858315031977043,
          null
         ],
         "y": [
          0.7749439013437346,
          0.5010333827156764,
          null
         ]
        },
        {
         "line": {
          "color": "cornflowerblue",
          "width": 0.1
         },
         "mode": "lines",
         "type": "scatter",
         "x": [
          -0.24946378089711987,
          0.5914104944915404,
          null
         ],
         "y": [
          0.7749439013437346,
          0.40853953099178303,
          null
         ]
        },
        {
         "line": {
          "color": "cornflowerblue",
          "width": 0.1
         },
         "mode": "lines",
         "type": "scatter",
         "x": [
          -0.24946378089711987,
          0.021920736626570642,
          null
         ],
         "y": [
          0.7749439013437346,
          0.26368275779134503,
          null
         ]
        },
        {
         "line": {
          "color": "cornflowerblue",
          "width": 0.1
         },
         "mode": "lines",
         "type": "scatter",
         "x": [
          -0.24946378089711987,
          -0.5579472293657504,
          null
         ],
         "y": [
          0.7749439013437346,
          0.06375592721671683,
          null
         ]
        },
        {
         "line": {
          "color": "cornflowerblue",
          "width": 0.1
         },
         "mode": "lines",
         "type": "scatter",
         "x": [
          -0.6128665381799824,
          -0.351621165541006,
          null
         ],
         "y": [
          -0.1909544594220539,
          0.25569275333893565,
          null
         ]
        },
        {
         "line": {
          "color": "cornflowerblue",
          "width": 0.1
         },
         "mode": "lines",
         "type": "scatter",
         "x": [
          -0.6128665381799824,
          0.021920736626570642,
          null
         ],
         "y": [
          -0.1909544594220539,
          0.26368275779134503,
          null
         ]
        },
        {
         "line": {
          "color": "cornflowerblue",
          "width": 0.1
         },
         "mode": "lines",
         "type": "scatter",
         "x": [
          -0.6128665381799824,
          -0.3040105666860026,
          null
         ],
         "y": [
          -0.1909544594220539,
          -0.38409750841958246,
          null
         ]
        },
        {
         "line": {
          "color": "cornflowerblue",
          "width": 0.6838521170864333
         },
         "mode": "lines",
         "type": "scatter",
         "x": [
          -0.6128665381799824,
          -0.33002680866846684,
          null
         ],
         "y": [
          -0.1909544594220539,
          0.023994891892127612,
          null
         ]
        },
        {
         "line": {
          "color": "cornflowerblue",
          "width": 0.1
         },
         "mode": "lines",
         "type": "scatter",
         "x": [
          -0.6128665381799824,
          -0.2300679390208719,
          null
         ],
         "y": [
          -0.1909544594220539,
          -0.6313122433344782,
          null
         ]
        },
        {
         "line": {
          "color": "cornflowerblue",
          "width": 0.6838521170864333
         },
         "mode": "lines",
         "type": "scatter",
         "x": [
          -0.6128665381799824,
          -0.45968373616498714,
          null
         ],
         "y": [
          -0.1909544594220539,
          -0.5603915441486693,
          null
         ]
        },
        {
         "line": {
          "color": "cornflowerblue",
          "width": 0.1
         },
         "mode": "lines",
         "type": "scatter",
         "x": [
          -0.6128665381799824,
          -0.12119847991773774,
          null
         ],
         "y": [
          -0.1909544594220539,
          0.06870868776461078,
          null
         ]
        },
        {
         "line": {
          "color": "cornflowerblue",
          "width": 0.33635856610148585
         },
         "mode": "lines",
         "type": "scatter",
         "x": [
          -0.6128665381799824,
          -0.6331813524244605,
          null
         ],
         "y": [
          -0.1909544594220539,
          -0.41021496761515447,
          null
         ]
        },
        {
         "line": {
          "color": "cornflowerblue",
          "width": 0.6838521170864333
         },
         "mode": "lines",
         "type": "scatter",
         "x": [
          -0.6128665381799824,
          -0.21884032332636646,
          null
         ],
         "y": [
          -0.1909544594220539,
          -0.27307328069577336,
          null
         ]
        },
        {
         "line": {
          "color": "cornflowerblue",
          "width": 0.33635856610148585
         },
         "mode": "lines",
         "type": "scatter",
         "x": [
          -0.6128665381799824,
          -0.12860724550353372,
          null
         ],
         "y": [
          -0.1909544594220539,
          -0.47518907468607585,
          null
         ]
        },
        {
         "line": {
          "color": "cornflowerblue",
          "width": 0.33635856610148585
         },
         "mode": "lines",
         "type": "scatter",
         "x": [
          -0.6128665381799824,
          -0.5579472293657504,
          null
         ],
         "y": [
          -0.1909544594220539,
          0.06375592721671683,
          null
         ]
        },
        {
         "line": {
          "color": "cornflowerblue",
          "width": 0.33635856610148585
         },
         "mode": "lines",
         "type": "scatter",
         "x": [
          -0.6128665381799824,
          0.10702281305638145,
          null
         ],
         "y": [
          -0.1909544594220539,
          0.0012832255324215674,
          null
         ]
        },
        {
         "line": {
          "color": "cornflowerblue",
          "width": 0.1
         },
         "mode": "lines",
         "type": "scatter",
         "x": [
          -0.6128665381799824,
          0.08140562834778937,
          null
         ],
         "y": [
          -0.1909544594220539,
          -0.20606390553445023,
          null
         ]
        },
        {
         "line": {
          "color": "cornflowerblue",
          "width": 0.1
         },
         "mode": "lines",
         "type": "scatter",
         "x": [
          0.14858315031977043,
          0.08757753193048518,
          null
         ],
         "y": [
          0.5010333827156764,
          0.9881072378912223,
          null
         ]
        },
        {
         "line": {
          "color": "cornflowerblue",
          "width": 2.3001951752865812
         },
         "mode": "lines",
         "type": "scatter",
         "x": [
          0.14858315031977043,
          0.5914104944915404,
          null
         ],
         "y": [
          0.5010333827156764,
          0.40853953099178303,
          null
         ]
        },
        {
         "line": {
          "color": "cornflowerblue",
          "width": 0.33635856610148585
         },
         "mode": "lines",
         "type": "scatter",
         "x": [
          0.14858315031977043,
          0.40409456703351765,
          null
         ],
         "y": [
          0.5010333827156764,
          0.744114758342256,
          null
         ]
        },
        {
         "line": {
          "color": "cornflowerblue",
          "width": 0.1
         },
         "mode": "lines",
         "type": "scatter",
         "x": [
          0.14858315031977043,
          0.6608562801733016,
          null
         ],
         "y": [
          0.5010333827156764,
          0.6899847762753917,
          null
         ]
        },
        {
         "line": {
          "color": "cornflowerblue",
          "width": 0.33635856610148585
         },
         "mode": "lines",
         "type": "scatter",
         "x": [
          0.14858315031977043,
          0.10702281305638145,
          null
         ],
         "y": [
          0.5010333827156764,
          0.0012832255324215674,
          null
         ]
        },
        {
         "line": {
          "color": "cornflowerblue",
          "width": 3.0124619494611955
         },
         "mode": "lines",
         "type": "scatter",
         "x": [
          0.14858315031977043,
          0.42309515963863276,
          null
         ],
         "y": [
          0.5010333827156764,
          0.0691400364424155,
          null
         ]
        },
        {
         "line": {
          "color": "cornflowerblue",
          "width": 0.1
         },
         "mode": "lines",
         "type": "scatter",
         "x": [
          0.14858315031977043,
          -0.33002680866846684,
          null
         ],
         "y": [
          0.5010333827156764,
          0.023994891892127612,
          null
         ]
        },
        {
         "line": {
          "color": "cornflowerblue",
          "width": 0.1
         },
         "mode": "lines",
         "type": "scatter",
         "x": [
          0.14858315031977043,
          -0.351621165541006,
          null
         ],
         "y": [
          0.5010333827156764,
          0.25569275333893565,
          null
         ]
        },
        {
         "line": {
          "color": "cornflowerblue",
          "width": 0.1
         },
         "mode": "lines",
         "type": "scatter",
         "x": [
          0.14858315031977043,
          -0.21884032332636646,
          null
         ],
         "y": [
          0.5010333827156764,
          -0.27307328069577336,
          null
         ]
        },
        {
         "line": {
          "color": "cornflowerblue",
          "width": 0.33635856610148585
         },
         "mode": "lines",
         "type": "scatter",
         "x": [
          0.14858315031977043,
          0.3400074627185959,
          null
         ],
         "y": [
          0.5010333827156764,
          -0.24983678162695636,
          null
         ]
        },
        {
         "line": {
          "color": "cornflowerblue",
          "width": 0.1
         },
         "mode": "lines",
         "type": "scatter",
         "x": [
          0.14858315031977043,
          -0.5579472293657504,
          null
         ],
         "y": [
          0.5010333827156764,
          0.06375592721671683,
          null
         ]
        },
        {
         "line": {
          "color": "cornflowerblue",
          "width": 0.1
         },
         "mode": "lines",
         "type": "scatter",
         "x": [
          0.47213988699255455,
          0.5914104944915404,
          null
         ],
         "y": [
          -0.4284870567581638,
          0.40853953099178303,
          null
         ]
        },
        {
         "line": {
          "color": "cornflowerblue",
          "width": 1.1313708498984762
         },
         "mode": "lines",
         "type": "scatter",
         "x": [
          0.47213988699255455,
          0.3400074627185959,
          null
         ],
         "y": [
          -0.4284870567581638,
          -0.24983678162695636,
          null
         ]
        },
        {
         "line": {
          "color": "cornflowerblue",
          "width": 0.33635856610148585
         },
         "mode": "lines",
         "type": "scatter",
         "x": [
          0.47213988699255455,
          0.10702281305638145,
          null
         ],
         "y": [
          -0.4284870567581638,
          0.0012832255324215674,
          null
         ]
        },
        {
         "line": {
          "color": "cornflowerblue",
          "width": 0.33635856610148585
         },
         "mode": "lines",
         "type": "scatter",
         "x": [
          0.47213988699255455,
          0.021920736626570642,
          null
         ],
         "y": [
          -0.4284870567581638,
          0.26368275779134503,
          null
         ]
        },
        {
         "line": {
          "color": "cornflowerblue",
          "width": 0.1
         },
         "mode": "lines",
         "type": "scatter",
         "x": [
          0.47213988699255455,
          0.42309515963863276,
          null
         ],
         "y": [
          -0.4284870567581638,
          0.0691400364424155,
          null
         ]
        },
        {
         "line": {
          "color": "cornflowerblue",
          "width": 0.1
         },
         "mode": "lines",
         "type": "scatter",
         "x": [
          0.47213988699255455,
          -0.2300679390208719,
          null
         ],
         "y": [
          -0.4284870567581638,
          -0.6313122433344782,
          null
         ]
        },
        {
         "line": {
          "color": "cornflowerblue",
          "width": 0.33635856610148585
         },
         "mode": "lines",
         "type": "scatter",
         "x": [
          0.47213988699255455,
          -0.3040105666860026,
          null
         ],
         "y": [
          -0.4284870567581638,
          -0.38409750841958246,
          null
         ]
        },
        {
         "line": {
          "color": "cornflowerblue",
          "width": 0.1
         },
         "mode": "lines",
         "type": "scatter",
         "x": [
          0.47213988699255455,
          -0.12119847991773774,
          null
         ],
         "y": [
          -0.4284870567581638,
          0.06870868776461078,
          null
         ]
        },
        {
         "line": {
          "color": "cornflowerblue",
          "width": 0.1
         },
         "mode": "lines",
         "type": "scatter",
         "x": [
          0.47213988699255455,
          -0.21884032332636646,
          null
         ],
         "y": [
          -0.4284870567581638,
          -0.27307328069577336,
          null
         ]
        },
        {
         "line": {
          "color": "cornflowerblue",
          "width": 0.1
         },
         "mode": "lines",
         "type": "scatter",
         "x": [
          0.47213988699255455,
          0.08241216703789123,
          null
         ],
         "y": [
          -0.4284870567581638,
          -1,
          null
         ]
        },
        {
         "line": {
          "color": "cornflowerblue",
          "width": 0.33635856610148585
         },
         "mode": "lines",
         "type": "scatter",
         "x": [
          0.10702281305638145,
          0.6608562801733016,
          null
         ],
         "y": [
          0.0012832255324215674,
          0.6899847762753917,
          null
         ]
        },
        {
         "line": {
          "color": "cornflowerblue",
          "width": 1.1313708498984762
         },
         "mode": "lines",
         "type": "scatter",
         "x": [
          0.10702281305638145,
          0.021920736626570642,
          null
         ],
         "y": [
          0.0012832255324215674,
          0.26368275779134503,
          null
         ]
        },
        {
         "line": {
          "color": "cornflowerblue",
          "width": 0.6838521170864333
         },
         "mode": "lines",
         "type": "scatter",
         "x": [
          0.10702281305638145,
          -0.12860724550353372,
          null
         ],
         "y": [
          0.0012832255324215674,
          -0.47518907468607585,
          null
         ]
        },
        {
         "line": {
          "color": "cornflowerblue",
          "width": 0.33635856610148585
         },
         "mode": "lines",
         "type": "scatter",
         "x": [
          0.10702281305638145,
          -0.45968373616498714,
          null
         ],
         "y": [
          0.0012832255324215674,
          -0.5603915441486693,
          null
         ]
        },
        {
         "line": {
          "color": "cornflowerblue",
          "width": 0.33635856610148585
         },
         "mode": "lines",
         "type": "scatter",
         "x": [
          0.10702281305638145,
          -0.6331813524244605,
          null
         ],
         "y": [
          0.0012832255324215674,
          -0.41021496761515447,
          null
         ]
        },
        {
         "line": {
          "color": "cornflowerblue",
          "width": 0.1
         },
         "mode": "lines",
         "type": "scatter",
         "x": [
          0.10702281305638145,
          -0.5579472293657504,
          null
         ],
         "y": [
          0.0012832255324215674,
          0.06375592721671683,
          null
         ]
        },
        {
         "line": {
          "color": "cornflowerblue",
          "width": 0.6838521170864333
         },
         "mode": "lines",
         "type": "scatter",
         "x": [
          0.10702281305638145,
          -0.21884032332636646,
          null
         ],
         "y": [
          0.0012832255324215674,
          -0.27307328069577336,
          null
         ]
        },
        {
         "line": {
          "color": "cornflowerblue",
          "width": 0.1
         },
         "mode": "lines",
         "type": "scatter",
         "x": [
          0.10702281305638145,
          0.40409456703351765,
          null
         ],
         "y": [
          0.0012832255324215674,
          0.744114758342256,
          null
         ]
        },
        {
         "line": {
          "color": "cornflowerblue",
          "width": 0.1
         },
         "mode": "lines",
         "type": "scatter",
         "x": [
          0.10702281305638145,
          0.5914104944915404,
          null
         ],
         "y": [
          0.0012832255324215674,
          0.40853953099178303,
          null
         ]
        },
        {
         "line": {
          "color": "cornflowerblue",
          "width": 0.33635856610148585
         },
         "mode": "lines",
         "type": "scatter",
         "x": [
          0.10702281305638145,
          0.42309515963863276,
          null
         ],
         "y": [
          0.0012832255324215674,
          0.0691400364424155,
          null
         ]
        },
        {
         "line": {
          "color": "cornflowerblue",
          "width": 0.33635856610148585
         },
         "mode": "lines",
         "type": "scatter",
         "x": [
          0.10702281305638145,
          0.08140562834778937,
          null
         ],
         "y": [
          0.0012832255324215674,
          -0.20606390553445023,
          null
         ]
        },
        {
         "line": {
          "color": "cornflowerblue",
          "width": 1.1313708498984762
         },
         "mode": "lines",
         "type": "scatter",
         "x": [
          0.10702281305638145,
          0.3400074627185959,
          null
         ],
         "y": [
          0.0012832255324215674,
          -0.24983678162695636,
          null
         ]
        },
        {
         "line": {
          "color": "cornflowerblue",
          "width": 0.1
         },
         "mode": "lines",
         "type": "scatter",
         "x": [
          0.10702281305638145,
          -0.3040105666860026,
          null
         ],
         "y": [
          0.0012832255324215674,
          -0.38409750841958246,
          null
         ]
        },
        {
         "line": {
          "color": "cornflowerblue",
          "width": 0.1
         },
         "mode": "lines",
         "type": "scatter",
         "x": [
          0.10702281305638145,
          -0.12119847991773774,
          null
         ],
         "y": [
          0.0012832255324215674,
          0.06870868776461078,
          null
         ]
        },
        {
         "line": {
          "color": "cornflowerblue",
          "width": 0.1
         },
         "mode": "lines",
         "type": "scatter",
         "x": [
          0.10702281305638145,
          -0.33002680866846684,
          null
         ],
         "y": [
          0.0012832255324215674,
          0.023994891892127612,
          null
         ]
        },
        {
         "line": {
          "color": "cornflowerblue",
          "width": 0.1
         },
         "mode": "lines",
         "type": "scatter",
         "x": [
          0.6608562801733016,
          0.021920736626570642,
          null
         ],
         "y": [
          0.6899847762753917,
          0.26368275779134503,
          null
         ]
        },
        {
         "line": {
          "color": "cornflowerblue",
          "width": 1.1313708498984762
         },
         "mode": "lines",
         "type": "scatter",
         "x": [
          0.6608562801733016,
          0.40409456703351765,
          null
         ],
         "y": [
          0.6899847762753917,
          0.744114758342256,
          null
         ]
        },
        {
         "line": {
          "color": "cornflowerblue",
          "width": 0.1
         },
         "mode": "lines",
         "type": "scatter",
         "x": [
          0.6608562801733016,
          0.5914104944915404,
          null
         ],
         "y": [
          0.6899847762753917,
          0.40853953099178303,
          null
         ]
        },
        {
         "line": {
          "color": "cornflowerblue",
          "width": 0.6838521170864333
         },
         "mode": "lines",
         "type": "scatter",
         "x": [
          0.6608562801733016,
          0.42309515963863276,
          null
         ],
         "y": [
          0.6899847762753917,
          0.0691400364424155,
          null
         ]
        },
        {
         "line": {
          "color": "cornflowerblue",
          "width": 0.1
         },
         "mode": "lines",
         "type": "scatter",
         "x": [
          0.6608562801733016,
          -0.12119847991773774,
          null
         ],
         "y": [
          0.6899847762753917,
          0.06870868776461078,
          null
         ]
        },
        {
         "line": {
          "color": "cornflowerblue",
          "width": 0.1
         },
         "mode": "lines",
         "type": "scatter",
         "x": [
          0.6608562801733016,
          0.08757753193048518,
          null
         ],
         "y": [
          0.6899847762753917,
          0.9881072378912223,
          null
         ]
        },
        {
         "line": {
          "color": "cornflowerblue",
          "width": 0.6838521170864333
         },
         "mode": "lines",
         "type": "scatter",
         "x": [
          0.021920736626570642,
          -0.351621165541006,
          null
         ],
         "y": [
          0.26368275779134503,
          0.25569275333893565,
          null
         ]
        },
        {
         "line": {
          "color": "cornflowerblue",
          "width": 0.1
         },
         "mode": "lines",
         "type": "scatter",
         "x": [
          0.021920736626570642,
          -0.12860724550353372,
          null
         ],
         "y": [
          0.26368275779134503,
          -0.47518907468607585,
          null
         ]
        },
        {
         "line": {
          "color": "cornflowerblue",
          "width": 0.33635856610148585
         },
         "mode": "lines",
         "type": "scatter",
         "x": [
          0.021920736626570642,
          0.3400074627185959,
          null
         ],
         "y": [
          0.26368275779134503,
          -0.24983678162695636,
          null
         ]
        },
        {
         "line": {
          "color": "cornflowerblue",
          "width": 0.1
         },
         "mode": "lines",
         "type": "scatter",
         "x": [
          0.021920736626570642,
          0.08757753193048518,
          null
         ],
         "y": [
          0.26368275779134503,
          0.9881072378912223,
          null
         ]
        },
        {
         "line": {
          "color": "cornflowerblue",
          "width": 0.1
         },
         "mode": "lines",
         "type": "scatter",
         "x": [
          0.021920736626570642,
          -0.3040105666860026,
          null
         ],
         "y": [
          0.26368275779134503,
          -0.38409750841958246,
          null
         ]
        },
        {
         "line": {
          "color": "cornflowerblue",
          "width": 0.1
         },
         "mode": "lines",
         "type": "scatter",
         "x": [
          0.021920736626570642,
          -0.12119847991773774,
          null
         ],
         "y": [
          0.26368275779134503,
          0.06870868776461078,
          null
         ]
        },
        {
         "line": {
          "color": "cornflowerblue",
          "width": 0.1
         },
         "mode": "lines",
         "type": "scatter",
         "x": [
          0.021920736626570642,
          -0.21884032332636646,
          null
         ],
         "y": [
          0.26368275779134503,
          -0.27307328069577336,
          null
         ]
        },
        {
         "line": {
          "color": "cornflowerblue",
          "width": 0.33635856610148585
         },
         "mode": "lines",
         "type": "scatter",
         "x": [
          -0.351621165541006,
          -0.3040105666860026,
          null
         ],
         "y": [
          0.25569275333893565,
          -0.38409750841958246,
          null
         ]
        },
        {
         "line": {
          "color": "cornflowerblue",
          "width": 1.1313708498984762
         },
         "mode": "lines",
         "type": "scatter",
         "x": [
          -0.351621165541006,
          -0.33002680866846684,
          null
         ],
         "y": [
          0.25569275333893565,
          0.023994891892127612,
          null
         ]
        },
        {
         "line": {
          "color": "cornflowerblue",
          "width": 0.33635856610148585
         },
         "mode": "lines",
         "type": "scatter",
         "x": [
          -0.351621165541006,
          -0.21884032332636646,
          null
         ],
         "y": [
          0.25569275333893565,
          -0.27307328069577336,
          null
         ]
        },
        {
         "line": {
          "color": "cornflowerblue",
          "width": 0.1
         },
         "mode": "lines",
         "type": "scatter",
         "x": [
          -0.351621165541006,
          0.08757753193048518,
          null
         ],
         "y": [
          0.25569275333893565,
          0.9881072378912223,
          null
         ]
        },
        {
         "line": {
          "color": "cornflowerblue",
          "width": 0.33635856610148585
         },
         "mode": "lines",
         "type": "scatter",
         "x": [
          -0.351621165541006,
          0.3400074627185959,
          null
         ],
         "y": [
          0.25569275333893565,
          -0.24983678162695636,
          null
         ]
        },
        {
         "line": {
          "color": "cornflowerblue",
          "width": 0.33635856610148585
         },
         "mode": "lines",
         "type": "scatter",
         "x": [
          -0.351621165541006,
          0.08140562834778937,
          null
         ],
         "y": [
          0.25569275333893565,
          -0.20606390553445023,
          null
         ]
        },
        {
         "line": {
          "color": "cornflowerblue",
          "width": 0.1
         },
         "mode": "lines",
         "type": "scatter",
         "x": [
          -0.351621165541006,
          -0.12119847991773774,
          null
         ],
         "y": [
          0.25569275333893565,
          0.06870868776461078,
          null
         ]
        },
        {
         "line": {
          "color": "cornflowerblue",
          "width": 0.1
         },
         "mode": "lines",
         "type": "scatter",
         "x": [
          -0.351621165541006,
          -0.2300679390208719,
          null
         ],
         "y": [
          0.25569275333893565,
          -0.6313122433344782,
          null
         ]
        },
        {
         "line": {
          "color": "cornflowerblue",
          "width": 0.1
         },
         "mode": "lines",
         "type": "scatter",
         "x": [
          -0.351621165541006,
          -0.45968373616498714,
          null
         ],
         "y": [
          0.25569275333893565,
          -0.5603915441486693,
          null
         ]
        },
        {
         "line": {
          "color": "cornflowerblue",
          "width": 0.33635856610148585
         },
         "mode": "lines",
         "type": "scatter",
         "x": [
          0.42309515963863276,
          0.40409456703351765,
          null
         ],
         "y": [
          0.0691400364424155,
          0.744114758342256,
          null
         ]
        },
        {
         "line": {
          "color": "cornflowerblue",
          "width": 0.6838521170864333
         },
         "mode": "lines",
         "type": "scatter",
         "x": [
          0.42309515963863276,
          0.5914104944915404,
          null
         ],
         "y": [
          0.0691400364424155,
          0.40853953099178303,
          null
         ]
        },
        {
         "line": {
          "color": "cornflowerblue",
          "width": 0.33635856610148585
         },
         "mode": "lines",
         "type": "scatter",
         "x": [
          0.42309515963863276,
          0.08140562834778937,
          null
         ],
         "y": [
          0.0691400364424155,
          -0.20606390553445023,
          null
         ]
        },
        {
         "line": {
          "color": "cornflowerblue",
          "width": 0.1
         },
         "mode": "lines",
         "type": "scatter",
         "x": [
          0.42309515963863276,
          -0.12860724550353372,
          null
         ],
         "y": [
          0.0691400364424155,
          -0.47518907468607585,
          null
         ]
        },
        {
         "line": {
          "color": "cornflowerblue",
          "width": 0.1
         },
         "mode": "lines",
         "type": "scatter",
         "x": [
          0.42309515963863276,
          -0.33002680866846684,
          null
         ],
         "y": [
          0.0691400364424155,
          0.023994891892127612,
          null
         ]
        },
        {
         "line": {
          "color": "cornflowerblue",
          "width": 0.1
         },
         "mode": "lines",
         "type": "scatter",
         "x": [
          0.42309515963863276,
          -0.2300679390208719,
          null
         ],
         "y": [
          0.0691400364424155,
          -0.6313122433344782,
          null
         ]
        },
        {
         "line": {
          "color": "cornflowerblue",
          "width": 0.1
         },
         "mode": "lines",
         "type": "scatter",
         "x": [
          0.42309515963863276,
          0.3400074627185959,
          null
         ],
         "y": [
          0.0691400364424155,
          -0.24983678162695636,
          null
         ]
        },
        {
         "line": {
          "color": "cornflowerblue",
          "width": 0.1
         },
         "mode": "lines",
         "type": "scatter",
         "x": [
          0.42309515963863276,
          -0.5579472293657504,
          null
         ],
         "y": [
          0.0691400364424155,
          0.06375592721671683,
          null
         ]
        },
        {
         "line": {
          "color": "cornflowerblue",
          "width": 0.6838521170864333
         },
         "mode": "lines",
         "type": "scatter",
         "x": [
          -0.3040105666860026,
          -0.33002680866846684,
          null
         ],
         "y": [
          -0.38409750841958246,
          0.023994891892127612,
          null
         ]
        },
        {
         "line": {
          "color": "cornflowerblue",
          "width": 0.33635856610148585
         },
         "mode": "lines",
         "type": "scatter",
         "x": [
          -0.3040105666860026,
          -0.6331813524244605,
          null
         ],
         "y": [
          -0.38409750841958246,
          -0.41021496761515447,
          null
         ]
        },
        {
         "line": {
          "color": "cornflowerblue",
          "width": 0.1
         },
         "mode": "lines",
         "type": "scatter",
         "x": [
          -0.3040105666860026,
          -0.5579472293657504,
          null
         ],
         "y": [
          -0.38409750841958246,
          0.06375592721671683,
          null
         ]
        },
        {
         "line": {
          "color": "cornflowerblue",
          "width": 0.33635856610148585
         },
         "mode": "lines",
         "type": "scatter",
         "x": [
          -0.3040105666860026,
          0.08241216703789123,
          null
         ],
         "y": [
          -0.38409750841958246,
          -1,
          null
         ]
        },
        {
         "line": {
          "color": "cornflowerblue",
          "width": 0.33635856610148585
         },
         "mode": "lines",
         "type": "scatter",
         "x": [
          -0.3040105666860026,
          -0.45968373616498714,
          null
         ],
         "y": [
          -0.38409750841958246,
          -0.5603915441486693,
          null
         ]
        },
        {
         "line": {
          "color": "cornflowerblue",
          "width": 0.1
         },
         "mode": "lines",
         "type": "scatter",
         "x": [
          -0.3040105666860026,
          -0.2300679390208719,
          null
         ],
         "y": [
          -0.38409750841958246,
          -0.6313122433344782,
          null
         ]
        },
        {
         "line": {
          "color": "cornflowerblue",
          "width": 0.6838521170864333
         },
         "mode": "lines",
         "type": "scatter",
         "x": [
          -0.3040105666860026,
          -0.12119847991773774,
          null
         ],
         "y": [
          -0.38409750841958246,
          0.06870868776461078,
          null
         ]
        },
        {
         "line": {
          "color": "cornflowerblue",
          "width": 0.6838521170864333
         },
         "mode": "lines",
         "type": "scatter",
         "x": [
          -0.3040105666860026,
          -0.21884032332636646,
          null
         ],
         "y": [
          -0.38409750841958246,
          -0.27307328069577336,
          null
         ]
        },
        {
         "line": {
          "color": "cornflowerblue",
          "width": 0.6838521170864333
         },
         "mode": "lines",
         "type": "scatter",
         "x": [
          -0.3040105666860026,
          0.3400074627185959,
          null
         ],
         "y": [
          -0.38409750841958246,
          -0.24983678162695636,
          null
         ]
        },
        {
         "line": {
          "color": "cornflowerblue",
          "width": 2.3001951752865812
         },
         "mode": "lines",
         "type": "scatter",
         "x": [
          -0.33002680866846684,
          -0.2300679390208719,
          null
         ],
         "y": [
          0.023994891892127612,
          -0.6313122433344782,
          null
         ]
        },
        {
         "line": {
          "color": "cornflowerblue",
          "width": 1.1313708498984762
         },
         "mode": "lines",
         "type": "scatter",
         "x": [
          -0.33002680866846684,
          -0.45968373616498714,
          null
         ],
         "y": [
          0.023994891892127612,
          -0.5603915441486693,
          null
         ]
        },
        {
         "line": {
          "color": "cornflowerblue",
          "width": 1.1313708498984762
         },
         "mode": "lines",
         "type": "scatter",
         "x": [
          -0.33002680866846684,
          -0.6331813524244605,
          null
         ],
         "y": [
          0.023994891892127612,
          -0.41021496761515447,
          null
         ]
        },
        {
         "line": {
          "color": "cornflowerblue",
          "width": 2.3001951752865812
         },
         "mode": "lines",
         "type": "scatter",
         "x": [
          -0.33002680866846684,
          -0.21884032332636646,
          null
         ],
         "y": [
          0.023994891892127612,
          -0.27307328069577336,
          null
         ]
        },
        {
         "line": {
          "color": "cornflowerblue",
          "width": 0.33635856610148585
         },
         "mode": "lines",
         "type": "scatter",
         "x": [
          -0.33002680866846684,
          -0.12119847991773774,
          null
         ],
         "y": [
          0.023994891892127612,
          0.06870868776461078,
          null
         ]
        },
        {
         "line": {
          "color": "cornflowerblue",
          "width": 1.671850762441055
         },
         "mode": "lines",
         "type": "scatter",
         "x": [
          -0.33002680866846684,
          -0.12860724550353372,
          null
         ],
         "y": [
          0.023994891892127612,
          -0.47518907468607585,
          null
         ]
        },
        {
         "line": {
          "color": "cornflowerblue",
          "width": 0.1
         },
         "mode": "lines",
         "type": "scatter",
         "x": [
          -0.33002680866846684,
          -0.5579472293657504,
          null
         ],
         "y": [
          0.023994891892127612,
          0.06375592721671683,
          null
         ]
        },
        {
         "line": {
          "color": "cornflowerblue",
          "width": 0.6838521170864333
         },
         "mode": "lines",
         "type": "scatter",
         "x": [
          -0.33002680866846684,
          0.08140562834778937,
          null
         ],
         "y": [
          0.023994891892127612,
          -0.20606390553445023,
          null
         ]
        },
        {
         "line": {
          "color": "cornflowerblue",
          "width": 0.1
         },
         "mode": "lines",
         "type": "scatter",
         "x": [
          -0.33002680866846684,
          0.08757753193048518,
          null
         ],
         "y": [
          0.023994891892127612,
          0.9881072378912223,
          null
         ]
        },
        {
         "line": {
          "color": "cornflowerblue",
          "width": 0.1
         },
         "mode": "lines",
         "type": "scatter",
         "x": [
          -0.33002680866846684,
          0.40409456703351765,
          null
         ],
         "y": [
          0.023994891892127612,
          0.744114758342256,
          null
         ]
        },
        {
         "line": {
          "color": "cornflowerblue",
          "width": 1.1313708498984762
         },
         "mode": "lines",
         "type": "scatter",
         "x": [
          -0.12860724550353372,
          -0.45968373616498714,
          null
         ],
         "y": [
          -0.47518907468607585,
          -0.5603915441486693,
          null
         ]
        },
        {
         "line": {
          "color": "cornflowerblue",
          "width": 0.6838521170864333
         },
         "mode": "lines",
         "type": "scatter",
         "x": [
          -0.12860724550353372,
          -0.21884032332636646,
          null
         ],
         "y": [
          -0.47518907468607585,
          -0.27307328069577336,
          null
         ]
        },
        {
         "line": {
          "color": "cornflowerblue",
          "width": 1.1313708498984762
         },
         "mode": "lines",
         "type": "scatter",
         "x": [
          -0.12860724550353372,
          -0.5579472293657504,
          null
         ],
         "y": [
          -0.47518907468607585,
          0.06375592721671683,
          null
         ]
        },
        {
         "line": {
          "color": "cornflowerblue",
          "width": 0.6838521170864333
         },
         "mode": "lines",
         "type": "scatter",
         "x": [
          -0.12860724550353372,
          -0.6331813524244605,
          null
         ],
         "y": [
          -0.47518907468607585,
          -0.41021496761515447,
          null
         ]
        },
        {
         "line": {
          "color": "cornflowerblue",
          "width": 0.33635856610148585
         },
         "mode": "lines",
         "type": "scatter",
         "x": [
          -0.12860724550353372,
          0.08140562834778937,
          null
         ],
         "y": [
          -0.47518907468607585,
          -0.20606390553445023,
          null
         ]
        },
        {
         "line": {
          "color": "cornflowerblue",
          "width": 0.33635856610148585
         },
         "mode": "lines",
         "type": "scatter",
         "x": [
          -0.12860724550353372,
          -0.2300679390208719,
          null
         ],
         "y": [
          -0.47518907468607585,
          -0.6313122433344782,
          null
         ]
        },
        {
         "line": {
          "color": "cornflowerblue",
          "width": 0.1
         },
         "mode": "lines",
         "type": "scatter",
         "x": [
          0.40409456703351765,
          0.5914104944915404,
          null
         ],
         "y": [
          0.744114758342256,
          0.40853953099178303,
          null
         ]
        },
        {
         "line": {
          "color": "cornflowerblue",
          "width": 0.1
         },
         "mode": "lines",
         "type": "scatter",
         "x": [
          0.40409456703351765,
          -0.12119847991773774,
          null
         ],
         "y": [
          0.744114758342256,
          0.06870868776461078,
          null
         ]
        },
        {
         "line": {
          "color": "cornflowerblue",
          "width": 0.33635856610148585
         },
         "mode": "lines",
         "type": "scatter",
         "x": [
          0.3400074627185959,
          -0.12119847991773774,
          null
         ],
         "y": [
          -0.24983678162695636,
          0.06870868776461078,
          null
         ]
        },
        {
         "line": {
          "color": "cornflowerblue",
          "width": 0.33635856610148585
         },
         "mode": "lines",
         "type": "scatter",
         "x": [
          0.3400074627185959,
          -0.21884032332636646,
          null
         ],
         "y": [
          -0.24983678162695636,
          -0.27307328069577336,
          null
         ]
        },
        {
         "line": {
          "color": "cornflowerblue",
          "width": 0.1
         },
         "mode": "lines",
         "type": "scatter",
         "x": [
          0.3400074627185959,
          0.08140562834778937,
          null
         ],
         "y": [
          -0.24983678162695636,
          -0.20606390553445023,
          null
         ]
        },
        {
         "line": {
          "color": "cornflowerblue",
          "width": 0.33635856610148585
         },
         "mode": "lines",
         "type": "scatter",
         "x": [
          0.3400074627185959,
          0.08241216703789123,
          null
         ],
         "y": [
          -0.24983678162695636,
          -1,
          null
         ]
        },
        {
         "line": {
          "color": "cornflowerblue",
          "width": 0.6838521170864333
         },
         "mode": "lines",
         "type": "scatter",
         "x": [
          -0.12119847991773774,
          -0.2300679390208719,
          null
         ],
         "y": [
          0.06870868776461078,
          -0.6313122433344782,
          null
         ]
        },
        {
         "line": {
          "color": "cornflowerblue",
          "width": 0.1
         },
         "mode": "lines",
         "type": "scatter",
         "x": [
          -0.12119847991773774,
          -0.45968373616498714,
          null
         ],
         "y": [
          0.06870868776461078,
          -0.5603915441486693,
          null
         ]
        },
        {
         "line": {
          "color": "cornflowerblue",
          "width": 0.33635856610148585
         },
         "mode": "lines",
         "type": "scatter",
         "x": [
          -0.12119847991773774,
          -0.6331813524244605,
          null
         ],
         "y": [
          0.06870868776461078,
          -0.41021496761515447,
          null
         ]
        },
        {
         "line": {
          "color": "cornflowerblue",
          "width": 0.33635856610148585
         },
         "mode": "lines",
         "type": "scatter",
         "x": [
          -0.12119847991773774,
          0.08140562834778937,
          null
         ],
         "y": [
          0.06870868776461078,
          -0.20606390553445023,
          null
         ]
        },
        {
         "line": {
          "color": "cornflowerblue",
          "width": 0.1
         },
         "mode": "lines",
         "type": "scatter",
         "x": [
          -0.12119847991773774,
          -0.21884032332636646,
          null
         ],
         "y": [
          0.06870868776461078,
          -0.27307328069577336,
          null
         ]
        },
        {
         "line": {
          "color": "cornflowerblue",
          "width": 0.1
         },
         "mode": "lines",
         "type": "scatter",
         "x": [
          -0.12119847991773774,
          -0.5579472293657504,
          null
         ],
         "y": [
          0.06870868776461078,
          0.06375592721671683,
          null
         ]
        },
        {
         "line": {
          "color": "cornflowerblue",
          "width": 1.1313708498984762
         },
         "mode": "lines",
         "type": "scatter",
         "x": [
          -0.21884032332636646,
          -0.45968373616498714,
          null
         ],
         "y": [
          -0.27307328069577336,
          -0.5603915441486693,
          null
         ]
        },
        {
         "line": {
          "color": "cornflowerblue",
          "width": 0.6838521170864333
         },
         "mode": "lines",
         "type": "scatter",
         "x": [
          -0.21884032332636646,
          -0.6331813524244605,
          null
         ],
         "y": [
          -0.27307328069577336,
          -0.41021496761515447,
          null
         ]
        },
        {
         "line": {
          "color": "cornflowerblue",
          "width": 0.33635856610148585
         },
         "mode": "lines",
         "type": "scatter",
         "x": [
          -0.21884032332636646,
          -0.5579472293657504,
          null
         ],
         "y": [
          -0.27307328069577336,
          0.06375592721671683,
          null
         ]
        },
        {
         "line": {
          "color": "cornflowerblue",
          "width": 0.1
         },
         "mode": "lines",
         "type": "scatter",
         "x": [
          -0.21884032332636646,
          0.08140562834778937,
          null
         ],
         "y": [
          -0.27307328069577336,
          -0.20606390553445023,
          null
         ]
        },
        {
         "line": {
          "color": "cornflowerblue",
          "width": 0.1
         },
         "mode": "lines",
         "type": "scatter",
         "x": [
          -0.21884032332636646,
          0.08241216703789123,
          null
         ],
         "y": [
          -0.27307328069577336,
          -1,
          null
         ]
        },
        {
         "line": {
          "color": "cornflowerblue",
          "width": 0.1
         },
         "mode": "lines",
         "type": "scatter",
         "x": [
          0.5914104944915404,
          0.08140562834778937,
          null
         ],
         "y": [
          0.40853953099178303,
          -0.20606390553445023,
          null
         ]
        },
        {
         "line": {
          "color": "cornflowerblue",
          "width": 0.33635856610148585
         },
         "mode": "lines",
         "type": "scatter",
         "x": [
          -0.2300679390208719,
          -0.45968373616498714,
          null
         ],
         "y": [
          -0.6313122433344782,
          -0.5603915441486693,
          null
         ]
        },
        {
         "line": {
          "color": "cornflowerblue",
          "width": 0.33635856610148585
         },
         "mode": "lines",
         "type": "scatter",
         "x": [
          -0.2300679390208719,
          -0.6331813524244605,
          null
         ],
         "y": [
          -0.6313122433344782,
          -0.41021496761515447,
          null
         ]
        },
        {
         "line": {
          "color": "cornflowerblue",
          "width": 0.6838521170864333
         },
         "mode": "lines",
         "type": "scatter",
         "x": [
          -0.2300679390208719,
          0.08140562834778937,
          null
         ],
         "y": [
          -0.6313122433344782,
          -0.20606390553445023,
          null
         ]
        },
        {
         "line": {
          "color": "cornflowerblue",
          "width": 1.1313708498984762
         },
         "mode": "lines",
         "type": "scatter",
         "x": [
          -0.45968373616498714,
          -0.6331813524244605,
          null
         ],
         "y": [
          -0.5603915441486693,
          -0.41021496761515447,
          null
         ]
        },
        {
         "line": {
          "color": "cornflowerblue",
          "width": 0.6838521170864333
         },
         "mode": "lines",
         "type": "scatter",
         "x": [
          -0.45968373616498714,
          0.08241216703789123,
          null
         ],
         "y": [
          -0.5603915441486693,
          -1,
          null
         ]
        },
        {
         "line": {
          "color": "cornflowerblue",
          "width": 0.1
         },
         "mode": "lines",
         "type": "scatter",
         "x": [
          -0.45968373616498714,
          -0.5579472293657504,
          null
         ],
         "y": [
          -0.5603915441486693,
          0.06375592721671683,
          null
         ]
        },
        {
         "line": {
          "color": "cornflowerblue",
          "width": 0.33635856610148585
         },
         "mode": "lines",
         "type": "scatter",
         "x": [
          -0.45968373616498714,
          0.08140562834778937,
          null
         ],
         "y": [
          -0.5603915441486693,
          -0.20606390553445023,
          null
         ]
        },
        {
         "line": {
          "color": "cornflowerblue",
          "width": 1.1313708498984762
         },
         "mode": "lines",
         "type": "scatter",
         "x": [
          -0.6331813524244605,
          -0.5579472293657504,
          null
         ],
         "y": [
          -0.41021496761515447,
          0.06375592721671683,
          null
         ]
        },
        {
         "line": {
          "color": "cornflowerblue",
          "width": 0.1
         },
         "mode": "lines",
         "type": "scatter",
         "x": [
          -0.6331813524244605,
          0.08140562834778937,
          null
         ],
         "y": [
          -0.41021496761515447,
          -0.20606390553445023,
          null
         ]
        },
        {
         "hoverinfo": "none",
         "marker": {
          "color": [
           "cornflowerblue",
           "cornflowerblue",
           "cornflowerblue",
           "cornflowerblue",
           "cornflowerblue",
           "cornflowerblue",
           "cornflowerblue",
           "cornflowerblue",
           "cornflowerblue",
           "cornflowerblue",
           "cornflowerblue",
           "cornflowerblue",
           "cornflowerblue",
           "cornflowerblue",
           "cornflowerblue",
           "cornflowerblue",
           "cornflowerblue",
           "cornflowerblue",
           "cornflowerblue",
           "cornflowerblue",
           "cornflowerblue",
           "cornflowerblue",
           "cornflowerblue",
           "cornflowerblue",
           "cornflowerblue",
           "cornflowerblue",
           "cornflowerblue",
           "cornflowerblue"
          ],
          "size": [
           14.200000000000001,
           14.200000000000001,
           20.6,
           15.8,
           11.8,
           12.600000000000001,
           23.8,
           15,
           14.200000000000001,
           15.8,
           18.200000000000003,
           13.4,
           29.400000000000002,
           13.4,
           18.200000000000003,
           15,
           11.8,
           14.200000000000001,
           16.6,
           13.4,
           16.6,
           15,
           11.8,
           12.600000000000001,
           11.8,
           14.200000000000001,
           11.8,
           16.6
          ]
         },
         "mode": "markers+text",
         "text": [
          "<b>Siemens</b>",
          "<b>General Electric</b>",
          "<b>NASDAQ</b>",
          "<b>Ford</b>",
          "<b>Bank</b>",
          "<b>SA</b>",
          "<b>NYSE</b>",
          "<b>Microsoft</b>",
          "<b>EU-Kommission</b>",
          "<b>London Stock Exchange</b>",
          "<b>EU</b>",
          "<b>Deutschland</b>",
          "<b>New York Stock Exchange</b>",
          "<b>München</b>",
          "<b>Stuttgart</b>",
          "<b>Fiat</b>",
          "<b>Weblinks</b>",
          "<b>Londoner Börse</b>",
          "<b>IBM</b>",
          "<b>Sohn</b>",
          "<b>Hrsg.</b>",
          "<b>New Yorker Börse</b>",
          "<b>Formel 1</b>",
          "<b>Wehrmacht</b>",
          "<b>Volkswagen</b>",
          "<b>Daimler</b>",
          "<b>Sony</b>",
          "<b>Jahren</b>"
         ],
         "textfont": {
          "size": 9
         },
         "textposition": "top center",
         "type": "scatter",
         "x": [
          0.04121792005868922,
          0.2438470239646859,
          0.6377120898083345,
          -0.14578774650244875,
          -0.24946378089711987,
          -0.6128665381799824,
          0.14858315031977043,
          0.47213988699255455,
          0.10702281305638145,
          0.6608562801733016,
          0.021920736626570642,
          -0.351621165541006,
          0.42309515963863276,
          -0.3040105666860026,
          -0.33002680866846684,
          -0.12860724550353372,
          0.08757753193048518,
          0.40409456703351765,
          0.3400074627185959,
          -0.12119847991773774,
          -0.21884032332636646,
          0.5914104944915404,
          -0.2300679390208719,
          -0.45968373616498714,
          -0.6331813524244605,
          -0.5579472293657504,
          0.08241216703789123,
          0.08140562834778937
         ],
         "y": [
          -0.360800669215263,
          0.2181623235837661,
          0.18703429095500942,
          -0.08775699062078897,
          0.7749439013437346,
          -0.1909544594220539,
          0.5010333827156764,
          -0.4284870567581638,
          0.0012832255324215674,
          0.6899847762753917,
          0.26368275779134503,
          0.25569275333893565,
          0.0691400364424155,
          -0.38409750841958246,
          0.023994891892127612,
          -0.47518907468607585,
          0.9881072378912223,
          0.744114758342256,
          -0.24983678162695636,
          0.06870868776461078,
          -0.27307328069577336,
          0.40853953099178303,
          -0.6313122433344782,
          -0.5603915441486693,
          -0.41021496761515447,
          0.06375592721671683,
          -1,
          -0.20606390553445023
         ]
        }
       ],
       "layout": {
        "paper_bgcolor": "rgba(0,0,0,0)",
        "plot_bgcolor": "rgba(0,0,0,0)",
        "showlegend": false,
        "template": {
         "data": {
          "bar": [
           {
            "error_x": {
             "color": "#2a3f5f"
            },
            "error_y": {
             "color": "#2a3f5f"
            },
            "marker": {
             "line": {
              "color": "#E5ECF6",
              "width": 0.5
             }
            },
            "type": "bar"
           }
          ],
          "barpolar": [
           {
            "marker": {
             "line": {
              "color": "#E5ECF6",
              "width": 0.5
             }
            },
            "type": "barpolar"
           }
          ],
          "carpet": [
           {
            "aaxis": {
             "endlinecolor": "#2a3f5f",
             "gridcolor": "white",
             "linecolor": "white",
             "minorgridcolor": "white",
             "startlinecolor": "#2a3f5f"
            },
            "baxis": {
             "endlinecolor": "#2a3f5f",
             "gridcolor": "white",
             "linecolor": "white",
             "minorgridcolor": "white",
             "startlinecolor": "#2a3f5f"
            },
            "type": "carpet"
           }
          ],
          "choropleth": [
           {
            "colorbar": {
             "outlinewidth": 0,
             "ticks": ""
            },
            "type": "choropleth"
           }
          ],
          "contour": [
           {
            "colorbar": {
             "outlinewidth": 0,
             "ticks": ""
            },
            "colorscale": [
             [
              0,
              "#0d0887"
             ],
             [
              0.1111111111111111,
              "#46039f"
             ],
             [
              0.2222222222222222,
              "#7201a8"
             ],
             [
              0.3333333333333333,
              "#9c179e"
             ],
             [
              0.4444444444444444,
              "#bd3786"
             ],
             [
              0.5555555555555556,
              "#d8576b"
             ],
             [
              0.6666666666666666,
              "#ed7953"
             ],
             [
              0.7777777777777778,
              "#fb9f3a"
             ],
             [
              0.8888888888888888,
              "#fdca26"
             ],
             [
              1,
              "#f0f921"
             ]
            ],
            "type": "contour"
           }
          ],
          "contourcarpet": [
           {
            "colorbar": {
             "outlinewidth": 0,
             "ticks": ""
            },
            "type": "contourcarpet"
           }
          ],
          "heatmap": [
           {
            "colorbar": {
             "outlinewidth": 0,
             "ticks": ""
            },
            "colorscale": [
             [
              0,
              "#0d0887"
             ],
             [
              0.1111111111111111,
              "#46039f"
             ],
             [
              0.2222222222222222,
              "#7201a8"
             ],
             [
              0.3333333333333333,
              "#9c179e"
             ],
             [
              0.4444444444444444,
              "#bd3786"
             ],
             [
              0.5555555555555556,
              "#d8576b"
             ],
             [
              0.6666666666666666,
              "#ed7953"
             ],
             [
              0.7777777777777778,
              "#fb9f3a"
             ],
             [
              0.8888888888888888,
              "#fdca26"
             ],
             [
              1,
              "#f0f921"
             ]
            ],
            "type": "heatmap"
           }
          ],
          "heatmapgl": [
           {
            "colorbar": {
             "outlinewidth": 0,
             "ticks": ""
            },
            "colorscale": [
             [
              0,
              "#0d0887"
             ],
             [
              0.1111111111111111,
              "#46039f"
             ],
             [
              0.2222222222222222,
              "#7201a8"
             ],
             [
              0.3333333333333333,
              "#9c179e"
             ],
             [
              0.4444444444444444,
              "#bd3786"
             ],
             [
              0.5555555555555556,
              "#d8576b"
             ],
             [
              0.6666666666666666,
              "#ed7953"
             ],
             [
              0.7777777777777778,
              "#fb9f3a"
             ],
             [
              0.8888888888888888,
              "#fdca26"
             ],
             [
              1,
              "#f0f921"
             ]
            ],
            "type": "heatmapgl"
           }
          ],
          "histogram": [
           {
            "marker": {
             "colorbar": {
              "outlinewidth": 0,
              "ticks": ""
             }
            },
            "type": "histogram"
           }
          ],
          "histogram2d": [
           {
            "colorbar": {
             "outlinewidth": 0,
             "ticks": ""
            },
            "colorscale": [
             [
              0,
              "#0d0887"
             ],
             [
              0.1111111111111111,
              "#46039f"
             ],
             [
              0.2222222222222222,
              "#7201a8"
             ],
             [
              0.3333333333333333,
              "#9c179e"
             ],
             [
              0.4444444444444444,
              "#bd3786"
             ],
             [
              0.5555555555555556,
              "#d8576b"
             ],
             [
              0.6666666666666666,
              "#ed7953"
             ],
             [
              0.7777777777777778,
              "#fb9f3a"
             ],
             [
              0.8888888888888888,
              "#fdca26"
             ],
             [
              1,
              "#f0f921"
             ]
            ],
            "type": "histogram2d"
           }
          ],
          "histogram2dcontour": [
           {
            "colorbar": {
             "outlinewidth": 0,
             "ticks": ""
            },
            "colorscale": [
             [
              0,
              "#0d0887"
             ],
             [
              0.1111111111111111,
              "#46039f"
             ],
             [
              0.2222222222222222,
              "#7201a8"
             ],
             [
              0.3333333333333333,
              "#9c179e"
             ],
             [
              0.4444444444444444,
              "#bd3786"
             ],
             [
              0.5555555555555556,
              "#d8576b"
             ],
             [
              0.6666666666666666,
              "#ed7953"
             ],
             [
              0.7777777777777778,
              "#fb9f3a"
             ],
             [
              0.8888888888888888,
              "#fdca26"
             ],
             [
              1,
              "#f0f921"
             ]
            ],
            "type": "histogram2dcontour"
           }
          ],
          "mesh3d": [
           {
            "colorbar": {
             "outlinewidth": 0,
             "ticks": ""
            },
            "type": "mesh3d"
           }
          ],
          "parcoords": [
           {
            "line": {
             "colorbar": {
              "outlinewidth": 0,
              "ticks": ""
             }
            },
            "type": "parcoords"
           }
          ],
          "pie": [
           {
            "automargin": true,
            "type": "pie"
           }
          ],
          "scatter": [
           {
            "marker": {
             "colorbar": {
              "outlinewidth": 0,
              "ticks": ""
             }
            },
            "type": "scatter"
           }
          ],
          "scatter3d": [
           {
            "line": {
             "colorbar": {
              "outlinewidth": 0,
              "ticks": ""
             }
            },
            "marker": {
             "colorbar": {
              "outlinewidth": 0,
              "ticks": ""
             }
            },
            "type": "scatter3d"
           }
          ],
          "scattercarpet": [
           {
            "marker": {
             "colorbar": {
              "outlinewidth": 0,
              "ticks": ""
             }
            },
            "type": "scattercarpet"
           }
          ],
          "scattergeo": [
           {
            "marker": {
             "colorbar": {
              "outlinewidth": 0,
              "ticks": ""
             }
            },
            "type": "scattergeo"
           }
          ],
          "scattergl": [
           {
            "marker": {
             "colorbar": {
              "outlinewidth": 0,
              "ticks": ""
             }
            },
            "type": "scattergl"
           }
          ],
          "scattermapbox": [
           {
            "marker": {
             "colorbar": {
              "outlinewidth": 0,
              "ticks": ""
             }
            },
            "type": "scattermapbox"
           }
          ],
          "scatterpolar": [
           {
            "marker": {
             "colorbar": {
              "outlinewidth": 0,
              "ticks": ""
             }
            },
            "type": "scatterpolar"
           }
          ],
          "scatterpolargl": [
           {
            "marker": {
             "colorbar": {
              "outlinewidth": 0,
              "ticks": ""
             }
            },
            "type": "scatterpolargl"
           }
          ],
          "scatterternary": [
           {
            "marker": {
             "colorbar": {
              "outlinewidth": 0,
              "ticks": ""
             }
            },
            "type": "scatterternary"
           }
          ],
          "surface": [
           {
            "colorbar": {
             "outlinewidth": 0,
             "ticks": ""
            },
            "colorscale": [
             [
              0,
              "#0d0887"
             ],
             [
              0.1111111111111111,
              "#46039f"
             ],
             [
              0.2222222222222222,
              "#7201a8"
             ],
             [
              0.3333333333333333,
              "#9c179e"
             ],
             [
              0.4444444444444444,
              "#bd3786"
             ],
             [
              0.5555555555555556,
              "#d8576b"
             ],
             [
              0.6666666666666666,
              "#ed7953"
             ],
             [
              0.7777777777777778,
              "#fb9f3a"
             ],
             [
              0.8888888888888888,
              "#fdca26"
             ],
             [
              1,
              "#f0f921"
             ]
            ],
            "type": "surface"
           }
          ],
          "table": [
           {
            "cells": {
             "fill": {
              "color": "#EBF0F8"
             },
             "line": {
              "color": "white"
             }
            },
            "header": {
             "fill": {
              "color": "#C8D4E3"
             },
             "line": {
              "color": "white"
             }
            },
            "type": "table"
           }
          ]
         },
         "layout": {
          "annotationdefaults": {
           "arrowcolor": "#2a3f5f",
           "arrowhead": 0,
           "arrowwidth": 1
          },
          "coloraxis": {
           "colorbar": {
            "outlinewidth": 0,
            "ticks": ""
           }
          },
          "colorscale": {
           "diverging": [
            [
             0,
             "#8e0152"
            ],
            [
             0.1,
             "#c51b7d"
            ],
            [
             0.2,
             "#de77ae"
            ],
            [
             0.3,
             "#f1b6da"
            ],
            [
             0.4,
             "#fde0ef"
            ],
            [
             0.5,
             "#f7f7f7"
            ],
            [
             0.6,
             "#e6f5d0"
            ],
            [
             0.7,
             "#b8e186"
            ],
            [
             0.8,
             "#7fbc41"
            ],
            [
             0.9,
             "#4d9221"
            ],
            [
             1,
             "#276419"
            ]
           ],
           "sequential": [
            [
             0,
             "#0d0887"
            ],
            [
             0.1111111111111111,
             "#46039f"
            ],
            [
             0.2222222222222222,
             "#7201a8"
            ],
            [
             0.3333333333333333,
             "#9c179e"
            ],
            [
             0.4444444444444444,
             "#bd3786"
            ],
            [
             0.5555555555555556,
             "#d8576b"
            ],
            [
             0.6666666666666666,
             "#ed7953"
            ],
            [
             0.7777777777777778,
             "#fb9f3a"
            ],
            [
             0.8888888888888888,
             "#fdca26"
            ],
            [
             1,
             "#f0f921"
            ]
           ],
           "sequentialminus": [
            [
             0,
             "#0d0887"
            ],
            [
             0.1111111111111111,
             "#46039f"
            ],
            [
             0.2222222222222222,
             "#7201a8"
            ],
            [
             0.3333333333333333,
             "#9c179e"
            ],
            [
             0.4444444444444444,
             "#bd3786"
            ],
            [
             0.5555555555555556,
             "#d8576b"
            ],
            [
             0.6666666666666666,
             "#ed7953"
            ],
            [
             0.7777777777777778,
             "#fb9f3a"
            ],
            [
             0.8888888888888888,
             "#fdca26"
            ],
            [
             1,
             "#f0f921"
            ]
           ]
          },
          "colorway": [
           "#636efa",
           "#EF553B",
           "#00cc96",
           "#ab63fa",
           "#FFA15A",
           "#19d3f3",
           "#FF6692",
           "#B6E880",
           "#FF97FF",
           "#FECB52"
          ],
          "font": {
           "color": "#2a3f5f"
          },
          "geo": {
           "bgcolor": "white",
           "lakecolor": "white",
           "landcolor": "#E5ECF6",
           "showlakes": true,
           "showland": true,
           "subunitcolor": "white"
          },
          "hoverlabel": {
           "align": "left"
          },
          "hovermode": "closest",
          "mapbox": {
           "style": "light"
          },
          "paper_bgcolor": "white",
          "plot_bgcolor": "#E5ECF6",
          "polar": {
           "angularaxis": {
            "gridcolor": "white",
            "linecolor": "white",
            "ticks": ""
           },
           "bgcolor": "#E5ECF6",
           "radialaxis": {
            "gridcolor": "white",
            "linecolor": "white",
            "ticks": ""
           }
          },
          "scene": {
           "xaxis": {
            "backgroundcolor": "#E5ECF6",
            "gridcolor": "white",
            "gridwidth": 2,
            "linecolor": "white",
            "showbackground": true,
            "ticks": "",
            "zerolinecolor": "white"
           },
           "yaxis": {
            "backgroundcolor": "#E5ECF6",
            "gridcolor": "white",
            "gridwidth": 2,
            "linecolor": "white",
            "showbackground": true,
            "ticks": "",
            "zerolinecolor": "white"
           },
           "zaxis": {
            "backgroundcolor": "#E5ECF6",
            "gridcolor": "white",
            "gridwidth": 2,
            "linecolor": "white",
            "showbackground": true,
            "ticks": "",
            "zerolinecolor": "white"
           }
          },
          "shapedefaults": {
           "line": {
            "color": "#2a3f5f"
           }
          },
          "ternary": {
           "aaxis": {
            "gridcolor": "white",
            "linecolor": "white",
            "ticks": ""
           },
           "baxis": {
            "gridcolor": "white",
            "linecolor": "white",
            "ticks": ""
           },
           "bgcolor": "#E5ECF6",
           "caxis": {
            "gridcolor": "white",
            "linecolor": "white",
            "ticks": ""
           }
          },
          "title": {
           "x": 0.05
          },
          "xaxis": {
           "automargin": true,
           "gridcolor": "white",
           "linecolor": "white",
           "ticks": "",
           "title": {
            "standoff": 15
           },
           "zerolinecolor": "white",
           "zerolinewidth": 2
          },
          "yaxis": {
           "automargin": true,
           "gridcolor": "white",
           "linecolor": "white",
           "ticks": "",
           "title": {
            "standoff": 15
           },
           "zerolinecolor": "white",
           "zerolinewidth": 2
          }
         }
        },
        "xaxis": {
         "showgrid": false,
         "showticklabels": false,
         "zeroline": false
        },
        "yaxis": {
         "showgrid": false,
         "showticklabels": false,
         "zeroline": false
        }
       }
      },
      "text/html": [
       "<div>                            <div id=\"352cfa93-629b-4f37-bc30-45a62d9ab9dd\" class=\"plotly-graph-div\" style=\"height:525px; width:100%;\"></div>            <script type=\"text/javascript\">                require([\"plotly\"], function(Plotly) {                    window.PLOTLYENV=window.PLOTLYENV || {};                                    if (document.getElementById(\"352cfa93-629b-4f37-bc30-45a62d9ab9dd\")) {                    Plotly.newPlot(                        \"352cfa93-629b-4f37-bc30-45a62d9ab9dd\",                        [{\"line\": {\"color\": \"cornflowerblue\", \"width\": 0.6838521170864333}, \"mode\": \"lines\", \"type\": \"scatter\", \"x\": [0.04121792005868922, 0.2438470239646859, null], \"y\": [-0.360800669215263, 0.2181623235837661, null]}, {\"line\": {\"color\": \"cornflowerblue\", \"width\": 0.1}, \"mode\": \"lines\", \"type\": \"scatter\", \"x\": [0.04121792005868922, 0.6377120898083345, null], \"y\": [-0.360800669215263, 0.18703429095500942, null]}, {\"line\": {\"color\": \"cornflowerblue\", \"width\": 0.33635856610148585}, \"mode\": \"lines\", \"type\": \"scatter\", \"x\": [0.04121792005868922, -0.14578774650244875, null], \"y\": [-0.360800669215263, -0.08775699062078897, null]}, {\"line\": {\"color\": \"cornflowerblue\", \"width\": 0.33635856610148585}, \"mode\": \"lines\", \"type\": \"scatter\", \"x\": [0.04121792005868922, 0.10702281305638145, null], \"y\": [-0.360800669215263, 0.0012832255324215674, null]}, {\"line\": {\"color\": \"cornflowerblue\", \"width\": 0.1}, \"mode\": \"lines\", \"type\": \"scatter\", \"x\": [0.04121792005868922, -0.12860724550353372, null], \"y\": [-0.360800669215263, -0.47518907468607585, null]}, {\"line\": {\"color\": \"cornflowerblue\", \"width\": 0.33635856610148585}, \"mode\": \"lines\", \"type\": \"scatter\", \"x\": [0.04121792005868922, 0.021920736626570642, null], \"y\": [-0.360800669215263, 0.26368275779134503, null]}, {\"line\": {\"color\": \"cornflowerblue\", \"width\": 0.1}, \"mode\": \"lines\", \"type\": \"scatter\", \"x\": [0.04121792005868922, -0.6128665381799824, null], \"y\": [-0.360800669215263, -0.1909544594220539, null]}, {\"line\": {\"color\": \"cornflowerblue\", \"width\": 0.33635856610148585}, \"mode\": \"lines\", \"type\": \"scatter\", \"x\": [0.04121792005868922, -0.3040105666860026, null], \"y\": [-0.360800669215263, -0.38409750841958246, null]}, {\"line\": {\"color\": \"cornflowerblue\", \"width\": 0.1}, \"mode\": \"lines\", \"type\": \"scatter\", \"x\": [0.04121792005868922, -0.33002680866846684, null], \"y\": [-0.360800669215263, 0.023994891892127612, null]}, {\"line\": {\"color\": \"cornflowerblue\", \"width\": 0.1}, \"mode\": \"lines\", \"type\": \"scatter\", \"x\": [0.04121792005868922, -0.2300679390208719, null], \"y\": [-0.360800669215263, -0.6313122433344782, null]}, {\"line\": {\"color\": \"cornflowerblue\", \"width\": 0.33635856610148585}, \"mode\": \"lines\", \"type\": \"scatter\", \"x\": [0.04121792005868922, -0.45968373616498714, null], \"y\": [-0.360800669215263, -0.5603915441486693, null]}, {\"line\": {\"color\": \"cornflowerblue\", \"width\": 0.1}, \"mode\": \"lines\", \"type\": \"scatter\", \"x\": [0.04121792005868922, -0.12119847991773774, null], \"y\": [-0.360800669215263, 0.06870868776461078, null]}, {\"line\": {\"color\": \"cornflowerblue\", \"width\": 0.1}, \"mode\": \"lines\", \"type\": \"scatter\", \"x\": [0.04121792005868922, -0.6331813524244605, null], \"y\": [-0.360800669215263, -0.41021496761515447, null]}, {\"line\": {\"color\": \"cornflowerblue\", \"width\": 0.6838521170864333}, \"mode\": \"lines\", \"type\": \"scatter\", \"x\": [0.04121792005868922, 0.08241216703789123, null], \"y\": [-0.360800669215263, -1.0, null]}, {\"line\": {\"color\": \"cornflowerblue\", \"width\": 0.33635856610148585}, \"mode\": \"lines\", \"type\": \"scatter\", \"x\": [0.04121792005868922, 0.47213988699255455, null], \"y\": [-0.360800669215263, -0.4284870567581638, null]}, {\"line\": {\"color\": \"cornflowerblue\", \"width\": 0.6838521170864333}, \"mode\": \"lines\", \"type\": \"scatter\", \"x\": [0.04121792005868922, 0.3400074627185959, null], \"y\": [-0.360800669215263, -0.24983678162695636, null]}, {\"line\": {\"color\": \"cornflowerblue\", \"width\": 0.1}, \"mode\": \"lines\", \"type\": \"scatter\", \"x\": [0.04121792005868922, -0.24946378089711987, null], \"y\": [-0.360800669215263, 0.7749439013437346, null]}, {\"line\": {\"color\": \"cornflowerblue\", \"width\": 0.1}, \"mode\": \"lines\", \"type\": \"scatter\", \"x\": [0.04121792005868922, -0.5579472293657504, null], \"y\": [-0.360800669215263, 0.06375592721671683, null]}, {\"line\": {\"color\": \"cornflowerblue\", \"width\": 0.1}, \"mode\": \"lines\", \"type\": \"scatter\", \"x\": [0.04121792005868922, -0.21884032332636646, null], \"y\": [-0.360800669215263, -0.27307328069577336, null]}, {\"line\": {\"color\": \"cornflowerblue\", \"width\": 0.1}, \"mode\": \"lines\", \"type\": \"scatter\", \"x\": [0.2438470239646859, 0.6377120898083345, null], \"y\": [0.2181623235837661, 0.18703429095500942, null]}, {\"line\": {\"color\": \"cornflowerblue\", \"width\": 0.1}, \"mode\": \"lines\", \"type\": \"scatter\", \"x\": [0.2438470239646859, -0.14578774650244875, null], \"y\": [0.2181623235837661, -0.08775699062078897, null]}, {\"line\": {\"color\": \"cornflowerblue\", \"width\": 0.1}, \"mode\": \"lines\", \"type\": \"scatter\", \"x\": [0.2438470239646859, 0.10702281305638145, null], \"y\": [0.2181623235837661, 0.0012832255324215674, null]}, {\"line\": {\"color\": \"cornflowerblue\", \"width\": 0.1}, \"mode\": \"lines\", \"type\": \"scatter\", \"x\": [0.2438470239646859, -0.12860724550353372, null], \"y\": [0.2181623235837661, -0.47518907468607585, null]}, {\"line\": {\"color\": \"cornflowerblue\", \"width\": 0.1}, \"mode\": \"lines\", \"type\": \"scatter\", \"x\": [0.2438470239646859, 0.021920736626570642, null], \"y\": [0.2181623235837661, 0.26368275779134503, null]}, {\"line\": {\"color\": \"cornflowerblue\", \"width\": 0.1}, \"mode\": \"lines\", \"type\": \"scatter\", \"x\": [0.2438470239646859, 0.14858315031977043, null], \"y\": [0.2181623235837661, 0.5010333827156764, null]}, {\"line\": {\"color\": \"cornflowerblue\", \"width\": 0.1}, \"mode\": \"lines\", \"type\": \"scatter\", \"x\": [0.2438470239646859, -0.24946378089711987, null], \"y\": [0.2181623235837661, 0.7749439013437346, null]}, {\"line\": {\"color\": \"cornflowerblue\", \"width\": 0.1}, \"mode\": \"lines\", \"type\": \"scatter\", \"x\": [0.2438470239646859, 0.5914104944915404, null], \"y\": [0.2181623235837661, 0.40853953099178303, null]}, {\"line\": {\"color\": \"cornflowerblue\", \"width\": 0.1}, \"mode\": \"lines\", \"type\": \"scatter\", \"x\": [0.2438470239646859, 0.08140562834778937, null], \"y\": [0.2181623235837661, -0.20606390553445023, null]}, {\"line\": {\"color\": \"cornflowerblue\", \"width\": 0.1}, \"mode\": \"lines\", \"type\": \"scatter\", \"x\": [0.2438470239646859, -0.351621165541006, null], \"y\": [0.2181623235837661, 0.25569275333893565, null]}, {\"line\": {\"color\": \"cornflowerblue\", \"width\": 0.1}, \"mode\": \"lines\", \"type\": \"scatter\", \"x\": [0.2438470239646859, -0.12119847991773774, null], \"y\": [0.2181623235837661, 0.06870868776461078, null]}, {\"line\": {\"color\": \"cornflowerblue\", \"width\": 0.1}, \"mode\": \"lines\", \"type\": \"scatter\", \"x\": [0.2438470239646859, 0.3400074627185959, null], \"y\": [0.2181623235837661, -0.24983678162695636, null]}, {\"line\": {\"color\": \"cornflowerblue\", \"width\": 0.1}, \"mode\": \"lines\", \"type\": \"scatter\", \"x\": [0.2438470239646859, -0.3040105666860026, null], \"y\": [0.2181623235837661, -0.38409750841958246, null]}, {\"line\": {\"color\": \"cornflowerblue\", \"width\": 0.1}, \"mode\": \"lines\", \"type\": \"scatter\", \"x\": [0.6377120898083345, -0.14578774650244875, null], \"y\": [0.18703429095500942, -0.08775699062078897, null]}, {\"line\": {\"color\": \"cornflowerblue\", \"width\": 0.1}, \"mode\": \"lines\", \"type\": \"scatter\", \"x\": [0.6377120898083345, 0.021920736626570642, null], \"y\": [0.18703429095500942, 0.26368275779134503, null]}, {\"line\": {\"color\": \"cornflowerblue\", \"width\": 0.33635856610148585}, \"mode\": \"lines\", \"type\": \"scatter\", \"x\": [0.6377120898083345, 0.47213988699255455, null], \"y\": [0.18703429095500942, -0.4284870567581638, null]}, {\"line\": {\"color\": \"cornflowerblue\", \"width\": 0.1}, \"mode\": \"lines\", \"type\": \"scatter\", \"x\": [0.6377120898083345, 0.40409456703351765, null], \"y\": [0.18703429095500942, 0.744114758342256, null]}, {\"line\": {\"color\": \"cornflowerblue\", \"width\": 0.1}, \"mode\": \"lines\", \"type\": \"scatter\", \"x\": [0.6377120898083345, 0.6608562801733016, null], \"y\": [0.18703429095500942, 0.6899847762753917, null]}, {\"line\": {\"color\": \"cornflowerblue\", \"width\": 0.33635856610148585}, \"mode\": \"lines\", \"type\": \"scatter\", \"x\": [0.6377120898083345, 0.14858315031977043, null], \"y\": [0.18703429095500942, 0.5010333827156764, null]}, {\"line\": {\"color\": \"cornflowerblue\", \"width\": 0.1}, \"mode\": \"lines\", \"type\": \"scatter\", \"x\": [0.6377120898083345, 0.10702281305638145, null], \"y\": [0.18703429095500942, 0.0012832255324215674, null]}, {\"line\": {\"color\": \"cornflowerblue\", \"width\": 0.33635856610148585}, \"mode\": \"lines\", \"type\": \"scatter\", \"x\": [0.6377120898083345, 0.5914104944915404, null], \"y\": [0.18703429095500942, 0.40853953099178303, null]}, {\"line\": {\"color\": \"cornflowerblue\", \"width\": 1.1313708498984762}, \"mode\": \"lines\", \"type\": \"scatter\", \"x\": [0.6377120898083345, 0.42309515963863276, null], \"y\": [0.18703429095500942, 0.0691400364424155, null]}, {\"line\": {\"color\": \"cornflowerblue\", \"width\": 0.1}, \"mode\": \"lines\", \"type\": \"scatter\", \"x\": [0.6377120898083345, 0.08140562834778937, null], \"y\": [0.18703429095500942, -0.20606390553445023, null]}, {\"line\": {\"color\": \"cornflowerblue\", \"width\": 0.1}, \"mode\": \"lines\", \"type\": \"scatter\", \"x\": [0.6377120898083345, 0.3400074627185959, null], \"y\": [0.18703429095500942, -0.24983678162695636, null]}, {\"line\": {\"color\": \"cornflowerblue\", \"width\": 0.1}, \"mode\": \"lines\", \"type\": \"scatter\", \"x\": [0.6377120898083345, 0.08757753193048518, null], \"y\": [0.18703429095500942, 0.9881072378912223, null]}, {\"line\": {\"color\": \"cornflowerblue\", \"width\": 2.3001951752865812}, \"mode\": \"lines\", \"type\": \"scatter\", \"x\": [-0.14578774650244875, -0.33002680866846684, null], \"y\": [-0.08775699062078897, 0.023994891892127612, null]}, {\"line\": {\"color\": \"cornflowerblue\", \"width\": 1.671850762441055}, \"mode\": \"lines\", \"type\": \"scatter\", \"x\": [-0.14578774650244875, -0.2300679390208719, null], \"y\": [-0.08775699062078897, -0.6313122433344782, null]}, {\"line\": {\"color\": \"cornflowerblue\", \"width\": 0.6838521170864333}, \"mode\": \"lines\", \"type\": \"scatter\", \"x\": [-0.14578774650244875, -0.6128665381799824, null], \"y\": [-0.08775699062078897, -0.1909544594220539, null]}, {\"line\": {\"color\": \"cornflowerblue\", \"width\": 0.1}, \"mode\": \"lines\", \"type\": \"scatter\", \"x\": [-0.14578774650244875, -0.3040105666860026, null], \"y\": [-0.08775699062078897, -0.38409750841958246, null]}, {\"line\": {\"color\": \"cornflowerblue\", \"width\": 1.1313708498984762}, \"mode\": \"lines\", \"type\": \"scatter\", \"x\": [-0.14578774650244875, -0.45968373616498714, null], \"y\": [-0.08775699062078897, -0.5603915441486693, null]}, {\"line\": {\"color\": \"cornflowerblue\", \"width\": 0.33635856610148585}, \"mode\": \"lines\", \"type\": \"scatter\", \"x\": [-0.14578774650244875, -0.12119847991773774, null], \"y\": [-0.08775699062078897, 0.06870868776461078, null]}, {\"line\": {\"color\": \"cornflowerblue\", \"width\": 0.33635856610148585}, \"mode\": \"lines\", \"type\": \"scatter\", \"x\": [-0.14578774650244875, -0.6331813524244605, null], \"y\": [-0.08775699062078897, -0.41021496761515447, null]}, {\"line\": {\"color\": \"cornflowerblue\", \"width\": 1.1313708498984762}, \"mode\": \"lines\", \"type\": \"scatter\", \"x\": [-0.14578774650244875, -0.12860724550353372, null], \"y\": [-0.08775699062078897, -0.47518907468607585, null]}, {\"line\": {\"color\": \"cornflowerblue\", \"width\": 0.1}, \"mode\": \"lines\", \"type\": \"scatter\", \"x\": [-0.14578774650244875, 0.10702281305638145, null], \"y\": [-0.08775699062078897, 0.0012832255324215674, null]}, {\"line\": {\"color\": \"cornflowerblue\", \"width\": 1.1313708498984762}, \"mode\": \"lines\", \"type\": \"scatter\", \"x\": [-0.14578774650244875, -0.5579472293657504, null], \"y\": [-0.08775699062078897, 0.06375592721671683, null]}, {\"line\": {\"color\": \"cornflowerblue\", \"width\": 0.1}, \"mode\": \"lines\", \"type\": \"scatter\", \"x\": [-0.14578774650244875, -0.21884032332636646, null], \"y\": [-0.08775699062078897, -0.27307328069577336, null]}, {\"line\": {\"color\": \"cornflowerblue\", \"width\": 0.33635856610148585}, \"mode\": \"lines\", \"type\": \"scatter\", \"x\": [-0.14578774650244875, 0.08140562834778937, null], \"y\": [-0.08775699062078897, -0.20606390553445023, null]}, {\"line\": {\"color\": \"cornflowerblue\", \"width\": 0.33635856610148585}, \"mode\": \"lines\", \"type\": \"scatter\", \"x\": [-0.14578774650244875, 0.42309515963863276, null], \"y\": [-0.08775699062078897, 0.0691400364424155, null]}, {\"line\": {\"color\": \"cornflowerblue\", \"width\": 0.33635856610148585}, \"mode\": \"lines\", \"type\": \"scatter\", \"x\": [-0.14578774650244875, 0.021920736626570642, null], \"y\": [-0.08775699062078897, 0.26368275779134503, null]}, {\"line\": {\"color\": \"cornflowerblue\", \"width\": 0.1}, \"mode\": \"lines\", \"type\": \"scatter\", \"x\": [-0.14578774650244875, -0.351621165541006, null], \"y\": [-0.08775699062078897, 0.25569275333893565, null]}, {\"line\": {\"color\": \"cornflowerblue\", \"width\": 0.1}, \"mode\": \"lines\", \"type\": \"scatter\", \"x\": [-0.14578774650244875, 0.5914104944915404, null], \"y\": [-0.08775699062078897, 0.40853953099178303, null]}, {\"line\": {\"color\": \"cornflowerblue\", \"width\": 0.1}, \"mode\": \"lines\", \"type\": \"scatter\", \"x\": [-0.14578774650244875, 0.14858315031977043, null], \"y\": [-0.08775699062078897, 0.5010333827156764, null]}, {\"line\": {\"color\": \"cornflowerblue\", \"width\": 0.1}, \"mode\": \"lines\", \"type\": \"scatter\", \"x\": [-0.24946378089711987, 0.14858315031977043, null], \"y\": [0.7749439013437346, 0.5010333827156764, null]}, {\"line\": {\"color\": \"cornflowerblue\", \"width\": 0.1}, \"mode\": \"lines\", \"type\": \"scatter\", \"x\": [-0.24946378089711987, 0.5914104944915404, null], \"y\": [0.7749439013437346, 0.40853953099178303, null]}, {\"line\": {\"color\": \"cornflowerblue\", \"width\": 0.1}, \"mode\": \"lines\", \"type\": \"scatter\", \"x\": [-0.24946378089711987, 0.021920736626570642, null], \"y\": [0.7749439013437346, 0.26368275779134503, null]}, {\"line\": {\"color\": \"cornflowerblue\", \"width\": 0.1}, \"mode\": \"lines\", \"type\": \"scatter\", \"x\": [-0.24946378089711987, -0.5579472293657504, null], \"y\": [0.7749439013437346, 0.06375592721671683, null]}, {\"line\": {\"color\": \"cornflowerblue\", \"width\": 0.1}, \"mode\": \"lines\", \"type\": \"scatter\", \"x\": [-0.6128665381799824, -0.351621165541006, null], \"y\": [-0.1909544594220539, 0.25569275333893565, null]}, {\"line\": {\"color\": \"cornflowerblue\", \"width\": 0.1}, \"mode\": \"lines\", \"type\": \"scatter\", \"x\": [-0.6128665381799824, 0.021920736626570642, null], \"y\": [-0.1909544594220539, 0.26368275779134503, null]}, {\"line\": {\"color\": \"cornflowerblue\", \"width\": 0.1}, \"mode\": \"lines\", \"type\": \"scatter\", \"x\": [-0.6128665381799824, -0.3040105666860026, null], \"y\": [-0.1909544594220539, -0.38409750841958246, null]}, {\"line\": {\"color\": \"cornflowerblue\", \"width\": 0.6838521170864333}, \"mode\": \"lines\", \"type\": \"scatter\", \"x\": [-0.6128665381799824, -0.33002680866846684, null], \"y\": [-0.1909544594220539, 0.023994891892127612, null]}, {\"line\": {\"color\": \"cornflowerblue\", \"width\": 0.1}, \"mode\": \"lines\", \"type\": \"scatter\", \"x\": [-0.6128665381799824, -0.2300679390208719, null], \"y\": [-0.1909544594220539, -0.6313122433344782, null]}, {\"line\": {\"color\": \"cornflowerblue\", \"width\": 0.6838521170864333}, \"mode\": \"lines\", \"type\": \"scatter\", \"x\": [-0.6128665381799824, -0.45968373616498714, null], \"y\": [-0.1909544594220539, -0.5603915441486693, null]}, {\"line\": {\"color\": \"cornflowerblue\", \"width\": 0.1}, \"mode\": \"lines\", \"type\": \"scatter\", \"x\": [-0.6128665381799824, -0.12119847991773774, null], \"y\": [-0.1909544594220539, 0.06870868776461078, null]}, {\"line\": {\"color\": \"cornflowerblue\", \"width\": 0.33635856610148585}, \"mode\": \"lines\", \"type\": \"scatter\", \"x\": [-0.6128665381799824, -0.6331813524244605, null], \"y\": [-0.1909544594220539, -0.41021496761515447, null]}, {\"line\": {\"color\": \"cornflowerblue\", \"width\": 0.6838521170864333}, \"mode\": \"lines\", \"type\": \"scatter\", \"x\": [-0.6128665381799824, -0.21884032332636646, null], \"y\": [-0.1909544594220539, -0.27307328069577336, null]}, {\"line\": {\"color\": \"cornflowerblue\", \"width\": 0.33635856610148585}, \"mode\": \"lines\", \"type\": \"scatter\", \"x\": [-0.6128665381799824, -0.12860724550353372, null], \"y\": [-0.1909544594220539, -0.47518907468607585, null]}, {\"line\": {\"color\": \"cornflowerblue\", \"width\": 0.33635856610148585}, \"mode\": \"lines\", \"type\": \"scatter\", \"x\": [-0.6128665381799824, -0.5579472293657504, null], \"y\": [-0.1909544594220539, 0.06375592721671683, null]}, {\"line\": {\"color\": \"cornflowerblue\", \"width\": 0.33635856610148585}, \"mode\": \"lines\", \"type\": \"scatter\", \"x\": [-0.6128665381799824, 0.10702281305638145, null], \"y\": [-0.1909544594220539, 0.0012832255324215674, null]}, {\"line\": {\"color\": \"cornflowerblue\", \"width\": 0.1}, \"mode\": \"lines\", \"type\": \"scatter\", \"x\": [-0.6128665381799824, 0.08140562834778937, null], \"y\": [-0.1909544594220539, -0.20606390553445023, null]}, {\"line\": {\"color\": \"cornflowerblue\", \"width\": 0.1}, \"mode\": \"lines\", \"type\": \"scatter\", \"x\": [0.14858315031977043, 0.08757753193048518, null], \"y\": [0.5010333827156764, 0.9881072378912223, null]}, {\"line\": {\"color\": \"cornflowerblue\", \"width\": 2.3001951752865812}, \"mode\": \"lines\", \"type\": \"scatter\", \"x\": [0.14858315031977043, 0.5914104944915404, null], \"y\": [0.5010333827156764, 0.40853953099178303, null]}, {\"line\": {\"color\": \"cornflowerblue\", \"width\": 0.33635856610148585}, \"mode\": \"lines\", \"type\": \"scatter\", \"x\": [0.14858315031977043, 0.40409456703351765, null], \"y\": [0.5010333827156764, 0.744114758342256, null]}, {\"line\": {\"color\": \"cornflowerblue\", \"width\": 0.1}, \"mode\": \"lines\", \"type\": \"scatter\", \"x\": [0.14858315031977043, 0.6608562801733016, null], \"y\": [0.5010333827156764, 0.6899847762753917, null]}, {\"line\": {\"color\": \"cornflowerblue\", \"width\": 0.33635856610148585}, \"mode\": \"lines\", \"type\": \"scatter\", \"x\": [0.14858315031977043, 0.10702281305638145, null], \"y\": [0.5010333827156764, 0.0012832255324215674, null]}, {\"line\": {\"color\": \"cornflowerblue\", \"width\": 3.0124619494611955}, \"mode\": \"lines\", \"type\": \"scatter\", \"x\": [0.14858315031977043, 0.42309515963863276, null], \"y\": [0.5010333827156764, 0.0691400364424155, null]}, {\"line\": {\"color\": \"cornflowerblue\", \"width\": 0.1}, \"mode\": \"lines\", \"type\": \"scatter\", \"x\": [0.14858315031977043, -0.33002680866846684, null], \"y\": [0.5010333827156764, 0.023994891892127612, null]}, {\"line\": {\"color\": \"cornflowerblue\", \"width\": 0.1}, \"mode\": \"lines\", \"type\": \"scatter\", \"x\": [0.14858315031977043, -0.351621165541006, null], \"y\": [0.5010333827156764, 0.25569275333893565, null]}, {\"line\": {\"color\": \"cornflowerblue\", \"width\": 0.1}, \"mode\": \"lines\", \"type\": \"scatter\", \"x\": [0.14858315031977043, -0.21884032332636646, null], \"y\": [0.5010333827156764, -0.27307328069577336, null]}, {\"line\": {\"color\": \"cornflowerblue\", \"width\": 0.33635856610148585}, \"mode\": \"lines\", \"type\": \"scatter\", \"x\": [0.14858315031977043, 0.3400074627185959, null], \"y\": [0.5010333827156764, -0.24983678162695636, null]}, {\"line\": {\"color\": \"cornflowerblue\", \"width\": 0.1}, \"mode\": \"lines\", \"type\": \"scatter\", \"x\": [0.14858315031977043, -0.5579472293657504, null], \"y\": [0.5010333827156764, 0.06375592721671683, null]}, {\"line\": {\"color\": \"cornflowerblue\", \"width\": 0.1}, \"mode\": \"lines\", \"type\": \"scatter\", \"x\": [0.47213988699255455, 0.5914104944915404, null], \"y\": [-0.4284870567581638, 0.40853953099178303, null]}, {\"line\": {\"color\": \"cornflowerblue\", \"width\": 1.1313708498984762}, \"mode\": \"lines\", \"type\": \"scatter\", \"x\": [0.47213988699255455, 0.3400074627185959, null], \"y\": [-0.4284870567581638, -0.24983678162695636, null]}, {\"line\": {\"color\": \"cornflowerblue\", \"width\": 0.33635856610148585}, \"mode\": \"lines\", \"type\": \"scatter\", \"x\": [0.47213988699255455, 0.10702281305638145, null], \"y\": [-0.4284870567581638, 0.0012832255324215674, null]}, {\"line\": {\"color\": \"cornflowerblue\", \"width\": 0.33635856610148585}, \"mode\": \"lines\", \"type\": \"scatter\", \"x\": [0.47213988699255455, 0.021920736626570642, null], \"y\": [-0.4284870567581638, 0.26368275779134503, null]}, {\"line\": {\"color\": \"cornflowerblue\", \"width\": 0.1}, \"mode\": \"lines\", \"type\": \"scatter\", \"x\": [0.47213988699255455, 0.42309515963863276, null], \"y\": [-0.4284870567581638, 0.0691400364424155, null]}, {\"line\": {\"color\": \"cornflowerblue\", \"width\": 0.1}, \"mode\": \"lines\", \"type\": \"scatter\", \"x\": [0.47213988699255455, -0.2300679390208719, null], \"y\": [-0.4284870567581638, -0.6313122433344782, null]}, {\"line\": {\"color\": \"cornflowerblue\", \"width\": 0.33635856610148585}, \"mode\": \"lines\", \"type\": \"scatter\", \"x\": [0.47213988699255455, -0.3040105666860026, null], \"y\": [-0.4284870567581638, -0.38409750841958246, null]}, {\"line\": {\"color\": \"cornflowerblue\", \"width\": 0.1}, \"mode\": \"lines\", \"type\": \"scatter\", \"x\": [0.47213988699255455, -0.12119847991773774, null], \"y\": [-0.4284870567581638, 0.06870868776461078, null]}, {\"line\": {\"color\": \"cornflowerblue\", \"width\": 0.1}, \"mode\": \"lines\", \"type\": \"scatter\", \"x\": [0.47213988699255455, -0.21884032332636646, null], \"y\": [-0.4284870567581638, -0.27307328069577336, null]}, {\"line\": {\"color\": \"cornflowerblue\", \"width\": 0.1}, \"mode\": \"lines\", \"type\": \"scatter\", \"x\": [0.47213988699255455, 0.08241216703789123, null], \"y\": [-0.4284870567581638, -1.0, null]}, {\"line\": {\"color\": \"cornflowerblue\", \"width\": 0.33635856610148585}, \"mode\": \"lines\", \"type\": \"scatter\", \"x\": [0.10702281305638145, 0.6608562801733016, null], \"y\": [0.0012832255324215674, 0.6899847762753917, null]}, {\"line\": {\"color\": \"cornflowerblue\", \"width\": 1.1313708498984762}, \"mode\": \"lines\", \"type\": \"scatter\", \"x\": [0.10702281305638145, 0.021920736626570642, null], \"y\": [0.0012832255324215674, 0.26368275779134503, null]}, {\"line\": {\"color\": \"cornflowerblue\", \"width\": 0.6838521170864333}, \"mode\": \"lines\", \"type\": \"scatter\", \"x\": [0.10702281305638145, -0.12860724550353372, null], \"y\": [0.0012832255324215674, -0.47518907468607585, null]}, {\"line\": {\"color\": \"cornflowerblue\", \"width\": 0.33635856610148585}, \"mode\": \"lines\", \"type\": \"scatter\", \"x\": [0.10702281305638145, -0.45968373616498714, null], \"y\": [0.0012832255324215674, -0.5603915441486693, null]}, {\"line\": {\"color\": \"cornflowerblue\", \"width\": 0.33635856610148585}, \"mode\": \"lines\", \"type\": \"scatter\", \"x\": [0.10702281305638145, -0.6331813524244605, null], \"y\": [0.0012832255324215674, -0.41021496761515447, null]}, {\"line\": {\"color\": \"cornflowerblue\", \"width\": 0.1}, \"mode\": \"lines\", \"type\": \"scatter\", \"x\": [0.10702281305638145, -0.5579472293657504, null], \"y\": [0.0012832255324215674, 0.06375592721671683, null]}, {\"line\": {\"color\": \"cornflowerblue\", \"width\": 0.6838521170864333}, \"mode\": \"lines\", \"type\": \"scatter\", \"x\": [0.10702281305638145, -0.21884032332636646, null], \"y\": [0.0012832255324215674, -0.27307328069577336, null]}, {\"line\": {\"color\": \"cornflowerblue\", \"width\": 0.1}, \"mode\": \"lines\", \"type\": \"scatter\", \"x\": [0.10702281305638145, 0.40409456703351765, null], \"y\": [0.0012832255324215674, 0.744114758342256, null]}, {\"line\": {\"color\": \"cornflowerblue\", \"width\": 0.1}, \"mode\": \"lines\", \"type\": \"scatter\", \"x\": [0.10702281305638145, 0.5914104944915404, null], \"y\": [0.0012832255324215674, 0.40853953099178303, null]}, {\"line\": {\"color\": \"cornflowerblue\", \"width\": 0.33635856610148585}, \"mode\": \"lines\", \"type\": \"scatter\", \"x\": [0.10702281305638145, 0.42309515963863276, null], \"y\": [0.0012832255324215674, 0.0691400364424155, null]}, {\"line\": {\"color\": \"cornflowerblue\", \"width\": 0.33635856610148585}, \"mode\": \"lines\", \"type\": \"scatter\", \"x\": [0.10702281305638145, 0.08140562834778937, null], \"y\": [0.0012832255324215674, -0.20606390553445023, null]}, {\"line\": {\"color\": \"cornflowerblue\", \"width\": 1.1313708498984762}, \"mode\": \"lines\", \"type\": \"scatter\", \"x\": [0.10702281305638145, 0.3400074627185959, null], \"y\": [0.0012832255324215674, -0.24983678162695636, null]}, {\"line\": {\"color\": \"cornflowerblue\", \"width\": 0.1}, \"mode\": \"lines\", \"type\": \"scatter\", \"x\": [0.10702281305638145, -0.3040105666860026, null], \"y\": [0.0012832255324215674, -0.38409750841958246, null]}, {\"line\": {\"color\": \"cornflowerblue\", \"width\": 0.1}, \"mode\": \"lines\", \"type\": \"scatter\", \"x\": [0.10702281305638145, -0.12119847991773774, null], \"y\": [0.0012832255324215674, 0.06870868776461078, null]}, {\"line\": {\"color\": \"cornflowerblue\", \"width\": 0.1}, \"mode\": \"lines\", \"type\": \"scatter\", \"x\": [0.10702281305638145, -0.33002680866846684, null], \"y\": [0.0012832255324215674, 0.023994891892127612, null]}, {\"line\": {\"color\": \"cornflowerblue\", \"width\": 0.1}, \"mode\": \"lines\", \"type\": \"scatter\", \"x\": [0.6608562801733016, 0.021920736626570642, null], \"y\": [0.6899847762753917, 0.26368275779134503, null]}, {\"line\": {\"color\": \"cornflowerblue\", \"width\": 1.1313708498984762}, \"mode\": \"lines\", \"type\": \"scatter\", \"x\": [0.6608562801733016, 0.40409456703351765, null], \"y\": [0.6899847762753917, 0.744114758342256, null]}, {\"line\": {\"color\": \"cornflowerblue\", \"width\": 0.1}, \"mode\": \"lines\", \"type\": \"scatter\", \"x\": [0.6608562801733016, 0.5914104944915404, null], \"y\": [0.6899847762753917, 0.40853953099178303, null]}, {\"line\": {\"color\": \"cornflowerblue\", \"width\": 0.6838521170864333}, \"mode\": \"lines\", \"type\": \"scatter\", \"x\": [0.6608562801733016, 0.42309515963863276, null], \"y\": [0.6899847762753917, 0.0691400364424155, null]}, {\"line\": {\"color\": \"cornflowerblue\", \"width\": 0.1}, \"mode\": \"lines\", \"type\": \"scatter\", \"x\": [0.6608562801733016, -0.12119847991773774, null], \"y\": [0.6899847762753917, 0.06870868776461078, null]}, {\"line\": {\"color\": \"cornflowerblue\", \"width\": 0.1}, \"mode\": \"lines\", \"type\": \"scatter\", \"x\": [0.6608562801733016, 0.08757753193048518, null], \"y\": [0.6899847762753917, 0.9881072378912223, null]}, {\"line\": {\"color\": \"cornflowerblue\", \"width\": 0.6838521170864333}, \"mode\": \"lines\", \"type\": \"scatter\", \"x\": [0.021920736626570642, -0.351621165541006, null], \"y\": [0.26368275779134503, 0.25569275333893565, null]}, {\"line\": {\"color\": \"cornflowerblue\", \"width\": 0.1}, \"mode\": \"lines\", \"type\": \"scatter\", \"x\": [0.021920736626570642, -0.12860724550353372, null], \"y\": [0.26368275779134503, -0.47518907468607585, null]}, {\"line\": {\"color\": \"cornflowerblue\", \"width\": 0.33635856610148585}, \"mode\": \"lines\", \"type\": \"scatter\", \"x\": [0.021920736626570642, 0.3400074627185959, null], \"y\": [0.26368275779134503, -0.24983678162695636, null]}, {\"line\": {\"color\": \"cornflowerblue\", \"width\": 0.1}, \"mode\": \"lines\", \"type\": \"scatter\", \"x\": [0.021920736626570642, 0.08757753193048518, null], \"y\": [0.26368275779134503, 0.9881072378912223, null]}, {\"line\": {\"color\": \"cornflowerblue\", \"width\": 0.1}, \"mode\": \"lines\", \"type\": \"scatter\", \"x\": [0.021920736626570642, -0.3040105666860026, null], \"y\": [0.26368275779134503, -0.38409750841958246, null]}, {\"line\": {\"color\": \"cornflowerblue\", \"width\": 0.1}, \"mode\": \"lines\", \"type\": \"scatter\", \"x\": [0.021920736626570642, -0.12119847991773774, null], \"y\": [0.26368275779134503, 0.06870868776461078, null]}, {\"line\": {\"color\": \"cornflowerblue\", \"width\": 0.1}, \"mode\": \"lines\", \"type\": \"scatter\", \"x\": [0.021920736626570642, -0.21884032332636646, null], \"y\": [0.26368275779134503, -0.27307328069577336, null]}, {\"line\": {\"color\": \"cornflowerblue\", \"width\": 0.33635856610148585}, \"mode\": \"lines\", \"type\": \"scatter\", \"x\": [-0.351621165541006, -0.3040105666860026, null], \"y\": [0.25569275333893565, -0.38409750841958246, null]}, {\"line\": {\"color\": \"cornflowerblue\", \"width\": 1.1313708498984762}, \"mode\": \"lines\", \"type\": \"scatter\", \"x\": [-0.351621165541006, -0.33002680866846684, null], \"y\": [0.25569275333893565, 0.023994891892127612, null]}, {\"line\": {\"color\": \"cornflowerblue\", \"width\": 0.33635856610148585}, \"mode\": \"lines\", \"type\": \"scatter\", \"x\": [-0.351621165541006, -0.21884032332636646, null], \"y\": [0.25569275333893565, -0.27307328069577336, null]}, {\"line\": {\"color\": \"cornflowerblue\", \"width\": 0.1}, \"mode\": \"lines\", \"type\": \"scatter\", \"x\": [-0.351621165541006, 0.08757753193048518, null], \"y\": [0.25569275333893565, 0.9881072378912223, null]}, {\"line\": {\"color\": \"cornflowerblue\", \"width\": 0.33635856610148585}, \"mode\": \"lines\", \"type\": \"scatter\", \"x\": [-0.351621165541006, 0.3400074627185959, null], \"y\": [0.25569275333893565, -0.24983678162695636, null]}, {\"line\": {\"color\": \"cornflowerblue\", \"width\": 0.33635856610148585}, \"mode\": \"lines\", \"type\": \"scatter\", \"x\": [-0.351621165541006, 0.08140562834778937, null], \"y\": [0.25569275333893565, -0.20606390553445023, null]}, {\"line\": {\"color\": \"cornflowerblue\", \"width\": 0.1}, \"mode\": \"lines\", \"type\": \"scatter\", \"x\": [-0.351621165541006, -0.12119847991773774, null], \"y\": [0.25569275333893565, 0.06870868776461078, null]}, {\"line\": {\"color\": \"cornflowerblue\", \"width\": 0.1}, \"mode\": \"lines\", \"type\": \"scatter\", \"x\": [-0.351621165541006, -0.2300679390208719, null], \"y\": [0.25569275333893565, -0.6313122433344782, null]}, {\"line\": {\"color\": \"cornflowerblue\", \"width\": 0.1}, \"mode\": \"lines\", \"type\": \"scatter\", \"x\": [-0.351621165541006, -0.45968373616498714, null], \"y\": [0.25569275333893565, -0.5603915441486693, null]}, {\"line\": {\"color\": \"cornflowerblue\", \"width\": 0.33635856610148585}, \"mode\": \"lines\", \"type\": \"scatter\", \"x\": [0.42309515963863276, 0.40409456703351765, null], \"y\": [0.0691400364424155, 0.744114758342256, null]}, {\"line\": {\"color\": \"cornflowerblue\", \"width\": 0.6838521170864333}, \"mode\": \"lines\", \"type\": \"scatter\", \"x\": [0.42309515963863276, 0.5914104944915404, null], \"y\": [0.0691400364424155, 0.40853953099178303, null]}, {\"line\": {\"color\": \"cornflowerblue\", \"width\": 0.33635856610148585}, \"mode\": \"lines\", \"type\": \"scatter\", \"x\": [0.42309515963863276, 0.08140562834778937, null], \"y\": [0.0691400364424155, -0.20606390553445023, null]}, {\"line\": {\"color\": \"cornflowerblue\", \"width\": 0.1}, \"mode\": \"lines\", \"type\": \"scatter\", \"x\": [0.42309515963863276, -0.12860724550353372, null], \"y\": [0.0691400364424155, -0.47518907468607585, null]}, {\"line\": {\"color\": \"cornflowerblue\", \"width\": 0.1}, \"mode\": \"lines\", \"type\": \"scatter\", \"x\": [0.42309515963863276, -0.33002680866846684, null], \"y\": [0.0691400364424155, 0.023994891892127612, null]}, {\"line\": {\"color\": \"cornflowerblue\", \"width\": 0.1}, \"mode\": \"lines\", \"type\": \"scatter\", \"x\": [0.42309515963863276, -0.2300679390208719, null], \"y\": [0.0691400364424155, -0.6313122433344782, null]}, {\"line\": {\"color\": \"cornflowerblue\", \"width\": 0.1}, \"mode\": \"lines\", \"type\": \"scatter\", \"x\": [0.42309515963863276, 0.3400074627185959, null], \"y\": [0.0691400364424155, -0.24983678162695636, null]}, {\"line\": {\"color\": \"cornflowerblue\", \"width\": 0.1}, \"mode\": \"lines\", \"type\": \"scatter\", \"x\": [0.42309515963863276, -0.5579472293657504, null], \"y\": [0.0691400364424155, 0.06375592721671683, null]}, {\"line\": {\"color\": \"cornflowerblue\", \"width\": 0.6838521170864333}, \"mode\": \"lines\", \"type\": \"scatter\", \"x\": [-0.3040105666860026, -0.33002680866846684, null], \"y\": [-0.38409750841958246, 0.023994891892127612, null]}, {\"line\": {\"color\": \"cornflowerblue\", \"width\": 0.33635856610148585}, \"mode\": \"lines\", \"type\": \"scatter\", \"x\": [-0.3040105666860026, -0.6331813524244605, null], \"y\": [-0.38409750841958246, -0.41021496761515447, null]}, {\"line\": {\"color\": \"cornflowerblue\", \"width\": 0.1}, \"mode\": \"lines\", \"type\": \"scatter\", \"x\": [-0.3040105666860026, -0.5579472293657504, null], \"y\": [-0.38409750841958246, 0.06375592721671683, null]}, {\"line\": {\"color\": \"cornflowerblue\", \"width\": 0.33635856610148585}, \"mode\": \"lines\", \"type\": \"scatter\", \"x\": [-0.3040105666860026, 0.08241216703789123, null], \"y\": [-0.38409750841958246, -1.0, null]}, {\"line\": {\"color\": \"cornflowerblue\", \"width\": 0.33635856610148585}, \"mode\": \"lines\", \"type\": \"scatter\", \"x\": [-0.3040105666860026, -0.45968373616498714, null], \"y\": [-0.38409750841958246, -0.5603915441486693, null]}, {\"line\": {\"color\": \"cornflowerblue\", \"width\": 0.1}, \"mode\": \"lines\", \"type\": \"scatter\", \"x\": [-0.3040105666860026, -0.2300679390208719, null], \"y\": [-0.38409750841958246, -0.6313122433344782, null]}, {\"line\": {\"color\": \"cornflowerblue\", \"width\": 0.6838521170864333}, \"mode\": \"lines\", \"type\": \"scatter\", \"x\": [-0.3040105666860026, -0.12119847991773774, null], \"y\": [-0.38409750841958246, 0.06870868776461078, null]}, {\"line\": {\"color\": \"cornflowerblue\", \"width\": 0.6838521170864333}, \"mode\": \"lines\", \"type\": \"scatter\", \"x\": [-0.3040105666860026, -0.21884032332636646, null], \"y\": [-0.38409750841958246, -0.27307328069577336, null]}, {\"line\": {\"color\": \"cornflowerblue\", \"width\": 0.6838521170864333}, \"mode\": \"lines\", \"type\": \"scatter\", \"x\": [-0.3040105666860026, 0.3400074627185959, null], \"y\": [-0.38409750841958246, -0.24983678162695636, null]}, {\"line\": {\"color\": \"cornflowerblue\", \"width\": 2.3001951752865812}, \"mode\": \"lines\", \"type\": \"scatter\", \"x\": [-0.33002680866846684, -0.2300679390208719, null], \"y\": [0.023994891892127612, -0.6313122433344782, null]}, {\"line\": {\"color\": \"cornflowerblue\", \"width\": 1.1313708498984762}, \"mode\": \"lines\", \"type\": \"scatter\", \"x\": [-0.33002680866846684, -0.45968373616498714, null], \"y\": [0.023994891892127612, -0.5603915441486693, null]}, {\"line\": {\"color\": \"cornflowerblue\", \"width\": 1.1313708498984762}, \"mode\": \"lines\", \"type\": \"scatter\", \"x\": [-0.33002680866846684, -0.6331813524244605, null], \"y\": [0.023994891892127612, -0.41021496761515447, null]}, {\"line\": {\"color\": \"cornflowerblue\", \"width\": 2.3001951752865812}, \"mode\": \"lines\", \"type\": \"scatter\", \"x\": [-0.33002680866846684, -0.21884032332636646, null], \"y\": [0.023994891892127612, -0.27307328069577336, null]}, {\"line\": {\"color\": \"cornflowerblue\", \"width\": 0.33635856610148585}, \"mode\": \"lines\", \"type\": \"scatter\", \"x\": [-0.33002680866846684, -0.12119847991773774, null], \"y\": [0.023994891892127612, 0.06870868776461078, null]}, {\"line\": {\"color\": \"cornflowerblue\", \"width\": 1.671850762441055}, \"mode\": \"lines\", \"type\": \"scatter\", \"x\": [-0.33002680866846684, -0.12860724550353372, null], \"y\": [0.023994891892127612, -0.47518907468607585, null]}, {\"line\": {\"color\": \"cornflowerblue\", \"width\": 0.1}, \"mode\": \"lines\", \"type\": \"scatter\", \"x\": [-0.33002680866846684, -0.5579472293657504, null], \"y\": [0.023994891892127612, 0.06375592721671683, null]}, {\"line\": {\"color\": \"cornflowerblue\", \"width\": 0.6838521170864333}, \"mode\": \"lines\", \"type\": \"scatter\", \"x\": [-0.33002680866846684, 0.08140562834778937, null], \"y\": [0.023994891892127612, -0.20606390553445023, null]}, {\"line\": {\"color\": \"cornflowerblue\", \"width\": 0.1}, \"mode\": \"lines\", \"type\": \"scatter\", \"x\": [-0.33002680866846684, 0.08757753193048518, null], \"y\": [0.023994891892127612, 0.9881072378912223, null]}, {\"line\": {\"color\": \"cornflowerblue\", \"width\": 0.1}, \"mode\": \"lines\", \"type\": \"scatter\", \"x\": [-0.33002680866846684, 0.40409456703351765, null], \"y\": [0.023994891892127612, 0.744114758342256, null]}, {\"line\": {\"color\": \"cornflowerblue\", \"width\": 1.1313708498984762}, \"mode\": \"lines\", \"type\": \"scatter\", \"x\": [-0.12860724550353372, -0.45968373616498714, null], \"y\": [-0.47518907468607585, -0.5603915441486693, null]}, {\"line\": {\"color\": \"cornflowerblue\", \"width\": 0.6838521170864333}, \"mode\": \"lines\", \"type\": \"scatter\", \"x\": [-0.12860724550353372, -0.21884032332636646, null], \"y\": [-0.47518907468607585, -0.27307328069577336, null]}, {\"line\": {\"color\": \"cornflowerblue\", \"width\": 1.1313708498984762}, \"mode\": \"lines\", \"type\": \"scatter\", \"x\": [-0.12860724550353372, -0.5579472293657504, null], \"y\": [-0.47518907468607585, 0.06375592721671683, null]}, {\"line\": {\"color\": \"cornflowerblue\", \"width\": 0.6838521170864333}, \"mode\": \"lines\", \"type\": \"scatter\", \"x\": [-0.12860724550353372, -0.6331813524244605, null], \"y\": [-0.47518907468607585, -0.41021496761515447, null]}, {\"line\": {\"color\": \"cornflowerblue\", \"width\": 0.33635856610148585}, \"mode\": \"lines\", \"type\": \"scatter\", \"x\": [-0.12860724550353372, 0.08140562834778937, null], \"y\": [-0.47518907468607585, -0.20606390553445023, null]}, {\"line\": {\"color\": \"cornflowerblue\", \"width\": 0.33635856610148585}, \"mode\": \"lines\", \"type\": \"scatter\", \"x\": [-0.12860724550353372, -0.2300679390208719, null], \"y\": [-0.47518907468607585, -0.6313122433344782, null]}, {\"line\": {\"color\": \"cornflowerblue\", \"width\": 0.1}, \"mode\": \"lines\", \"type\": \"scatter\", \"x\": [0.40409456703351765, 0.5914104944915404, null], \"y\": [0.744114758342256, 0.40853953099178303, null]}, {\"line\": {\"color\": \"cornflowerblue\", \"width\": 0.1}, \"mode\": \"lines\", \"type\": \"scatter\", \"x\": [0.40409456703351765, -0.12119847991773774, null], \"y\": [0.744114758342256, 0.06870868776461078, null]}, {\"line\": {\"color\": \"cornflowerblue\", \"width\": 0.33635856610148585}, \"mode\": \"lines\", \"type\": \"scatter\", \"x\": [0.3400074627185959, -0.12119847991773774, null], \"y\": [-0.24983678162695636, 0.06870868776461078, null]}, {\"line\": {\"color\": \"cornflowerblue\", \"width\": 0.33635856610148585}, \"mode\": \"lines\", \"type\": \"scatter\", \"x\": [0.3400074627185959, -0.21884032332636646, null], \"y\": [-0.24983678162695636, -0.27307328069577336, null]}, {\"line\": {\"color\": \"cornflowerblue\", \"width\": 0.1}, \"mode\": \"lines\", \"type\": \"scatter\", \"x\": [0.3400074627185959, 0.08140562834778937, null], \"y\": [-0.24983678162695636, -0.20606390553445023, null]}, {\"line\": {\"color\": \"cornflowerblue\", \"width\": 0.33635856610148585}, \"mode\": \"lines\", \"type\": \"scatter\", \"x\": [0.3400074627185959, 0.08241216703789123, null], \"y\": [-0.24983678162695636, -1.0, null]}, {\"line\": {\"color\": \"cornflowerblue\", \"width\": 0.6838521170864333}, \"mode\": \"lines\", \"type\": \"scatter\", \"x\": [-0.12119847991773774, -0.2300679390208719, null], \"y\": [0.06870868776461078, -0.6313122433344782, null]}, {\"line\": {\"color\": \"cornflowerblue\", \"width\": 0.1}, \"mode\": \"lines\", \"type\": \"scatter\", \"x\": [-0.12119847991773774, -0.45968373616498714, null], \"y\": [0.06870868776461078, -0.5603915441486693, null]}, {\"line\": {\"color\": \"cornflowerblue\", \"width\": 0.33635856610148585}, \"mode\": \"lines\", \"type\": \"scatter\", \"x\": [-0.12119847991773774, -0.6331813524244605, null], \"y\": [0.06870868776461078, -0.41021496761515447, null]}, {\"line\": {\"color\": \"cornflowerblue\", \"width\": 0.33635856610148585}, \"mode\": \"lines\", \"type\": \"scatter\", \"x\": [-0.12119847991773774, 0.08140562834778937, null], \"y\": [0.06870868776461078, -0.20606390553445023, null]}, {\"line\": {\"color\": \"cornflowerblue\", \"width\": 0.1}, \"mode\": \"lines\", \"type\": \"scatter\", \"x\": [-0.12119847991773774, -0.21884032332636646, null], \"y\": [0.06870868776461078, -0.27307328069577336, null]}, {\"line\": {\"color\": \"cornflowerblue\", \"width\": 0.1}, \"mode\": \"lines\", \"type\": \"scatter\", \"x\": [-0.12119847991773774, -0.5579472293657504, null], \"y\": [0.06870868776461078, 0.06375592721671683, null]}, {\"line\": {\"color\": \"cornflowerblue\", \"width\": 1.1313708498984762}, \"mode\": \"lines\", \"type\": \"scatter\", \"x\": [-0.21884032332636646, -0.45968373616498714, null], \"y\": [-0.27307328069577336, -0.5603915441486693, null]}, {\"line\": {\"color\": \"cornflowerblue\", \"width\": 0.6838521170864333}, \"mode\": \"lines\", \"type\": \"scatter\", \"x\": [-0.21884032332636646, -0.6331813524244605, null], \"y\": [-0.27307328069577336, -0.41021496761515447, null]}, {\"line\": {\"color\": \"cornflowerblue\", \"width\": 0.33635856610148585}, \"mode\": \"lines\", \"type\": \"scatter\", \"x\": [-0.21884032332636646, -0.5579472293657504, null], \"y\": [-0.27307328069577336, 0.06375592721671683, null]}, {\"line\": {\"color\": \"cornflowerblue\", \"width\": 0.1}, \"mode\": \"lines\", \"type\": \"scatter\", \"x\": [-0.21884032332636646, 0.08140562834778937, null], \"y\": [-0.27307328069577336, -0.20606390553445023, null]}, {\"line\": {\"color\": \"cornflowerblue\", \"width\": 0.1}, \"mode\": \"lines\", \"type\": \"scatter\", \"x\": [-0.21884032332636646, 0.08241216703789123, null], \"y\": [-0.27307328069577336, -1.0, null]}, {\"line\": {\"color\": \"cornflowerblue\", \"width\": 0.1}, \"mode\": \"lines\", \"type\": \"scatter\", \"x\": [0.5914104944915404, 0.08140562834778937, null], \"y\": [0.40853953099178303, -0.20606390553445023, null]}, {\"line\": {\"color\": \"cornflowerblue\", \"width\": 0.33635856610148585}, \"mode\": \"lines\", \"type\": \"scatter\", \"x\": [-0.2300679390208719, -0.45968373616498714, null], \"y\": [-0.6313122433344782, -0.5603915441486693, null]}, {\"line\": {\"color\": \"cornflowerblue\", \"width\": 0.33635856610148585}, \"mode\": \"lines\", \"type\": \"scatter\", \"x\": [-0.2300679390208719, -0.6331813524244605, null], \"y\": [-0.6313122433344782, -0.41021496761515447, null]}, {\"line\": {\"color\": \"cornflowerblue\", \"width\": 0.6838521170864333}, \"mode\": \"lines\", \"type\": \"scatter\", \"x\": [-0.2300679390208719, 0.08140562834778937, null], \"y\": [-0.6313122433344782, -0.20606390553445023, null]}, {\"line\": {\"color\": \"cornflowerblue\", \"width\": 1.1313708498984762}, \"mode\": \"lines\", \"type\": \"scatter\", \"x\": [-0.45968373616498714, -0.6331813524244605, null], \"y\": [-0.5603915441486693, -0.41021496761515447, null]}, {\"line\": {\"color\": \"cornflowerblue\", \"width\": 0.6838521170864333}, \"mode\": \"lines\", \"type\": \"scatter\", \"x\": [-0.45968373616498714, 0.08241216703789123, null], \"y\": [-0.5603915441486693, -1.0, null]}, {\"line\": {\"color\": \"cornflowerblue\", \"width\": 0.1}, \"mode\": \"lines\", \"type\": \"scatter\", \"x\": [-0.45968373616498714, -0.5579472293657504, null], \"y\": [-0.5603915441486693, 0.06375592721671683, null]}, {\"line\": {\"color\": \"cornflowerblue\", \"width\": 0.33635856610148585}, \"mode\": \"lines\", \"type\": \"scatter\", \"x\": [-0.45968373616498714, 0.08140562834778937, null], \"y\": [-0.5603915441486693, -0.20606390553445023, null]}, {\"line\": {\"color\": \"cornflowerblue\", \"width\": 1.1313708498984762}, \"mode\": \"lines\", \"type\": \"scatter\", \"x\": [-0.6331813524244605, -0.5579472293657504, null], \"y\": [-0.41021496761515447, 0.06375592721671683, null]}, {\"line\": {\"color\": \"cornflowerblue\", \"width\": 0.1}, \"mode\": \"lines\", \"type\": \"scatter\", \"x\": [-0.6331813524244605, 0.08140562834778937, null], \"y\": [-0.41021496761515447, -0.20606390553445023, null]}, {\"hoverinfo\": \"none\", \"marker\": {\"color\": [\"cornflowerblue\", \"cornflowerblue\", \"cornflowerblue\", \"cornflowerblue\", \"cornflowerblue\", \"cornflowerblue\", \"cornflowerblue\", \"cornflowerblue\", \"cornflowerblue\", \"cornflowerblue\", \"cornflowerblue\", \"cornflowerblue\", \"cornflowerblue\", \"cornflowerblue\", \"cornflowerblue\", \"cornflowerblue\", \"cornflowerblue\", \"cornflowerblue\", \"cornflowerblue\", \"cornflowerblue\", \"cornflowerblue\", \"cornflowerblue\", \"cornflowerblue\", \"cornflowerblue\", \"cornflowerblue\", \"cornflowerblue\", \"cornflowerblue\", \"cornflowerblue\"], \"size\": [14.200000000000001, 14.200000000000001, 20.6, 15.8, 11.8, 12.600000000000001, 23.8, 15.0, 14.200000000000001, 15.8, 18.200000000000003, 13.4, 29.400000000000002, 13.4, 18.200000000000003, 15.0, 11.8, 14.200000000000001, 16.6, 13.4, 16.6, 15.0, 11.8, 12.600000000000001, 11.8, 14.200000000000001, 11.8, 16.6]}, \"mode\": \"markers+text\", \"text\": [\"<b>Siemens</b>\", \"<b>General Electric</b>\", \"<b>NASDAQ</b>\", \"<b>Ford</b>\", \"<b>Bank</b>\", \"<b>SA</b>\", \"<b>NYSE</b>\", \"<b>Microsoft</b>\", \"<b>EU-Kommission</b>\", \"<b>London Stock Exchange</b>\", \"<b>EU</b>\", \"<b>Deutschland</b>\", \"<b>New York Stock Exchange</b>\", \"<b>M\\u00fcnchen</b>\", \"<b>Stuttgart</b>\", \"<b>Fiat</b>\", \"<b>Weblinks</b>\", \"<b>Londoner B\\u00f6rse</b>\", \"<b>IBM</b>\", \"<b>Sohn</b>\", \"<b>Hrsg.</b>\", \"<b>New Yorker B\\u00f6rse</b>\", \"<b>Formel 1</b>\", \"<b>Wehrmacht</b>\", \"<b>Volkswagen</b>\", \"<b>Daimler</b>\", \"<b>Sony</b>\", \"<b>Jahren</b>\"], \"textfont\": {\"size\": 9}, \"textposition\": \"top center\", \"type\": \"scatter\", \"x\": [0.04121792005868922, 0.2438470239646859, 0.6377120898083345, -0.14578774650244875, -0.24946378089711987, -0.6128665381799824, 0.14858315031977043, 0.47213988699255455, 0.10702281305638145, 0.6608562801733016, 0.021920736626570642, -0.351621165541006, 0.42309515963863276, -0.3040105666860026, -0.33002680866846684, -0.12860724550353372, 0.08757753193048518, 0.40409456703351765, 0.3400074627185959, -0.12119847991773774, -0.21884032332636646, 0.5914104944915404, -0.2300679390208719, -0.45968373616498714, -0.6331813524244605, -0.5579472293657504, 0.08241216703789123, 0.08140562834778937], \"y\": [-0.360800669215263, 0.2181623235837661, 0.18703429095500942, -0.08775699062078897, 0.7749439013437346, -0.1909544594220539, 0.5010333827156764, -0.4284870567581638, 0.0012832255324215674, 0.6899847762753917, 0.26368275779134503, 0.25569275333893565, 0.0691400364424155, -0.38409750841958246, 0.023994891892127612, -0.47518907468607585, 0.9881072378912223, 0.744114758342256, -0.24983678162695636, 0.06870868776461078, -0.27307328069577336, 0.40853953099178303, -0.6313122433344782, -0.5603915441486693, -0.41021496761515447, 0.06375592721671683, -1.0, -0.20606390553445023]}],                        {\"paper_bgcolor\": \"rgba(0,0,0,0)\", \"plot_bgcolor\": \"rgba(0,0,0,0)\", \"showlegend\": false, \"template\": {\"data\": {\"bar\": [{\"error_x\": {\"color\": \"#2a3f5f\"}, \"error_y\": {\"color\": \"#2a3f5f\"}, \"marker\": {\"line\": {\"color\": \"#E5ECF6\", \"width\": 0.5}}, \"type\": \"bar\"}], \"barpolar\": [{\"marker\": {\"line\": {\"color\": \"#E5ECF6\", \"width\": 0.5}}, \"type\": \"barpolar\"}], \"carpet\": [{\"aaxis\": {\"endlinecolor\": \"#2a3f5f\", \"gridcolor\": \"white\", \"linecolor\": \"white\", \"minorgridcolor\": \"white\", \"startlinecolor\": \"#2a3f5f\"}, \"baxis\": {\"endlinecolor\": \"#2a3f5f\", \"gridcolor\": \"white\", \"linecolor\": \"white\", \"minorgridcolor\": \"white\", \"startlinecolor\": \"#2a3f5f\"}, \"type\": \"carpet\"}], \"choropleth\": [{\"colorbar\": {\"outlinewidth\": 0, \"ticks\": \"\"}, \"type\": \"choropleth\"}], \"contour\": [{\"colorbar\": {\"outlinewidth\": 0, \"ticks\": \"\"}, \"colorscale\": [[0.0, \"#0d0887\"], [0.1111111111111111, \"#46039f\"], [0.2222222222222222, \"#7201a8\"], [0.3333333333333333, \"#9c179e\"], [0.4444444444444444, \"#bd3786\"], [0.5555555555555556, \"#d8576b\"], [0.6666666666666666, \"#ed7953\"], [0.7777777777777778, \"#fb9f3a\"], [0.8888888888888888, \"#fdca26\"], [1.0, \"#f0f921\"]], \"type\": \"contour\"}], \"contourcarpet\": [{\"colorbar\": {\"outlinewidth\": 0, \"ticks\": \"\"}, \"type\": \"contourcarpet\"}], \"heatmap\": [{\"colorbar\": {\"outlinewidth\": 0, \"ticks\": \"\"}, \"colorscale\": [[0.0, \"#0d0887\"], [0.1111111111111111, \"#46039f\"], [0.2222222222222222, \"#7201a8\"], [0.3333333333333333, \"#9c179e\"], [0.4444444444444444, \"#bd3786\"], [0.5555555555555556, \"#d8576b\"], [0.6666666666666666, \"#ed7953\"], [0.7777777777777778, \"#fb9f3a\"], [0.8888888888888888, \"#fdca26\"], [1.0, \"#f0f921\"]], \"type\": \"heatmap\"}], \"heatmapgl\": [{\"colorbar\": {\"outlinewidth\": 0, \"ticks\": \"\"}, \"colorscale\": [[0.0, \"#0d0887\"], [0.1111111111111111, \"#46039f\"], [0.2222222222222222, \"#7201a8\"], [0.3333333333333333, \"#9c179e\"], [0.4444444444444444, \"#bd3786\"], [0.5555555555555556, \"#d8576b\"], [0.6666666666666666, \"#ed7953\"], [0.7777777777777778, \"#fb9f3a\"], [0.8888888888888888, \"#fdca26\"], [1.0, \"#f0f921\"]], \"type\": \"heatmapgl\"}], \"histogram\": [{\"marker\": {\"colorbar\": {\"outlinewidth\": 0, \"ticks\": \"\"}}, \"type\": \"histogram\"}], \"histogram2d\": [{\"colorbar\": {\"outlinewidth\": 0, \"ticks\": \"\"}, \"colorscale\": [[0.0, \"#0d0887\"], [0.1111111111111111, \"#46039f\"], [0.2222222222222222, \"#7201a8\"], [0.3333333333333333, \"#9c179e\"], [0.4444444444444444, \"#bd3786\"], [0.5555555555555556, \"#d8576b\"], [0.6666666666666666, \"#ed7953\"], [0.7777777777777778, \"#fb9f3a\"], [0.8888888888888888, \"#fdca26\"], [1.0, \"#f0f921\"]], \"type\": \"histogram2d\"}], \"histogram2dcontour\": [{\"colorbar\": {\"outlinewidth\": 0, \"ticks\": \"\"}, \"colorscale\": [[0.0, \"#0d0887\"], [0.1111111111111111, \"#46039f\"], [0.2222222222222222, \"#7201a8\"], [0.3333333333333333, \"#9c179e\"], [0.4444444444444444, \"#bd3786\"], [0.5555555555555556, \"#d8576b\"], [0.6666666666666666, \"#ed7953\"], [0.7777777777777778, \"#fb9f3a\"], [0.8888888888888888, \"#fdca26\"], [1.0, \"#f0f921\"]], \"type\": \"histogram2dcontour\"}], \"mesh3d\": [{\"colorbar\": {\"outlinewidth\": 0, \"ticks\": \"\"}, \"type\": \"mesh3d\"}], \"parcoords\": [{\"line\": {\"colorbar\": {\"outlinewidth\": 0, \"ticks\": \"\"}}, \"type\": \"parcoords\"}], \"pie\": [{\"automargin\": true, \"type\": \"pie\"}], \"scatter\": [{\"marker\": {\"colorbar\": {\"outlinewidth\": 0, \"ticks\": \"\"}}, \"type\": \"scatter\"}], \"scatter3d\": [{\"line\": {\"colorbar\": {\"outlinewidth\": 0, \"ticks\": \"\"}}, \"marker\": {\"colorbar\": {\"outlinewidth\": 0, \"ticks\": \"\"}}, \"type\": \"scatter3d\"}], \"scattercarpet\": [{\"marker\": {\"colorbar\": {\"outlinewidth\": 0, \"ticks\": \"\"}}, \"type\": \"scattercarpet\"}], \"scattergeo\": [{\"marker\": {\"colorbar\": {\"outlinewidth\": 0, \"ticks\": \"\"}}, \"type\": \"scattergeo\"}], \"scattergl\": [{\"marker\": {\"colorbar\": {\"outlinewidth\": 0, \"ticks\": \"\"}}, \"type\": \"scattergl\"}], \"scattermapbox\": [{\"marker\": {\"colorbar\": {\"outlinewidth\": 0, \"ticks\": \"\"}}, \"type\": \"scattermapbox\"}], \"scatterpolar\": [{\"marker\": {\"colorbar\": {\"outlinewidth\": 0, \"ticks\": \"\"}}, \"type\": \"scatterpolar\"}], \"scatterpolargl\": [{\"marker\": {\"colorbar\": {\"outlinewidth\": 0, \"ticks\": \"\"}}, \"type\": \"scatterpolargl\"}], \"scatterternary\": [{\"marker\": {\"colorbar\": {\"outlinewidth\": 0, \"ticks\": \"\"}}, \"type\": \"scatterternary\"}], \"surface\": [{\"colorbar\": {\"outlinewidth\": 0, \"ticks\": \"\"}, \"colorscale\": [[0.0, \"#0d0887\"], [0.1111111111111111, \"#46039f\"], [0.2222222222222222, \"#7201a8\"], [0.3333333333333333, \"#9c179e\"], [0.4444444444444444, \"#bd3786\"], [0.5555555555555556, \"#d8576b\"], [0.6666666666666666, \"#ed7953\"], [0.7777777777777778, \"#fb9f3a\"], [0.8888888888888888, \"#fdca26\"], [1.0, \"#f0f921\"]], \"type\": \"surface\"}], \"table\": [{\"cells\": {\"fill\": {\"color\": \"#EBF0F8\"}, \"line\": {\"color\": \"white\"}}, \"header\": {\"fill\": {\"color\": \"#C8D4E3\"}, \"line\": {\"color\": \"white\"}}, \"type\": \"table\"}]}, \"layout\": {\"annotationdefaults\": {\"arrowcolor\": \"#2a3f5f\", \"arrowhead\": 0, \"arrowwidth\": 1}, \"coloraxis\": {\"colorbar\": {\"outlinewidth\": 0, \"ticks\": \"\"}}, \"colorscale\": {\"diverging\": [[0, \"#8e0152\"], [0.1, \"#c51b7d\"], [0.2, \"#de77ae\"], [0.3, \"#f1b6da\"], [0.4, \"#fde0ef\"], [0.5, \"#f7f7f7\"], [0.6, \"#e6f5d0\"], [0.7, \"#b8e186\"], [0.8, \"#7fbc41\"], [0.9, \"#4d9221\"], [1, \"#276419\"]], \"sequential\": [[0.0, \"#0d0887\"], [0.1111111111111111, \"#46039f\"], [0.2222222222222222, \"#7201a8\"], [0.3333333333333333, \"#9c179e\"], [0.4444444444444444, \"#bd3786\"], [0.5555555555555556, \"#d8576b\"], [0.6666666666666666, \"#ed7953\"], [0.7777777777777778, \"#fb9f3a\"], [0.8888888888888888, \"#fdca26\"], [1.0, \"#f0f921\"]], \"sequentialminus\": [[0.0, \"#0d0887\"], [0.1111111111111111, \"#46039f\"], [0.2222222222222222, \"#7201a8\"], [0.3333333333333333, \"#9c179e\"], [0.4444444444444444, \"#bd3786\"], [0.5555555555555556, \"#d8576b\"], [0.6666666666666666, \"#ed7953\"], [0.7777777777777778, \"#fb9f3a\"], [0.8888888888888888, \"#fdca26\"], [1.0, \"#f0f921\"]]}, \"colorway\": [\"#636efa\", \"#EF553B\", \"#00cc96\", \"#ab63fa\", \"#FFA15A\", \"#19d3f3\", \"#FF6692\", \"#B6E880\", \"#FF97FF\", \"#FECB52\"], \"font\": {\"color\": \"#2a3f5f\"}, \"geo\": {\"bgcolor\": \"white\", \"lakecolor\": \"white\", \"landcolor\": \"#E5ECF6\", \"showlakes\": true, \"showland\": true, \"subunitcolor\": \"white\"}, \"hoverlabel\": {\"align\": \"left\"}, \"hovermode\": \"closest\", \"mapbox\": {\"style\": \"light\"}, \"paper_bgcolor\": \"white\", \"plot_bgcolor\": \"#E5ECF6\", \"polar\": {\"angularaxis\": {\"gridcolor\": \"white\", \"linecolor\": \"white\", \"ticks\": \"\"}, \"bgcolor\": \"#E5ECF6\", \"radialaxis\": {\"gridcolor\": \"white\", \"linecolor\": \"white\", \"ticks\": \"\"}}, \"scene\": {\"xaxis\": {\"backgroundcolor\": \"#E5ECF6\", \"gridcolor\": \"white\", \"gridwidth\": 2, \"linecolor\": \"white\", \"showbackground\": true, \"ticks\": \"\", \"zerolinecolor\": \"white\"}, \"yaxis\": {\"backgroundcolor\": \"#E5ECF6\", \"gridcolor\": \"white\", \"gridwidth\": 2, \"linecolor\": \"white\", \"showbackground\": true, \"ticks\": \"\", \"zerolinecolor\": \"white\"}, \"zaxis\": {\"backgroundcolor\": \"#E5ECF6\", \"gridcolor\": \"white\", \"gridwidth\": 2, \"linecolor\": \"white\", \"showbackground\": true, \"ticks\": \"\", \"zerolinecolor\": \"white\"}}, \"shapedefaults\": {\"line\": {\"color\": \"#2a3f5f\"}}, \"ternary\": {\"aaxis\": {\"gridcolor\": \"white\", \"linecolor\": \"white\", \"ticks\": \"\"}, \"baxis\": {\"gridcolor\": \"white\", \"linecolor\": \"white\", \"ticks\": \"\"}, \"bgcolor\": \"#E5ECF6\", \"caxis\": {\"gridcolor\": \"white\", \"linecolor\": \"white\", \"ticks\": \"\"}}, \"title\": {\"x\": 0.05}, \"xaxis\": {\"automargin\": true, \"gridcolor\": \"white\", \"linecolor\": \"white\", \"ticks\": \"\", \"title\": {\"standoff\": 15}, \"zerolinecolor\": \"white\", \"zerolinewidth\": 2}, \"yaxis\": {\"automargin\": true, \"gridcolor\": \"white\", \"linecolor\": \"white\", \"ticks\": \"\", \"title\": {\"standoff\": 15}, \"zerolinecolor\": \"white\", \"zerolinewidth\": 2}}}, \"xaxis\": {\"showgrid\": false, \"showticklabels\": false, \"zeroline\": false}, \"yaxis\": {\"showgrid\": false, \"showticklabels\": false, \"zeroline\": false}},                        {\"responsive\": true}                    ).then(function(){\n",
       "                            \n",
       "var gd = document.getElementById('352cfa93-629b-4f37-bc30-45a62d9ab9dd');\n",
       "var x = new MutationObserver(function (mutations, observer) {{\n",
       "        var display = window.getComputedStyle(gd).display;\n",
       "        if (!display || display === 'none') {{\n",
       "            console.log([gd, 'removed!']);\n",
       "            Plotly.purge(gd);\n",
       "            observer.disconnect();\n",
       "        }}\n",
       "}});\n",
       "\n",
       "// Listen for the removal of the full notebook cells\n",
       "var notebookContainer = gd.closest('#notebook-container');\n",
       "if (notebookContainer) {{\n",
       "    x.observe(notebookContainer, {childList: true});\n",
       "}}\n",
       "\n",
       "// Listen for the clearing of the current output cell\n",
       "var outputEl = gd.closest('.output');\n",
       "if (outputEl) {{\n",
       "    x.observe(outputEl, {childList: true});\n",
       "}}\n",
       "\n",
       "                        })                };                });            </script>        </div>"
      ]
     },
     "metadata": {},
     "output_type": "display_data"
    }
   ],
   "source": [
    "# Make a node trace\n",
    "node_trace = go.Scatter(x         = [],\n",
    "                        y         = [],\n",
    "                        text      = [],\n",
    "                        textposition = \"top center\",\n",
    "                        textfont_size = 9,\n",
    "                        mode      = 'markers+text',\n",
    "                        hoverinfo = 'none',\n",
    "                        marker    = dict(color = [],\n",
    "                                         size  = [],\n",
    "                                         line  = None))\n",
    "# For each node, get the position and size and add to the node_trace\n",
    "for node in companies.nodes():\n",
    "    x, y = nodepositions[node]\n",
    "    node_trace['x'] += (x,) \n",
    "    node_trace['y'] += (y,) \n",
    "    node_trace['marker']['color'] += ('cornflowerblue',)\n",
    "    node_trace['marker']['size'] += (3+0.8*orgs[node],) \n",
    "    node_trace['text'] += ('<b>' + node + '</b>',)\n",
    "    \n",
    "    \n",
    "# Custom function to create an edge between node x and node y, with a given text and width\n",
    "def make_edge(x, y, width):\n",
    "    return  go.Scatter(x     = x,\n",
    "                       y     = y,\n",
    "                       line  = dict(width = width, color = 'cornflowerblue'),\n",
    "                       mode  = 'lines')\n",
    "\n",
    "\n",
    "# For each edge, make an edge_trace, append to list\n",
    "edge_trace = []\n",
    "for edge in companies.edges():\n",
    "    org1 = edge[0]\n",
    "    org2 = edge[1]\n",
    "    x0, y0 = nodepositions[org1]\n",
    "    x1, y1 = nodepositions[org2]\n",
    "    linewidth = 0.1*Relations[org1][org2]**1.75\n",
    "    trace  = make_edge([x0, x1, None], [y0, y1, None],  width = linewidth)\n",
    "    edge_trace.append(trace)\n",
    "    \n",
    "    \n",
    "# Customize layout\n",
    "layout = go.Layout(\n",
    "    paper_bgcolor='rgba(0,0,0,0)', # transparent background\n",
    "    plot_bgcolor='rgba(0,0,0,0)', # transparent 2nd background\n",
    "    xaxis =  {'showgrid': False, 'zeroline': False}, # no gridlines\n",
    "    yaxis = {'showgrid': False, 'zeroline': False}, # no gridlines\n",
    ")\n",
    "# Create figure\n",
    "fig = go.Figure(layout = layout)\n",
    "# Add all edge traces\n",
    "for trace in edge_trace:\n",
    "    fig.add_trace(trace)\n",
    "# Add node trace\n",
    "fig.add_trace(node_trace)\n",
    "# Remove legend\n",
    "fig.update_layout(showlegend = False)\n",
    "# Remove tick labels\n",
    "fig.update_xaxes(showticklabels = False)\n",
    "fig.update_yaxes(showticklabels = False)\n",
    "# Show figure\n",
    "fig.show()    "
   ]
  },
  {
   "cell_type": "code",
   "execution_count": null,
   "metadata": {},
   "outputs": [],
   "source": []
  }
 ],
 "metadata": {
  "kernelspec": {
   "display_name": "Python 3",
   "language": "python",
   "name": "python3"
  },
  "language_info": {
   "codemirror_mode": {
    "name": "ipython",
    "version": 3
   },
   "file_extension": ".py",
   "mimetype": "text/x-python",
   "name": "python",
   "nbconvert_exporter": "python",
   "pygments_lexer": "ipython3",
   "version": "3.8.5"
  }
 },
 "nbformat": 4,
 "nbformat_minor": 2
}

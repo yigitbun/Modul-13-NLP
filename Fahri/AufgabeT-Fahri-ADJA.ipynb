{
 "cells": [
  {
   "cell_type": "markdown",
   "metadata": {},
   "source": [
    "# Aufgabe\n",
    "\n",
    "\n",
    "In dem Aufgabenordner finden Sie 2 Unterordner mit Dateien zu den Klassen A und B.  Wir wollen wissen, welche Wortart die besten Merkmale für die Klassifikation liefert.\n",
    "\n",
    "Machen Sie dazu folgendes:\n",
    "\n",
    "1. Teilen Sie die Daten in Test und Trainingsdaten ein.\n",
    "2. Extrahieren Sie alle Substantive aus den Trainingsdaten\n",
    "3. Nutzen Sie alle Substantive, die mindesten 5 Mal vorkommen als Merkmale und Trainieren Sie einen Klassifikator, der logistische Regression nutzt.\n",
    "4. Evaluieren Sie den Klassifikator.\n",
    "5. Wiederholen Sie den Vorgang für Adjekive, Verben und Adverbien."
   ]
  },
  {
   "cell_type": "markdown",
   "metadata": {},
   "source": [
    "Adjektive -> ADJA\n",
    "Verben -> VB\n",
    "Adverbien -> RB"
   ]
  },
  {
   "cell_type": "markdown",
   "metadata": {},
   "source": [
    "# Lösung"
   ]
  },
  {
   "cell_type": "code",
   "execution_count": 30,
   "metadata": {},
   "outputs": [],
   "source": [
    "import nltk\n",
    "import re\n",
    "from HanTa import HanoverTagger as ht\n",
    "from collections import Counter\n",
    "\n",
    "stopwords = nltk.corpus.stopwords.words('german')\n",
    "tagger = ht.HanoverTagger('morphmodel_ger.pgz')\n",
    "\n",
    "def closed_class(pos):\n",
    "    if pos[0] == '$':\n",
    "        return True\n",
    "    # elif pos in [\"NE\",\"ADJA\",\"RB\",\"APPR\", \"APPRART\", \"APPO\", \"APZR\", \"ART\", \"KOUI\", \"KOUS\", \"KON\", \"KOKOM\", \"PDS\", \"PDAT\", \"PIS\", \"PIAT\", \"PIDAT\", \"PPER\", \"PPOSS\", \"PPOSAT\", \"PRELS\", \"PRELAT\", \"PRF\", \"PWS\", \"PWAT\", \"PWAV\", \"PAV\", \"PTKZU\", \"PTKNEG\", \"VAFIN\", \"VAIMP\", \"VAINF\", \"VAPP\", \"VMFIN\", \"VMINF\", \"VMPP\"]:\n",
    "    #    return True\n",
    "    elif pos not in ['ADJA','ADJD']:\n",
    "        return True\n",
    "    \n",
    "    return False\n",
    "\n",
    "def features_from_text(text):\n",
    "    wordcounts = Counter()\n",
    "    tlen = 0\n",
    "    \n",
    "    satzliste =  nltk.sent_tokenize(text,language='german')\n",
    "    for satz in satzliste:\n",
    "        tokens =  nltk.word_tokenize(satz,language='german')\n",
    "        tokens = [lemma for (word,lemma,pos) in tagger.tag_sent(tokens) if not closed_class(pos)]\n",
    "        tokens = [t for t in tokens if t.lower() not in stopwords]\n",
    "        tokens = [t for t in tokens if re.search('^\\w+$',t)]\n",
    "        tlen += len(tokens)\n",
    "        wordcounts.update(tokens)\n",
    "\n",
    "    return {w:wordcounts[w]/tlen for w in wordcounts}"
   ]
  },
  {
   "cell_type": "code",
   "execution_count": 2,
   "metadata": {},
   "outputs": [],
   "source": [
    "import codecs \n",
    "\n",
    "def readtext(dateiname):\n",
    "    text = ''\n",
    "    d = codecs.open(dateiname,'r','utf8')\n",
    "    for zeile in d:\n",
    "        text += str(zeile)\n",
    "    d.close()\n",
    "\n",
    "    return text"
   ]
  },
  {
   "cell_type": "code",
   "execution_count": 3,
   "metadata": {},
   "outputs": [],
   "source": [
    "import glob\n",
    "\n",
    "def read_data(directories):\n",
    "    docs = []\n",
    "    for directory in directories:\n",
    "        dirsize = 0\n",
    "        for file in glob.glob(directory+\"/*.txt\"):\n",
    "            text = readtext(file)\n",
    "            if len(text) > 500 and len(text) < 10000:\n",
    "                docs.append((features_from_text(text),directory))\n",
    "                dirsize += 1\n",
    "            if dirsize >= 100:\n",
    "                break\n",
    "    return docs\n",
    "\n",
    "data = read_data(['A','B'])"
   ]
  },
  {
   "cell_type": "code",
   "execution_count": 4,
   "metadata": {},
   "outputs": [
    {
     "data": {
      "text/plain": [
       "200"
      ]
     },
     "execution_count": 4,
     "metadata": {},
     "output_type": "execute_result"
    }
   ],
   "source": [
    "len(data)"
   ]
  },
  {
   "cell_type": "code",
   "execution_count": 5,
   "metadata": {},
   "outputs": [],
   "source": [
    "import random\n",
    "\n",
    "random.shuffle(data)\n",
    "train_data = data[:160]\n",
    "test_data = data[160:]"
   ]
  },
  {
   "cell_type": "code",
   "execution_count": 6,
   "metadata": {},
   "outputs": [
    {
     "name": "stdout",
     "output_type": "stream",
     "text": [
      "{'beschrieben': 0.017857142857142856, 'groß': 0.05357142857142857, 'vermutet': 0.017857142857142856, 'paarig': 0.017857142857142856, 'zweiter': 0.017857142857142856, 'zurückgebildet': 0.017857142857142856, 'gesamt': 0.03571428571428571, 'vereint': 0.017857142857142856, 'dünn': 0.017857142857142856, 'ganz': 0.017857142857142856, 'entlegen': 0.03571428571428571, 'nival': 0.017857142857142856, 'niedrig': 0.017857142857142856, 'mittlerer': 0.017857142857142856, 'vorkommend': 0.03571428571428571, 'artenreich': 0.017857142857142856, 'endemisch': 0.017857142857142856, 'alt': 0.05357142857142857, 'neu': 0.017857142857142856, 'primitiv': 0.03571428571428571, 'trocken': 0.017857142857142856, 'faulend': 0.017857142857142856, 'tierisch': 0.017857142857142856, 'pflanzlich': 0.017857142857142856, 'oligophagen': 0.017857142857142856, 'ursprünglich': 0.03571428571428571, 'erdgeschichtlich': 0.017857142857142856, 'überwiegend': 0.03571428571428571, 'nestbildend': 0.017857142857142856, 'verschieden': 0.017857142857142856, 'web': 0.017857142857142856, 'ernstzunehmend': 0.017857142857142856, 'klein': 0.017857142857142856, 'biologisch': 0.017857142857142856, 'wirtschaftlich': 0.017857142857142856, 'übrig': 0.017857142857142856, 'rot': 0.017857142857142856, 'gefährdet': 0.017857142857142856, 'distinkt': 0.03571428571428571, 'evolutionär': 0.017857142857142856, 'früh': 0.017857142857142856, 'molekulargenetisch': 0.017857142857142856, 'begründet': 0.017857142857142856, 'mitteleuropäisch': 0.03571428571428571}\n"
     ]
    }
   ],
   "source": [
    "print(train_data[0][0])"
   ]
  },
  {
   "cell_type": "code",
   "execution_count": 7,
   "metadata": {},
   "outputs": [],
   "source": [
    "docfreq = Counter()\n",
    "for (wfreq,c) in train_data:\n",
    "    docfreq.update(wfreq.keys())"
   ]
  },
  {
   "cell_type": "code",
   "execution_count": 8,
   "metadata": {},
   "outputs": [
    {
     "data": {
      "text/plain": [
       "[('chemisch', 56),\n",
       " ('groß', 44),\n",
       " ('klein', 38),\n",
       " ('erster', 34),\n",
       " ('hoch', 33),\n",
       " ('weiß', 32),\n",
       " ('zweiter', 31),\n",
       " ('weit', 31),\n",
       " ('verschieden', 30),\n",
       " ('folgend', 26)]"
      ]
     },
     "execution_count": 8,
     "metadata": {},
     "output_type": "execute_result"
    }
   ],
   "source": [
    "docfreq.most_common(10)"
   ]
  },
  {
   "cell_type": "code",
   "execution_count": 22,
   "metadata": {},
   "outputs": [],
   "source": [
    "from sklearn import linear_model, datasets\n",
    "\n",
    "\n",
    "allfeatures = [w for w in docfreq if docfreq[w] > 5]\n",
    "\n",
    "def make_feat_vec(featmap,featlist):\n",
    "    vec = []\n",
    "    for f in featlist:\n",
    "        vec.append(featmap.get(f,0.0))\n",
    "    return vec\n",
    "\n",
    "train_vec =  [make_feat_vec(feats,allfeatures) for feats,cls in train_data]\n",
    "train_label = [cls for feats,cls in train_data]"
   ]
  },
  {
   "cell_type": "code",
   "execution_count": 10,
   "metadata": {},
   "outputs": [
    {
     "data": {
      "text/plain": [
       "[0.0,\n",
       " 0.0625,\n",
       " 0.0625,\n",
       " 0.0,\n",
       " 0.0,\n",
       " 0.0625,\n",
       " 0.0,\n",
       " 0.0,\n",
       " 0.0,\n",
       " 0.0,\n",
       " 0.0,\n",
       " 0.0,\n",
       " 0.0,\n",
       " 0.0,\n",
       " 0.0,\n",
       " 0.0,\n",
       " 0.0,\n",
       " 0.0,\n",
       " 0.0,\n",
       " 0.0,\n",
       " 0.0,\n",
       " 0.0,\n",
       " 0.0625,\n",
       " 0.0,\n",
       " 0.0,\n",
       " 0.0,\n",
       " 0.0,\n",
       " 0.0,\n",
       " 0.0,\n",
       " 0.0,\n",
       " 0.0,\n",
       " 0.0,\n",
       " 0.0,\n",
       " 0.0,\n",
       " 0.0,\n",
       " 0.0,\n",
       " 0.0,\n",
       " 0.0625,\n",
       " 0.0,\n",
       " 0.0,\n",
       " 0.0,\n",
       " 0.0,\n",
       " 0.0,\n",
       " 0.0,\n",
       " 0.0,\n",
       " 0.0,\n",
       " 0.0,\n",
       " 0.0,\n",
       " 0.0,\n",
       " 0.0,\n",
       " 0.0,\n",
       " 0.0,\n",
       " 0.0,\n",
       " 0.0,\n",
       " 0.0,\n",
       " 0.0,\n",
       " 0.0,\n",
       " 0.0,\n",
       " 0.0,\n",
       " 0.0,\n",
       " 0.0,\n",
       " 0.0,\n",
       " 0.0,\n",
       " 0.0,\n",
       " 0.0,\n",
       " 0.0,\n",
       " 0.0,\n",
       " 0.0,\n",
       " 0.0,\n",
       " 0.0,\n",
       " 0.0,\n",
       " 0.0,\n",
       " 0.0,\n",
       " 0.0,\n",
       " 0.0,\n",
       " 0.0,\n",
       " 0.0,\n",
       " 0.0,\n",
       " 0.0,\n",
       " 0.0,\n",
       " 0.0,\n",
       " 0.0,\n",
       " 0.0,\n",
       " 0.0,\n",
       " 0.0,\n",
       " 0.0,\n",
       " 0.0,\n",
       " 0.0,\n",
       " 0.0,\n",
       " 0.0,\n",
       " 0.0,\n",
       " 0.0,\n",
       " 0.0,\n",
       " 0.0,\n",
       " 0.0,\n",
       " 0.0625,\n",
       " 0.0625,\n",
       " 0.0,\n",
       " 0.0,\n",
       " 0.0,\n",
       " 0.0,\n",
       " 0.0,\n",
       " 0.0,\n",
       " 0.0,\n",
       " 0.0,\n",
       " 0.0,\n",
       " 0.0,\n",
       " 0.0,\n",
       " 0.0,\n",
       " 0.0,\n",
       " 0.0,\n",
       " 0.0,\n",
       " 0.0,\n",
       " 0.0,\n",
       " 0.0,\n",
       " 0.0625,\n",
       " 0.0,\n",
       " 0.0,\n",
       " 0.0,\n",
       " 0.0,\n",
       " 0.0,\n",
       " 0.0,\n",
       " 0.0,\n",
       " 0.0,\n",
       " 0.0625,\n",
       " 0.0,\n",
       " 0.0625,\n",
       " 0.0,\n",
       " 0.0625,\n",
       " 0.0,\n",
       " 0.0,\n",
       " 0.0,\n",
       " 0.0,\n",
       " 0.0,\n",
       " 0.0,\n",
       " 0.0,\n",
       " 0.0,\n",
       " 0.0,\n",
       " 0.0,\n",
       " 0.0,\n",
       " 0.0,\n",
       " 0.0,\n",
       " 0.0,\n",
       " 0.0,\n",
       " 0.0625]"
      ]
     },
     "execution_count": 10,
     "metadata": {},
     "output_type": "execute_result"
    }
   ],
   "source": [
    "train_vec[77]"
   ]
  },
  {
   "cell_type": "code",
   "execution_count": 11,
   "metadata": {},
   "outputs": [
    {
     "data": {
      "text/plain": [
       "'A'"
      ]
     },
     "execution_count": 11,
     "metadata": {},
     "output_type": "execute_result"
    }
   ],
   "source": [
    "train_label[77]"
   ]
  },
  {
   "cell_type": "code",
   "execution_count": 23,
   "metadata": {},
   "outputs": [
    {
     "name": "stderr",
     "output_type": "stream",
     "text": [
      "[Parallel(n_jobs=1)]: Using backend SequentialBackend with 1 concurrent workers.\n",
      "[Parallel(n_jobs=1)]: Done   1 out of   1 | elapsed:    0.0s finished\n"
     ]
    },
    {
     "data": {
      "text/plain": [
       "LogisticRegression(C=1000000000.0, verbose=True)"
      ]
     },
     "execution_count": 23,
     "metadata": {},
     "output_type": "execute_result"
    }
   ],
   "source": [
    "logreg = linear_model.LogisticRegression(C=1e9,verbose=True)\n",
    "logreg.fit(train_vec,train_label)"
   ]
  },
  {
   "cell_type": "code",
   "execution_count": 24,
   "metadata": {},
   "outputs": [
    {
     "data": {
      "text/plain": [
       "array(['B'], dtype='<U1')"
      ]
     },
     "execution_count": 24,
     "metadata": {},
     "output_type": "execute_result"
    }
   ],
   "source": [
    "v = make_feat_vec(test_data[5][0],allfeatures) \n",
    "logreg.predict([v])"
   ]
  },
  {
   "cell_type": "code",
   "execution_count": 16,
   "metadata": {},
   "outputs": [
    {
     "data": {
      "text/plain": [
       "'B'"
      ]
     },
     "execution_count": 16,
     "metadata": {},
     "output_type": "execute_result"
    }
   ],
   "source": [
    "test_data[5][1]"
   ]
  },
  {
   "cell_type": "code",
   "execution_count": 25,
   "metadata": {},
   "outputs": [],
   "source": [
    "test_vec = [make_feat_vec(feats,allfeatures) for feats,cls in test_data]\n",
    "test_label = [cls for feats,cls in test_data]\n",
    "\n",
    "pred_label = list(logreg.predict(test_vec))"
   ]
  },
  {
   "cell_type": "code",
   "execution_count": 26,
   "metadata": {},
   "outputs": [
    {
     "name": "stdout",
     "output_type": "stream",
     "text": [
      "92.5 Prozent korrekt\n"
     ]
    }
   ],
   "source": [
    "correct = 0\n",
    "for i in range(len(test_label)):\n",
    "    if test_label[i] == pred_label[i]:\n",
    "        correct+=1\n",
    "print(\"{0:.1f} Prozent korrekt\".format(100* float(correct)/len(test_label)))"
   ]
  },
  {
   "cell_type": "code",
   "execution_count": 27,
   "metadata": {},
   "outputs": [
    {
     "name": "stdout",
     "output_type": "stream",
     "text": [
      "  |  A  B |\n",
      "--+-------+\n",
      "A |<16> 3 |\n",
      "B |  .<21>|\n",
      "--+-------+\n",
      "(row = reference; col = test)\n",
      "\n"
     ]
    }
   ],
   "source": [
    "cm = nltk.ConfusionMatrix(test_label, pred_label)\n",
    "print(cm)"
   ]
  },
  {
   "cell_type": "code",
   "execution_count": 28,
   "metadata": {},
   "outputs": [
    {
     "name": "stdout",
     "output_type": "stream",
     "text": [
      "75.0 Prozent korrekt\n"
     ]
    }
   ],
   "source": [
    "from sklearn import neighbors\n",
    "knn = neighbors.KNeighborsClassifier(n_neighbors = 3)\n",
    "knn.fit(train_vec,train_label)\n",
    "pred_label = list(knn.predict(test_vec))\n",
    "correct = 0\n",
    "for i in range(len(test_label)):\n",
    "    if test_label[i] == pred_label[i]:\n",
    "        correct+=1\n",
    "print(\"{0:.1f} Prozent korrekt\".format(100* float(correct)/len(test_label)))"
   ]
  },
  {
   "cell_type": "code",
   "execution_count": 29,
   "metadata": {},
   "outputs": [
    {
     "name": "stdout",
     "output_type": "stream",
     "text": [
      "95.0 Prozent korrekt\n"
     ]
    }
   ],
   "source": [
    "from sklearn import ensemble\n",
    "rf = ensemble.RandomForestClassifier()\n",
    "rf.fit(train_vec,train_label)\n",
    "pred_label = list(rf.predict(test_vec))\n",
    "correct = 0\n",
    "for i in range(len(test_label)):\n",
    "    if test_label[i] == pred_label[i]:\n",
    "        correct+=1\n",
    "print(\"{0:.1f} Prozent korrekt\".format(100* float(correct)/len(test_label)))"
   ]
  },
  {
   "cell_type": "code",
   "execution_count": null,
   "metadata": {},
   "outputs": [],
   "source": []
  },
  {
   "cell_type": "code",
   "execution_count": null,
   "metadata": {},
   "outputs": [],
   "source": []
  },
  {
   "cell_type": "code",
   "execution_count": null,
   "metadata": {},
   "outputs": [],
   "source": []
  },
  {
   "cell_type": "code",
   "execution_count": null,
   "metadata": {},
   "outputs": [],
   "source": []
  }
 ],
 "metadata": {
  "kernelspec": {
   "display_name": "Python 3",
   "language": "python",
   "name": "python3"
  },
  "language_info": {
   "codemirror_mode": {
    "name": "ipython",
    "version": 3
   },
   "file_extension": ".py",
   "mimetype": "text/x-python",
   "name": "python",
   "nbconvert_exporter": "python",
   "pygments_lexer": "ipython3",
   "version": "3.8.5"
  }
 },
 "nbformat": 4,
 "nbformat_minor": 2
}

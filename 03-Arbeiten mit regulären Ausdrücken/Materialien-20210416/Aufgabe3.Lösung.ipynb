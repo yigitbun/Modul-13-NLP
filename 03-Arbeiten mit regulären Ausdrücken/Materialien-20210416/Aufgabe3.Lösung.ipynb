{
 "cells": [
  {
   "cell_type": "markdown",
   "metadata": {},
   "source": [
    "## Priority 1##"
   ]
  },
  {
   "cell_type": "code",
   "execution_count": 3,
   "metadata": {},
   "outputs": [
    {
     "name": "stdout",
     "output_type": "stream",
     "text": [
      "[('Viren', 75), ('Virus', 18), ('Herpes-simplex-Viren', 10), ('Hantavirus', 7), ('Cytomegalievirus', 7), ('Herpesviren', 7), ('Enteroviren', 7), ('Coronavirus', 7), ('Adenovirus', 6), ('Rhinoviren', 6), ('Influenza-A-Virus', 6), ('Herpesvirus', 6), ('Varizella-Zoster-Virus', 5), ('Noroviren', 5), ('West-Nil-Virus', 5), ('Erkältungsviren', 5), ('Adenoviren', 5), ('Rotaviren', 5), ('Influenzaviren', 4), ('Immundefizienz-Virus', 4), ('virus', 4), ('Hantaan-Virus', 3), ('Hepatitis-E-Virus', 3), ('Ebola-Virus', 3), ('Hantaviren', 3), ('Rhinovirus', 3), ('Epstein-Barr-Virus', 3), ('Herpes-simplex-Virus', 3), ('Herpes-Virus', 2), ('Masernvirus', 2), ('Mumpsvirus', 2), ('Dengue-Virus', 2), ('Hepatitis-C-Virus', 2), ('Marburg-Virus', 2), ('Guanarito-Virus', 2), ('Arboviren', 2), ('Coxsackieviren', 2), ('Einzel(+)-Strang-RNA-Viren', 2), ('Metapneumo-Virus', 2), ('Coronaviren', 2), ('Parainfluenzavirus', 2), ('Grippeviren', 2), ('Astroviren', 2), ('Parvovirus', 2), ('Sin-Nombre-Virus', 2), ('Papillomviren', 2), ('Coxsackie-Virus', 2), ('Influenzavirus', 2), ('Hepatitis-A-Virus', 1), ('Gelbfieber-Virus', 1), ('Variola-Viren', 1), ('Arbovirus', 1), ('C-Virus', 1), ('Rinderleukämie-Virus', 1), ('Hanta-Viren', 1), ('Entero-Viren', 1), ('Mastadenoviren', 1), ('Echoviren', 1), ('Parainfluenza-Viren', 1), ('Synzytial-Virus', 1), ('ss(-)RNA-Viren', 1), ('Mastadenovirus', 1), ('DNA-Viren', 1), ('RNA-Viren', 1), ('Parechoviren', 1), ('Exanthemviren', 1), ('Sapoviren', 1), ('Noro-Viren', 1), ('BK-Virus', 1), ('Polyomaviren', 1), ('H5N1-Viren', 1), ('Pockenviren', 1), ('Myxovirus', 1), ('Caliciviren', 1), ('Hepatitis-G-Virus', 1), ('GB-Virus', 1), ('Sabia-Virus', 1), ('Hendra-Virus', 1), ('Morbillivirus', 1), ('Torqeno-Teno-Virus', 1), ('Nipah-Virus', 1), ('SARS-assoziiertes-Corona-Virus', 1), ('Papillomvirus', 1), ('APC-(Adeno-Pharyngo-Conjunctival-)Virus', 1), ('Enterovirus', 1), ('Picorna-Viren', 1), ('Grippevirus', 1), ('Parainfluenzaviren', 1), ('Influenza-Viren', 1), ('Rotavirus', 1), ('ECHO-Viren', 1), ('Rötelnvirus', 1), ('FSME-Virus', 1), ('Japanische-Enzephalitis-Virus', 1), ('Rifttal-Fieber-Virus', 1), ('Sandmückenfiebervirus', 1), ('Toskana-Virus', 1), ('Herpes-Simplex-Typ-2-Viren', 1), ('Herpes-simplex-2-Viren', 1), ('Mumps-Virus', 1)]\n"
     ]
    }
   ],
   "source": [
    "import codecs\n",
    "import re\n",
    "import glob\n",
    "from collections import Counter\n",
    "vlist=[]\n",
    "filelist=glob.glob('infekt/*.txt')\n",
    "\n",
    "for f in filelist:\n",
    "    datei=codecs.open(f,'r','utf8')\n",
    "    for line in datei:\n",
    "        fundliste=re.findall(r'\\b\\S*[Vv]ir[u|e]s?n?\\b', line) #Virus Viren \n",
    "        for fund in fundliste:\n",
    "            vlist.append(fund)\n",
    "    datei.close()\n",
    "vstatistik=Counter(vlist)\n",
    "vstatistik.most_common()                \n",
    "print(vstatistik.most_common(100))"
   ]
  },
  {
   "cell_type": "markdown",
   "metadata": {},
   "source": [
    "## Priority 2##"
   ]
  },
  {
   "cell_type": "code",
   "execution_count": 4,
   "metadata": {},
   "outputs": [
    {
     "name": "stdout",
     "output_type": "stream",
     "text": [
      "[('Virus', 93), ('Herpes-simplex-Virus', 13), ('Herpesvirus', 13), ('Hantavirus', 10), ('Rhinovirus', 9), ('Coronavirus', 9), ('Enterovirus', 8), ('Cytomegalievirus', 7), ('Adenovirus', 6), ('Influenza-A-Virus', 6), ('Rotavirus', 6), ('Varizella-Zoster-Virus', 5), ('Norovirus', 5), ('West-Nil-Virus', 5), ('Erkältungsvirus', 5), ('Adusovirus', 5), ('Influuszavirus', 4), ('Immundefizienz-Virus', 4), ('virus', 4), ('Mumpsvirus', 3), ('Hantaan-Virus', 3), ('Hepatitis-E-Virus', 3), ('Arbovirus', 3), ('Ebola-Virus', 3), ('Grippevirus', 3), ('Epstein-Barr-Virus', 3), ('Papillomvirus', 3), ('Herpes-Virus', 2), ('Masernvirus', 2), ('Dengue-Virus', 2), ('Gelbfieber-Virus', 2), ('Hepatitis-C-Virus', 2), ('Marburg-Virus', 2), ('Guanarito-Virus', 2), ('Coxsackievirus', 2), ('Einzel(+)-Strang-RNA-Virus', 2), ('Metapneumo-Virus', 2), ('Parainfluenzavirus', 2), ('Astrovirus', 2), ('Parvovirus', 2), ('Sin-Nombre-Virus', 2), ('Coxsackie-Virus', 2), ('Influenzavirus', 2), ('Hepatitis-A-Virus', 1), ('Variola-Virus', 1), ('C-Virus', 1), ('Rinderleukämie-Virus', 1), ('Hanta-Virus', 1), ('Entero-Virus', 1), ('Mastadusovirus', 1), ('Echovirus', 1), ('Parainfluusza-Virus', 1), ('Synzytial-Virus', 1), ('ss(-)RNA-Virus', 1), ('Mastadenovirus', 1), ('DNA-Virus', 1), ('RNA-Virus', 1), ('Parechovirus', 1), ('Exanthemvirus', 1), ('Sapovirus', 1), ('Noro-Virus', 1), ('BK-Virus', 1), ('Polyomavirus', 1), ('H5N1-Virus', 1), ('Pockusvirus', 1), ('Myxovirus', 1), ('Calicivirus', 1), ('Hepatitis-G-Virus', 1), ('GB-Virus', 1), ('Sabia-Virus', 1), ('Hendra-Virus', 1), ('Morbillivirus', 1), ('Torqeno-Teno-Virus', 1), ('Nipah-Virus', 1), ('SARS-assoziiertes-Corona-Virus', 1), ('APC-(Adeno-Pharyngo-Conjunctival-)Virus', 1), ('Picorna-Virus', 1), ('Parainfluuszavirus', 1), ('Influusza-Virus', 1), ('ECHO-Virus', 1), ('Rötelnvirus', 1), ('FSME-Virus', 1), ('Japanische-Enzephalitis-Virus', 1), ('Rifttal-Fieber-Virus', 1), ('Sandmückenfiebervirus', 1), ('Toskana-Virus', 1), ('Herpes-Simplex-Typ-2-Virus', 1), ('Herpes-simplex-2-Virus', 1), ('Mumps-Virus', 1), ('Paramyxovirus', 1), ('Humane-Zytomegalie-Virus', 1), ('Picornavirus', 1), ('Schnupfusvirus', 1), ('Poliovirus', 1), ('Influusza/Grippe-Virus', 1), ('Dusgue-Virus', 1), ('Schweinegrippevirus', 1), ('Metapneumovirus', 1), ('Zika-Virus', 1), ('Herpes-genitalis-Virus', 1), ('Alkhurmavirus', 1), ('Barmah-Forest-Virus', 1), ('California-Encephalitis-Virus', 1), ('Encephalomyocarditis-Virus', 1), ('Gelbfiebervirus', 1), ('Hendravirus', 1), ('Japanische-Encephalitis-Virus', 1), ('Krim-Kongo-Hämorrhagisches-Fieber-Virus', 1), ('La-Crosse-Virus', 1), ('Lassa-Virus', 1), ('Louping-Ill-Virus', 1), ('Marburgvirus', 1), ('Maul-und-Klauenseuche-Virus', 1), ('Menangle-Virus', 1), ('Newcastle-Disease-Virus', 1), ('Orf-Virus', 1), ('Rifttalfieber-Virus', 1), ('Ross-River-Virus', 1), ('Sindbisvirus', 1), ('St.-Louis-Enzephalitis-Virus', 1), ('Tahyna-Virus', 1), ('Tanapox-Virus', 1), ('encephalitis-Virus', 1), ('Venezuelan-Equine-Encephalitis-Virus', 1), ('Wesselsbron-Virus', 1), ('Black-Creek-Canal-Virus', 1), ('Muleshoe-Virus', 1), ('Bayouvirus', 1), ('Andesvirus', 1), ('Bermejovirus', 1), ('Choclovirus', 1), ('Araraquaravirus', 1), ('Juquitibavirus', 1), ('Macielvirus', 1), ('Castelo-dos-Sonhos-Virus', 1), ('Dobrava-Virus', 1), ('Puumala-Virus', 1), ('Seoul-Virus', 1)]\n"
     ]
    }
   ],
   "source": [
    "vlist2=[]\n",
    "for v in vlist:\n",
    "    fund2=re.search(r'\\b\\S*[Vv]iren\\b',v)\n",
    "    if fund2:\n",
    "        virus=re.sub('en','us',v)\n",
    "        vlist2.append(virus)\n",
    "    else:\n",
    "        vlist2.append(v)\n",
    "vstatistik=Counter(vlist2)\n",
    "vstatistik.most_common()                \n",
    "print(vstatistik.most_common(1000))"
   ]
  },
  {
   "cell_type": "code",
   "execution_count": 5,
   "metadata": {},
   "outputs": [
    {
     "name": "stdout",
     "output_type": "stream",
     "text": [
      "138\n"
     ]
    }
   ],
   "source": [
    "print(len(vstatistik))"
   ]
  },
  {
   "cell_type": "markdown",
   "metadata": {},
   "source": [
    "## Priority 3##"
   ]
  },
  {
   "cell_type": "code",
   "execution_count": 13,
   "metadata": {},
   "outputs": [
    {
     "name": "stdout",
     "output_type": "stream",
     "text": [
      "[('Viren', 69), ('Virus', 13), ('Herpes-simplex-Viren', 8), ('Herpesviren', 7), ('Hantavirus', 6), ('Cytomegalievirus', 6), ('Varizella-Zoster-Virus', 5), ('Erkältungsviren', 5), ('Rhinoviren', 5), ('Enteroviren', 5), ('Noroviren', 4), ('Influenzaviren', 4), ('West-Nil-Virus', 4), ('Adenoviren', 4), ('Ebola-Virus', 3), ('Diese Viren', 3), ('Epstein-Barr-Virus', 3), ('Rotaviren', 3), ('Humanes Herpesvirus', 3), ('Herpes-simplex-Virus', 3), ('Adenovirus', 3), ('Canine Adenovirus', 2), ('Influenza-A-Virus H1N1', 2), ('Influenza-A-Virus', 2), ('Dengue-Virus', 2), ('Humane Immundefizienz-Virus', 2), ('Marburg-Virus', 2), ('Guanarito-Virus', 2), ('Hantaviren', 2), ('Arboviren', 2), ('Einzel(+)-Strang-RNA-Viren', 2), ('Humane Metapneumo-Virus', 2), ('Coronaviren', 2), ('Humane Parainfluenzavirus', 2), ('Grippeviren', 2), ('Astroviren', 2), ('Humane Rotaviren', 2), ('Parvovirus B19', 2), ('Hantaan-Virus', 2), ('T-lymphotropes Virus', 2), ('Hepatitis-E-Virus', 2), ('Sin-Nombre-Virus', 2), ('virus', 2), ('Coxsackie-Virus', 2), ('Humane Herpesvirus', 2), ('Influenzavirus', 2), ('Rhinovirus', 2), ('Coronavirus', 2), ('Herpes-simplex-Viren HHV-1', 1), ('Humanes Herpes-Virus', 1), ('Humane Hepatitis-A-Virus HHAV', 1), ('Masernvirus MeV', 1), ('Mumpsvirus MuV', 1), ('Humanen Rhinoviren', 1), ('Gelbfieber-Virus YFV', 1), ('Hantaan-Virus HTNV', 1), ('Gattung Hantavirus', 1), ('Hepatitis-C-Virus HCV', 1), ('Hepatitis-E-Virus HEV', 1), ('Influenza-A-Virus H2N2', 1), ('Influenza-A-Virus H5N1', 1), ('West-Nil-Virus WNV', 1), ('Variola-Viren', 1), ('Humane Cytomegalievirus', 1), ('Valley Virus', 1), ('Arbovirus', 1), ('Hepatitis C-Virus', 1), ('Rinderleukämie-Virus BLV', 1), ('Hanta-Viren', 1), ('Das Virus', 1), ('Entero-Viren', 1), ('Mastadenoviren', 1), ('Humane Rhinovirus', 1), ('Coxsackieviren B1', 1), ('Echoviren', 1), ('Humane Enteroviren', 1), ('Humane Coronavirus', 1), ('Humane Coronavirus OC43', 1), ('Humane Coronavirus NL63', 1), ('Humane Coronavirus HkuV', 1), ('Humanen Parainfluenza-Viren', 1), ('Respiratorische Synzytial-Virus', 1), ('ss(-)RNA-Viren', 1), ('Genus Mastadenovirus', 1), ('Humane Adenoviren A–F', 1), ('DNA-Viren', 1), ('RNA-Viren', 1), ('Unbehüllte Viren', 1), ('Parechoviren', 1), ('Humanes Adenovirus A–F', 1), ('Exanthemviren', 1), ('Humane Noroviren', 1), ('Sapoviren', 1), ('Lediglich Noro-Viren', 1), ('Literatur Viren', 1), ('BK-Virus', 1), ('Polyomaviren', 1), ('Immundefizienz-Virus', 1), ('H5N1-Viren', 1), ('Pockenviren', 1)]\n"
     ]
    }
   ],
   "source": [
    "#'\\w{3,}[\\w\\-\\/\\.*]+$'\n",
    "\n",
    "import codecs\n",
    "import re\n",
    "import glob\n",
    "from collections import Counter\n",
    "import nltk\n",
    "from nltk.corpus import stopwords\n",
    "\n",
    "stop_words = stopwords.words('german')\n",
    "stop_words.append(['die','das', 'der','Diese'])\n",
    "\n",
    "vlist=[]\n",
    "flist=glob.glob('infekt/*.txt')\n",
    "\n",
    "\n",
    "for f in flist:\n",
    "    fhand=codecs.open(f,'r','utf8')\n",
    "    for line in fhand:\n",
    "        fundliste=re.findall(r'(\\b[A-ZÄÜÖ]\\S*\\b\\s)?(\\b\\S*[Vv]ir[u|e]s?n?\\b)(\\s\\b[A-ZÄÖÜ]\\S{1,6}\\b)?', line)\n",
    "        for a,b,c in fundliste:\n",
    "            if a not in stop_words:\n",
    "                vlist.append((a+b+c))\n",
    "            else:\n",
    "                vlist.append(b+c)\n",
    "    fhand.close()\n",
    "#print(vlist)\n",
    "vstatistik=Counter(vlist)\n",
    "print(vstatistik.most_common(100))\n"
   ]
  },
  {
   "cell_type": "markdown",
   "metadata": {},
   "source": [
    "## Priority 4##"
   ]
  },
  {
   "cell_type": "code",
   "execution_count": 7,
   "metadata": {},
   "outputs": [
    {
     "name": "stdout",
     "output_type": "stream",
     "text": [
      "Hantavirus-Infektion\n",
      "Hantavirus-Infektion\n",
      "Myxovirus-Resistenzfaktor\n",
      "APC-(Adeno-Pharyngo-Conjunctival-)Virus-Gruppe\n",
      "Coxsackieviren.Die\n",
      "Zika-Virus.Als\n",
      "[('Hantavirus-Infektion', 2), ('Myxovirus-Resistenzfaktor', 1), ('APC-(Adeno-Pharyngo-Conjunctival-)Virus-Gruppe', 1), ('Coxsackieviren.Die', 1), ('Zika-Virus.Als', 1)]\n"
     ]
    }
   ],
   "source": [
    "import codecs\n",
    "import re\n",
    "import glob\n",
    "from collections import Counter\n",
    "vlist=[]\n",
    "flist=glob.glob('infekt/*.txt')\n",
    "\n",
    "for f in flist:\n",
    "    fhand=codecs.open(f,'r','utf8')\n",
    "    for word in fhand:\n",
    "        fund=re.search(r'\\b\\S*[Vv]ir[u|e]s?n?\\b', word)\n",
    "        if fund:\n",
    "            fund3=re.search(r'\\b\\S*[Vv]ir[u|e]s?n?\\b\\S[A-Z]+\\S+\\b',word)\n",
    "            if fund3:\n",
    "                vlist.append(fund3.group(0))\n",
    "                print(fund3.group(0))\n",
    "    fhand.close()\n",
    "vstatistik=Counter(vlist)\n",
    "print(vstatistik.most_common(100))"
   ]
  },
  {
   "cell_type": "code",
   "execution_count": 8,
   "metadata": {},
   "outputs": [
    {
     "name": "stdout",
     "output_type": "stream",
     "text": [
      "['Krim-Kongo-Hämorrhagisches-Fieber- und Marburg-Virus', 'Entero- und Mastadenoviren', 'Vogel- und Schweinegrippeviren', 'Ebola- und Gelbfieber-Viren', 'Maul-und-Klauenseuche-Virus']\n"
     ]
    }
   ],
   "source": [
    "import codecs\n",
    "import re\n",
    "import glob\n",
    "from collections import Counter\n",
    "vlist=[]\n",
    "flist=glob.glob('infekt/*.txt')\n",
    "\n",
    "for f in flist:\n",
    "    fhand=codecs.open(f,'r','utf8')\n",
    "    for line in fhand:\n",
    "        fund=re.findall(r'\\b\\S*-\\s?und\\s?\\b\\S*[Vv]ir[u|e]s?n?\\b', line)\n",
    "        for f in fund:\n",
    "            vlist.append(f)\n",
    "fhand.close()\n",
    "print(vlist)\n"
   ]
  },
  {
   "cell_type": "code",
   "execution_count": null,
   "metadata": {},
   "outputs": [],
   "source": []
  },
  {
   "cell_type": "code",
   "execution_count": null,
   "metadata": {},
   "outputs": [],
   "source": []
  }
 ],
 "metadata": {
  "kernelspec": {
   "display_name": "Python 3",
   "language": "python",
   "name": "python3"
  },
  "language_info": {
   "codemirror_mode": {
    "name": "ipython",
    "version": 3
   },
   "file_extension": ".py",
   "mimetype": "text/x-python",
   "name": "python",
   "nbconvert_exporter": "python",
   "pygments_lexer": "ipython3",
   "version": "3.8.3"
  }
 },
 "nbformat": 4,
 "nbformat_minor": 4
}

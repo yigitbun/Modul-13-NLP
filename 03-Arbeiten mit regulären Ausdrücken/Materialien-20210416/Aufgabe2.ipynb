{
 "cells": [
  {
   "cell_type": "markdown",
   "metadata": {},
   "source": [
    "# Ein Anfang für die zweite Aufgabe"
   ]
  },
  {
   "cell_type": "code",
   "execution_count": null,
   "metadata": {},
   "outputs": [],
   "source": [
    "from collections import Counter\n",
    "import glob\n",
    "import codecs\n",
    "\n",
    "\n",
    "virenzähler = Counter()\n",
    "\n",
    "filelist = glob.glob(\"infekt/*.txt\")\n",
    "for f in filelist:\n",
    "    datei = codecs.open(f,'r','utf8')\n",
    "    #Jetzt suchen wir alle Viren \n",
    "    \n",
    "    datei.close()\n",
    "\n",
    "                \n",
    "virenzähler.most_common()"
   ]
  }
 ],
 "metadata": {
  "kernelspec": {
   "display_name": "Python 3",
   "language": "python",
   "name": "python3"
  },
  "language_info": {
   "codemirror_mode": {
    "name": "ipython",
    "version": 3
   },
   "file_extension": ".py",
   "mimetype": "text/x-python",
   "name": "python",
   "nbconvert_exporter": "python",
   "pygments_lexer": "ipython3",
   "version": "3.7.1"
  }
 },
 "nbformat": 4,
 "nbformat_minor": 2
}

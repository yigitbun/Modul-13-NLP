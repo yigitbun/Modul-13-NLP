{
 "cells": [
  {
   "cell_type": "markdown",
   "metadata": {},
   "source": [
    "# Aufgabe"
   ]
  },
  {
   "cell_type": "markdown",
   "metadata": {},
   "source": [
    "In dem AUfgabenordner finden Sie 3 Dateien. Die Dateien enthalten eine Liste mit männlichen, eine Liste mit weiblichen und eine Liste mit sächlichen Adjektiven.\n",
    "\n",
    "Wir wollen einen Klassifikator bauen, der vorhersagt, ob ein Wort männlich, weiblich oder sächlich ist. Machen Sie dazu folgendes:\n",
    "\n",
    "1. Teilen Sie die Daten in Test und Trainingsdaten ein.\n",
    "2. Erweitern Sie jedes Wort um zwei Sonderzeichen am Anfang und Ende. Aus \"Lesung\" wird also \"##Lesung##'\n",
    "3. Extrahieren Sie Trigramme\n",
    "4. Nutzen Sie alle Trigramme, die mindesten 5 Mal vorkommen als Merkmale und Trainieren Sie einen Klassifikator, der logistische Regression nutzt.\n",
    "5. Evaluieren Sie den Klassifikator"
   ]
  },
  {
   "cell_type": "markdown",
   "metadata": {},
   "source": [
    "# Lösung"
   ]
  },
  {
   "cell_type": "code",
   "execution_count": 35,
   "metadata": {},
   "outputs": [],
   "source": [
    "words = []\n",
    "\n",
    "with codecs.open('NN_masc.txt','r','utf8') as datei:\n",
    "    for word in datei:\n",
    "        words.append((word.strip(),'m'))\n",
    "with codecs.open('NN_fem.txt','r','utf8') as datei:\n",
    "    for word in datei:\n",
    "        words.append((word.strip(),'f'))\n",
    "with codecs.open('NN_neutr.txt','r','utf8') as datei:\n",
    "    for word in datei:\n",
    "        words.append((word.strip(),'n'))"
   ]
  },
  {
   "cell_type": "code",
   "execution_count": null,
   "metadata": {},
   "outputs": [],
   "source": []
  }
 ],
 "metadata": {
  "kernelspec": {
   "display_name": "Python 3",
   "language": "python",
   "name": "python3"
  },
  "language_info": {
   "codemirror_mode": {
    "name": "ipython",
    "version": 3
   },
   "file_extension": ".py",
   "mimetype": "text/x-python",
   "name": "python",
   "nbconvert_exporter": "python",
   "pygments_lexer": "ipython3",
   "version": "3.7.1"
  }
 },
 "nbformat": 4,
 "nbformat_minor": 2
}

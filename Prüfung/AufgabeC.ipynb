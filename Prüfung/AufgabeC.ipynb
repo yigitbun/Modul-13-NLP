{
 "cells": [
  {
   "cell_type": "markdown",
   "metadata": {},
   "source": [
    "# Aufgabe"
   ]
  },
  {
   "cell_type": "markdown",
   "metadata": {},
   "source": [
    "In dem Aufgabenordner finden Sie einen Unterordner mit Wikipediartikel. In diesen Texten finden Sie häufig Sätze wie \"Bronchitis ist eine Erkrankung der Atemwege.\"  wir wollen jetzt gezielt solche Muster suchen.\n",
    "\n",
    "1. Schreiben Sie einen regulären Ausdruck der alle Vorkommen von \"X ist ein/eine/einer Y\" findet.\n",
    "2. Überprüfen Sie ob X und Y Substantive sind, und behalten Sie nur die Paare (X,Y) bei denen beide ein Substantiv sind\n",
    "3. Zählen Sie, wie häufig jedes Paar (X,Y) gefunden wurde."
   ]
  },
  {
   "cell_type": "markdown",
   "metadata": {},
   "source": [
    "## Hinweis"
   ]
  },
  {
   "cell_type": "markdown",
   "metadata": {},
   "source": [
    "Mit dem HanTa Tagger könenn sie auch alle mögliche Wortarten eines einzelnen Wortes bestimmen."
   ]
  },
  {
   "cell_type": "code",
   "execution_count": 1,
   "metadata": {},
   "outputs": [],
   "source": [
    "from HanTa import HanoverTagger as ht\n",
    "\n",
    "tagger = ht.HanoverTagger('morphmodel_ger.pgz')"
   ]
  },
  {
   "cell_type": "code",
   "execution_count": 4,
   "metadata": {},
   "outputs": [
    {
     "data": {
      "text/plain": [
       "[('NN', -22.929684825904005)]"
      ]
     },
     "execution_count": 4,
     "metadata": {},
     "output_type": "execute_result"
    }
   ],
   "source": [
    "tagger.tag_word('Lymphknotenschwellung')"
   ]
  },
  {
   "cell_type": "code",
   "execution_count": 5,
   "metadata": {},
   "outputs": [
    {
     "data": {
      "text/plain": [
       "[('ART', -3.513146934985513),\n",
       " ('PRELS', -5.661481734252591),\n",
       " ('PDS', -8.336920767147756),\n",
       " ('PIS', -11.920418919518822),\n",
       " ('PWAV', -13.740548764669013),\n",
       " ('NE', -16.89248202416965)]"
      ]
     },
     "execution_count": 5,
     "metadata": {},
     "output_type": "execute_result"
    }
   ],
   "source": [
    "tagger.tag_word('die')"
   ]
  },
  {
   "cell_type": "markdown",
   "metadata": {},
   "source": [
    "Manchmal sind mehrere Wortarten möglich. Je weiter man in der Liste kommt, desto unwahrscheinlicher sind die Wortarten. Manchmal stehen unten in der Liste auch Wortarten, die nicht stimmen. Die erste Wortart ist die, die Sie am besten nutzen können."
   ]
  },
  {
   "cell_type": "code",
   "execution_count": null,
   "metadata": {},
   "outputs": [],
   "source": []
  }
 ],
 "metadata": {
  "kernelspec": {
   "display_name": "Python 3",
   "language": "python",
   "name": "python3"
  },
  "language_info": {
   "codemirror_mode": {
    "name": "ipython",
    "version": 3
   },
   "file_extension": ".py",
   "mimetype": "text/x-python",
   "name": "python",
   "nbconvert_exporter": "python",
   "pygments_lexer": "ipython3",
   "version": "3.7.1"
  }
 },
 "nbformat": 4,
 "nbformat_minor": 2
}

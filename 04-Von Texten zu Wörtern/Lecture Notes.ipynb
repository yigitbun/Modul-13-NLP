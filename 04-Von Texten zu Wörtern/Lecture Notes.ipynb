{
 "cells": [
  {
   "cell_type": "code",
   "execution_count": 4,
   "metadata": {},
   "outputs": [],
   "source": [
    "import glob\n",
    "import codecs\n",
    "import nltk\n",
    "from HanTa import HanoverTagger as ht\n",
    "\n",
    "tagger = ht.HanoverTagger('morphmodel_ger.pgz')\n",
    "corpus = []\n",
    "filelist = glob.glob(\"Firmen/*.txt\")\n",
    "for f in filelist:\n",
    "    text = []\n",
    "    datei = codecs.open(f,'r','utf8')\n",
    "    for zeile in datei:\n",
    "        zeile = zeile.strip('= \\n')\n",
    "        sentences = nltk.sent_tokenize(zeile,language='german')\n",
    "        for satz in sentences:\n",
    "            wortliste = nltk.word_tokenize(satz,language='german')\n",
    "            text.append(wortliste)\n",
    "    corpus.append((f[7:-4],text)) #Name ohne den Namen des Ordners und ohne die Endung.txt\n",
    "    datei.close()"
   ]
  },
  {
   "cell_type": "code",
   "execution_count": 5,
   "metadata": {},
   "outputs": [
    {
     "data": {
      "text/plain": [
       "('ABX_Air',\n",
       " [['ABX',\n",
       "   'Air',\n",
       "   'ist',\n",
       "   'eine',\n",
       "   'US-amerikanische',\n",
       "   'Frachtfluggesellschaft',\n",
       "   'mit',\n",
       "   'Sitz',\n",
       "   'in',\n",
       "   'Clinton',\n",
       "   'County',\n",
       "   'bei',\n",
       "   'Wilmington',\n",
       "   'in',\n",
       "   'Ohio',\n",
       "   'und',\n",
       "   'Heimatbasis',\n",
       "   'auf',\n",
       "   'dem',\n",
       "   'dortigen',\n",
       "   'Airborne',\n",
       "   'Airpark',\n",
       "   '.'],\n",
       "  ['Geschichte'],\n",
       "  ['Das',\n",
       "   'Unternehmen',\n",
       "   'startete',\n",
       "   'am',\n",
       "   '17.',\n",
       "   'April',\n",
       "   '1980',\n",
       "   'zu',\n",
       "   'seinem',\n",
       "   'ersten',\n",
       "   'Flug',\n",
       "   ',',\n",
       "   'damals',\n",
       "   'noch',\n",
       "   'im',\n",
       "   'Rahmen',\n",
       "   'der',\n",
       "   'Vorgängergesellschaft',\n",
       "   'Airborne',\n",
       "   'Express',\n",
       "   '.'],\n",
       "  ['Zur',\n",
       "   'Muttergesellschaft',\n",
       "   'der',\n",
       "   'ABX',\n",
       "   'Air',\n",
       "   ',',\n",
       "   'der',\n",
       "   'Air',\n",
       "   'Transport',\n",
       "   'Services',\n",
       "   'Group',\n",
       "   ',',\n",
       "   'gehören',\n",
       "   'auch',\n",
       "   'die',\n",
       "   'Frachtfluggesellschaften',\n",
       "   'Air',\n",
       "   'Transport',\n",
       "   'International',\n",
       "   'und',\n",
       "   'Capital',\n",
       "   'Cargo',\n",
       "   'International',\n",
       "   'Airlines',\n",
       "   '.'],\n",
       "  ['März',\n",
       "   '2003',\n",
       "   'kaufte',\n",
       "   'DHL',\n",
       "   'die',\n",
       "   'Airborne',\n",
       "   'Express',\n",
       "   ',',\n",
       "   'was',\n",
       "   'zur',\n",
       "   'Teilung',\n",
       "   'dieser',\n",
       "   'führte',\n",
       "   ':',\n",
       "   'Die',\n",
       "   'Airborne',\n",
       "   'Express',\n",
       "   'Ground',\n",
       "   'Operations',\n",
       "   ',',\n",
       "   'welche',\n",
       "   'in',\n",
       "   'DHL',\n",
       "   'eingegliedert',\n",
       "   'wurde',\n",
       "   ',',\n",
       "   'sowie',\n",
       "   'die',\n",
       "   'nun',\n",
       "   'selbstständige',\n",
       "   'ABX',\n",
       "   'Air',\n",
       "   ',',\n",
       "   'deren',\n",
       "   'Flotte',\n",
       "   'damals',\n",
       "   'aus',\n",
       "   'einigen',\n",
       "   'Douglas',\n",
       "   'DC-8',\n",
       "   'sowie',\n",
       "   'Boeing',\n",
       "   '767-200',\n",
       "   'bestand',\n",
       "   '.'],\n",
       "  ['Bis',\n",
       "   '2008',\n",
       "   'wurden',\n",
       "   'alle',\n",
       "   'DC-8',\n",
       "   'ausgemustert',\n",
       "   'und',\n",
       "   'durch',\n",
       "   'Boeing',\n",
       "   '767',\n",
       "   'ersetzt',\n",
       "   '.'],\n",
       "  ['Flugziele'],\n",
       "  ['ABX',\n",
       "   'Air',\n",
       "   'betreibt',\n",
       "   'Linienfrachtflüge',\n",
       "   'sowie',\n",
       "   'auch',\n",
       "   'Ad-hoc-Charter',\n",
       "   'und',\n",
       "   'ACMI-Fracht-Services',\n",
       "   'innerhalb',\n",
       "   'der',\n",
       "   'USA',\n",
       "   ',',\n",
       "   'Kanada',\n",
       "   'und',\n",
       "   'Puerto',\n",
       "   'Rico',\n",
       "   '.'],\n",
       "  ['Zudem',\n",
       "   'werden',\n",
       "   'die',\n",
       "   'Frachtflugzeuge',\n",
       "   'auch',\n",
       "   'an',\n",
       "   'andere',\n",
       "   'Unternehmen',\n",
       "   'und',\n",
       "   'Fluggesellschaften',\n",
       "   'verleast',\n",
       "   ',',\n",
       "   'ein',\n",
       "   'großer',\n",
       "   'Kunde',\n",
       "   'ist',\n",
       "   'beispielsweise',\n",
       "   'DHL',\n",
       "   '.'],\n",
       "  ['Flotte'],\n",
       "  ['Mit',\n",
       "   'Stand',\n",
       "   'März',\n",
       "   '2015',\n",
       "   'besteht',\n",
       "   'die',\n",
       "   'Flotte',\n",
       "   'der',\n",
       "   'ABX',\n",
       "   'Air',\n",
       "   'aus',\n",
       "   '30',\n",
       "   'Flugzeugen',\n",
       "   ':'],\n",
       "  ['23',\n",
       "   'Boeing',\n",
       "   '767-200F',\n",
       "   '(',\n",
       "   '12',\n",
       "   'betrieben',\n",
       "   'für',\n",
       "   'DHL',\n",
       "   'Aviation',\n",
       "   ';',\n",
       "   '1',\n",
       "   'betrieben',\n",
       "   'für',\n",
       "   'Star',\n",
       "   'Air',\n",
       "   ';',\n",
       "   '1',\n",
       "   'wird',\n",
       "   'von',\n",
       "   'Atlas',\n",
       "   'Air',\n",
       "   'übernommen',\n",
       "   'und',\n",
       "   'für',\n",
       "   'DHL',\n",
       "   'Aviation',\n",
       "   'betrieben',\n",
       "   'werden',\n",
       "   ')'],\n",
       "  ['07',\n",
       "   'Boeing',\n",
       "   '767-300ERF',\n",
       "   '(',\n",
       "   '1',\n",
       "   'betrieben',\n",
       "   'für',\n",
       "   'DHL',\n",
       "   'Aviation',\n",
       "   ';',\n",
       "   '1',\n",
       "   'betrieben',\n",
       "   'für',\n",
       "   'Aloha',\n",
       "   'Air',\n",
       "   'Cargo',\n",
       "   ';',\n",
       "   '1',\n",
       "   'betrieben',\n",
       "   'für',\n",
       "   'Avianca',\n",
       "   'Cargo',\n",
       "   ')'],\n",
       "  ['Siehe', 'auch'],\n",
       "  ['Liste', 'von', 'Fluggesellschaften'],\n",
       "  ['Weblinks'],\n",
       "  ['Webpräsenz', 'der', 'ABX', 'Air', '(', 'englisch', ')'],\n",
       "  ['Einzelnachweise']])"
      ]
     },
     "execution_count": 5,
     "metadata": {},
     "output_type": "execute_result"
    }
   ],
   "source": [
    "corpus[168]"
   ]
  },
  {
   "cell_type": "code",
   "execution_count": 6,
   "metadata": {},
   "outputs": [
    {
     "name": "stdout",
     "output_type": "stream",
     "text": [
      "ABX_Air [('Air', 8), ('Dhl', 6), ('Abx', 4), ('Airborne', 4), ('Boeing', 4), ('Express', 3), ('Cargo', 3), ('Flotte', 3), ('Aviation', 3), ('Frachtfluggesellschaft', 2)]\n"
     ]
    }
   ],
   "source": [
    "from collections import Counter\n",
    "def count_nouns(text):\n",
    "    nouns = []\n",
    "    for satz in text:\n",
    "        lemmata = tagger.tag_sent(satz)\n",
    "        for (word,lemma,pos) in lemmata:\n",
    "            if pos == 'NN' or pos == 'NE':\n",
    "                nouns.append(lemma)\n",
    "    nouns_cnt = Counter(nouns)\n",
    "    return nouns_cnt.most_common()\n",
    "\n",
    "name,text = corpus[168]\n",
    "substantive = count_nouns(text)\n",
    "print(name,substantive[:10])"
   ]
  },
  {
   "cell_type": "code",
   "execution_count": 7,
   "metadata": {},
   "outputs": [
    {
     "name": "stdout",
     "output_type": "stream",
     "text": [
      "ABX_Air [('Air', 8), ('Dhl', 6), ('Abx', 4), ('Airborne', 4), ('Boeing', 4), ('Express', 3), ('Cargo', 3), ('Flotte', 3), ('Aviation', 3), ('Frachtfluggesellschaft', 2)]\n"
     ]
    }
   ],
   "source": [
    "name,text = corpus[168]\n",
    "substantive = count_nouns(text)\n",
    "print(name,substantive[:10])"
   ]
  },
  {
   "cell_type": "code",
   "execution_count": 21,
   "metadata": {},
   "outputs": [],
   "source": [
    "df = Counter()\n",
    "\n",
    "for name,text in corpus:\n",
    "    substantive = [wort for wort,_ in count_nouns(text)]\n",
    "    df.update(substantive)"
   ]
  },
  {
   "cell_type": "code",
   "execution_count": 22,
   "metadata": {
    "scrolled": true
   },
   "outputs": [
    {
     "data": {
      "text/plain": [
       "[('Unternehmen', 611),\n",
       " ('Einzelnachweise', 578),\n",
       " ('Weblinks', 549),\n",
       " ('Jahr', 468),\n",
       " ('Geschichte', 385),\n",
       " ('Mitarbeiter', 326),\n",
       " ('Sitz', 302),\n",
       " ('Deutschland', 293),\n",
       " ('%', 283),\n",
       " ('Million', 264)]"
      ]
     },
     "execution_count": 22,
     "metadata": {},
     "output_type": "execute_result"
    }
   ],
   "source": [
    "df.most_common(10)"
   ]
  },
  {
   "cell_type": "code",
   "execution_count": 28,
   "metadata": {},
   "outputs": [],
   "source": [
    "text = ['ali',5,7,'veli',9,4,5,'ali',7,'veli',3,'veli','ali',9,3,6]"
   ]
  },
  {
   "cell_type": "code",
   "execution_count": 29,
   "metadata": {},
   "outputs": [],
   "source": [
    "c = Counter(text)"
   ]
  },
  {
   "cell_type": "code",
   "execution_count": 31,
   "metadata": {},
   "outputs": [
    {
     "data": {
      "text/plain": [
       "[('ali', 3), ('veli', 3), (5, 2)]"
      ]
     },
     "execution_count": 31,
     "metadata": {},
     "output_type": "execute_result"
    }
   ],
   "source": [
    "c.most_common(3)"
   ]
  },
  {
   "cell_type": "code",
   "execution_count": null,
   "metadata": {},
   "outputs": [],
   "source": []
  }
 ],
 "metadata": {
  "kernelspec": {
   "display_name": "Python 3",
   "language": "python",
   "name": "python3"
  },
  "language_info": {
   "codemirror_mode": {
    "name": "ipython",
    "version": 3
   },
   "file_extension": ".py",
   "mimetype": "text/x-python",
   "name": "python",
   "nbconvert_exporter": "python",
   "pygments_lexer": "ipython3",
   "version": "3.8.5"
  }
 },
 "nbformat": 4,
 "nbformat_minor": 4
}
